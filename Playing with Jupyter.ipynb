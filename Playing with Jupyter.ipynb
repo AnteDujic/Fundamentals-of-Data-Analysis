{
 "cells": [
  {
   "cell_type": "code",
   "execution_count": 1,
   "id": "c849048f-4c83-488c-b715-dee47e5b9702",
   "metadata": {},
   "outputs": [],
   "source": [
    "i = 1\n",
    "j = 2"
   ]
  },
  {
   "cell_type": "code",
   "execution_count": 2,
   "id": "3ab703c6-425f-4793-8d69-86da95a40b59",
   "metadata": {},
   "outputs": [],
   "source": [
    "k = i + j"
   ]
  },
  {
   "cell_type": "code",
   "execution_count": 3,
   "id": "6fc519d3-f593-44ca-be68-620632698535",
   "metadata": {},
   "outputs": [
    {
     "data": {
      "text/plain": [
       "3"
      ]
     },
     "execution_count": 3,
     "metadata": {},
     "output_type": "execute_result"
    }
   ],
   "source": [
    "k"
   ]
  },
  {
   "cell_type": "markdown",
   "id": "e6d9d29b-a9cf-4d82-9ce9-bd783fb09d41",
   "metadata": {},
   "source": [
    "# I am a heading\n",
    "\n",
    "- I am a list.\n",
    "- I am a list.\n",
    "- I am a third item.\n",
    "\n",
    "![](https://i.pinimg.com/564x/bf/56/0f/bf560f51ac12a85641520695b8aac506.jpg)\n",
    "\n",
    "**I am more of a cat person**"
   ]
  },
  {
   "cell_type": "code",
   "execution_count": null,
   "id": "167d16de-e4a3-4b07-a932-c72eb6c3b5ea",
   "metadata": {},
   "outputs": [],
   "source": []
  }
 ],
 "metadata": {
  "kernelspec": {
   "display_name": "Python 3",
   "language": "python",
   "name": "python3"
  },
  "language_info": {
   "codemirror_mode": {
    "name": "ipython",
    "version": 3
   },
   "file_extension": ".py",
   "mimetype": "text/x-python",
   "name": "python",
   "nbconvert_exporter": "python",
   "pygments_lexer": "ipython3",
   "version": "3.8.8"
  }
 },
 "nbformat": 4,
 "nbformat_minor": 5
}

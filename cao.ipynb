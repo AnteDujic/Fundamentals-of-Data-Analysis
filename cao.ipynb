{
 "cells": [
  {
   "cell_type": "markdown",
   "id": "cba7f882-cb9f-4b71-87ed-26c18fda786a",
   "metadata": {},
   "source": [
    "# Loading CAO points information into a pandas data frame, using CAO website\n",
    "\n",
    "http://www.cao.ie/index.php?page=points&p=2021\n",
    "\n",
    "***"
   ]
  },
  {
   "cell_type": "markdown",
   "id": "29b4655e-3bef-4630-af83-22880a7bab45",
   "metadata": {},
   "source": [
    "## INTRODUCTION"
   ]
  },
  {
   "cell_type": "markdown",
   "id": "773b93ce-dff5-4b06-90a1-f3536903fb87",
   "metadata": {},
   "source": [
    "## WHAT IS CAO"
   ]
  },
  {
   "cell_type": "markdown",
   "id": "07cb16d5-57cc-47c5-998e-e780220985be",
   "metadata": {},
   "source": [
    "### LOADING THE DATA"
   ]
  },
  {
   "cell_type": "code",
   "execution_count": 1,
   "id": "ed5b8564-ec55-4a75-b6a3-4388ac742df9",
   "metadata": {},
   "outputs": [],
   "source": [
    "# HTTP request\n",
    "import requests as rq\n",
    "# Regular expressions\n",
    "import re\n",
    "# Dates and time\n",
    "import datetime as dt\n",
    "# Data frames\n",
    "import pandas as pd\n",
    "# For downloading\n",
    "import urllib.request as urlrq\n",
    "# PDF\n",
    "import camelot"
   ]
  },
  {
   "cell_type": "markdown",
   "id": "274276a5-dc7b-4131-858a-e1a192421f65",
   "metadata": {},
   "source": [
    "## LEVEL 8 POINTS 2019, 2020, 2021\n",
    "### ROUND 1 AND ROUND 2"
   ]
  },
  {
   "cell_type": "code",
   "execution_count": 2,
   "id": "cbe5f9d0-0938-40ce-8b4b-1c7a6140c8e5",
   "metadata": {},
   "outputs": [],
   "source": [
    "# Current date and time\n",
    "now = dt.datetime.now()\n",
    "# Format as a string\n",
    "nowstr = (now.strftime(\"%Y%m%d_%H%M%S\"))"
   ]
  },
  {
   "cell_type": "code",
   "execution_count": 3,
   "id": "27633a8d-02c5-446a-b272-93b349661bcf",
   "metadata": {},
   "outputs": [],
   "source": [
    "# Regular expression\n",
    "re_course = re.compile(r\"([A-Z]{2}[0-9]{3})(.*)\")"
   ]
  },
  {
   "cell_type": "code",
   "execution_count": 4,
   "id": "0413bc40-8cd4-4cf7-982f-16ad0f1bf5bf",
   "metadata": {},
   "outputs": [],
   "source": [
    "# Defining a dictionary\n",
    "    # Using website archive to access the wanted data (2019, 2020)\n",
    "years_dict = {\n",
    "    \"2019\": [(\"data/cao2019_\" +  nowstr), \"https://web.archive.org/web/20191019135815/http://www2.cao.ie:80/points/l8.php\"],\n",
    "    \"2020\": [(\"data/cao2020_\" +  nowstr), \"https://web.archive.org/web/20201108133105/http://www2.cao.ie/points/l8.php\"],\n",
    "    \"2021\": [(\"data/cao2021_\" +  nowstr), \"http://www2.cao.ie/points/l8.php\"]\n",
    "}"
   ]
  },
  {
   "cell_type": "code",
   "execution_count": 5,
   "id": "06d7752a-bfbe-49cf-a971-4612f4d8491e",
   "metadata": {},
   "outputs": [
    {
     "name": "stdout",
     "output_type": "stream",
     "text": [
      "<Response [200]>\n",
      "Total number of lines is 930.\n",
      "<Response [200]>\n",
      "Total number of lines is 961.\n",
      "<Response [200]>\n",
      "Total number of lines is 949.\n"
     ]
    }
   ],
   "source": [
    "# Loop through the (dict) years\n",
    "for year, content in years_dict.items():\n",
    "    # Fetch the CAO points URL\n",
    "    rq.get (content[1])\n",
    "    resp = rq.get (content[1])\n",
    "    # The server uses the wrong encoding\n",
    "        # Change to \"cp1252\"\n",
    "    resp.encoding = \"cp1252\"\n",
    "    # Check if OK:\n",
    "        #Response [200] means OK\n",
    "    print (resp)\n",
    "    # Save the original html file\n",
    "    with open(content[0] + \".html\", \"w\") as f:\n",
    "        f.write(resp.text)\n",
    "    # Keep track of how many courses we process\n",
    "    no_lines = 0\n",
    "    # Iterating through the lines\n",
    "    resp.iter_lines()\n",
    "    resps = resp.iter_lines()\n",
    "    # Open the csv file for writing.\n",
    "    with open(content[0] + \".csv\", \"w\") as f:\n",
    "        # Write a header row.\n",
    "        f.write(','.join([\"CODE\", \"TITLE\", \"R1_POINTS\", \"R2_POINTS\"]) + \"\\n\")\n",
    "        # Loop through lines of the response.\n",
    "        for line in resps:\n",
    "            # Decode the line, using the wrong encoding\n",
    "            dline = line.decode(\"cp1252\")\n",
    "            # Match only the lines representing courses\n",
    "            if re_course.fullmatch(dline):\n",
    "                # Add one to the lines counter\n",
    "                no_lines = no_lines + 1\n",
    "                # The course code\n",
    "                course_code = dline[:5]\n",
    "                # The course title\n",
    "                course_title = dline[7:57]\n",
    "                # Round one points\n",
    "                course_points = re.split(' +', dline[60:])\n",
    "                if len(course_points) != 2:\n",
    "                    course_points = course_points[:2]\n",
    "                # Join the fields using a comma\n",
    "                linesplit = [course_code, course_title, course_points[0], course_points[1]]\n",
    "                # Rejoin the substrings with commas in between\n",
    "                f.write(\",\".join(linesplit) + \"\\n\")   \n",
    "    # Print the total number of processed lines\n",
    "    print(f\"Total number of lines is {no_lines}.\")"
   ]
  },
  {
   "cell_type": "markdown",
   "id": "f68f46e7-5bdb-4ef0-a7e8-5f8f738e9ea4",
   "metadata": {},
   "source": [
    "## LEVEL 8 POINTS 2020, 2019\n",
    "### EOS AND MED\n",
    "http://www.cao.ie/index.php?page=points&p=2020"
   ]
  },
  {
   "cell_type": "markdown",
   "id": "46f6d517-8b8b-4de1-a408-4e5cec710e44",
   "metadata": {},
   "source": [
    "### 2020 .xlsx"
   ]
  },
  {
   "cell_type": "code",
   "execution_count": 6,
   "id": "e44439f6-5f11-4e71-bf22-b7d2ded985ef",
   "metadata": {},
   "outputs": [],
   "source": [
    "# Create a file path for the original data\n",
    "path = (\"data/cao2020_eos\" +  nowstr + \".xlsx\")"
   ]
  },
  {
   "cell_type": "code",
   "execution_count": 7,
   "id": "a9146e0f-2665-4da4-b21a-e9d64278ef87",
   "metadata": {},
   "outputs": [
    {
     "data": {
      "text/plain": [
       "('data/cao2020_eos20211115_194046.xlsx',\n",
       " <http.client.HTTPMessage at 0x1ecd369ab80>)"
      ]
     },
     "execution_count": 7,
     "metadata": {},
     "output_type": "execute_result"
    }
   ],
   "source": [
    "urlrq.urlretrieve('http://www2.cao.ie/points/CAOPointsCharts2020.xlsx', path)"
   ]
  },
  {
   "cell_type": "code",
   "execution_count": 8,
   "id": "f815e589-fcb8-44ed-83ea-cb04d4e0546a",
   "metadata": {},
   "outputs": [],
   "source": [
    "# Download and parse the excel spreadsheet\n",
    "df = pd.read_excel(\"http://www2.cao.ie/points/CAOPointsCharts2020.xlsx\", skiprows = 10)\n",
    "#df"
   ]
  },
  {
   "cell_type": "code",
   "execution_count": 9,
   "id": "ccf2d04c-4848-4a2d-919c-e746647467e6",
   "metadata": {},
   "outputs": [],
   "source": [
    "# Spotcheck random row\n",
    "#df.iloc[753]"
   ]
  },
  {
   "cell_type": "code",
   "execution_count": 10,
   "id": "50d90257-438b-422a-9349-99f7496dbd95",
   "metadata": {},
   "outputs": [],
   "source": [
    "# Spotcheck last row\n",
    "#df.iloc[-1]"
   ]
  },
  {
   "cell_type": "code",
   "execution_count": 11,
   "id": "b0ab9737-75ee-4398-b7b9-f7294a1bce0a",
   "metadata": {},
   "outputs": [],
   "source": [
    "# Create a file path for the pandas data\n",
    "path = (\"data/cao2020_eos\" +  nowstr + \".csv\")"
   ]
  },
  {
   "cell_type": "code",
   "execution_count": 12,
   "id": "fca0f182-d0a2-4c1d-88d3-7e3eb2c57435",
   "metadata": {},
   "outputs": [],
   "source": [
    "# Save pandas data frame to disk\n",
    "df.to_csv(path)"
   ]
  },
  {
   "cell_type": "markdown",
   "id": "0f60c573-69e1-4815-ba0c-25b097d1a745",
   "metadata": {},
   "source": [
    "***"
   ]
  },
  {
   "cell_type": "markdown",
   "id": "e919eef1-0dd5-46fd-bddc-886ac73f2700",
   "metadata": {},
   "source": [
    "### 2019 .pdf"
   ]
  },
  {
   "cell_type": "markdown",
   "id": "12f9f0a9-c6b8-4402-a4dd-0241691c6a0b",
   "metadata": {},
   "source": [
    "### GET THE ORIGINAL"
   ]
  },
  {
   "cell_type": "code",
   "execution_count": 13,
   "id": "3f0d5401-9578-425e-9f1a-6ebb1e2e0bb7",
   "metadata": {},
   "outputs": [],
   "source": [
    "path = 'data/cao2019_eos' + nowstr + '.pdf'"
   ]
  },
  {
   "cell_type": "code",
   "execution_count": 14,
   "id": "41ee7d81-bfb4-4380-8a24-60147955ca67",
   "metadata": {},
   "outputs": [
    {
     "data": {
      "text/plain": [
       "<Response [200]>"
      ]
     },
     "execution_count": 14,
     "metadata": {},
     "output_type": "execute_result"
    }
   ],
   "source": [
    "resp_pdf = rq.get(\"http://www2.cao.ie/points/lvl8_19.pdf\")\n",
    "resp_pdf"
   ]
  },
  {
   "cell_type": "code",
   "execution_count": 15,
   "id": "73441854-a447-4cdb-95bc-c8c78ec6b45e",
   "metadata": {},
   "outputs": [],
   "source": [
    "with open(path, 'wb') as f:\n",
    "    f.write(resp_pdf.content)"
   ]
  },
  {
   "cell_type": "markdown",
   "id": "ecd5b939-1db1-42a4-8aa8-bf231399514b",
   "metadata": {},
   "source": [
    "### READ THE TABLE FROM PDF"
   ]
  },
  {
   "cell_type": "code",
   "execution_count": 16,
   "id": "0d564bb9-fbb4-420b-b85c-1d6c3a06da35",
   "metadata": {},
   "outputs": [],
   "source": [
    "file = path\n",
    "tables = camelot.read_pdf(file, pages = \"all\", flavor = \"lattice\")"
   ]
  },
  {
   "cell_type": "code",
   "execution_count": 17,
   "id": "ddd28c13-3918-48e6-8bb6-a648cb02f44a",
   "metadata": {},
   "outputs": [
    {
     "name": "stdout",
     "output_type": "stream",
     "text": [
      "Tables: 18\n"
     ]
    }
   ],
   "source": [
    "print (\"Tables:\", tables.n)"
   ]
  },
  {
   "cell_type": "markdown",
   "id": "d5e1351e-58dc-42b5-b865-f295be531cdc",
   "metadata": {},
   "source": [
    "https://stackoverflow.com/questions/52383287/concatenate-dataframes-in-a-for-loop"
   ]
  },
  {
   "cell_type": "code",
   "execution_count": 18,
   "id": "7deabf06-ab95-4599-a272-7cee2f483029",
   "metadata": {},
   "outputs": [
    {
     "data": {
      "text/html": [
       "<div>\n",
       "<style scoped>\n",
       "    .dataframe tbody tr th:only-of-type {\n",
       "        vertical-align: middle;\n",
       "    }\n",
       "\n",
       "    .dataframe tbody tr th {\n",
       "        vertical-align: top;\n",
       "    }\n",
       "\n",
       "    .dataframe thead th {\n",
       "        text-align: right;\n",
       "    }\n",
       "</style>\n",
       "<table border=\"1\" class=\"dataframe\">\n",
       "  <thead>\n",
       "    <tr style=\"text-align: right;\">\n",
       "      <th></th>\n",
       "      <th>CODE</th>\n",
       "      <th>TITLE</th>\n",
       "      <th>EOS_2019</th>\n",
       "      <th>MID_2019</th>\n",
       "    </tr>\n",
       "  </thead>\n",
       "  <tbody>\n",
       "    <tr>\n",
       "      <th>21</th>\n",
       "      <td>AC120</td>\n",
       "      <td>International Business</td>\n",
       "      <td>234</td>\n",
       "      <td>269</td>\n",
       "    </tr>\n",
       "    <tr>\n",
       "      <th>22</th>\n",
       "      <td>AC137</td>\n",
       "      <td>Liberal Arts</td>\n",
       "      <td>252</td>\n",
       "      <td>275</td>\n",
       "    </tr>\n",
       "    <tr>\n",
       "      <th>3</th>\n",
       "      <td>AD101</td>\n",
       "      <td>First Year Art &amp; Design (Common Entry)</td>\n",
       "      <td># +matric 550</td>\n",
       "      <td></td>\n",
       "    </tr>\n",
       "    <tr>\n",
       "      <th>4</th>\n",
       "      <td>AD102</td>\n",
       "      <td>Graphic Design and Moving Image Design</td>\n",
       "      <td># +matric 635</td>\n",
       "      <td></td>\n",
       "    </tr>\n",
       "    <tr>\n",
       "      <th>5</th>\n",
       "      <td>AD103</td>\n",
       "      <td>Textile &amp; Surface Design and Jewellery &amp; Objects</td>\n",
       "      <td># +matric 545</td>\n",
       "      <td></td>\n",
       "    </tr>\n",
       "    <tr>\n",
       "      <th>...</th>\n",
       "      <td>...</td>\n",
       "      <td>...</td>\n",
       "      <td>...</td>\n",
       "      <td>...</td>\n",
       "    </tr>\n",
       "    <tr>\n",
       "      <th>37</th>\n",
       "      <td>WD200</td>\n",
       "      <td>Arts (options)</td>\n",
       "      <td>221</td>\n",
       "      <td>296</td>\n",
       "    </tr>\n",
       "    <tr>\n",
       "      <th>38</th>\n",
       "      <td>WD210</td>\n",
       "      <td>Software Systems Development</td>\n",
       "      <td>271</td>\n",
       "      <td>329</td>\n",
       "    </tr>\n",
       "    <tr>\n",
       "      <th>39</th>\n",
       "      <td>WD211</td>\n",
       "      <td>Creative Computing</td>\n",
       "      <td>275</td>\n",
       "      <td>322</td>\n",
       "    </tr>\n",
       "    <tr>\n",
       "      <th>40</th>\n",
       "      <td>WD212</td>\n",
       "      <td>Recreation and Sport Management</td>\n",
       "      <td>274</td>\n",
       "      <td>311</td>\n",
       "    </tr>\n",
       "    <tr>\n",
       "      <th>41</th>\n",
       "      <td>WD230</td>\n",
       "      <td>Mechanical and Manufacturing Engineering</td>\n",
       "      <td>273</td>\n",
       "      <td>348</td>\n",
       "    </tr>\n",
       "  </tbody>\n",
       "</table>\n",
       "<p>931 rows × 4 columns</p>\n",
       "</div>"
      ],
      "text/plain": [
       "     CODE                                             TITLE       EOS_2019  \\\n",
       "21  AC120                            International Business            234   \n",
       "22  AC137                                      Liberal Arts            252   \n",
       "3   AD101            First Year Art & Design (Common Entry)  # +matric 550   \n",
       "4   AD102            Graphic Design and Moving Image Design  # +matric 635   \n",
       "5   AD103  Textile & Surface Design and Jewellery & Objects  # +matric 545   \n",
       "..    ...                                               ...            ...   \n",
       "37  WD200                                    Arts (options)            221   \n",
       "38  WD210                      Software Systems Development            271   \n",
       "39  WD211                                Creative Computing            275   \n",
       "40  WD212                   Recreation and Sport Management            274   \n",
       "41  WD230          Mechanical and Manufacturing Engineering            273   \n",
       "\n",
       "   MID_2019  \n",
       "21      269  \n",
       "22      275  \n",
       "3            \n",
       "4            \n",
       "5            \n",
       "..      ...  \n",
       "37      296  \n",
       "38      329  \n",
       "39      322  \n",
       "40      311  \n",
       "41      348  \n",
       "\n",
       "[931 rows x 4 columns]"
      ]
     },
     "execution_count": 18,
     "metadata": {},
     "output_type": "execute_result"
    }
   ],
   "source": [
    "table_total = []\n",
    "for x in range (0,18):\n",
    "    df = tables[x].df\n",
    "    table_total.append(df)\n",
    "    \n",
    "table = pd.concat(table_total)\n",
    "table.columns = [\"CODE\",\"TITLE\", \"EOS_2019\", \"MID_2019\"]\n",
    "table.sort_values(\"CODE\", inplace = True)\n",
    "table = table.iloc[35: , :]\n",
    "table.to_csv(\"data/cao2019_EOS\" +  nowstr + \".csv\", index = False)\n",
    "table"
   ]
  },
  {
   "cell_type": "markdown",
   "id": "03c73bd7-7ef8-46f1-8fa9-89a2c9ec6cf6",
   "metadata": {},
   "source": [
    "# READ AND JOIN ALL TABLES - TESTING"
   ]
  },
  {
   "cell_type": "code",
   "execution_count": 19,
   "id": "26a8c963-56cd-4035-8334-e9364c75d3ac",
   "metadata": {},
   "outputs": [],
   "source": [
    "df2019 = pd.read_csv((\"data/cao2019_\" +  nowstr + \".csv\"), encoding='cp1252')\n",
    "#df2019"
   ]
  },
  {
   "cell_type": "code",
   "execution_count": 20,
   "id": "e587e4a3-fa4d-442d-be7e-686a64eaca32",
   "metadata": {},
   "outputs": [],
   "source": [
    "df2019_eos = pd.read_csv (\"data/cao2019_EOS\" +  nowstr + \".csv\")\n",
    "#df2019_eos"
   ]
  },
  {
   "cell_type": "code",
   "execution_count": 21,
   "id": "d2f943be-dbad-41c2-beee-b0889881dbde",
   "metadata": {},
   "outputs": [],
   "source": [
    "df2020 = pd.read_csv((\"data/cao2020_\" +  nowstr + \".csv\"), encoding='cp1252')\n",
    "#df2020"
   ]
  },
  {
   "cell_type": "code",
   "execution_count": 22,
   "id": "f5218879-23d5-4b26-96ac-7b19eb433179",
   "metadata": {},
   "outputs": [],
   "source": [
    "df2021 = pd.read_csv((\"data/cao2021_\" +  nowstr + \".csv\"), encoding='cp1252')\n",
    "#df2021"
   ]
  },
  {
   "cell_type": "code",
   "execution_count": 23,
   "id": "09700350-e23c-40b0-bcbf-56790d8eafdc",
   "metadata": {},
   "outputs": [],
   "source": [
    "courses2019 = df2019[[\"CODE\", \"TITLE\"]]\n",
    "#courses2019"
   ]
  },
  {
   "cell_type": "code",
   "execution_count": 24,
   "id": "b368058d-6482-4e3b-be6a-dbf8359cefe3",
   "metadata": {},
   "outputs": [],
   "source": [
    "courses2020 = df2020[[\"CODE\", \"TITLE\"]]\n",
    "#courses2020"
   ]
  },
  {
   "cell_type": "code",
   "execution_count": 25,
   "id": "e1f3edc4-95dd-4710-8c41-d4e66cf6dd38",
   "metadata": {},
   "outputs": [],
   "source": [
    "courses2021 = df2021[[\"CODE\", \"TITLE\"]]\n",
    "#courses2021"
   ]
  },
  {
   "cell_type": "code",
   "execution_count": 26,
   "id": "937f1fa9-3fc1-4069-9190-90f05831c42c",
   "metadata": {},
   "outputs": [],
   "source": [
    "allcourses = pd.concat([courses2019, courses2020, courses2021])\n",
    "#allcourses"
   ]
  },
  {
   "cell_type": "code",
   "execution_count": 27,
   "id": "4f4d46ad-cb58-4a93-a7a9-2c457dfca10f",
   "metadata": {},
   "outputs": [],
   "source": [
    "allcourses.drop_duplicates(subset=[\"CODE\"], inplace=True, ignore_index=True)"
   ]
  },
  {
   "cell_type": "code",
   "execution_count": 28,
   "id": "1b6266b1-253f-442b-ae34-99aa7821a6ce",
   "metadata": {},
   "outputs": [],
   "source": [
    "#allcourses"
   ]
  },
  {
   "cell_type": "code",
   "execution_count": 29,
   "id": "cde76183-4458-4163-84e6-9d8218ec3529",
   "metadata": {},
   "outputs": [],
   "source": [
    "df2019.columns = [\"CODE\",\"TITLE\", \"R1_POINTS_2019\", \"R2_POINTS_2019\"]\n",
    "df2019.set_index(\"CODE\", inplace=True)\n",
    "#df2019"
   ]
  },
  {
   "cell_type": "code",
   "execution_count": 30,
   "id": "abdb05c2-1285-4b24-8202-9d0fb245408c",
   "metadata": {},
   "outputs": [],
   "source": [
    "df2019_eos.set_index(\"CODE\", inplace=True)"
   ]
  },
  {
   "cell_type": "code",
   "execution_count": 31,
   "id": "5d5b4a49-98a0-4b44-b121-18b3060dc120",
   "metadata": {},
   "outputs": [],
   "source": [
    "df2020.columns = [\"CODE\",\"TITLE\", \"R1_POINTS_2020\", \"R2_POINTS_2020\"]\n",
    "df2020.set_index(\"CODE\", inplace=True)\n",
    "#df2020"
   ]
  },
  {
   "cell_type": "code",
   "execution_count": 32,
   "id": "185b2ae6-fde3-4521-86b9-7d81e52bb939",
   "metadata": {},
   "outputs": [],
   "source": [
    "df2021.columns = [\"CODE\",\"TITLE\", \"R1_POINTS_2021\", \"R2_POINTS_2021\"]\n",
    "df2021.set_index(\"CODE\", inplace=True)\n",
    "#df2021"
   ]
  },
  {
   "cell_type": "code",
   "execution_count": 33,
   "id": "5f405df7-1ff2-46da-b69a-02994a9e710d",
   "metadata": {},
   "outputs": [],
   "source": [
    "allcourses.set_index(\"CODE\", inplace=True)\n",
    "allcourses = allcourses.join(df2019[[\"R1_POINTS_2019\", \"R2_POINTS_2019\"]])\n",
    "#allcourses"
   ]
  },
  {
   "cell_type": "code",
   "execution_count": 34,
   "id": "7bbab1bd-aefb-4e5d-979a-f2145a1039ef",
   "metadata": {},
   "outputs": [],
   "source": [
    "allcourses = allcourses.join(df2019_eos[[\"EOS_2019\", \"MID_2019\"]])\n",
    "#allcourses"
   ]
  },
  {
   "cell_type": "code",
   "execution_count": 35,
   "id": "fbf73b83-a095-4f3d-a58f-163bf45cf533",
   "metadata": {},
   "outputs": [],
   "source": [
    "allcourses = allcourses.join(df2020[[\"R1_POINTS_2020\", \"R2_POINTS_2020\"]])\n",
    "#allcourses"
   ]
  },
  {
   "cell_type": "code",
   "execution_count": 36,
   "id": "22d976b1-78a0-4d2c-a077-5d069b0df58f",
   "metadata": {},
   "outputs": [],
   "source": [
    "allcourses = allcourses.join(df2021[[\"R1_POINTS_2021\", \"R2_POINTS_2021\"]])\n",
    "#allcourses"
   ]
  },
  {
   "cell_type": "code",
   "execution_count": 37,
   "id": "f6a928d7-ea3a-4c01-a809-0c797b038340",
   "metadata": {},
   "outputs": [
    {
     "data": {
      "text/html": [
       "<div>\n",
       "<style scoped>\n",
       "    .dataframe tbody tr th:only-of-type {\n",
       "        vertical-align: middle;\n",
       "    }\n",
       "\n",
       "    .dataframe tbody tr th {\n",
       "        vertical-align: top;\n",
       "    }\n",
       "\n",
       "    .dataframe thead th {\n",
       "        text-align: right;\n",
       "    }\n",
       "</style>\n",
       "<table border=\"1\" class=\"dataframe\">\n",
       "  <thead>\n",
       "    <tr style=\"text-align: right;\">\n",
       "      <th></th>\n",
       "      <th>TITLE</th>\n",
       "      <th>R1_POINTS_2019</th>\n",
       "      <th>R2_POINTS_2019</th>\n",
       "      <th>EOS_2019</th>\n",
       "      <th>MID_2019</th>\n",
       "      <th>R1_POINTS_2020</th>\n",
       "      <th>R2_POINTS_2020</th>\n",
       "      <th>R1_POINTS_2021</th>\n",
       "      <th>R2_POINTS_2021</th>\n",
       "    </tr>\n",
       "    <tr>\n",
       "      <th>CODE</th>\n",
       "      <th></th>\n",
       "      <th></th>\n",
       "      <th></th>\n",
       "      <th></th>\n",
       "      <th></th>\n",
       "      <th></th>\n",
       "      <th></th>\n",
       "      <th></th>\n",
       "      <th></th>\n",
       "    </tr>\n",
       "  </thead>\n",
       "  <tbody>\n",
       "    <tr>\n",
       "      <th>AC120</th>\n",
       "      <td>International Business                        ...</td>\n",
       "      <td>234</td>\n",
       "      <td>234</td>\n",
       "      <td>234</td>\n",
       "      <td>269</td>\n",
       "      <td>209</td>\n",
       "      <td>NaN</td>\n",
       "      <td>294</td>\n",
       "      <td>294</td>\n",
       "    </tr>\n",
       "    <tr>\n",
       "      <th>AC137</th>\n",
       "      <td>Liberal Arts                                  ...</td>\n",
       "      <td>275</td>\n",
       "      <td>252</td>\n",
       "      <td>252</td>\n",
       "      <td>275</td>\n",
       "      <td>252</td>\n",
       "      <td>NaN</td>\n",
       "      <td>271</td>\n",
       "      <td>270</td>\n",
       "    </tr>\n",
       "    <tr>\n",
       "      <th>AD101</th>\n",
       "      <td>First Year Art &amp;amp; Design (Common Entry)    ...</td>\n",
       "      <td>NaN</td>\n",
       "      <td>#+Matric</td>\n",
       "      <td># +matric 550</td>\n",
       "      <td>NaN</td>\n",
       "      <td>NaN</td>\n",
       "      <td>#+matric</td>\n",
       "      <td>#554</td>\n",
       "      <td>NaN</td>\n",
       "    </tr>\n",
       "    <tr>\n",
       "      <th>AD102</th>\n",
       "      <td>Graphic Design and Moving Image Design        ...</td>\n",
       "      <td>#+Matric</td>\n",
       "      <td>NaN</td>\n",
       "      <td># +matric 635</td>\n",
       "      <td>NaN</td>\n",
       "      <td>#+matric</td>\n",
       "      <td>NaN</td>\n",
       "      <td>#538</td>\n",
       "      <td>NaN</td>\n",
       "    </tr>\n",
       "    <tr>\n",
       "      <th>AD103</th>\n",
       "      <td>Textile &amp;amp; Surface Design and Jewellery &amp;am...</td>\n",
       "      <td>cts</td>\n",
       "      <td>#+Matric</td>\n",
       "      <td># +matric 545</td>\n",
       "      <td>NaN</td>\n",
       "      <td>cts</td>\n",
       "      <td>(</td>\n",
       "      <td>#505</td>\n",
       "      <td>NaN</td>\n",
       "    </tr>\n",
       "    <tr>\n",
       "      <th>...</th>\n",
       "      <td>...</td>\n",
       "      <td>...</td>\n",
       "      <td>...</td>\n",
       "      <td>...</td>\n",
       "      <td>...</td>\n",
       "      <td>...</td>\n",
       "      <td>...</td>\n",
       "      <td>...</td>\n",
       "      <td>...</td>\n",
       "    </tr>\n",
       "    <tr>\n",
       "      <th>WD211</th>\n",
       "      <td>Creative Computing                            ...</td>\n",
       "      <td>275</td>\n",
       "      <td>NaN</td>\n",
       "      <td>275</td>\n",
       "      <td>322</td>\n",
       "      <td>271</td>\n",
       "      <td>NaN</td>\n",
       "      <td>270</td>\n",
       "      <td>NaN</td>\n",
       "    </tr>\n",
       "    <tr>\n",
       "      <th>WD212</th>\n",
       "      <td>Recreation and Sport Management               ...</td>\n",
       "      <td>274</td>\n",
       "      <td>NaN</td>\n",
       "      <td>274</td>\n",
       "      <td>311</td>\n",
       "      <td>270</td>\n",
       "      <td>NaN</td>\n",
       "      <td>262</td>\n",
       "      <td>NaN</td>\n",
       "    </tr>\n",
       "    <tr>\n",
       "      <th>WD230</th>\n",
       "      <td>Mechanical and Manufacturing Engineering      ...</td>\n",
       "      <td>273</td>\n",
       "      <td>NaN</td>\n",
       "      <td>273</td>\n",
       "      <td>348</td>\n",
       "      <td>253</td>\n",
       "      <td>NaN</td>\n",
       "      <td>230</td>\n",
       "      <td>230</td>\n",
       "    </tr>\n",
       "    <tr>\n",
       "      <th>WD231</th>\n",
       "      <td>Early Childhood Care and Education            ...</td>\n",
       "      <td>NaN</td>\n",
       "      <td>NaN</td>\n",
       "      <td>NaN</td>\n",
       "      <td>NaN</td>\n",
       "      <td>NaN</td>\n",
       "      <td>NaN</td>\n",
       "      <td>266</td>\n",
       "      <td>NaN</td>\n",
       "    </tr>\n",
       "    <tr>\n",
       "      <th>WD232</th>\n",
       "      <td>Business Information Systems                  ...</td>\n",
       "      <td>NaN</td>\n",
       "      <td>NaN</td>\n",
       "      <td>NaN</td>\n",
       "      <td>NaN</td>\n",
       "      <td>NaN</td>\n",
       "      <td>NaN</td>\n",
       "      <td>261</td>\n",
       "      <td>261</td>\n",
       "    </tr>\n",
       "  </tbody>\n",
       "</table>\n",
       "<p>1146 rows × 9 columns</p>\n",
       "</div>"
      ],
      "text/plain": [
       "                                                   TITLE R1_POINTS_2019  \\\n",
       "CODE                                                                      \n",
       "AC120  International Business                        ...            234   \n",
       "AC137  Liberal Arts                                  ...            275   \n",
       "AD101  First Year Art &amp; Design (Common Entry)    ...            NaN   \n",
       "AD102  Graphic Design and Moving Image Design        ...       #+Matric   \n",
       "AD103  Textile &amp; Surface Design and Jewellery &am...            cts   \n",
       "...                                                  ...            ...   \n",
       "WD211  Creative Computing                            ...            275   \n",
       "WD212  Recreation and Sport Management               ...            274   \n",
       "WD230  Mechanical and Manufacturing Engineering      ...            273   \n",
       "WD231  Early Childhood Care and Education            ...            NaN   \n",
       "WD232  Business Information Systems                  ...            NaN   \n",
       "\n",
       "      R2_POINTS_2019       EOS_2019 MID_2019 R1_POINTS_2020 R2_POINTS_2020  \\\n",
       "CODE                                                                         \n",
       "AC120            234            234      269            209            NaN   \n",
       "AC137            252            252      275            252            NaN   \n",
       "AD101       #+Matric  # +matric 550      NaN            NaN       #+matric   \n",
       "AD102            NaN  # +matric 635      NaN       #+matric            NaN   \n",
       "AD103       #+Matric  # +matric 545      NaN            cts              (   \n",
       "...              ...            ...      ...            ...            ...   \n",
       "WD211            NaN            275      322            271            NaN   \n",
       "WD212            NaN            274      311            270            NaN   \n",
       "WD230            NaN            273      348            253            NaN   \n",
       "WD231            NaN            NaN      NaN            NaN            NaN   \n",
       "WD232            NaN            NaN      NaN            NaN            NaN   \n",
       "\n",
       "      R1_POINTS_2021 R2_POINTS_2021  \n",
       "CODE                                 \n",
       "AC120            294            294  \n",
       "AC137            271            270  \n",
       "AD101           #554            NaN  \n",
       "AD102           #538            NaN  \n",
       "AD103           #505            NaN  \n",
       "...              ...            ...  \n",
       "WD211            270            NaN  \n",
       "WD212            262            NaN  \n",
       "WD230            230            230  \n",
       "WD231            266            NaN  \n",
       "WD232            261            261  \n",
       "\n",
       "[1146 rows x 9 columns]"
      ]
     },
     "execution_count": 37,
     "metadata": {},
     "output_type": "execute_result"
    }
   ],
   "source": [
    "allcourses.sort_values(\"CODE\", inplace = True)\n",
    "allcourses.to_csv (\"Rounds.csv\")\n",
    "allcourses"
   ]
  },
  {
   "cell_type": "markdown",
   "id": "fbf9f26e-5d97-436b-8f2d-6bb242dacd5b",
   "metadata": {
    "tags": []
   },
   "source": [
    "# END TEST"
   ]
  },
  {
   "cell_type": "markdown",
   "id": "3d3e07c7-4f65-479d-8ed8-6d8954adaab0",
   "metadata": {},
   "source": [
    "### DATA COMPARISON"
   ]
  },
  {
   "cell_type": "markdown",
   "id": "7425319a-e424-4bae-b82b-915324bd3846",
   "metadata": {},
   "source": [
    "# CONCLUSION\n",
    "\n",
    "***"
   ]
  },
  {
   "cell_type": "markdown",
   "id": "e7a54c4a-024c-4a3e-b0a9-5e529bde1006",
   "metadata": {},
   "source": [
    "## REFERENCES"
   ]
  },
  {
   "cell_type": "markdown",
   "id": "87fe7f9b-4667-44e6-aa48-0f710dd82a6c",
   "metadata": {},
   "source": [
    "## LINKS TO CHECK"
   ]
  },
  {
   "cell_type": "code",
   "execution_count": null,
   "id": "5ef47e52-0cb4-4e5f-9a20-1a672c7503ff",
   "metadata": {},
   "outputs": [],
   "source": []
  }
 ],
 "metadata": {
  "kernelspec": {
   "display_name": "Python 3",
   "language": "python",
   "name": "python3"
  },
  "language_info": {
   "codemirror_mode": {
    "name": "ipython",
    "version": 3
   },
   "file_extension": ".py",
   "mimetype": "text/x-python",
   "name": "python",
   "nbconvert_exporter": "python",
   "pygments_lexer": "ipython3",
   "version": "3.8.8"
  }
 },
 "nbformat": 4,
 "nbformat_minor": 5
}

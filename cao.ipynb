{
 "cells": [
  {
   "cell_type": "markdown",
   "id": "cba7f882-cb9f-4b71-87ed-26c18fda786a",
   "metadata": {},
   "source": [
    "# Loading CAO points information into a pandas data frame, using CAO website\n",
    "\n",
    "http://www.cao.ie/index.php?page=points&p=2021\n",
    "\n",
    "***"
   ]
  },
  {
   "cell_type": "markdown",
   "id": "29b4655e-3bef-4630-af83-22880a7bab45",
   "metadata": {},
   "source": [
    "## INTRODUCTION"
   ]
  },
  {
   "cell_type": "markdown",
   "id": "773b93ce-dff5-4b06-90a1-f3536903fb87",
   "metadata": {},
   "source": [
    "## WHAT IS CAO"
   ]
  },
  {
   "cell_type": "markdown",
   "id": "07cb16d5-57cc-47c5-998e-e780220985be",
   "metadata": {},
   "source": [
    "### LOADING THE DATA"
   ]
  },
  {
   "cell_type": "code",
   "execution_count": 1,
   "id": "ed5b8564-ec55-4a75-b6a3-4388ac742df9",
   "metadata": {},
   "outputs": [],
   "source": [
    "# HTTP request\n",
    "import requests as rq\n",
    "# Regular expressions\n",
    "import re\n",
    "# Dates and time\n",
    "import datetime as dt\n",
    "# Data frames\n",
    "import pandas as pd\n",
    "# For downloading\n",
    "import urllib.request as urlrq\n",
    "# PDF\n",
    "import camelot\n",
    "# To use .unescape\n",
    "import html"
   ]
  },
  {
   "cell_type": "markdown",
   "id": "274276a5-dc7b-4131-858a-e1a192421f65",
   "metadata": {},
   "source": [
    "## LEVEL 8 POINTS 2019, 2020, 2021\n",
    "### ROUND 1 AND ROUND 2"
   ]
  },
  {
   "cell_type": "code",
   "execution_count": 2,
   "id": "cbe5f9d0-0938-40ce-8b4b-1c7a6140c8e5",
   "metadata": {},
   "outputs": [],
   "source": [
    "# Current date and time\n",
    "now = dt.datetime.now()\n",
    "# Format as a string\n",
    "nowstr = (now.strftime(\"%Y%m%d_%H%M%S\"))"
   ]
  },
  {
   "cell_type": "code",
   "execution_count": 3,
   "id": "27633a8d-02c5-446a-b272-93b349661bcf",
   "metadata": {},
   "outputs": [],
   "source": [
    "# Regular expression\n",
    "re_course = re.compile(r\"([A-Z]{2}[0-9]{3})(.*)\")"
   ]
  },
  {
   "cell_type": "code",
   "execution_count": 4,
   "id": "0413bc40-8cd4-4cf7-982f-16ad0f1bf5bf",
   "metadata": {},
   "outputs": [],
   "source": [
    "# Defining a dictionary\n",
    "    # Using website archive to access the wanted data (2019, 2020)\n",
    "years_dict = {\n",
    "    \"2019\": [(\"data/cao2019\" +  nowstr), \"https://web.archive.org/web/20191019135815/http://www2.cao.ie:80/points/l8.php\"],\n",
    "    \"2020\": [(\"data/cao2020\" +  nowstr), \"https://web.archive.org/web/20201108133105/http://www2.cao.ie/points/l8.php\"],\n",
    "    \"2021\": [(\"data/cao2021\" +  nowstr), \"http://www2.cao.ie/points/l8.php\"]\n",
    "}"
   ]
  },
  {
   "cell_type": "code",
   "execution_count": null,
   "id": "06d7752a-bfbe-49cf-a971-4612f4d8491e",
   "metadata": {},
   "outputs": [],
   "source": [
    "# Loop through the (dict) years\n",
    "for year, content in years_dict.items():\n",
    "    # Fetch the CAO points URL\n",
    "    rq.get (content[1])\n",
    "    resp = rq.get (content[1])\n",
    "    # The server uses the wrong encoding\n",
    "        # Change to \"cp1252\"\n",
    "    resp.encoding = \"cp1252\"\n",
    "    # Check if OK:\n",
    "        #Response [200] means OK\n",
    "    print (resp)\n",
    "    # Save the original html file\n",
    "    with open(content[0] + \".html\", \"w\") as f:\n",
    "        f.write(resp.text)\n",
    "    # Keep track of how many courses we process\n",
    "    no_lines = 0\n",
    "    # Iterating through the lines\n",
    "    resp.iter_lines()\n",
    "    resps = resp.iter_lines()\n",
    "    # Open the csv file for writing.\n",
    "    with open(content[0] + \".csv\", \"w\") as f:\n",
    "        # Write a header row.\n",
    "        f.write(','.join([\"CODE\", \"TITLE\", \"R1_POINTS\", \"R2_POINTS\"]) + \"\\n\")\n",
    "        # Loop through lines of the response.\n",
    "        for line in resps:\n",
    "            # Decode the line, using the wrong encoding\n",
    "            dline = line.decode(\"cp1252\")\n",
    "            # Converting &amp; to &\n",
    "            dline = html.unescape(dline)\n",
    "            # Match only the lines representing courses\n",
    "            if re_course.fullmatch(dline):\n",
    "                # Add one to the lines counter\n",
    "                no_lines = no_lines + 1\n",
    "                # The course code\n",
    "                course_code = dline[:5]\n",
    "                # The course title\n",
    "                course_title = dline[7:57]\n",
    "                # Round one points\n",
    "                course_points = re.split(' +', dline[60:])\n",
    "                if len(course_points) != 2:\n",
    "                    course_points = course_points[:2]\n",
    "                # Join the fields using a comma\n",
    "                linesplit = [course_code, course_title, course_points[0], course_points[1]]\n",
    "                # Rejoin the substrings with commas in between\n",
    "                f.write(\",\".join(linesplit) + \"\\n\")   \n",
    "    # Print the total number of processed lines\n",
    "    print(f\"Total number of lines is {no_lines}.\")"
   ]
  },
  {
   "cell_type": "markdown",
   "id": "f68f46e7-5bdb-4ef0-a7e8-5f8f738e9ea4",
   "metadata": {},
   "source": [
    "## LEVEL 8 POINTS 2020, 2019\n",
    "### EOS AND MED\n",
    "http://www.cao.ie/index.php?page=points&p=2020"
   ]
  },
  {
   "cell_type": "markdown",
   "id": "46f6d517-8b8b-4de1-a408-4e5cec710e44",
   "metadata": {},
   "source": [
    "### 2020 .xlsx"
   ]
  },
  {
   "cell_type": "code",
   "execution_count": null,
   "id": "e44439f6-5f11-4e71-bf22-b7d2ded985ef",
   "metadata": {},
   "outputs": [],
   "source": [
    "# Create a file path for the original data\n",
    "path = (\"data/cao2020_eos\" +  nowstr + \".xlsx\")"
   ]
  },
  {
   "cell_type": "code",
   "execution_count": null,
   "id": "a9146e0f-2665-4da4-b21a-e9d64278ef87",
   "metadata": {},
   "outputs": [],
   "source": [
    "urlrq.urlretrieve('http://www2.cao.ie/points/CAOPointsCharts2020.xlsx', path)"
   ]
  },
  {
   "cell_type": "code",
   "execution_count": null,
   "id": "f815e589-fcb8-44ed-83ea-cb04d4e0546a",
   "metadata": {},
   "outputs": [],
   "source": [
    "# Download and parse the excel spreadsheet\n",
    "df2020_eos = pd.read_excel(\"http://www2.cao.ie/points/CAOPointsCharts2020.xlsx\", skiprows = 10)\n",
    "#df2020_eos"
   ]
  },
  {
   "cell_type": "code",
   "execution_count": null,
   "id": "fca0f182-d0a2-4c1d-88d3-7e3eb2c57435",
   "metadata": {},
   "outputs": [],
   "source": [
    "#columnsNamesArr = df2020_eos.columns.values\n",
    "#print(columnsNamesArr)\n",
    "# Filter out only level 8 courses\n",
    "df2020_eos = df2020_eos.loc[df2020_eos[\"LEVEL\"] == 8]\n",
    "# Remove last 12 columns\n",
    "df2020_eos = df2020_eos.iloc[: , :-12]\n",
    "# Save pandas data frame to disk\n",
    "df2020_eos.to_csv((\"data/cao2020_eos\" +  nowstr + \".csv\"))\n",
    "#df2020_eos"
   ]
  },
  {
   "cell_type": "markdown",
   "id": "0f60c573-69e1-4815-ba0c-25b097d1a745",
   "metadata": {},
   "source": [
    "***"
   ]
  },
  {
   "cell_type": "markdown",
   "id": "e919eef1-0dd5-46fd-bddc-886ac73f2700",
   "metadata": {},
   "source": [
    "### 2019 .pdf"
   ]
  },
  {
   "cell_type": "markdown",
   "id": "12f9f0a9-c6b8-4402-a4dd-0241691c6a0b",
   "metadata": {},
   "source": [
    "### GET THE ORIGINAL"
   ]
  },
  {
   "cell_type": "code",
   "execution_count": null,
   "id": "3f0d5401-9578-425e-9f1a-6ebb1e2e0bb7",
   "metadata": {},
   "outputs": [],
   "source": [
    "path2019pdf = 'data/cao2019_eos' + nowstr + '.pdf'"
   ]
  },
  {
   "cell_type": "code",
   "execution_count": null,
   "id": "41ee7d81-bfb4-4380-8a24-60147955ca67",
   "metadata": {},
   "outputs": [],
   "source": [
    "resp_pdf = rq.get(\"http://www2.cao.ie/points/lvl8_19.pdf\")\n",
    "resp_pdf"
   ]
  },
  {
   "cell_type": "code",
   "execution_count": null,
   "id": "73441854-a447-4cdb-95bc-c8c78ec6b45e",
   "metadata": {},
   "outputs": [],
   "source": [
    "with open(path2019pdf, 'wb') as f:\n",
    "    f.write(resp_pdf.content)"
   ]
  },
  {
   "cell_type": "markdown",
   "id": "ecd5b939-1db1-42a4-8aa8-bf231399514b",
   "metadata": {},
   "source": [
    "### READ THE TABLE FROM PDF"
   ]
  },
  {
   "cell_type": "code",
   "execution_count": null,
   "id": "0d564bb9-fbb4-420b-b85c-1d6c3a06da35",
   "metadata": {},
   "outputs": [],
   "source": [
    "# Read the pdf file\n",
    "tables = camelot.read_pdf(path2019pdf, pages = \"all\", flavor = \"lattice\")"
   ]
  },
  {
   "cell_type": "code",
   "execution_count": null,
   "id": "ddd28c13-3918-48e6-8bb6-a648cb02f44a",
   "metadata": {},
   "outputs": [],
   "source": [
    "# Check the total number of tables read\n",
    "print (\"Tables:\", tables.n)"
   ]
  },
  {
   "cell_type": "code",
   "execution_count": null,
   "id": "7deabf06-ab95-4599-a272-7cee2f483029",
   "metadata": {},
   "outputs": [],
   "source": [
    "# Loop through all 18 tables\n",
    "table_total = []\n",
    "for x in range (0,18):\n",
    "    df = tables[x].df\n",
    "    # Append all 18 tables to table_total\n",
    "    table_total.append(df)\n",
    "\n",
    "# Concatenate all tables  \n",
    "table = pd.concat(table_total)\n",
    "# Remove old column names\n",
    "table = table.iloc[1: , :]\n",
    "# Name the columns\n",
    "table.columns = [\"CODE\",\"TITLE\", \"EOS_2019\", \"MID_2019\"]\n",
    "# Sort table by \"CODE\" column\n",
    "table.sort_values(\"CODE\", inplace = True)\n",
    "# Remove first 35 rows (name of the college)\n",
    "table = table.iloc[35: , :]\n",
    "# Save .csv file\n",
    "table.to_csv(\"data/cao2019_eos\" +  nowstr + \".csv\", index = False)\n",
    "#table"
   ]
  },
  {
   "cell_type": "markdown",
   "id": "03c73bd7-7ef8-46f1-8fa9-89a2c9ec6cf6",
   "metadata": {},
   "source": [
    "# READ AND JOIN ALL TABLES - TESTING\n",
    "### TO SPOT CHECK + CONDENSE CODE + TIDY UP"
   ]
  },
  {
   "cell_type": "code",
   "execution_count": null,
   "id": "7ace5f1e-cf4b-4208-a5b4-7d42bb912777",
   "metadata": {},
   "outputs": [],
   "source": [
    "df_dict = {\n",
    "    \"2019\": [(\"data/cao2019\" +  nowstr)],\n",
    "    \"2019_eos\": [(\"data/cao2019_eos\" +  nowstr)],\n",
    "    \"2020\": [(\"data/cao2020\" +  nowstr)],\n",
    "    \"2020_eos\": [(\"data/cao2020_eos\" +  nowstr)],\n",
    "    \"2021\": [(\"data/cao2021\" +  nowstr)]\n",
    "}"
   ]
  },
  {
   "cell_type": "code",
   "execution_count": null,
   "id": "5af55bff-6096-46bd-9995-56032224f6f7",
   "metadata": {},
   "outputs": [],
   "source": [
    "dataframe = []\n",
    "for year, path in df_dict.items():\n",
    "    data = pd.read_csv ((path[0] + \".csv\"), encoding='cp1252')\n",
    "    dataframe.append (data)\n",
    "allcourses = pd.concat (dataframe)\n",
    "allcourses = allcourses [[\"CODE\", \"TITLE\"]]\n",
    "allcourses.drop_duplicates(subset=[\"CODE\"], inplace=True, ignore_index=False)\n",
    "allcourses.sort_values(\"CODE\", inplace = True)\n",
    "#allcourses"
   ]
  },
  {
   "cell_type": "code",
   "execution_count": null,
   "id": "cde76183-4458-4163-84e6-9d8218ec3529",
   "metadata": {},
   "outputs": [],
   "source": [
    "#2019\n",
    "dataframe[0].columns = [\"CODE\",\"TITLE\", \"R1_POINTS_2019\", \"R2_POINTS_2019\"]\n",
    "#2019_eos is #dataframe[1]\n",
    "#2020\n",
    "dataframe[2].columns = [\"CODE\",\"TITLE\", \"R1_POINTS_2020\", \"R2_POINTS_2020\"]\n",
    "#2020_eos\n",
    "dataframe[3] = dataframe[3][[\"COURSE CODE2\",\"EOS\", \"EOS Mid-point\"]]\n",
    "dataframe[3].columns = [\"CODE\",\"EOS_2020\", \"MID_2020\"]\n",
    "#2021\n",
    "dataframe[4].columns = [\"CODE\",\"TITLE\", \"R1_POINTS_2021\", \"R2_POINTS_2021\"]"
   ]
  },
  {
   "cell_type": "code",
   "execution_count": null,
   "id": "b6f4cfb4-200f-4336-a385-9e467aadc0e8",
   "metadata": {},
   "outputs": [],
   "source": [
    "for i in dataframe:\n",
    "    i.set_index(\"CODE\", inplace=True)"
   ]
  },
  {
   "cell_type": "code",
   "execution_count": null,
   "id": "5f405df7-1ff2-46da-b69a-02994a9e710d",
   "metadata": {},
   "outputs": [],
   "source": [
    "allcourses.set_index(\"CODE\", inplace=True)\n",
    "allcourses = allcourses.join(dataframe[0][[\"R1_POINTS_2019\", \"R2_POINTS_2019\"]])\n",
    "#allcourses"
   ]
  },
  {
   "cell_type": "code",
   "execution_count": null,
   "id": "7bbab1bd-aefb-4e5d-979a-f2145a1039ef",
   "metadata": {},
   "outputs": [],
   "source": [
    "allcourses = allcourses.join(dataframe[1][[\"EOS_2019\", \"MID_2019\"]])\n",
    "#allcourses"
   ]
  },
  {
   "cell_type": "code",
   "execution_count": null,
   "id": "fbf73b83-a095-4f3d-a58f-163bf45cf533",
   "metadata": {},
   "outputs": [],
   "source": [
    "allcourses = allcourses.join(dataframe[2][[\"R1_POINTS_2020\", \"R2_POINTS_2020\"]])\n",
    "#allcourses"
   ]
  },
  {
   "cell_type": "code",
   "execution_count": null,
   "id": "57a3b38b-ca4b-418a-9d23-16ab24bf1be7",
   "metadata": {},
   "outputs": [],
   "source": [
    "allcourses = allcourses.join(dataframe[3][[\"EOS_2020\", \"MID_2020\"]])\n",
    "#allcourses"
   ]
  },
  {
   "cell_type": "code",
   "execution_count": null,
   "id": "22d976b1-78a0-4d2c-a077-5d069b0df58f",
   "metadata": {},
   "outputs": [],
   "source": [
    "allcourses = allcourses.join(dataframe[4][[\"R1_POINTS_2021\", \"R2_POINTS_2021\"]])\n",
    "#allcourses"
   ]
  },
  {
   "cell_type": "code",
   "execution_count": null,
   "id": "f6a928d7-ea3a-4c01-a809-0c797b038340",
   "metadata": {},
   "outputs": [],
   "source": [
    "allcourses.sort_values(\"CODE\", inplace = True)\n",
    "allcourses.to_csv (\"Final_table.csv\")\n",
    "allcourses"
   ]
  },
  {
   "cell_type": "markdown",
   "id": "fbf9f26e-5d97-436b-8f2d-6bb242dacd5b",
   "metadata": {
    "tags": []
   },
   "source": [
    "# END TEST"
   ]
  },
  {
   "cell_type": "markdown",
   "id": "3d3e07c7-4f65-479d-8ed8-6d8954adaab0",
   "metadata": {},
   "source": [
    "### DATA COMPARISON"
   ]
  },
  {
   "cell_type": "markdown",
   "id": "7425319a-e424-4bae-b82b-915324bd3846",
   "metadata": {},
   "source": [
    "# CONCLUSION\n",
    "\n",
    "***"
   ]
  },
  {
   "cell_type": "markdown",
   "id": "e7a54c4a-024c-4a3e-b0a9-5e529bde1006",
   "metadata": {},
   "source": [
    "## REFERENCES"
   ]
  },
  {
   "cell_type": "markdown",
   "id": "87fe7f9b-4667-44e6-aa48-0f710dd82a6c",
   "metadata": {},
   "source": [
    "## LINKS TO CHECK"
   ]
  },
  {
   "cell_type": "code",
   "execution_count": null,
   "id": "80d1c345-9fde-4789-bf25-f9d3e5b1eee1",
   "metadata": {},
   "outputs": [],
   "source": [
    "\"\"\"\n",
    "import html\n",
    "with open('name.csv', 'r') as f, open('TEST-fixed.csv', 'w') as g:\n",
    "    content = html.unescape(f.read())\n",
    "    g.write(content)\n",
    "content\n",
    "dfr = pd.read_csv (\"TEST-fixed.csv\")\n",
    "dfr\n",
    "\"\"\""
   ]
  }
 ],
 "metadata": {
  "kernelspec": {
   "display_name": "Python 3",
   "language": "python",
   "name": "python3"
  },
  "language_info": {
   "codemirror_mode": {
    "name": "ipython",
    "version": 3
   },
   "file_extension": ".py",
   "mimetype": "text/x-python",
   "name": "python",
   "nbconvert_exporter": "python",
   "pygments_lexer": "ipython3",
   "version": "3.8.8"
  }
 },
 "nbformat": 4,
 "nbformat_minor": 5
}

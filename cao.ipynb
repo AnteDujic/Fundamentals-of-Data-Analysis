{
 "cells": [
  {
   "cell_type": "markdown",
   "id": "cba7f882-cb9f-4b71-87ed-26c18fda786a",
   "metadata": {},
   "source": [
    "# CAO POINTS ANALYSIS\n",
    "### AUTHOR: ANTE DUJIC\n",
    "<hr style=\"border:2px solid black\"> </hr>"
   ]
  },
  {
   "cell_type": "markdown",
   "id": "29b4655e-3bef-4630-af83-22880a7bab45",
   "metadata": {},
   "source": [
    "## INTRODUCTION\n",
    "<hr style=\"border:2px solid gray\"> </hr>"
   ]
  },
  {
   "cell_type": "markdown",
   "id": "855f1a18-9c81-4dd1-b9de-7b6155186480",
   "metadata": {},
   "source": [
    "This notebook gives an overview of how to load CAO points information from the CAO website into a pandas data frame. It also contains the comparison of CAO points in 2019, 2020, and 2021."
   ]
  },
  {
   "cell_type": "markdown",
   "id": "702f49e3-5282-46bc-8b90-1120ab8f5b6e",
   "metadata": {},
   "source": [
    "[<center><img src=\"http://www.cao.ie/images/cao.png\" width=\"100\"/></center> ](http://www.cao.ie/index.php)\n",
    "\n",
    "***\n",
    "### CONTENTS\n",
    "\n",
    "1. [WHAT IS CAO](#CAO)\n",
    "2. [LOADING AND SAVING THE DATA](#DATA)\n",
    "    - 2.1. [LEVEL 8 POINTS - R1 and R2](#R1R2)\n",
    "        - 2.1.1. [2019, 2020, 2021 (html)](#HTML)\n",
    "    - 2.2. [LEVEL 8 POINTS - EOS and MID](#EOSMID)\n",
    "        - 2.2.1. [2020 (xlsx)](#XLSX)\n",
    "        - 2.2.2. [2019 (pdf)](#PDF)\n",
    "2. [CONCATENATING THE DATA](#CONCATENATE)"
   ]
  },
  {
   "cell_type": "markdown",
   "id": "773b93ce-dff5-4b06-90a1-f3536903fb87",
   "metadata": {},
   "source": [
    "## 1. WHAT IS CAO <a id='CAO'></a>\n",
    "<hr style=\"border:2px solid gray\"> </hr>"
   ]
  },
  {
   "cell_type": "markdown",
   "id": "3fea6b6e-5a1b-4f35-982f-ada108a26bd6",
   "metadata": {},
   "source": [
    "The purpose of the Central Applications Office (CAO) is to process centrally applications for undergraduate courses in Irish Higher Education Institutions (HEIs), and to deal with them in an efficient and fair manner. [1]\n",
    "\n",
    "Students applying for admission to third level education courses in Ireland apply to the CAO rather than to individual educational institutions such as colleges and universities. The CAO then offers places to students who meet the minimum requirements for a course for which they have applied. If for a particular course there are more qualified applicants than available places, the CAO makes offers to those applicants with the highest score in the CAO points system. If students do not accepts offers, or later decline them because they receive an offer for another course, the CAO makes further offers until all of the places have been filled or until the offer season closes. [2]"
   ]
  },
  {
   "cell_type": "markdown",
   "id": "07cb16d5-57cc-47c5-998e-e780220985be",
   "metadata": {},
   "source": [
    "## 2. LOADING AND SAVING THE DATA <a id='DATA'></a>\n",
    "<hr style=\"border:2px solid gray\"> </hr>"
   ]
  },
  {
   "cell_type": "code",
   "execution_count": 1,
   "id": "ed5b8564-ec55-4a75-b6a3-4388ac742df9",
   "metadata": {},
   "outputs": [],
   "source": [
    "# HTTP request\n",
    "import requests as rq\n",
    "# Regular expressions\n",
    "import re\n",
    "# Dates and time\n",
    "import datetime as dt\n",
    "# Data frames\n",
    "import pandas as pd\n",
    "# For downloading\n",
    "import urllib.request as urlrq\n",
    "# PDF\n",
    "import camelot\n",
    "# To use .unescape\n",
    "import html"
   ]
  },
  {
   "cell_type": "markdown",
   "id": "274276a5-dc7b-4131-858a-e1a192421f65",
   "metadata": {},
   "source": [
    "### 2.1.  LEVEL 8 POINTS - R1 and R2 <a id='R1R2'></a>\n",
    "***"
   ]
  },
  {
   "cell_type": "markdown",
   "id": "cfe6b036-3b8f-4858-b384-c39d39f778ed",
   "metadata": {},
   "source": [
    "Overview"
   ]
  },
  {
   "cell_type": "markdown",
   "id": "17dba1ff-8a13-4357-ac31-1d7646162fd9",
   "metadata": {},
   "source": [
    "#### 2.1.1. 2019, 2020, 2021 (html) <a id='HTML'></a>"
   ]
  },
  {
   "cell_type": "code",
   "execution_count": 8,
   "id": "cbe5f9d0-0938-40ce-8b4b-1c7a6140c8e5",
   "metadata": {},
   "outputs": [],
   "source": [
    "# Current date and time\n",
    "now = dt.datetime.now()\n",
    "# Format as a string\n",
    "nowstr = (now.strftime(\"%Y%m%d_%H%M%S\"))"
   ]
  },
  {
   "cell_type": "code",
   "execution_count": 9,
   "id": "27633a8d-02c5-446a-b272-93b349661bcf",
   "metadata": {},
   "outputs": [],
   "source": [
    "# Regular expression\n",
    "re_course = re.compile(r\"([A-Z]{2}[0-9]{3})(.*)\")"
   ]
  },
  {
   "cell_type": "code",
   "execution_count": 10,
   "id": "0413bc40-8cd4-4cf7-982f-16ad0f1bf5bf",
   "metadata": {},
   "outputs": [],
   "source": [
    "# Defining a dictionary\n",
    "    # Using website archive to access the wanted data (2019, 2020)\n",
    "years_dict = {\n",
    "    \"2019\": [(\"data/cao2019\" +  nowstr), \"https://web.archive.org/web/20191019135815/http://www2.cao.ie:80/points/l8.php\"],\n",
    "    \"2020\": [(\"data/cao2020\" +  nowstr), \"https://web.archive.org/web/20201108133105/http://www2.cao.ie/points/l8.php\"],\n",
    "    \"2021\": [(\"data/cao2021\" +  nowstr), \"http://www2.cao.ie/points/l8.php\"]\n",
    "}"
   ]
  },
  {
   "cell_type": "code",
   "execution_count": 21,
   "id": "90dfae36-5c06-4850-9f40-6583c8b91aeb",
   "metadata": {},
   "outputs": [
    {
     "name": "stdout",
     "output_type": "stream",
     "text": [
      "2019 <Response [200]>\n",
      "Total number of lines in CAO 2019 database is 930\n",
      "2020 <Response [200]>\n",
      "Total number of lines in CAO 2020 database is 961\n",
      "2021 <Response [200]>\n",
      "Total number of lines in CAO 2021 database is 949\n"
     ]
    }
   ],
   "source": [
    "# Loop through the (dict) years\n",
    "for year, content in years_dict.items():\n",
    "    # Fetch the CAO points URL\n",
    "    rq.get (content[1])\n",
    "    resp = rq.get (content[1])\n",
    "    # The server uses the wrong encoding\n",
    "        # Change to \"cp1252\"\n",
    "    resp.encoding = \"cp1252\"\n",
    "    # Check if OK:\n",
    "        #Response [200] means OK\n",
    "    print (year,resp)\n",
    "    \n",
    "    # Save the original html file\n",
    "    with open(content[0] + \".html\", \"w\") as f:\n",
    "        f.write(resp.text)\n",
    "        # Keep track of how many courses we process\n",
    "    \n",
    "    no_lines = 0\n",
    "    # Iterating through the lines\n",
    "    resp.iter_lines()\n",
    "    resps = resp.iter_lines()\n",
    "    \n",
    "    # Open the csv file for writing.\n",
    "    with open(content[0] + \".csv\", \"w\") as f:\n",
    "        # Write a header row.\n",
    "        f.write(','.join([\"CODE\", \"TITLE\", \"R1_POINTS\", \"R2_POINTS\"]) + \"\\n\")\n",
    "        # Loop through lines of the response.\n",
    "        for line in resps:\n",
    "            # Decode the line, using the wrong encoding\n",
    "            dline = line.decode(\"cp1252\")\n",
    "            # Converting &amp; to &\n",
    "            dline = html.unescape(dline)\n",
    "            # Match only the lines representing courses\n",
    "            if re_course.fullmatch(dline):\n",
    "                # Add one to the lines counter\n",
    "                no_lines = no_lines + 1\n",
    "                # The course code\n",
    "                course_code = dline[:5]\n",
    "                # The course title\n",
    "                course_title = dline[7:57]\n",
    "                # Round one points\n",
    "                course_points = re.split(' +', dline[60:])\n",
    "                if len(course_points) != 2:\n",
    "                    course_points = course_points[:2]\n",
    "                # Join the fields using a comma\n",
    "                linesplit = [course_code, course_title, course_points[0], course_points[1]]\n",
    "                # Rejoin the substrings with commas in between\n",
    "                f.write(\",\".join(linesplit) + \"\\n\")   \n",
    "    # Print the total number of processed lines\n",
    "    print(\"Total number of lines in CAO\", year, \"database is\", no_lines)"
   ]
  },
  {
   "cell_type": "markdown",
   "id": "b00a3bf1-3bf3-4187-8ce7-5e5514aa4cf0",
   "metadata": {},
   "source": [
    "### 2.2.  LEVEL 8 POINTS - EOS and MID <a id='EOSMID'></a>\n",
    "***"
   ]
  },
  {
   "cell_type": "markdown",
   "id": "4a864eda-626a-4c66-b0ab-d0c421d9d72e",
   "metadata": {},
   "source": [
    "Overview"
   ]
  },
  {
   "cell_type": "markdown",
   "id": "66cf83c2-580e-4096-bb34-676439ddce50",
   "metadata": {},
   "source": [
    "#### 2.2.1. 2020 (xlsx) <a id='XLSX'></a>"
   ]
  },
  {
   "cell_type": "code",
   "execution_count": 6,
   "id": "e44439f6-5f11-4e71-bf22-b7d2ded985ef",
   "metadata": {},
   "outputs": [],
   "source": [
    "# Create a file path for the original data\n",
    "path = (\"data/cao2020_eos\" +  nowstr + \".xlsx\")"
   ]
  },
  {
   "cell_type": "code",
   "execution_count": 7,
   "id": "a9146e0f-2665-4da4-b21a-e9d64278ef87",
   "metadata": {},
   "outputs": [
    {
     "data": {
      "text/plain": [
       "('data/cao2020_eos20211117_212559.xlsx',\n",
       " <http.client.HTTPMessage at 0x277cc3c8ee0>)"
      ]
     },
     "execution_count": 7,
     "metadata": {},
     "output_type": "execute_result"
    }
   ],
   "source": [
    "urlrq.urlretrieve('http://www2.cao.ie/points/CAOPointsCharts2020.xlsx', path)"
   ]
  },
  {
   "cell_type": "code",
   "execution_count": 8,
   "id": "f815e589-fcb8-44ed-83ea-cb04d4e0546a",
   "metadata": {},
   "outputs": [],
   "source": [
    "# Download and parse the excel spreadsheet\n",
    "df2020_eos = pd.read_excel(\"http://www2.cao.ie/points/CAOPointsCharts2020.xlsx\", skiprows = 10)\n",
    "#df2020_eos"
   ]
  },
  {
   "cell_type": "code",
   "execution_count": 9,
   "id": "fca0f182-d0a2-4c1d-88d3-7e3eb2c57435",
   "metadata": {},
   "outputs": [],
   "source": [
    "#columnsNamesArr = df2020_eos.columns.values\n",
    "#print(columnsNamesArr)\n",
    "# Filter out only level 8 courses\n",
    "df2020_eos = df2020_eos.loc[df2020_eos[\"LEVEL\"] == 8]\n",
    "# Remove last 12 columns\n",
    "df2020_eos = df2020_eos.iloc[: , :-12]\n",
    "# Save pandas data frame to disk\n",
    "df2020_eos.to_csv((\"data/cao2020_eos\" +  nowstr + \".csv\"))\n",
    "#df2020_eos"
   ]
  },
  {
   "cell_type": "markdown",
   "id": "0f60c573-69e1-4815-ba0c-25b097d1a745",
   "metadata": {},
   "source": [
    "***"
   ]
  },
  {
   "cell_type": "markdown",
   "id": "cf59f643-a887-4220-833e-4eab28e5f575",
   "metadata": {},
   "source": [
    "#### 2019 (pdf) <a id='PDF'></a>"
   ]
  },
  {
   "cell_type": "code",
   "execution_count": 10,
   "id": "3f0d5401-9578-425e-9f1a-6ebb1e2e0bb7",
   "metadata": {},
   "outputs": [],
   "source": [
    "path2019pdf = 'data/cao2019_eos' + nowstr + '.pdf'"
   ]
  },
  {
   "cell_type": "code",
   "execution_count": 11,
   "id": "41ee7d81-bfb4-4380-8a24-60147955ca67",
   "metadata": {},
   "outputs": [
    {
     "data": {
      "text/plain": [
       "<Response [200]>"
      ]
     },
     "execution_count": 11,
     "metadata": {},
     "output_type": "execute_result"
    }
   ],
   "source": [
    "resp_pdf = rq.get(\"http://www2.cao.ie/points/lvl8_19.pdf\")\n",
    "resp_pdf"
   ]
  },
  {
   "cell_type": "code",
   "execution_count": 12,
   "id": "73441854-a447-4cdb-95bc-c8c78ec6b45e",
   "metadata": {},
   "outputs": [],
   "source": [
    "with open(path2019pdf, 'wb') as f:\n",
    "    f.write(resp_pdf.content)"
   ]
  },
  {
   "cell_type": "code",
   "execution_count": 13,
   "id": "0d564bb9-fbb4-420b-b85c-1d6c3a06da35",
   "metadata": {},
   "outputs": [],
   "source": [
    "# Read the pdf file\n",
    "tables = camelot.read_pdf(path2019pdf, pages = \"all\", flavor = \"lattice\")"
   ]
  },
  {
   "cell_type": "code",
   "execution_count": 14,
   "id": "ddd28c13-3918-48e6-8bb6-a648cb02f44a",
   "metadata": {},
   "outputs": [
    {
     "name": "stdout",
     "output_type": "stream",
     "text": [
      "Tables: 18\n"
     ]
    }
   ],
   "source": [
    "# Check the total number of tables read\n",
    "print (\"Tables:\", tables.n)"
   ]
  },
  {
   "cell_type": "code",
   "execution_count": 15,
   "id": "7deabf06-ab95-4599-a272-7cee2f483029",
   "metadata": {},
   "outputs": [],
   "source": [
    "# Loop through all 18 tables\n",
    "table_total = []\n",
    "for x in range (0,18):\n",
    "    df = tables[x].df\n",
    "    # Append all 18 tables to table_total\n",
    "    table_total.append(df)\n",
    "\n",
    "# Concatenate all tables  \n",
    "table = pd.concat(table_total)\n",
    "# Remove old column names\n",
    "table = table.iloc[1: , :]\n",
    "# Name the columns\n",
    "table.columns = [\"CODE\",\"TITLE\", \"EOS_2019\", \"MID_2019\"]\n",
    "# Sort table by \"CODE\" column\n",
    "table.sort_values(\"CODE\", inplace = True)\n",
    "# Remove first 35 rows (name of the college)\n",
    "table = table.iloc[35: , :]\n",
    "# Save .csv file\n",
    "table.to_csv(\"data/cao2019_eos\" +  nowstr + \".csv\", index = False)\n",
    "#table"
   ]
  },
  {
   "cell_type": "markdown",
   "id": "d9841823-1a22-400f-8788-0f0f15567cfa",
   "metadata": {},
   "source": [
    "## 3. CONCATENATING THE DATA <a id='CONCATENATE'></a>\n",
    "<hr style=\"border:2px solid gray\"> </hr>"
   ]
  },
  {
   "cell_type": "code",
   "execution_count": 16,
   "id": "7ace5f1e-cf4b-4208-a5b4-7d42bb912777",
   "metadata": {},
   "outputs": [],
   "source": [
    "df_dict = {\n",
    "    \"2019\": [(\"data/cao2019\" +  nowstr)],\n",
    "    \"2019_eos\": [(\"data/cao2019_eos\" +  nowstr)],\n",
    "    \"2020\": [(\"data/cao2020\" +  nowstr)],\n",
    "    \"2020_eos\": [(\"data/cao2020_eos\" +  nowstr)],\n",
    "    \"2021\": [(\"data/cao2021\" +  nowstr)]\n",
    "}"
   ]
  },
  {
   "cell_type": "code",
   "execution_count": 17,
   "id": "5af55bff-6096-46bd-9995-56032224f6f7",
   "metadata": {},
   "outputs": [],
   "source": [
    "dataframe = []\n",
    "for year, path in df_dict.items():\n",
    "    data = pd.read_csv ((path[0] + \".csv\"), encoding='cp1252')\n",
    "    dataframe.append (data)\n",
    "allcourses = pd.concat (dataframe)\n",
    "allcourses = allcourses [[\"CODE\", \"TITLE\"]]\n",
    "allcourses.drop_duplicates(subset=[\"CODE\"], inplace=True, ignore_index=False)\n",
    "allcourses.sort_values(\"CODE\", inplace = True)\n",
    "#allcourses"
   ]
  },
  {
   "cell_type": "code",
   "execution_count": 18,
   "id": "cde76183-4458-4163-84e6-9d8218ec3529",
   "metadata": {},
   "outputs": [],
   "source": [
    "#2019\n",
    "dataframe[0].columns = [\"CODE\",\"TITLE\", \"R1_POINTS_2019\", \"R2_POINTS_2019\"]\n",
    "#2019_eos is #dataframe[1]\n",
    "#2020\n",
    "dataframe[2].columns = [\"CODE\",\"TITLE\", \"R1_POINTS_2020\", \"R2_POINTS_2020\"]\n",
    "#2020_eos\n",
    "dataframe[3] = dataframe[3][[\"COURSE CODE2\",\"EOS\", \"EOS Mid-point\"]]\n",
    "dataframe[3].columns = [\"CODE\",\"EOS_2020\", \"MID_2020\"]\n",
    "#2021\n",
    "dataframe[4].columns = [\"CODE\",\"TITLE\", \"R1_POINTS_2021\", \"R2_POINTS_2021\"]"
   ]
  },
  {
   "cell_type": "code",
   "execution_count": 19,
   "id": "b6f4cfb4-200f-4336-a385-9e467aadc0e8",
   "metadata": {},
   "outputs": [],
   "source": [
    "for i in dataframe:\n",
    "    i.set_index(\"CODE\", inplace=True)"
   ]
  },
  {
   "cell_type": "code",
   "execution_count": 20,
   "id": "5f405df7-1ff2-46da-b69a-02994a9e710d",
   "metadata": {},
   "outputs": [],
   "source": [
    "allcourses.set_index(\"CODE\", inplace=True)\n",
    "allcourses = allcourses.join(dataframe[0][[\"R1_POINTS_2019\", \"R2_POINTS_2019\"]])\n",
    "#allcourses"
   ]
  },
  {
   "cell_type": "code",
   "execution_count": 21,
   "id": "7bbab1bd-aefb-4e5d-979a-f2145a1039ef",
   "metadata": {},
   "outputs": [],
   "source": [
    "allcourses = allcourses.join(dataframe[1][[\"EOS_2019\", \"MID_2019\"]])\n",
    "#allcourses"
   ]
  },
  {
   "cell_type": "code",
   "execution_count": 22,
   "id": "fbf73b83-a095-4f3d-a58f-163bf45cf533",
   "metadata": {},
   "outputs": [],
   "source": [
    "allcourses = allcourses.join(dataframe[2][[\"R1_POINTS_2020\", \"R2_POINTS_2020\"]])\n",
    "#allcourses"
   ]
  },
  {
   "cell_type": "code",
   "execution_count": 23,
   "id": "57a3b38b-ca4b-418a-9d23-16ab24bf1be7",
   "metadata": {},
   "outputs": [],
   "source": [
    "allcourses = allcourses.join(dataframe[3][[\"EOS_2020\", \"MID_2020\"]])\n",
    "#allcourses"
   ]
  },
  {
   "cell_type": "code",
   "execution_count": 24,
   "id": "22d976b1-78a0-4d2c-a077-5d069b0df58f",
   "metadata": {},
   "outputs": [],
   "source": [
    "allcourses = allcourses.join(dataframe[4][[\"R1_POINTS_2021\", \"R2_POINTS_2021\"]])\n",
    "#allcourses"
   ]
  },
  {
   "cell_type": "code",
   "execution_count": 28,
   "id": "f6a928d7-ea3a-4c01-a809-0c797b038340",
   "metadata": {},
   "outputs": [
    {
     "data": {
      "text/html": [
       "<div>\n",
       "<style scoped>\n",
       "    .dataframe tbody tr th:only-of-type {\n",
       "        vertical-align: middle;\n",
       "    }\n",
       "\n",
       "    .dataframe tbody tr th {\n",
       "        vertical-align: top;\n",
       "    }\n",
       "\n",
       "    .dataframe thead th {\n",
       "        text-align: right;\n",
       "    }\n",
       "</style>\n",
       "<table border=\"1\" class=\"dataframe\">\n",
       "  <thead>\n",
       "    <tr style=\"text-align: right;\">\n",
       "      <th></th>\n",
       "      <th>TITLE</th>\n",
       "      <th>R1_POINTS_2019</th>\n",
       "      <th>R2_POINTS_2019</th>\n",
       "      <th>EOS_2019</th>\n",
       "      <th>MID_2019</th>\n",
       "      <th>R1_POINTS_2020</th>\n",
       "      <th>R2_POINTS_2020</th>\n",
       "      <th>EOS_2020</th>\n",
       "      <th>MID_2020</th>\n",
       "      <th>R1_POINTS_2021</th>\n",
       "      <th>R2_POINTS_2021</th>\n",
       "    </tr>\n",
       "    <tr>\n",
       "      <th>CODE</th>\n",
       "      <th></th>\n",
       "      <th></th>\n",
       "      <th></th>\n",
       "      <th></th>\n",
       "      <th></th>\n",
       "      <th></th>\n",
       "      <th></th>\n",
       "      <th></th>\n",
       "      <th></th>\n",
       "      <th></th>\n",
       "      <th></th>\n",
       "    </tr>\n",
       "  </thead>\n",
       "  <tbody>\n",
       "    <tr>\n",
       "      <th>AC120</th>\n",
       "      <td>International Business                        ...</td>\n",
       "      <td>234</td>\n",
       "      <td>234</td>\n",
       "      <td>234</td>\n",
       "      <td>269.0</td>\n",
       "      <td>209</td>\n",
       "      <td>NaN</td>\n",
       "      <td>209</td>\n",
       "      <td>280</td>\n",
       "      <td>294</td>\n",
       "      <td>294</td>\n",
       "    </tr>\n",
       "    <tr>\n",
       "      <th>AC137</th>\n",
       "      <td>Liberal Arts                                  ...</td>\n",
       "      <td>275</td>\n",
       "      <td>252</td>\n",
       "      <td>252</td>\n",
       "      <td>275.0</td>\n",
       "      <td>252</td>\n",
       "      <td>NaN</td>\n",
       "      <td>252</td>\n",
       "      <td>270</td>\n",
       "      <td>271</td>\n",
       "      <td>270</td>\n",
       "    </tr>\n",
       "    <tr>\n",
       "      <th>AD101</th>\n",
       "      <td>First Year Art &amp; Design (Common Entry)        ...</td>\n",
       "      <td>#+Matric</td>\n",
       "      <td>NaN</td>\n",
       "      <td># +matric 550</td>\n",
       "      <td>NaN</td>\n",
       "      <td>#+matric</td>\n",
       "      <td>NaN</td>\n",
       "      <td>#+matric</td>\n",
       "      <td>#+matric</td>\n",
       "      <td>#554</td>\n",
       "      <td>NaN</td>\n",
       "    </tr>\n",
       "    <tr>\n",
       "      <th>AD102</th>\n",
       "      <td>Graphic Design and Moving Image Design        ...</td>\n",
       "      <td>#+Matric</td>\n",
       "      <td>NaN</td>\n",
       "      <td># +matric 635</td>\n",
       "      <td>NaN</td>\n",
       "      <td>#+matric</td>\n",
       "      <td>NaN</td>\n",
       "      <td>#+matric</td>\n",
       "      <td>#+matric</td>\n",
       "      <td>#538</td>\n",
       "      <td>NaN</td>\n",
       "    </tr>\n",
       "    <tr>\n",
       "      <th>AD103</th>\n",
       "      <td>Textile &amp; Surface Design and Jewellery &amp; Objec...</td>\n",
       "      <td>#+Matric</td>\n",
       "      <td>NaN</td>\n",
       "      <td># +matric 545</td>\n",
       "      <td>NaN</td>\n",
       "      <td>#+matric</td>\n",
       "      <td>NaN</td>\n",
       "      <td>#+matric</td>\n",
       "      <td>#+matric</td>\n",
       "      <td>#505</td>\n",
       "      <td>NaN</td>\n",
       "    </tr>\n",
       "    <tr>\n",
       "      <th>...</th>\n",
       "      <td>...</td>\n",
       "      <td>...</td>\n",
       "      <td>...</td>\n",
       "      <td>...</td>\n",
       "      <td>...</td>\n",
       "      <td>...</td>\n",
       "      <td>...</td>\n",
       "      <td>...</td>\n",
       "      <td>...</td>\n",
       "      <td>...</td>\n",
       "      <td>...</td>\n",
       "    </tr>\n",
       "    <tr>\n",
       "      <th>WD212</th>\n",
       "      <td>Recreation and Sport Management               ...</td>\n",
       "      <td>274</td>\n",
       "      <td>NaN</td>\n",
       "      <td>274</td>\n",
       "      <td>311.0</td>\n",
       "      <td>270</td>\n",
       "      <td>NaN</td>\n",
       "      <td>270</td>\n",
       "      <td>349</td>\n",
       "      <td>262</td>\n",
       "      <td>NaN</td>\n",
       "    </tr>\n",
       "    <tr>\n",
       "      <th>WD230</th>\n",
       "      <td>Mechanical and Manufacturing Engineering      ...</td>\n",
       "      <td>273</td>\n",
       "      <td>NaN</td>\n",
       "      <td>273</td>\n",
       "      <td>348.0</td>\n",
       "      <td>253</td>\n",
       "      <td>NaN</td>\n",
       "      <td>253</td>\n",
       "      <td>369</td>\n",
       "      <td>230</td>\n",
       "      <td>230</td>\n",
       "    </tr>\n",
       "    <tr>\n",
       "      <th>WD231</th>\n",
       "      <td>Early Childhood Care and Education            ...</td>\n",
       "      <td>NaN</td>\n",
       "      <td>NaN</td>\n",
       "      <td>NaN</td>\n",
       "      <td>NaN</td>\n",
       "      <td>NaN</td>\n",
       "      <td>NaN</td>\n",
       "      <td>NaN</td>\n",
       "      <td>NaN</td>\n",
       "      <td>266</td>\n",
       "      <td>NaN</td>\n",
       "    </tr>\n",
       "    <tr>\n",
       "      <th>WD232</th>\n",
       "      <td>Business Information Systems                  ...</td>\n",
       "      <td>NaN</td>\n",
       "      <td>NaN</td>\n",
       "      <td>NaN</td>\n",
       "      <td>NaN</td>\n",
       "      <td>NaN</td>\n",
       "      <td>NaN</td>\n",
       "      <td>NaN</td>\n",
       "      <td>NaN</td>\n",
       "      <td>261</td>\n",
       "      <td>261</td>\n",
       "    </tr>\n",
       "    <tr>\n",
       "      <th>NaN</th>\n",
       "      <td>NaN</td>\n",
       "      <td>NaN</td>\n",
       "      <td>NaN</td>\n",
       "      <td>NaN</td>\n",
       "      <td>NaN</td>\n",
       "      <td>NaN</td>\n",
       "      <td>NaN</td>\n",
       "      <td>NaN</td>\n",
       "      <td>NaN</td>\n",
       "      <td>NaN</td>\n",
       "      <td>NaN</td>\n",
       "    </tr>\n",
       "  </tbody>\n",
       "</table>\n",
       "<p>1147 rows × 11 columns</p>\n",
       "</div>"
      ],
      "text/plain": [
       "                                                   TITLE R1_POINTS_2019  \\\n",
       "CODE                                                                      \n",
       "AC120  International Business                        ...            234   \n",
       "AC137  Liberal Arts                                  ...            275   \n",
       "AD101  First Year Art & Design (Common Entry)        ...       #+Matric   \n",
       "AD102  Graphic Design and Moving Image Design        ...       #+Matric   \n",
       "AD103  Textile & Surface Design and Jewellery & Objec...       #+Matric   \n",
       "...                                                  ...            ...   \n",
       "WD212  Recreation and Sport Management               ...            274   \n",
       "WD230  Mechanical and Manufacturing Engineering      ...            273   \n",
       "WD231  Early Childhood Care and Education            ...            NaN   \n",
       "WD232  Business Information Systems                  ...            NaN   \n",
       "NaN                                                  NaN            NaN   \n",
       "\n",
       "      R2_POINTS_2019       EOS_2019  MID_2019 R1_POINTS_2020 R2_POINTS_2020  \\\n",
       "CODE                                                                          \n",
       "AC120            234            234     269.0            209            NaN   \n",
       "AC137            252            252     275.0            252            NaN   \n",
       "AD101            NaN  # +matric 550       NaN       #+matric            NaN   \n",
       "AD102            NaN  # +matric 635       NaN       #+matric            NaN   \n",
       "AD103            NaN  # +matric 545       NaN       #+matric            NaN   \n",
       "...              ...            ...       ...            ...            ...   \n",
       "WD212            NaN            274     311.0            270            NaN   \n",
       "WD230            NaN            273     348.0            253            NaN   \n",
       "WD231            NaN            NaN       NaN            NaN            NaN   \n",
       "WD232            NaN            NaN       NaN            NaN            NaN   \n",
       "NaN              NaN            NaN       NaN            NaN            NaN   \n",
       "\n",
       "       EOS_2020  MID_2020 R1_POINTS_2021 R2_POINTS_2021  \n",
       "CODE                                                     \n",
       "AC120       209       280            294            294  \n",
       "AC137       252       270            271            270  \n",
       "AD101  #+matric  #+matric           #554            NaN  \n",
       "AD102  #+matric  #+matric           #538            NaN  \n",
       "AD103  #+matric  #+matric           #505            NaN  \n",
       "...         ...       ...            ...            ...  \n",
       "WD212       270       349            262            NaN  \n",
       "WD230       253       369            230            230  \n",
       "WD231       NaN       NaN            266            NaN  \n",
       "WD232       NaN       NaN            261            261  \n",
       "NaN         NaN       NaN            NaN            NaN  \n",
       "\n",
       "[1147 rows x 11 columns]"
      ]
     },
     "execution_count": 28,
     "metadata": {},
     "output_type": "execute_result"
    }
   ],
   "source": [
    "#allcourses.sort_values(\"CODE\", inplace = True)\n",
    "allcourses.to_csv (\"Final_table.csv\")\n",
    "allcourses"
   ]
  },
  {
   "cell_type": "code",
   "execution_count": null,
   "id": "3cf257f1-938b-4376-b53e-88fbf2d3b7f2",
   "metadata": {},
   "outputs": [],
   "source": []
  },
  {
   "cell_type": "code",
   "execution_count": null,
   "id": "0d59ee2a-94ad-4253-a489-b051c68ce092",
   "metadata": {},
   "outputs": [],
   "source": []
  },
  {
   "cell_type": "code",
   "execution_count": null,
   "id": "ecca67a3-479a-4ffa-824c-4d0eff25c493",
   "metadata": {},
   "outputs": [],
   "source": []
  },
  {
   "cell_type": "code",
   "execution_count": null,
   "id": "2f46661e-1772-4f2a-b9b7-ce547fcdf0ed",
   "metadata": {},
   "outputs": [],
   "source": []
  },
  {
   "cell_type": "code",
   "execution_count": null,
   "id": "17de076f-a24b-48a0-83be-7441a04758cb",
   "metadata": {},
   "outputs": [],
   "source": []
  },
  {
   "cell_type": "code",
   "execution_count": null,
   "id": "208cb060-22ab-43dc-b8db-5211eb23f37c",
   "metadata": {},
   "outputs": [],
   "source": []
  },
  {
   "cell_type": "code",
   "execution_count": null,
   "id": "15e1f188-f2a8-41b4-9a07-177ec3486e31",
   "metadata": {},
   "outputs": [],
   "source": []
  },
  {
   "cell_type": "markdown",
   "id": "3d3e07c7-4f65-479d-8ed8-6d8954adaab0",
   "metadata": {},
   "source": [
    "### DATA COMPARISON"
   ]
  },
  {
   "cell_type": "markdown",
   "id": "7425319a-e424-4bae-b82b-915324bd3846",
   "metadata": {},
   "source": [
    "# CONCLUSION\n",
    "\n",
    "***"
   ]
  },
  {
   "cell_type": "markdown",
   "id": "e7a54c4a-024c-4a3e-b0a9-5e529bde1006",
   "metadata": {},
   "source": [
    "## REFERENCES\n",
    "***"
   ]
  },
  {
   "cell_type": "markdown",
   "id": "f93fe10a-edca-4096-b319-3bd37cd0fe7b",
   "metadata": {},
   "source": [
    "- [1] http://www2.cao.ie/handbook/handbook2022/hb.pdf\n",
    "- [2] https://en.wikipedia.org/wiki/Central_Applications_Office"
   ]
  },
  {
   "cell_type": "markdown",
   "id": "87fe7f9b-4667-44e6-aa48-0f710dd82a6c",
   "metadata": {},
   "source": [
    "## LINKS TO CHECK"
   ]
  },
  {
   "cell_type": "code",
   "execution_count": 26,
   "id": "80d1c345-9fde-4789-bf25-f9d3e5b1eee1",
   "metadata": {},
   "outputs": [
    {
     "data": {
      "text/plain": [
       "'\\nimport html\\nwith open(\\'name.csv\\', \\'r\\') as f, open(\\'TEST-fixed.csv\\', \\'w\\') as g:\\n    content = html.unescape(f.read())\\n    g.write(content)\\ncontent\\ndfr = pd.read_csv (\"TEST-fixed.csv\")\\ndfr\\n'"
      ]
     },
     "execution_count": 26,
     "metadata": {},
     "output_type": "execute_result"
    }
   ],
   "source": [
    "\"\"\"\n",
    "import html\n",
    "with open('name.csv', 'r') as f, open('TEST-fixed.csv', 'w') as g:\n",
    "    content = html.unescape(f.read())\n",
    "    g.write(content)\n",
    "content\n",
    "dfr = pd.read_csv (\"TEST-fixed.csv\")\n",
    "dfr\n",
    "\"\"\""
   ]
  }
 ],
 "metadata": {
  "kernelspec": {
   "display_name": "Python 3",
   "language": "python",
   "name": "python3"
  },
  "language_info": {
   "codemirror_mode": {
    "name": "ipython",
    "version": 3
   },
   "file_extension": ".py",
   "mimetype": "text/x-python",
   "name": "python",
   "nbconvert_exporter": "python",
   "pygments_lexer": "ipython3",
   "version": "3.8.8"
  }
 },
 "nbformat": 4,
 "nbformat_minor": 5
}

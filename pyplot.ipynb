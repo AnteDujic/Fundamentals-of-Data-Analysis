{
 "cells": [
  {
   "cell_type": "markdown",
   "id": "485b5b18-ccb7-41b5-ab5a-7840cd62d4f0",
   "metadata": {},
   "source": [
    "# MATPLOTLIB.PYPLOT PACKAGE\n",
    "***"
   ]
  },
  {
   "cell_type": "markdown",
   "id": "7702f2a7-1636-4f6b-bcfd-f103f093a9de",
   "metadata": {},
   "source": [
    "## INTRODUCTION"
   ]
  },
  {
   "cell_type": "markdown",
   "id": "62641005-e1b8-4111-a110-419bdfec44b6",
   "metadata": {},
   "source": [
    "This notebook contains an overview of the matplotlib.pyplot Python package."
   ]
  },
  {
   "cell_type": "markdown",
   "id": "84dd5eb1-e91d-4a90-bc44-456228f90011",
   "metadata": {},
   "source": [
    "## PYTHON LIBRARIES\n",
    "\n",
    "A library is a collection of pre-combined codes that can be used iteratively to reduce the time required to code. They are particularly useful for accessing the pre-written frequently used codes, instead of writing them from scratch every single time.[1] A program must import a library module before using it. [2] To import a library we use the *import* statement.\n",
    "\n",
    "There are over 137,000 python libraries present today. [1] Further in this notebook we'll give an overview of one of the most common libraries for a data visualisation - maplotlib."
   ]
  },
  {
   "cell_type": "markdown",
   "id": "41c33813-2bfa-433a-b264-33d1e4c78299",
   "metadata": {},
   "source": [
    "## MATPLOTLIB.PYPLOT\n",
    "\n",
    "Matplotlib is a comprehensive library for creating static, animated, and interactive visualizations in Python.[3] It was introduced by John Hunter in the year 2002.[4] Today, it is open source and it is actively developed by community. The source code for Matplotlib is located at this github repository https://github.com/matplotlib/matplotlib. [5] \n",
    "\n",
    "One of the greatest benefits of visualization is that it allows us visual access to huge amounts of data in easily digestible visuals.[4] "
   ]
  },
  {
   "cell_type": "markdown",
   "id": "166554f8-b777-4125-bb51-17a803105bf4",
   "metadata": {},
   "source": [
    "### GET STARTED\n",
    "\n",
    "#### Installation\n",
    "\n",
    "To be able to run matplotlib, it first needs to be installed. The installation is very simple.\n",
    "First you have to make sure you have Python and PIP installed on the system. If you have Python version 3.4 or later, PIP is included by default. [7]\n",
    "\n",
    "\n",
    "Use the following commands to [8]:\n",
    "\n",
    "- to check python:\n",
    "\n",
    "```\n",
    "pip install matplotlib\n",
    "```\n",
    "\n",
    "\n",
    "- to check pip:\n",
    "\n",
    "```\n",
    "pip -V\n",
    "```\n",
    "\n",
    "\n",
    "- to install matplotlib\n",
    "\n",
    "```\n",
    "pip install matplotlib\n",
    "```\n",
    "\n",
    "It is important to note that *matplotlib* comes as a part of major Python Distributions, such as [9]:\n",
    "- Anaconda\n",
    "- ActiveState ActivePython\n",
    "- WinPython\n",
    "\n",
    "#### Import\n",
    "\n",
    "To be used in the program *matplotlib* needs to be imported, as any other Python library. As mentioned before, *import* command is used, and it is shown below. We can also check the if the matplotlib is installed and what version. [8]"
   ]
  },
  {
   "cell_type": "code",
   "execution_count": 3,
   "id": "f6f1155f-3d60-4c0e-b47e-74332e2d77a5",
   "metadata": {},
   "outputs": [
    {
     "data": {
      "text/plain": [
       "'3.3.4'"
      ]
     },
     "execution_count": 3,
     "metadata": {},
     "output_type": "execute_result"
    }
   ],
   "source": [
    "import matplotlib\n",
    "matplotlib.__version__"
   ]
  },
  {
   "cell_type": "markdown",
   "id": "ddb7a51d-5364-47ca-85ab-a16ba5e6e47b",
   "metadata": {},
   "source": [
    "### FUNCTIONS\n",
    "\n",
    "Each pyplot function makes some change to a figure: e.g., creates a figure, creates a plotting area in a figure, plots some lines in a plotting area, decorates the plot with labels, etc. [5]"
   ]
  },
  {
   "cell_type": "markdown",
   "id": "fc7a9c68-5896-4955-8113-0480ff70a7dd",
   "metadata": {},
   "source": [
    "### PLOTS"
   ]
  },
  {
   "cell_type": "markdown",
   "id": "51ed89ad-acc6-4244-9b57-ce27335e8d1b",
   "metadata": {},
   "source": [
    "#### PLOT 1"
   ]
  },
  {
   "cell_type": "markdown",
   "id": "8d6724d5-8400-499c-83a4-96ff70ac6c91",
   "metadata": {},
   "source": [
    "#### PLOT 2"
   ]
  },
  {
   "cell_type": "markdown",
   "id": "639dd52f-d093-4687-912f-ececad609330",
   "metadata": {},
   "source": [
    "#### PLOT 3"
   ]
  },
  {
   "cell_type": "markdown",
   "id": "8301010a-d25a-460c-bb00-7fdb96de88ab",
   "metadata": {},
   "source": [
    "## CONCLUSION"
   ]
  },
  {
   "cell_type": "markdown",
   "id": "78a9d6de-f3b5-4e50-9957-018112b227c3",
   "metadata": {},
   "source": [
    "***\n",
    "## REFERENCES\n",
    "\n",
    "- [1] https://www.mygreatlearning.com/blog/open-source-python-libraries/\n",
    "- [2] https://librarycarpentry.org/lc-python-intro/06-libraries/index.html\n",
    "- [3] https://matplotlib.org/\n",
    "- [4] https://www.geeksforgeeks.org/python-introduction-matplotlib/\n",
    "- [5] https://www.w3schools.com/python/matplotlib_intro.asp\n",
    "- [6] https://matplotlib.org/stable/tutorials/introductory/pyplot.html \n",
    "- [7] https://www.w3schools.com/python/python_pip.asp\n",
    "- [8] https://www.tutorialspoint.com/how-to-install-matplotlib-in-python\n",
    "- [9] https://matplotlib.org/stable/users/installing.html"
   ]
  },
  {
   "cell_type": "markdown",
   "id": "d78de69f-a506-4f4a-8546-477cd5065a68",
   "metadata": {},
   "source": [
    "### LINKS TO CHECK\n",
    "\n",
    "1. NUMPY\n",
    "- https://www.w3schools.com/python/numpy/numpy_intro.asp\n",
    "- https://numpy.org/\n",
    "- https://en.wikipedia.org/wiki/NumPy\n",
    "- https://towardsdatascience.com/a-quick-review-of-numpy-and-matplotlib-48f455db383\n",
    "- https://cs231n.github.io/python-numpy-tutorial/#jupyter-and-colab-notebooks\n",
    "\n",
    "2. MATPLOTLIB\n",
    "- https://www.activestate.com/resources/quick-reads/what-is-matplotlib-in-python-how-to-use-it-for-plotting/\n",
    "- https://matplotlib.org/\n",
    "- https://www.w3schools.com/python/matplotlib_pyplot.asp\n",
    "- https://en.wikipedia.org/wiki/Matplotlib\n",
    "- https://realpython.com/python-matplotlib-guide/\n",
    "- https://towardsdatascience.com/a-practical-summary-of-matplotlib-in-13-python-snippets-4d07f0011bdf\n",
    "- https://www.geeksforgeeks.org/python-introduction-matplotlib/\n",
    "- https://www.activestate.com/resources/quick-reads/what-is-pyplot-in-matplotlib/\n",
    "- https://www.tutorialspoint.com/numpy/numpy_matplotlib.htm\n",
    "\n",
    "3. OTHER\n",
    "- https://discuss.codecademy.com/t/what-are-some-differences-between-pandas-numpy-and-matplotlib/354475\n",
    "- https://stackoverflow.com/questions/12987624/confusion-between-numpy-scipy-matplotlib-and-pylab"
   ]
  },
  {
   "cell_type": "markdown",
   "id": "a1f35a80-d18d-4ac8-a58c-6604ae1a82d6",
   "metadata": {},
   "source": [
    "***\n",
    "# THE END"
   ]
  },
  {
   "cell_type": "code",
   "execution_count": null,
   "id": "77a5fcba-8e7d-4772-a5e5-e0f3009770b2",
   "metadata": {},
   "outputs": [],
   "source": []
  }
 ],
 "metadata": {
  "kernelspec": {
   "display_name": "Python 3",
   "language": "python",
   "name": "python3"
  },
  "language_info": {
   "codemirror_mode": {
    "name": "ipython",
    "version": 3
   },
   "file_extension": ".py",
   "mimetype": "text/x-python",
   "name": "python",
   "nbconvert_exporter": "python",
   "pygments_lexer": "ipython3",
   "version": "3.8.8"
  }
 },
 "nbformat": 4,
 "nbformat_minor": 5
}

{
 "cells": [
  {
   "cell_type": "markdown",
   "id": "485b5b18-ccb7-41b5-ab5a-7840cd62d4f0",
   "metadata": {},
   "source": [
    "# The matplotlib.pyplot Python Package\n",
    "\n",
    "***"
   ]
  },
  {
   "cell_type": "markdown",
   "id": "7702f2a7-1636-4f6b-bcfd-f103f093a9de",
   "metadata": {},
   "source": [
    "## INTRODUCTION"
   ]
  },
  {
   "cell_type": "code",
   "execution_count": null,
   "id": "161168e7-9b2f-4c94-aeaf-7d893e2e2958",
   "metadata": {},
   "outputs": [],
   "source": []
  },
  {
   "cell_type": "code",
   "execution_count": null,
   "id": "fd8637d1-3d45-4ccf-b349-cfe52853372c",
   "metadata": {},
   "outputs": [],
   "source": []
  },
  {
   "cell_type": "code",
   "execution_count": null,
   "id": "4e720e9f-f485-4f81-8d05-802b52e0e299",
   "metadata": {},
   "outputs": [],
   "source": []
  },
  {
   "cell_type": "markdown",
   "id": "78a9d6de-f3b5-4e50-9957-018112b227c3",
   "metadata": {},
   "source": [
    "***\n",
    "## REFERENCES"
   ]
  },
  {
   "cell_type": "markdown",
   "id": "d78de69f-a506-4f4a-8546-477cd5065a68",
   "metadata": {},
   "source": [
    "### LINKS TO CHECK\n",
    "\n",
    "1. NUMPY\n",
    "- https://www.w3schools.com/python/numpy/numpy_intro.asp\n",
    "- https://numpy.org/\n",
    "- https://en.wikipedia.org/wiki/NumPy\n",
    "- https://towardsdatascience.com/a-quick-review-of-numpy-and-matplotlib-48f455db383\n",
    "- https://cs231n.github.io/python-numpy-tutorial/#jupyter-and-colab-notebooks\n",
    "\n",
    "2. MATPLOTLIB\n",
    "- https://matplotlib.org/\n",
    "- https://www.w3schools.com/python/matplotlib_pyplot.asp\n",
    "- https://en.wikipedia.org/wiki/Matplotlib\n",
    "- https://realpython.com/python-matplotlib-guide/\n",
    "- https://towardsdatascience.com/a-practical-summary-of-matplotlib-in-13-python-snippets-4d07f0011bdf\n",
    "- https://www.geeksforgeeks.org/python-introduction-matplotlib/\n",
    "- https://www.activestate.com/resources/quick-reads/what-is-pyplot-in-matplotlib/\n",
    "- https://www.tutorialspoint.com/numpy/numpy_matplotlib.htm\n",
    "\n",
    "3. OTHER\n",
    "- https://discuss.codecademy.com/t/what-are-some-differences-between-pandas-numpy-and-matplotlib/354475\n",
    "- https://stackoverflow.com/questions/12987624/confusion-between-numpy-scipy-matplotlib-and-pylab"
   ]
  },
  {
   "cell_type": "markdown",
   "id": "a1f35a80-d18d-4ac8-a58c-6604ae1a82d6",
   "metadata": {},
   "source": [
    "***\n",
    "# THE END"
   ]
  },
  {
   "cell_type": "code",
   "execution_count": null,
   "id": "77a5fcba-8e7d-4772-a5e5-e0f3009770b2",
   "metadata": {},
   "outputs": [],
   "source": []
  }
 ],
 "metadata": {
  "kernelspec": {
   "display_name": "Python 3",
   "language": "python",
   "name": "python3"
  },
  "language_info": {
   "codemirror_mode": {
    "name": "ipython",
    "version": 3
   },
   "file_extension": ".py",
   "mimetype": "text/x-python",
   "name": "python",
   "nbconvert_exporter": "python",
   "pygments_lexer": "ipython3",
   "version": "3.8.8"
  }
 },
 "nbformat": 4,
 "nbformat_minor": 5
}

{
 "cells": [
  {
   "cell_type": "markdown",
   "id": "cba7f882-cb9f-4b71-87ed-26c18fda786a",
   "metadata": {},
   "source": [
    "# Loading CAO points information into a pandas data frame, using CAO website\n",
    "\n",
    "http://www.cao.ie/index.php?page=points&p=2021\n",
    "\n",
    "***"
   ]
  },
  {
   "cell_type": "markdown",
   "id": "29b4655e-3bef-4630-af83-22880a7bab45",
   "metadata": {},
   "source": [
    "## INTRODUCTION"
   ]
  },
  {
   "cell_type": "markdown",
   "id": "773b93ce-dff5-4b06-90a1-f3536903fb87",
   "metadata": {},
   "source": [
    "## WHAT IS CAO"
   ]
  },
  {
   "cell_type": "markdown",
   "id": "07cb16d5-57cc-47c5-998e-e780220985be",
   "metadata": {},
   "source": [
    "### LOADING THE DATA"
   ]
  },
  {
   "cell_type": "code",
   "execution_count": 1,
   "id": "ed5b8564-ec55-4a75-b6a3-4388ac742df9",
   "metadata": {},
   "outputs": [
    {
     "data": {
      "text/plain": [
       "'\\n# Data frames\\nimport pandas as pd\\n# For downloading\\nimport urllib.request as urlrq\\n'"
      ]
     },
     "execution_count": 1,
     "metadata": {},
     "output_type": "execute_result"
    }
   ],
   "source": [
    "# HTTP request\n",
    "import requests as rq\n",
    "# Regular expressions\n",
    "import re\n",
    "# Dates and time\n",
    "import datetime as dt\n",
    "\n",
    "'''\n",
    "# Data frames\n",
    "import pandas as pd\n",
    "# For downloading\n",
    "import urllib.request as urlrq\n",
    "'''"
   ]
  },
  {
   "cell_type": "markdown",
   "id": "274276a5-dc7b-4131-858a-e1a192421f65",
   "metadata": {},
   "source": [
    "## LEVEL 8 POINTS 2019, 2020, 2021"
   ]
  },
  {
   "cell_type": "code",
   "execution_count": 2,
   "id": "cbe5f9d0-0938-40ce-8b4b-1c7a6140c8e5",
   "metadata": {},
   "outputs": [],
   "source": [
    "# Current date and time\n",
    "now = dt.datetime.now()\n",
    "# Format as a string\n",
    "nowstr = (now.strftime(\"%Y%m%d_%H%M%S\"))"
   ]
  },
  {
   "cell_type": "code",
   "execution_count": 11,
   "id": "0413bc40-8cd4-4cf7-982f-16ad0f1bf5bf",
   "metadata": {},
   "outputs": [],
   "source": [
    "years_dict = {\n",
    "    \"2019\": [(\"data/cao2019_\" +  nowstr + \".html\"), \"https://web.archive.org/web/20191019135815/http://www2.cao.ie:80/points/l8.php\"],\n",
    "    \"2020\": [(\"data/cao2020_\" +  nowstr + \".html\"), \"https://web.archive.org/web/20201108133105/http://www2.cao.ie/points/l8.php\"],\n",
    "    \"2021\": [(\"data/cao2021_\" +  nowstr + \".html\"), \"http://www2.cao.ie/points/l8.php\"]\n",
    "}"
   ]
  },
  {
   "cell_type": "code",
   "execution_count": 19,
   "id": "06d7752a-bfbe-49cf-a971-4612f4d8491e",
   "metadata": {},
   "outputs": [
    {
     "name": "stdout",
     "output_type": "stream",
     "text": [
      "<Response [200]>\n",
      "<Response [200]>\n",
      "<Response [200]>\n",
      "<Response [200]>\n"
     ]
    }
   ],
   "source": [
    "for year, content in years_dict.items():\n",
    "    rq.get (content[1])\n",
    "    resp = rq.get (content[1])\n",
    "    resp.encoding = \"cp1252\"\n",
    "    print (resp) #Response [200] means OK\n",
    "    with open(content[0], \"w\") as f:\n",
    "        f.write(resp.text)\n"
   ]
  },
  {
   "cell_type": "markdown",
   "id": "b4ea30f7-deb6-4049-8bab-2b393ac7abea",
   "metadata": {},
   "source": [
    "## REGULAR EXPRESSIONS"
   ]
  },
  {
   "cell_type": "code",
   "execution_count": 5,
   "id": "84c41ec6-a1b3-4ff4-b8a6-74f99ca1ba4f",
   "metadata": {},
   "outputs": [],
   "source": [
    "re_course = re.compile(r\"([A-Z]{2}[0-9]{3})(.*)\")"
   ]
  },
  {
   "cell_type": "markdown",
   "id": "e668f054-a3fd-4097-a918-05cfff46d2cf",
   "metadata": {},
   "source": [
    "## LOOP THROUGH THE LINES"
   ]
  },
  {
   "cell_type": "code",
   "execution_count": 6,
   "id": "dc4cc195-4c05-464d-8e66-ed2b6309f113",
   "metadata": {},
   "outputs": [
    {
     "ename": "NameError",
     "evalue": "name 'resp_2019' is not defined",
     "output_type": "error",
     "traceback": [
      "\u001b[1;31m---------------------------------------------------------------------------\u001b[0m",
      "\u001b[1;31mNameError\u001b[0m                                 Traceback (most recent call last)",
      "\u001b[1;32m<ipython-input-6-d35e32585669>\u001b[0m in \u001b[0;36m<module>\u001b[1;34m\u001b[0m\n\u001b[1;32m----> 1\u001b[1;33m \u001b[0mresps\u001b[0m \u001b[1;33m=\u001b[0m \u001b[1;33m[\u001b[0m\u001b[1;33m(\u001b[0m\u001b[0mresp_2019\u001b[0m\u001b[1;33m.\u001b[0m\u001b[0miter_lines\u001b[0m\u001b[1;33m(\u001b[0m\u001b[1;33m)\u001b[0m\u001b[1;33m)\u001b[0m\u001b[1;33m,\u001b[0m \u001b[1;33m(\u001b[0m\u001b[0mresp_2020\u001b[0m\u001b[1;33m.\u001b[0m\u001b[0miter_lines\u001b[0m\u001b[1;33m(\u001b[0m\u001b[1;33m)\u001b[0m\u001b[1;33m)\u001b[0m\u001b[1;33m,\u001b[0m \u001b[1;33m(\u001b[0m\u001b[0mresp_2021\u001b[0m\u001b[1;33m.\u001b[0m\u001b[0miter_lines\u001b[0m\u001b[1;33m(\u001b[0m\u001b[1;33m)\u001b[0m\u001b[1;33m)\u001b[0m\u001b[1;33m]\u001b[0m\u001b[1;33m\u001b[0m\u001b[1;33m\u001b[0m\u001b[0m\n\u001b[0m\u001b[0;32m      2\u001b[0m \u001b[1;31m# The file paths for the csv files\u001b[0m\u001b[1;33m\u001b[0m\u001b[1;33m\u001b[0m\u001b[1;33m\u001b[0m\u001b[0m\n\u001b[0;32m      3\u001b[0m \u001b[0mpath\u001b[0m \u001b[1;33m=\u001b[0m \u001b[1;33m[\u001b[0m\u001b[1;33m(\u001b[0m\u001b[1;34m\"data/cao2019_csv_\"\u001b[0m \u001b[1;33m+\u001b[0m  \u001b[0mnowstr\u001b[0m \u001b[1;33m+\u001b[0m \u001b[1;34m\".csv\"\u001b[0m\u001b[1;33m)\u001b[0m\u001b[1;33m,\u001b[0m \u001b[1;33m(\u001b[0m\u001b[1;34m\"data/cao2020_csv_\"\u001b[0m \u001b[1;33m+\u001b[0m  \u001b[0mnowstr\u001b[0m \u001b[1;33m+\u001b[0m \u001b[1;34m\".csv\"\u001b[0m\u001b[1;33m)\u001b[0m\u001b[1;33m,\u001b[0m \u001b[1;33m(\u001b[0m\u001b[1;34m\"data/cao2021_csv_\"\u001b[0m \u001b[1;33m+\u001b[0m  \u001b[0mnowstr\u001b[0m \u001b[1;33m+\u001b[0m \u001b[1;34m\".csv\"\u001b[0m\u001b[1;33m)\u001b[0m\u001b[1;33m]\u001b[0m\u001b[1;33m\u001b[0m\u001b[1;33m\u001b[0m\u001b[0m\n\u001b[0;32m      4\u001b[0m \u001b[1;33m\u001b[0m\u001b[0m\n\u001b[0;32m      5\u001b[0m \u001b[1;32mdef\u001b[0m \u001b[0mcreate_csv\u001b[0m \u001b[1;33m(\u001b[0m\u001b[0mpath\u001b[0m\u001b[1;33m,\u001b[0m \u001b[0mresps\u001b[0m\u001b[1;33m)\u001b[0m\u001b[1;33m:\u001b[0m\u001b[1;33m\u001b[0m\u001b[1;33m\u001b[0m\u001b[0m\n",
      "\u001b[1;31mNameError\u001b[0m: name 'resp_2019' is not defined"
     ]
    }
   ],
   "source": [
    "resps = [(resp_2019.iter_lines()), (resp_2020.iter_lines()), (resp_2021.iter_lines())]\n",
    "# The file paths for the csv files\n",
    "path = [(\"data/cao2019_csv_\" +  nowstr + \".csv\"), (\"data/cao2020_csv_\" +  nowstr + \".csv\"), (\"data/cao2021_csv_\" +  nowstr + \".csv\")]\n",
    "\n",
    "def create_csv (path, resps):\n",
    "    no_lines = 0\n",
    "    # Open the csv file for writing.\n",
    "    with open(path, 'w') as f:        \n",
    "        # Loop through lines of the response.\n",
    "        for line in resps:\n",
    "            # Decode the line, using the wrong encoding!\n",
    "            dline = line.decode('cp1252')\n",
    "            # Match only the lines representing courses.\n",
    "            if re_course.fullmatch(dline):\n",
    "                # Add one to the lines counter.\n",
    "                no_lines = no_lines + 1\n",
    "                # The course code.\n",
    "                course_code = dline[:5]\n",
    "                # The course title.\n",
    "                course_title = dline[7:57]\n",
    "                # Round one points.\n",
    "                course_points = re.split(' +', dline[60:])\n",
    "                if len(course_points) != 2:\n",
    "                    course_points = course_points[:2]\n",
    "                # Join the fields using a comma.\n",
    "                linesplit = [course_code, course_title, course_points[0], course_points[1]]\n",
    "                # Rejoin the substrings with commas in between.\n",
    "                f.write(','.join(linesplit) + '\\n')   \n",
    "    # Print the total number of processed lines.\n",
    "    print(f\"Total number of lines is {no_lines}.\")"
   ]
  },
  {
   "cell_type": "code",
   "execution_count": null,
   "id": "139d42d1-8d37-409b-9b87-f2cc8f9e91e2",
   "metadata": {
    "scrolled": true,
    "tags": []
   },
   "outputs": [],
   "source": [
    "create_csv (\"data/cao2019_csv_\" +  nowstr + \".csv\",  (resp_2019.iter_lines()))\n",
    "create_csv (\"data/cao2020_csv_\" +  nowstr + \".csv\",  (resp_2020.iter_lines()))\n",
    "create_csv (\"data/cao2021_csv_\" +  nowstr + \".csv\",  (resp_2021.iter_lines()))"
   ]
  },
  {
   "cell_type": "code",
   "execution_count": null,
   "id": "c97e4b85-e10d-427d-8057-6ff72c5777bf",
   "metadata": {},
   "outputs": [],
   "source": []
  },
  {
   "cell_type": "code",
   "execution_count": null,
   "id": "5ecb9c2d-31e1-45c3-a9a9-b267c3274465",
   "metadata": {},
   "outputs": [],
   "source": []
  },
  {
   "cell_type": "markdown",
   "id": "f68f46e7-5bdb-4ef0-a7e8-5f8f738e9ea4",
   "metadata": {},
   "source": [
    "## 2020 POINTS\n",
    "http://www.cao.ie/index.php?page=points&p=2020"
   ]
  },
  {
   "cell_type": "code",
   "execution_count": null,
   "id": "2714af3f-f614-4461-9f90-f08dca81d538",
   "metadata": {},
   "outputs": [],
   "source": []
  },
  {
   "cell_type": "code",
   "execution_count": null,
   "id": "9e0e05df-9efa-4a63-b6ea-336637c11e8d",
   "metadata": {},
   "outputs": [],
   "source": []
  },
  {
   "cell_type": "code",
   "execution_count": null,
   "id": "589873be-6e95-4235-8bbc-be1112792cbf",
   "metadata": {},
   "outputs": [],
   "source": [
    "'''\n",
    "# Create a file path for the original data\n",
    "path = (\"data/cao2020_\" +  nowstr + \".xlsx\")\n",
    "\n",
    "urlrq.urlretrieve('http://www2.cao.ie/points/CAOPointsCharts2020.xlsx', path)\n",
    "\n",
    "# Download and parse the excel spreadsheet\n",
    "df = pd.read_excel(\"http://www2.cao.ie/points/CAOPointsCharts2020.xlsx\", skiprows = 10)\n",
    "\n",
    "df\n",
    "\n",
    "# Spotcheck random row\n",
    "df.iloc[753]\n",
    "\n",
    "# Spotcheck last row\n",
    "df.iloc[-1]\n",
    "\n",
    "# Create a file path for the pandas data\n",
    "path = (\"data/cao2020_\" +  nowstr + \".csv\")\n",
    "\n",
    "# Save pandas data frame to disk\n",
    "df.to_csv(path)\n",
    "'''"
   ]
  },
  {
   "cell_type": "code",
   "execution_count": null,
   "id": "ad244f7e-ecc4-460f-9ff0-8624ede6483a",
   "metadata": {},
   "outputs": [],
   "source": []
  },
  {
   "cell_type": "code",
   "execution_count": null,
   "id": "2b24331c-e386-4867-8bd8-abb7bd324edb",
   "metadata": {},
   "outputs": [],
   "source": []
  },
  {
   "cell_type": "markdown",
   "id": "dfc79303-9fdb-4c77-8e17-0dcb3a050362",
   "metadata": {},
   "source": [
    "#### Regular expressions"
   ]
  },
  {
   "cell_type": "markdown",
   "id": "b19e35cc-73b3-470e-afab-798528eca774",
   "metadata": {},
   "source": [
    "### CAO DATA 2019, 2020, 2021"
   ]
  },
  {
   "cell_type": "markdown",
   "id": "3d3e07c7-4f65-479d-8ed8-6d8954adaab0",
   "metadata": {},
   "source": [
    "### DATA COMPARISON"
   ]
  },
  {
   "cell_type": "markdown",
   "id": "7425319a-e424-4bae-b82b-915324bd3846",
   "metadata": {},
   "source": [
    "# CONCLUSION\n",
    "\n",
    "***"
   ]
  },
  {
   "cell_type": "markdown",
   "id": "e7a54c4a-024c-4a3e-b0a9-5e529bde1006",
   "metadata": {},
   "source": [
    "## REFERENCES"
   ]
  },
  {
   "cell_type": "markdown",
   "id": "87fe7f9b-4667-44e6-aa48-0f710dd82a6c",
   "metadata": {},
   "source": [
    "## LINKS TO CHECK"
   ]
  },
  {
   "cell_type": "code",
   "execution_count": null,
   "id": "5ef47e52-0cb4-4e5f-9a20-1a672c7503ff",
   "metadata": {},
   "outputs": [],
   "source": []
  }
 ],
 "metadata": {
  "kernelspec": {
   "display_name": "Python 3",
   "language": "python",
   "name": "python3"
  },
  "language_info": {
   "codemirror_mode": {
    "name": "ipython",
    "version": 3
   },
   "file_extension": ".py",
   "mimetype": "text/x-python",
   "name": "python",
   "nbconvert_exporter": "python",
   "pygments_lexer": "ipython3",
   "version": "3.8.8"
  }
 },
 "nbformat": 4,
 "nbformat_minor": 5
}

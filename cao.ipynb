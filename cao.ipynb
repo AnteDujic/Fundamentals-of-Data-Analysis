{
 "cells": [
  {
   "cell_type": "markdown",
   "id": "cba7f882-cb9f-4b71-87ed-26c18fda786a",
   "metadata": {},
   "source": [
    "# CAO POINTS ANALYSIS\n",
    "### AUTHOR: ANTE DUJIC\n",
    "<hr style=\"border:2px solid black\"> </hr>"
   ]
  },
  {
   "cell_type": "markdown",
   "id": "29b4655e-3bef-4630-af83-22880a7bab45",
   "metadata": {},
   "source": [
    "## INTRODUCTION\n",
    "<hr style=\"border:2px solid gray\"> </hr>"
   ]
  },
  {
   "cell_type": "markdown",
   "id": "855f1a18-9c81-4dd1-b9de-7b6155186480",
   "metadata": {},
   "source": [
    "This notebook gives an overview of how to load CAO points information from the CAO website into a pandas data frame and the comparison of CAO points in 2019, 2020, and 2021. It is shown below how to collect the data, clean the data and finally analyse the data."
   ]
  },
  {
   "cell_type": "markdown",
   "id": "702f49e3-5282-46bc-8b90-1120ab8f5b6e",
   "metadata": {},
   "source": [
    "[<center><img src=\"http://www.cao.ie/images/cao.png\" width=\"100\"/></center> ](http://www.cao.ie/index.php)\n",
    "\n",
    "***\n",
    "### CONTENTS\n",
    "\n",
    "- [WHAT IS CAO?](#CAO)\n",
    "- [LEVEL 8 - ROUND 1 and ROUND 2](#R1R2)\n",
    "- [LEVEL 8 - EOS and MID](#MIDEOS)\n",
    "- [CONCATENATING THE DATA](#CONCATENATE)\n",
    "- [DATA ANALYSIS](#ANALYSIS)"
   ]
  },
  {
   "cell_type": "markdown",
   "id": "773b93ce-dff5-4b06-90a1-f3536903fb87",
   "metadata": {},
   "source": [
    "## WHAT IS CAO? <a id='CAO'></a>\n",
    "<hr style=\"border:2px solid gray\"> </hr>"
   ]
  },
  {
   "cell_type": "markdown",
   "id": "3fea6b6e-5a1b-4f35-982f-ada108a26bd6",
   "metadata": {},
   "source": [
    "The purpose of the Central Applications Office (CAO) is to process centrally applications for undergraduate courses in Irish Higher Education Institutions (HEIs), and to deal with them in an efficient and fair manner. [1]\n",
    "\n",
    "Students applying for admission to third level education courses in Ireland apply to the CAO rather than to individual educational institutions such as colleges and universities. The CAO then offers places to students who meet the minimum requirements for a course for which they have applied. If for a particular course there are more qualified applicants than available places, the CAO makes offers to those applicants with the highest score in the CAO points system. If students do not accepts offers, or later decline them because they receive an offer for another course, the CAO makes further offers until all of the places have been filled or until the offer season closes. [2]"
   ]
  },
  {
   "cell_type": "markdown",
   "id": "bf770c53-da6d-452c-8b3b-e9cecc4f6b7d",
   "metadata": {},
   "source": [
    "First, I've imported all necessary libraries."
   ]
  },
  {
   "cell_type": "code",
   "execution_count": 1,
   "id": "1ef318e4-5c7a-4c1d-bbae-6ee10ec5805f",
   "metadata": {
    "tags": []
   },
   "outputs": [],
   "source": [
    "# HTTP request.\n",
    "import requests as rq\n",
    "\n",
    "# Regular expressions.\n",
    "import re\n",
    "\n",
    "# Dates and time.\n",
    "import datetime as dt\n",
    "\n",
    "# Data frames.\n",
    "import pandas as pd\n",
    "\n",
    "# For downloading.\n",
    "import urllib.request as urlrq\n",
    "\n",
    "# PDF.\n",
    "import camelot\n",
    "\n",
    "# To use unescape function.\n",
    "import html\n",
    "\n",
    "# Arrays.\n",
    "import numpy as np\n",
    "\n",
    "# Plotting.\n",
    "import matplotlib.pyplot as plt\n",
    "import seaborn as sns"
   ]
  },
  {
   "cell_type": "markdown",
   "id": "3de306f6-264f-405e-bde0-97338722c76f",
   "metadata": {},
   "source": [
    "<br>\n",
    "Current data and time are used for the filenames that will get created to save the original data and the cleaned data. I've used the date and time for easier access and organization of the data, but also to avoid the overwriting of the data files."
   ]
  },
  {
   "cell_type": "code",
   "execution_count": 2,
   "id": "7db11d24-804b-4e75-95d9-d4ff263ec360",
   "metadata": {
    "tags": []
   },
   "outputs": [],
   "source": [
    "# Current date and time.\n",
    "now = dt.datetime.now()\n",
    "# Format as a string.\n",
    "nowstr = (now.strftime(\"%Y%m%d_%H%M%S\"))"
   ]
  },
  {
   "cell_type": "markdown",
   "id": "07cb16d5-57cc-47c5-998e-e780220985be",
   "metadata": {},
   "source": [
    "## LEVEL 8 - ROUND 1 and ROUND 2 <a id='R1R2'></a>\n",
    "<hr style=\"border:2px solid gray\"> </hr>"
   ]
  },
  {
   "cell_type": "markdown",
   "id": "25705258-0285-43ed-88b7-560aea01e413",
   "metadata": {},
   "source": [
    "The data for Round 1 and Round 2 for the three given years (2019., 2020., 2021.) has been pulled from the CAO website. As mentioned in the README, CAO practice is to first upload the data with only Round 1 and Round 2 points and then overwrite that data with EOS and MID points sometimes after the academic year starts. To obtain the Round 1 and Round 2 data for the 2019. and 2020. I have used [The Internet Archive](https://web.archive.org/). This didn't only allow me access to the archived version of the website but also gave me the same format and the structure of the data for all the years."
   ]
  },
  {
   "cell_type": "markdown",
   "id": "5583f692-4e33-423d-817d-e91770ec4ff2",
   "metadata": {
    "tags": []
   },
   "source": [
    "### THE ORIGINAL DATA STRUCTURE\n",
    "***"
   ]
  },
  {
   "cell_type": "markdown",
   "id": "88efe587-11b3-418f-9b3a-550a1ddec065",
   "metadata": {},
   "source": [
    "Original data: <br>\n",
    "2019: https://web.archive.org/web/20191019135815/http://www2.cao.ie:80/points/l8.php <br>\n",
    "2020: https://web.archive.org/web/20201108133105/http://www2.cao.ie/points/l8.php <br>\n",
    "2021: http://www2.cao.ie/points/l8.php\n",
    "\n",
    "The data for Round 1 and Round 2 points on the CAO website has the following structure:\n",
    "- Title\n",
    "- Information on how to read the data\n",
    "- List of colleges\n",
    "- Title\n",
    "- Points\n",
    "    - Course code\n",
    "    - Course title\n",
    "    - Round 1 points\n",
    "    - Round 2 points\n",
    "\n",
    "The data of interest is contained under the *Points* section of the website. It is explained below how the data was scrapped, cleaned and saved for the later analysis."
   ]
  },
  {
   "cell_type": "markdown",
   "id": "741c0884-fee1-492d-bcfc-da0140d55da7",
   "metadata": {},
   "source": [
    "### SCRAPPING AND CLEANING THE DATA\n",
    "***"
   ]
  },
  {
   "cell_type": "markdown",
   "id": "643186e9-0b9c-4e37-ae02-5855703a6d59",
   "metadata": {},
   "source": [
    "<br>\n",
    "To loop through the years and run multiple lines of code for each year in one go, I've created the dictionary below."
   ]
  },
  {
   "cell_type": "code",
   "execution_count": 3,
   "id": "0413bc40-8cd4-4cf7-982f-16ad0f1bf5bf",
   "metadata": {},
   "outputs": [],
   "source": [
    "# Defining a dictionary.\n",
    "years_dict = {\n",
    "    \"2019\": [(\"data/cao2019_\" +  nowstr), \"https://web.archive.org/web/20191019135815/http://www2.cao.ie:80/points/l8.php\"],\n",
    "    \"2020\": [(\"data/cao2020_\" +  nowstr), \"https://web.archive.org/web/20201108133105/http://www2.cao.ie/points/l8.php\"],\n",
    "    \"2021\": [(\"data/cao2021_\" +  nowstr), \"http://www2.cao.ie/points/l8.php\"]\n",
    "}"
   ]
  },
  {
   "cell_type": "markdown",
   "id": "9efdf8d7-d02d-45ab-a4b0-ffbe8df2721d",
   "metadata": {},
   "source": [
    "STEPS:\n",
    "<br>\n",
    "1. Save the original html\n",
    "<br>\n",
    "This was done to ensure the original website format from which the data was scrapped is kept, in case of any future changes on the CEO website itself. The data was fetched from the given url-s and it was encoded (cp1252), due to symbols in certain course names not being supported. NOTE: Encoding on the website is wrong.\n",
    "<br>\n",
    "2. Read the data and filter out only the relevant data\n",
    "<br>\n",
    "The fetched data was ittered through and filtered out using the below regular expression. Regular expression is a sequence of characters that specifies a search pattern. Usually such patterns are used by string-searching algorithms for \"find\" or \"find and replace\" operations on strings, or for input validation. [4] The set regular expression filters out only the lines starting with the course code (e.g. AL801). Also, Symbol \"&\" instead \"and\" was used in certain 2019 and 2020 course names and it was being rendered as &amp;amp; when saving to csv. To avoid this unescape function was used. The data was also structured to fit the csv file - split and divided by commas to create 4 columns \"CODE\", \"TITLE\", \"R1_POINTS\", \"R2_POINTS\"\n"
   ]
  },
  {
   "cell_type": "code",
   "execution_count": 4,
   "id": "23c4b980-7ef8-4a92-b895-769cc66c238c",
   "metadata": {
    "tags": []
   },
   "outputs": [],
   "source": [
    "# Regular expression.\n",
    "re_course = re.compile(r\"([A-Z]{2}[0-9]{3})(.*)\")"
   ]
  },
  {
   "cell_type": "markdown",
   "id": "34fc5a9b-a80e-44d1-bfab-db2515a9c21c",
   "metadata": {},
   "source": [
    "3. Save the cleaned data as csv files"
   ]
  },
  {
   "cell_type": "code",
   "execution_count": 5,
   "id": "90dfae36-5c06-4850-9f40-6583c8b91aeb",
   "metadata": {},
   "outputs": [
    {
     "name": "stdout",
     "output_type": "stream",
     "text": [
      "2019 <Response [200]>\n",
      "Total number of lines(courses) in CAO 2019 database is 930\n",
      "2020 <Response [200]>\n",
      "Total number of lines(courses) in CAO 2020 database is 961\n",
      "2021 <Response [200]>\n",
      "Total number of lines(courses) in CAO 2021 database is 949\n"
     ]
    }
   ],
   "source": [
    "# Loop through the (dict) years.\n",
    "for year, content in years_dict.items():\n",
    "    # Fetch the CAO points URL.\n",
    "    rq.get (content[1])\n",
    "    resp = rq.get (content[1])\n",
    "    # The server uses the wrong encoding.\n",
    "        # Change to \"cp1252\".\n",
    "    resp.encoding = \"cp1252\"\n",
    "    # Check if OK:\n",
    "        #Response [200] means OK.\n",
    "    print (year,resp)\n",
    "    \n",
    "    # Save the original html file.\n",
    "    with open(content[0] + \".html\", \"w\") as f:\n",
    "        f.write(resp.text)\n",
    "        \n",
    "    # Keep track of how many courses we process.\n",
    "    no_lines = 0\n",
    "    # Iterating through the lines.\n",
    "    resp.iter_lines()\n",
    "    resps = resp.iter_lines()\n",
    "    \n",
    "    # Open the csv file for writing (saving)\n",
    "    with open(content[0] + \".csv\", \"w\") as f:\n",
    "        # Cleaning the data.\n",
    "        # Write a header row.\n",
    "        f.write(','.join([\"CODE\", \"TITLE\", \"R1_POINTS\", \"R2_POINTS\"]) + \"\\n\")\n",
    "        # Loop through lines of the response.\n",
    "        for line in resps:\n",
    "            # Decode the line.\n",
    "            dline = line.decode(\"cp1252\")\n",
    "            # Converting &amp; to &.\n",
    "            dline = html.unescape(dline)\n",
    "            # Match only the lines representing courses.\n",
    "            if re_course.fullmatch(dline):\n",
    "                # Add one to the lines counter.\n",
    "                no_lines = no_lines + 1\n",
    "                # The course code.\n",
    "                course_code = dline[:5]\n",
    "                # The course title.\n",
    "                course_title = dline[7:57]\n",
    "                # Round one points.\n",
    "                course_points = re.split(\" +\", dline[60:])\n",
    "                if len(course_points) != 2:\n",
    "                    course_points = course_points[:2]\n",
    "                # Join the fields using a comma.\n",
    "                linesplit = [course_code, course_title, course_points[0], course_points[1]]\n",
    "                # Rejoin the substrings with commas in between.\n",
    "                f.write(\",\".join(linesplit) + \"\\n\")   \n",
    "    # Print the total number of processed lines.\n",
    "    print(\"Total number of lines(courses) in CAO\", year, \"database is\", no_lines)"
   ]
  },
  {
   "cell_type": "markdown",
   "id": "9477c608-1ee1-4f94-be8b-db721fd64191",
   "metadata": {},
   "source": [
    "### CLEANED DATA\n",
    "***"
   ]
  },
  {
   "cell_type": "markdown",
   "id": "188a6523-544e-4c1d-b263-f417bcff7593",
   "metadata": {},
   "source": [
    "#### 2019\n",
    "***"
   ]
  },
  {
   "cell_type": "code",
   "execution_count": 6,
   "id": "5075c5f4-be95-46d9-ad9a-0c3c00bab20e",
   "metadata": {},
   "outputs": [
    {
     "data": {
      "text/html": [
       "<div>\n",
       "<style scoped>\n",
       "    .dataframe tbody tr th:only-of-type {\n",
       "        vertical-align: middle;\n",
       "    }\n",
       "\n",
       "    .dataframe tbody tr th {\n",
       "        vertical-align: top;\n",
       "    }\n",
       "\n",
       "    .dataframe thead th {\n",
       "        text-align: right;\n",
       "    }\n",
       "</style>\n",
       "<table border=\"1\" class=\"dataframe\">\n",
       "  <thead>\n",
       "    <tr style=\"text-align: right;\">\n",
       "      <th></th>\n",
       "      <th>CODE</th>\n",
       "      <th>TITLE</th>\n",
       "      <th>R1_2019</th>\n",
       "      <th>R2_2019</th>\n",
       "    </tr>\n",
       "  </thead>\n",
       "  <tbody>\n",
       "    <tr>\n",
       "      <th>214</th>\n",
       "      <td>DC113</td>\n",
       "      <td>Global Business (Germany)                     ...</td>\n",
       "      <td>440</td>\n",
       "      <td>NaN</td>\n",
       "    </tr>\n",
       "    <tr>\n",
       "      <th>54</th>\n",
       "      <td>CW808</td>\n",
       "      <td>Media and Public Relations                    ...</td>\n",
       "      <td>262</td>\n",
       "      <td>248</td>\n",
       "    </tr>\n",
       "    <tr>\n",
       "      <th>300</th>\n",
       "      <td>DT358</td>\n",
       "      <td>Logistics and Supply Chain Management         ...</td>\n",
       "      <td>300</td>\n",
       "      <td>NaN</td>\n",
       "    </tr>\n",
       "    <tr>\n",
       "      <th>111</th>\n",
       "      <td>CK108</td>\n",
       "      <td>Arts International - 4 years                  ...</td>\n",
       "      <td>429</td>\n",
       "      <td>NaN</td>\n",
       "    </tr>\n",
       "    <tr>\n",
       "      <th>576</th>\n",
       "      <td>GA580</td>\n",
       "      <td>Software and Electronic Engineering           ...</td>\n",
       "      <td>301</td>\n",
       "      <td>NaN</td>\n",
       "    </tr>\n",
       "    <tr>\n",
       "      <th>822</th>\n",
       "      <td>MH502</td>\n",
       "      <td>Law (options)                                 ...</td>\n",
       "      <td>410</td>\n",
       "      <td>NaN</td>\n",
       "    </tr>\n",
       "    <tr>\n",
       "      <th>157</th>\n",
       "      <td>CK703</td>\n",
       "      <td>Pharmacy                                      ...</td>\n",
       "      <td>577</td>\n",
       "      <td>NaN</td>\n",
       "    </tr>\n",
       "    <tr>\n",
       "      <th>519</th>\n",
       "      <td>DN451</td>\n",
       "      <td>Children`s and General Nursing (Integrated)   ...</td>\n",
       "      <td>488</td>\n",
       "      <td>475</td>\n",
       "    </tr>\n",
       "    <tr>\n",
       "      <th>181</th>\n",
       "      <td>DB504</td>\n",
       "      <td>Computing (Web and Mobile Technology)         ...</td>\n",
       "      <td>265</td>\n",
       "      <td>227</td>\n",
       "    </tr>\n",
       "    <tr>\n",
       "      <th>487</th>\n",
       "      <td>TR091</td>\n",
       "      <td>General Nursing (Meath and St James`s)        ...</td>\n",
       "      <td>402</td>\n",
       "      <td>398</td>\n",
       "    </tr>\n",
       "  </tbody>\n",
       "</table>\n",
       "</div>"
      ],
      "text/plain": [
       "      CODE                                              TITLE R1_2019 R2_2019\n",
       "214  DC113  Global Business (Germany)                     ...     440     NaN\n",
       "54   CW808  Media and Public Relations                    ...     262     248\n",
       "300  DT358  Logistics and Supply Chain Management         ...     300     NaN\n",
       "111  CK108  Arts International - 4 years                  ...     429     NaN\n",
       "576  GA580  Software and Electronic Engineering           ...     301     NaN\n",
       "822  MH502  Law (options)                                 ...     410     NaN\n",
       "157  CK703  Pharmacy                                      ...     577     NaN\n",
       "519  DN451  Children`s and General Nursing (Integrated)   ...     488     475\n",
       "181  DB504  Computing (Web and Mobile Technology)         ...     265     227\n",
       "487  TR091  General Nursing (Meath and St James`s)        ...     402     398"
      ]
     },
     "execution_count": 6,
     "metadata": {},
     "output_type": "execute_result"
    }
   ],
   "source": [
    "# Read csv file.\n",
    "df_2019 = pd.read_csv (\"data/cao2019_\" +  nowstr + \".csv\", encoding = \"cp1252\")\n",
    "# Name the columns.\n",
    "df_2019.columns = [\"CODE\",\"TITLE\", \"R1_2019\", \"R2_2019\"]\n",
    "# Output random 10 rows\n",
    "df_2019.sample(n = 10)"
   ]
  },
  {
   "cell_type": "markdown",
   "id": "9f9d60d2-149a-42f4-8402-0bc880d82e00",
   "metadata": {},
   "source": [
    "#### 2020\n",
    "***"
   ]
  },
  {
   "cell_type": "code",
   "execution_count": 7,
   "id": "32b87d7d-341f-476b-acf4-138166f3284e",
   "metadata": {},
   "outputs": [
    {
     "data": {
      "text/html": [
       "<div>\n",
       "<style scoped>\n",
       "    .dataframe tbody tr th:only-of-type {\n",
       "        vertical-align: middle;\n",
       "    }\n",
       "\n",
       "    .dataframe tbody tr th {\n",
       "        vertical-align: top;\n",
       "    }\n",
       "\n",
       "    .dataframe thead th {\n",
       "        text-align: right;\n",
       "    }\n",
       "</style>\n",
       "<table border=\"1\" class=\"dataframe\">\n",
       "  <thead>\n",
       "    <tr style=\"text-align: right;\">\n",
       "      <th></th>\n",
       "      <th>CODE</th>\n",
       "      <th>TITLE</th>\n",
       "      <th>R1_2020</th>\n",
       "      <th>R2_2020</th>\n",
       "    </tr>\n",
       "  </thead>\n",
       "  <tbody>\n",
       "    <tr>\n",
       "      <th>278</th>\n",
       "      <td>DL830</td>\n",
       "      <td>Design for Stage and Screen (Character Makeup ...</td>\n",
       "      <td>#939</td>\n",
       "      <td>NaN</td>\n",
       "    </tr>\n",
       "    <tr>\n",
       "      <th>959</th>\n",
       "      <td>WD212</td>\n",
       "      <td>Recreation and Sport Management               ...</td>\n",
       "      <td>270</td>\n",
       "      <td>NaN</td>\n",
       "    </tr>\n",
       "    <tr>\n",
       "      <th>553</th>\n",
       "      <td>DK843</td>\n",
       "      <td>Engineering (Common Entry)                    ...</td>\n",
       "      <td>340</td>\n",
       "      <td>340</td>\n",
       "    </tr>\n",
       "    <tr>\n",
       "      <th>296</th>\n",
       "      <td>GC305</td>\n",
       "      <td>International Hospitality Management          ...</td>\n",
       "      <td>253</td>\n",
       "      <td>253</td>\n",
       "    </tr>\n",
       "    <tr>\n",
       "      <th>793</th>\n",
       "      <td>LM058</td>\n",
       "      <td>Financial Mathematics                         ...</td>\n",
       "      <td>403</td>\n",
       "      <td>NaN</td>\n",
       "    </tr>\n",
       "    <tr>\n",
       "      <th>826</th>\n",
       "      <td>MU002</td>\n",
       "      <td>Theology                                      ...</td>\n",
       "      <td>440</td>\n",
       "      <td>NaN</td>\n",
       "    </tr>\n",
       "    <tr>\n",
       "      <th>410</th>\n",
       "      <td>TU941</td>\n",
       "      <td>Botanical Cuisine                             ...</td>\n",
       "      <td>249</td>\n",
       "      <td>NaN</td>\n",
       "    </tr>\n",
       "    <tr>\n",
       "      <th>220</th>\n",
       "      <td>DC113</td>\n",
       "      <td>Global Business (Germany)                     ...</td>\n",
       "      <td>462</td>\n",
       "      <td>NaN</td>\n",
       "    </tr>\n",
       "    <tr>\n",
       "      <th>226</th>\n",
       "      <td>DC119</td>\n",
       "      <td>Global Business (Canada)                      ...</td>\n",
       "      <td>564</td>\n",
       "      <td>NaN</td>\n",
       "    </tr>\n",
       "    <tr>\n",
       "      <th>559</th>\n",
       "      <td>DK861</td>\n",
       "      <td>Arts                                          ...</td>\n",
       "      <td>302</td>\n",
       "      <td>302</td>\n",
       "    </tr>\n",
       "  </tbody>\n",
       "</table>\n",
       "</div>"
      ],
      "text/plain": [
       "      CODE                                              TITLE R1_2020 R2_2020\n",
       "278  DL830  Design for Stage and Screen (Character Makeup ...    #939     NaN\n",
       "959  WD212  Recreation and Sport Management               ...     270     NaN\n",
       "553  DK843  Engineering (Common Entry)                    ...     340     340\n",
       "296  GC305  International Hospitality Management          ...     253     253\n",
       "793  LM058  Financial Mathematics                         ...     403     NaN\n",
       "826  MU002  Theology                                      ...     440     NaN\n",
       "410  TU941  Botanical Cuisine                             ...     249     NaN\n",
       "220  DC113  Global Business (Germany)                     ...     462     NaN\n",
       "226  DC119  Global Business (Canada)                      ...     564     NaN\n",
       "559  DK861  Arts                                          ...     302     302"
      ]
     },
     "execution_count": 7,
     "metadata": {},
     "output_type": "execute_result"
    }
   ],
   "source": [
    "# Read csv file.\n",
    "df_2020 = pd.read_csv (\"data/cao2020_\" +  nowstr + \".csv\", encoding = \"cp1252\")\n",
    "# Name the columns.\n",
    "df_2020.columns = [\"CODE\",\"TITLE\", \"R1_2020\", \"R2_2020\"]\n",
    "# Output random 10 rows.\n",
    "df_2020.sample(n = 10)"
   ]
  },
  {
   "cell_type": "markdown",
   "id": "f9c332a1-fc41-4a69-b90f-4b0ea7ef9305",
   "metadata": {},
   "source": [
    "#### 2021\n",
    "***"
   ]
  },
  {
   "cell_type": "code",
   "execution_count": 8,
   "id": "56a2669f-9257-4c4b-923b-9c66db2d7b81",
   "metadata": {},
   "outputs": [
    {
     "data": {
      "text/html": [
       "<div>\n",
       "<style scoped>\n",
       "    .dataframe tbody tr th:only-of-type {\n",
       "        vertical-align: middle;\n",
       "    }\n",
       "\n",
       "    .dataframe tbody tr th {\n",
       "        vertical-align: top;\n",
       "    }\n",
       "\n",
       "    .dataframe thead th {\n",
       "        text-align: right;\n",
       "    }\n",
       "</style>\n",
       "<table border=\"1\" class=\"dataframe\">\n",
       "  <thead>\n",
       "    <tr style=\"text-align: right;\">\n",
       "      <th></th>\n",
       "      <th>CODE</th>\n",
       "      <th>TITLE</th>\n",
       "      <th>R1_2021</th>\n",
       "      <th>R2_2021</th>\n",
       "    </tr>\n",
       "  </thead>\n",
       "  <tbody>\n",
       "    <tr>\n",
       "      <th>420</th>\n",
       "      <td>TU974</td>\n",
       "      <td>Fine Art (portfolio)                          ...</td>\n",
       "      <td>#549</td>\n",
       "      <td>NaN</td>\n",
       "    </tr>\n",
       "    <tr>\n",
       "      <th>270</th>\n",
       "      <td>DC291</td>\n",
       "      <td>Arts (Joint Honours) - Media Studies          ...</td>\n",
       "      <td>350</td>\n",
       "      <td>NaN</td>\n",
       "    </tr>\n",
       "    <tr>\n",
       "      <th>897</th>\n",
       "      <td>TL845</td>\n",
       "      <td>Civil Engineering                             ...</td>\n",
       "      <td>361</td>\n",
       "      <td>NaN</td>\n",
       "    </tr>\n",
       "    <tr>\n",
       "      <th>458</th>\n",
       "      <td>TR039</td>\n",
       "      <td>Computer Science  Linguistics and a Language  ...</td>\n",
       "      <td>443</td>\n",
       "      <td>NaN</td>\n",
       "    </tr>\n",
       "    <tr>\n",
       "      <th>295</th>\n",
       "      <td>GC301</td>\n",
       "      <td>Accounting and Finance                        ...</td>\n",
       "      <td>NaN</td>\n",
       "      <td>251</td>\n",
       "    </tr>\n",
       "    <tr>\n",
       "      <th>191</th>\n",
       "      <td>DB512</td>\n",
       "      <td>Business Studies                              ...</td>\n",
       "      <td>243</td>\n",
       "      <td>210</td>\n",
       "    </tr>\n",
       "    <tr>\n",
       "      <th>397</th>\n",
       "      <td>TU921</td>\n",
       "      <td>Digital Marketing Technologies                ...</td>\n",
       "      <td>230</td>\n",
       "      <td>NaN</td>\n",
       "    </tr>\n",
       "    <tr>\n",
       "      <th>745</th>\n",
       "      <td>LC372</td>\n",
       "      <td>Music Technology and Production               ...</td>\n",
       "      <td>377</td>\n",
       "      <td>NaN</td>\n",
       "    </tr>\n",
       "    <tr>\n",
       "      <th>313</th>\n",
       "      <td>AD103</td>\n",
       "      <td>Textile and Surface Design and Jewellery and O...</td>\n",
       "      <td>#505</td>\n",
       "      <td>NaN</td>\n",
       "    </tr>\n",
       "    <tr>\n",
       "      <th>421</th>\n",
       "      <td>TU975</td>\n",
       "      <td>Interior Design (portfolio)                   ...</td>\n",
       "      <td>#544</td>\n",
       "      <td>NaN</td>\n",
       "    </tr>\n",
       "  </tbody>\n",
       "</table>\n",
       "</div>"
      ],
      "text/plain": [
       "      CODE                                              TITLE R1_2021 R2_2021\n",
       "420  TU974  Fine Art (portfolio)                          ...    #549     NaN\n",
       "270  DC291  Arts (Joint Honours) - Media Studies          ...     350     NaN\n",
       "897  TL845  Civil Engineering                             ...     361     NaN\n",
       "458  TR039  Computer Science  Linguistics and a Language  ...     443     NaN\n",
       "295  GC301  Accounting and Finance                        ...     NaN     251\n",
       "191  DB512  Business Studies                              ...     243     210\n",
       "397  TU921  Digital Marketing Technologies                ...     230     NaN\n",
       "745  LC372  Music Technology and Production               ...     377     NaN\n",
       "313  AD103  Textile and Surface Design and Jewellery and O...    #505     NaN\n",
       "421  TU975  Interior Design (portfolio)                   ...    #544     NaN"
      ]
     },
     "execution_count": 8,
     "metadata": {},
     "output_type": "execute_result"
    }
   ],
   "source": [
    "# Read csv file.\n",
    "df_2021 = pd.read_csv (\"data/cao2021_\" +  nowstr + \".csv\", encoding = \"cp1252\")\n",
    "# Name the columns.\n",
    "df_2021.columns = [\"CODE\",\"TITLE\", \"R1_2021\", \"R2_2021\"]\n",
    "# Output random 10 rows.\n",
    "df_2021.sample(n = 10)"
   ]
  },
  {
   "cell_type": "markdown",
   "id": "43f2899d-0023-499b-8a1c-230b783b6207",
   "metadata": {},
   "source": [
    "## 2. LEVEL 8 - EOS and MID <a id='MIDEOS'></a>\n",
    "<hr style=\"border:2px solid gray\"> </hr>"
   ]
  },
  {
   "cell_type": "markdown",
   "id": "4a864eda-626a-4c66-b0ab-d0c421d9d72e",
   "metadata": {},
   "source": [
    "As mentioned in README, EOS and MID points data becomes available after the start of the academic year, and are only available for 2019. and 2020. in the time of making this project. However, the project could be updated in the future when the data becomes available for 2021."
   ]
  },
  {
   "cell_type": "markdown",
   "id": "1c7834b3-3b45-4371-85d1-e2b32d8778b2",
   "metadata": {
    "tags": []
   },
   "source": [
    "### 2019 - THE PDF FILE STRUCTURE\n",
    "***"
   ]
  },
  {
   "cell_type": "markdown",
   "id": "d1ac6f09-d4d6-4234-bd5e-3ca5ac64c00f",
   "metadata": {},
   "source": [
    "Original data: <br>\n",
    "2019: http://www2.cao.ie/points/lvl8_19.pdf <br>\n",
    "\n",
    "Data containing EOS and MID points for 2019 is in pdf format.\n",
    "The file has the following structure:\n",
    "- Title and the Subtitles of the file\n",
    "- Information on the file\n",
    "- Information on how to read the data\n",
    "- Points table\n",
    "    - Course code\n",
    "    - Institution and Course\n",
    "    - EOS points\n",
    "    - MID points\n",
    "\n",
    "The data of interest is contained under the table section of the file. It is explained below how the data was scrapped, cleaned and saved for the later analysis."
   ]
  },
  {
   "cell_type": "markdown",
   "id": "879465c6-e45d-4c90-9a5a-6ce409aee8ae",
   "metadata": {},
   "source": [
    "### SCRAPPING AND CLEANING THE DATA\n",
    "***"
   ]
  },
  {
   "cell_type": "markdown",
   "id": "516993c9-7d4b-4b16-9ef4-6f1dda19372e",
   "metadata": {},
   "source": [
    "STEPS:\n",
    "<br>\n",
    "1. Save the original file <br>\n",
    "Same as with the R1 and R2 points, I've saved the original file locally. The data is fetched from the given url using *requests* library."
   ]
  },
  {
   "cell_type": "code",
   "execution_count": 9,
   "id": "3f0d5401-9578-425e-9f1a-6ebb1e2e0bb7",
   "metadata": {},
   "outputs": [],
   "source": [
    "# Creating a file path for the original data.\n",
    "path_pdf = 'data/cao2019_em_' + nowstr + '.pdf'"
   ]
  },
  {
   "cell_type": "code",
   "execution_count": 10,
   "id": "41ee7d81-bfb4-4380-8a24-60147955ca67",
   "metadata": {},
   "outputs": [
    {
     "data": {
      "text/plain": [
       "<Response [200]>"
      ]
     },
     "execution_count": 10,
     "metadata": {},
     "output_type": "execute_result"
    }
   ],
   "source": [
    "# Fetch the CAO points URL.\n",
    "resp_pdf = rq.get(\"http://www2.cao.ie/points/lvl8_19.pdf\")\n",
    "resp_pdf # <Response [200]> means OK"
   ]
  },
  {
   "cell_type": "code",
   "execution_count": 11,
   "id": "73441854-a447-4cdb-95bc-c8c78ec6b45e",
   "metadata": {},
   "outputs": [],
   "source": [
    "# Save the original file.\n",
    "with open(path_pdf, 'wb') as f:\n",
    "    f.write(resp_pdf.content)"
   ]
  },
  {
   "cell_type": "markdown",
   "id": "68e3a80c-6b79-4831-9f31-0f512310578b",
   "metadata": {},
   "source": [
    "\n",
    "2. Read the pdf file and filter out the table only \n",
    "<br>\n",
    "The saved data is read using camelot."
   ]
  },
  {
   "cell_type": "code",
   "execution_count": 12,
   "id": "0d564bb9-fbb4-420b-b85c-1d6c3a06da35",
   "metadata": {},
   "outputs": [],
   "source": [
    "# Read the pdf file.\n",
    "tables = camelot.read_pdf(path_pdf, pages = \"all\", flavor = \"lattice\")"
   ]
  },
  {
   "cell_type": "markdown",
   "id": "f26944fa-eba8-4c98-9a7d-fc2d86a8d84d",
   "metadata": {},
   "source": [
    "\n",
    "3. Concatenate the tables read \n",
    "<br>\n",
    "Camelot reads the file and returns a table for each page. It is not possible to return one table from all the pages. Therefore, all the tables have to be concatenated.\n",
    "<br>\n",
    "4. Save the data as csv file \n",
    "<br>\n",
    "The concatenated table is saved as csv file."
   ]
  },
  {
   "cell_type": "code",
   "execution_count": 13,
   "id": "ddd28c13-3918-48e6-8bb6-a648cb02f44a",
   "metadata": {},
   "outputs": [
    {
     "name": "stdout",
     "output_type": "stream",
     "text": [
      "Tables: 18\n"
     ]
    }
   ],
   "source": [
    "# Check the total number of tables read to decide the loop range.\n",
    "print (\"Tables:\", tables.n)"
   ]
  },
  {
   "cell_type": "code",
   "execution_count": 14,
   "id": "7deabf06-ab95-4599-a272-7cee2f483029",
   "metadata": {},
   "outputs": [],
   "source": [
    "# Create empty list.\n",
    "table_total = []\n",
    "# Loop through all 18 tables.\n",
    "for x in range (0,18):\n",
    "    df = tables[x].df\n",
    "    # Append all 18 tables to table_total.\n",
    "    table_total.append(df)\n",
    "\n",
    "# Concatenate all tables.  \n",
    "table = pd.concat(table_total)\n",
    "# Remove old column names.\n",
    "table = table.iloc[1: , :]\n",
    "# Name the columns.\n",
    "table.columns = [\"CODE\",\"TITLE\", \"EOS_2019\", \"MID_2019\"]\n",
    "# Sort table by \"CODE\" column\n",
    "    # to remove irrelevant data (college names).\n",
    "table.sort_values(\"CODE\", inplace = True)\n",
    "# Remove first 35 rows (college names).\n",
    "table = table.iloc[35: , :]\n",
    "# Save csv file.\n",
    "table.to_csv(\"data/cao2019_em_\" +  nowstr + \".csv\", index = False)"
   ]
  },
  {
   "cell_type": "markdown",
   "id": "3ce9f486-a84e-472f-b1cd-587a38507e24",
   "metadata": {},
   "source": [
    "### CLEANED DATA\n",
    "***"
   ]
  },
  {
   "cell_type": "code",
   "execution_count": 15,
   "id": "1099c723-0f51-426a-b95f-01525ca6d068",
   "metadata": {},
   "outputs": [
    {
     "data": {
      "text/html": [
       "<div>\n",
       "<style scoped>\n",
       "    .dataframe tbody tr th:only-of-type {\n",
       "        vertical-align: middle;\n",
       "    }\n",
       "\n",
       "    .dataframe tbody tr th {\n",
       "        vertical-align: top;\n",
       "    }\n",
       "\n",
       "    .dataframe thead th {\n",
       "        text-align: right;\n",
       "    }\n",
       "</style>\n",
       "<table border=\"1\" class=\"dataframe\">\n",
       "  <thead>\n",
       "    <tr style=\"text-align: right;\">\n",
       "      <th></th>\n",
       "      <th>CODE</th>\n",
       "      <th>TITLE</th>\n",
       "      <th>EOS_2019</th>\n",
       "      <th>MID_2019</th>\n",
       "    </tr>\n",
       "  </thead>\n",
       "  <tbody>\n",
       "    <tr>\n",
       "      <th>365</th>\n",
       "      <td>DN453</td>\n",
       "      <td>Mental Health Nursing</td>\n",
       "      <td>379</td>\n",
       "      <td>403.0</td>\n",
       "    </tr>\n",
       "    <tr>\n",
       "      <th>904</th>\n",
       "      <td>WD117</td>\n",
       "      <td>Psychiatric Nursing</td>\n",
       "      <td>361</td>\n",
       "      <td>382.0</td>\n",
       "    </tr>\n",
       "    <tr>\n",
       "      <th>335</th>\n",
       "      <td>DL837</td>\n",
       "      <td>New Media Studies</td>\n",
       "      <td>290</td>\n",
       "      <td>349.0</td>\n",
       "    </tr>\n",
       "    <tr>\n",
       "      <th>502</th>\n",
       "      <td>GC401</td>\n",
       "      <td>Accounting and Finance (Dublin)</td>\n",
       "      <td>181</td>\n",
       "      <td>309.0</td>\n",
       "    </tr>\n",
       "    <tr>\n",
       "      <th>704</th>\n",
       "      <td>MH207</td>\n",
       "      <td>Data Science</td>\n",
       "      <td>434</td>\n",
       "      <td>466.0</td>\n",
       "    </tr>\n",
       "    <tr>\n",
       "      <th>464</th>\n",
       "      <td>GA482</td>\n",
       "      <td>Quantity Surveying and Construction Economics</td>\n",
       "      <td>280</td>\n",
       "      <td>340.0</td>\n",
       "    </tr>\n",
       "    <tr>\n",
       "      <th>36</th>\n",
       "      <td>AL863</td>\n",
       "      <td>Graphic and Digital Design (portfolio)</td>\n",
       "      <td>#703</td>\n",
       "      <td>898.0</td>\n",
       "    </tr>\n",
       "    <tr>\n",
       "      <th>506</th>\n",
       "      <td>GC407</td>\n",
       "      <td>Business Studies (Marketing, Dublin)</td>\n",
       "      <td>246</td>\n",
       "      <td>330.0</td>\n",
       "    </tr>\n",
       "    <tr>\n",
       "      <th>633</th>\n",
       "      <td>LM020</td>\n",
       "      <td>Law and Accounting</td>\n",
       "      <td>436</td>\n",
       "      <td>476.0</td>\n",
       "    </tr>\n",
       "    <tr>\n",
       "      <th>416</th>\n",
       "      <td>DT398</td>\n",
       "      <td>Human Resource Management</td>\n",
       "      <td>375</td>\n",
       "      <td>388.0</td>\n",
       "    </tr>\n",
       "  </tbody>\n",
       "</table>\n",
       "</div>"
      ],
      "text/plain": [
       "      CODE                                          TITLE EOS_2019  MID_2019\n",
       "365  DN453                          Mental Health Nursing      379     403.0\n",
       "904  WD117                            Psychiatric Nursing      361     382.0\n",
       "335  DL837                              New Media Studies      290     349.0\n",
       "502  GC401                Accounting and Finance (Dublin)      181     309.0\n",
       "704  MH207                                   Data Science      434     466.0\n",
       "464  GA482  Quantity Surveying and Construction Economics      280     340.0\n",
       "36   AL863         Graphic and Digital Design (portfolio)     #703     898.0\n",
       "506  GC407           Business Studies (Marketing, Dublin)      246     330.0\n",
       "633  LM020                             Law and Accounting      436     476.0\n",
       "416  DT398                      Human Resource Management      375     388.0"
      ]
     },
     "execution_count": 15,
     "metadata": {},
     "output_type": "execute_result"
    }
   ],
   "source": [
    "# Read csv file.\n",
    "df_em_2019 = pd.read_csv (\"data/cao2019_em_\" +  nowstr + \".csv\", encoding = \"cp1252\")\n",
    "# Output random 10 rows\n",
    "df_em_2019.sample(n = 10)"
   ]
  },
  {
   "cell_type": "code",
   "execution_count": 16,
   "id": "b12ab6e6-bb15-4572-a31b-f954343fef7c",
   "metadata": {},
   "outputs": [
    {
     "name": "stdout",
     "output_type": "stream",
     "text": [
      "There are 930 courses listed in this table.\n"
     ]
    }
   ],
   "source": [
    "# Confirming number of courses against the rounds table 2019.\n",
    "em2019 = df_em_2019.shape[0]\n",
    "print (\"There are {} courses listed in this table.\".format(em2019))"
   ]
  },
  {
   "cell_type": "markdown",
   "id": "515486c6-ccc3-4e9b-819d-51c2582d103f",
   "metadata": {
    "tags": []
   },
   "source": [
    "### 2020 - THE XLSX FILE STRUCTURE\n",
    "***"
   ]
  },
  {
   "cell_type": "markdown",
   "id": "357b99e5-e3d2-40a4-8538-0f70db7a3615",
   "metadata": {},
   "source": [
    "Original data: <br>\n",
    "2020: http://www2.cao.ie/points/CAOPointsCharts2020.xlsx\n",
    "\n",
    "Data containing EOS and MID points for 2020 is in xlsx format. It contains the data for LEVEL 6, 7 and 8. The file has the following structure:\n",
    "The file has the following structure:\n",
    "- Title and the Subtitles of the file\n",
    "- Information on the data in the file\n",
    "- Information on how to read the data\n",
    "- Points table\n",
    "\n",
    "\n",
    "The data of interest is contained under the columns *COURSE TITLE, COURSE CODE2, EOS* and *EOS Mid-point*. It is explained below how the data was scrapped, cleaned and saved for the later analysis."
   ]
  },
  {
   "cell_type": "markdown",
   "id": "9cb02b1b-5c0f-4c50-b618-d810be9116bd",
   "metadata": {},
   "source": [
    "### SCRAPPING AND CLEANING THE DATA\n",
    "***"
   ]
  },
  {
   "cell_type": "markdown",
   "id": "5eb89808-4af5-4f0c-be18-becc11751ad9",
   "metadata": {},
   "source": [
    "STEPS:\n",
    "<br>\n",
    "1. Save the original file <br>\n",
    "To fetch the data from the pdf file I've used the *urllib.request* library. It is fetched from the given url and saved locally."
   ]
  },
  {
   "cell_type": "code",
   "execution_count": 17,
   "id": "388d68dc-2cde-40c1-a4e3-633fd0db1f7b",
   "metadata": {},
   "outputs": [
    {
     "data": {
      "text/plain": [
       "('data/cao2020_em_20220102_190552.xlsx',\n",
       " <http.client.HTTPMessage at 0x24d8efe4610>)"
      ]
     },
     "execution_count": 17,
     "metadata": {},
     "output_type": "execute_result"
    }
   ],
   "source": [
    "# Create a file path for the original data.\n",
    "path_xlsx = (\"data/cao2020_em_\" +  nowstr + \".xlsx\")\n",
    "\n",
    "# Copying network xlsx file.\n",
    "urlrq.urlretrieve('http://www2.cao.ie/points/CAOPointsCharts2020.xlsx', path_xlsx)"
   ]
  },
  {
   "cell_type": "markdown",
   "id": "79aa839c-c600-4815-89e5-d8ab43d1e63f",
   "metadata": {},
   "source": [
    "2. Read the xlsx file and clear the data <br>\n",
    "File contains irrelevant data in the first 10 rows, which I've ignored when reading the file. I've then filtered out the relevant data from the table."
   ]
  },
  {
   "cell_type": "code",
   "execution_count": 18,
   "id": "a7677dc5-70af-4a65-ab19-4004fd606b8d",
   "metadata": {},
   "outputs": [],
   "source": [
    "# Download and parse the excel spreadsheet.\n",
    "df2020_eos = pd.read_excel(\"http://www2.cao.ie/points/CAOPointsCharts2020.xlsx\", skiprows = 10)\n",
    "\n",
    "# Filter out only level 8 courses.\n",
    "df2020_eos = df2020_eos.loc[df2020_eos[\"LEVEL\"] == 8]\n",
    "# Filter out only relevant columns.\n",
    "df2020_eos = df2020_eos [[\"COURSE CODE2\", \"COURSE TITLE\", \"EOS\", \"EOS Mid-point\"]]\n",
    "# Change column names.\n",
    "df2020_eos.columns = [\"CODE\",\"TITLE\", \"EOS_2020\", \"MID_2020\"]"
   ]
  },
  {
   "cell_type": "markdown",
   "id": "72b0b8a5-9492-4f2d-93b9-171afb7b8467",
   "metadata": {},
   "source": [
    "\n",
    "3. Save the data as csv file"
   ]
  },
  {
   "cell_type": "code",
   "execution_count": 19,
   "id": "9b9e8c11-8a2b-4323-8ca3-fddb4eb05ce4",
   "metadata": {},
   "outputs": [],
   "source": [
    "# Save pandas data frame.\n",
    "df2020_eos.to_csv(\"data/cao2020_em_\" +  nowstr + \".csv\", index = False)"
   ]
  },
  {
   "cell_type": "markdown",
   "id": "391937bc-065f-48b9-8659-a50ee509208f",
   "metadata": {},
   "source": [
    "### CLEANED DATA\n",
    "***"
   ]
  },
  {
   "cell_type": "code",
   "execution_count": 20,
   "id": "1c6bf061-bad8-407c-aec1-0545f4f31311",
   "metadata": {},
   "outputs": [
    {
     "data": {
      "text/html": [
       "<div>\n",
       "<style scoped>\n",
       "    .dataframe tbody tr th:only-of-type {\n",
       "        vertical-align: middle;\n",
       "    }\n",
       "\n",
       "    .dataframe tbody tr th {\n",
       "        vertical-align: top;\n",
       "    }\n",
       "\n",
       "    .dataframe thead th {\n",
       "        text-align: right;\n",
       "    }\n",
       "</style>\n",
       "<table border=\"1\" class=\"dataframe\">\n",
       "  <thead>\n",
       "    <tr style=\"text-align: right;\">\n",
       "      <th></th>\n",
       "      <th>CODE</th>\n",
       "      <th>TITLE</th>\n",
       "      <th>EOS_2020</th>\n",
       "      <th>MID_2020</th>\n",
       "    </tr>\n",
       "  </thead>\n",
       "  <tbody>\n",
       "    <tr>\n",
       "      <th>401</th>\n",
       "      <td>GA683</td>\n",
       "      <td>Agricultural Engineering</td>\n",
       "      <td>309</td>\n",
       "      <td>385</td>\n",
       "    </tr>\n",
       "    <tr>\n",
       "      <th>882</th>\n",
       "      <td>TU805</td>\n",
       "      <td>Engineering (General Entry)</td>\n",
       "      <td>402</td>\n",
       "      <td>466</td>\n",
       "    </tr>\n",
       "    <tr>\n",
       "      <th>727</th>\n",
       "      <td>SG449</td>\n",
       "      <td>Medical Biotechnology</td>\n",
       "      <td>341</td>\n",
       "      <td>395</td>\n",
       "    </tr>\n",
       "    <tr>\n",
       "      <th>205</th>\n",
       "      <td>DB504</td>\n",
       "      <td>Computing (Web and Mobile Technology)</td>\n",
       "      <td>281</td>\n",
       "      <td>281</td>\n",
       "    </tr>\n",
       "    <tr>\n",
       "      <th>383</th>\n",
       "      <td>GA187</td>\n",
       "      <td>Rural Enterprise and Agri-Business</td>\n",
       "      <td>281</td>\n",
       "      <td>352</td>\n",
       "    </tr>\n",
       "    <tr>\n",
       "      <th>532</th>\n",
       "      <td>LC263</td>\n",
       "      <td>Clinical Technology</td>\n",
       "      <td>294</td>\n",
       "      <td>359</td>\n",
       "    </tr>\n",
       "    <tr>\n",
       "      <th>746</th>\n",
       "      <td>TL880</td>\n",
       "      <td>Early Childhood Care and Education</td>\n",
       "      <td>307</td>\n",
       "      <td>349</td>\n",
       "    </tr>\n",
       "    <tr>\n",
       "      <th>643</th>\n",
       "      <td>MH207</td>\n",
       "      <td>Data Science</td>\n",
       "      <td>445</td>\n",
       "      <td>520</td>\n",
       "    </tr>\n",
       "    <tr>\n",
       "      <th>265</th>\n",
       "      <td>DC204</td>\n",
       "      <td>Athletic Therapy and Training</td>\n",
       "      <td>519</td>\n",
       "      <td>533</td>\n",
       "    </tr>\n",
       "    <tr>\n",
       "      <th>112</th>\n",
       "      <td>CK740</td>\n",
       "      <td>Midwifery</td>\n",
       "      <td>473</td>\n",
       "      <td>507</td>\n",
       "    </tr>\n",
       "  </tbody>\n",
       "</table>\n",
       "</div>"
      ],
      "text/plain": [
       "      CODE                                  TITLE EOS_2020 MID_2020\n",
       "401  GA683               Agricultural Engineering      309      385\n",
       "882  TU805            Engineering (General Entry)      402      466\n",
       "727  SG449                  Medical Biotechnology      341      395\n",
       "205  DB504  Computing (Web and Mobile Technology)      281      281\n",
       "383  GA187     Rural Enterprise and Agri-Business      281      352\n",
       "532  LC263                    Clinical Technology      294      359\n",
       "746  TL880     Early Childhood Care and Education      307      349\n",
       "643  MH207                           Data Science      445      520\n",
       "265  DC204          Athletic Therapy and Training      519      533\n",
       "112  CK740                              Midwifery      473      507"
      ]
     },
     "execution_count": 20,
     "metadata": {},
     "output_type": "execute_result"
    }
   ],
   "source": [
    "# Read csv file.\n",
    "df_em_2020 = pd.read_csv (\"data/cao2020_em_\" +  nowstr + \".csv\")\n",
    "# Output random 10 rows.\n",
    "df_em_2020.sample(n = 10)"
   ]
  },
  {
   "cell_type": "code",
   "execution_count": 21,
   "id": "b2b61201-9682-430d-97a7-fdf99ff1cb3a",
   "metadata": {},
   "outputs": [
    {
     "name": "stdout",
     "output_type": "stream",
     "text": [
      "There are 1027 courses listed in this table.\n"
     ]
    }
   ],
   "source": [
    "# Confirming number of courses against the rounds table 2020.\n",
    "em2020 = df_em_2020.shape[0]\n",
    "print (\"There are {} courses listed in this table.\".format(em2020))"
   ]
  },
  {
   "cell_type": "markdown",
   "id": "d9841823-1a22-400f-8788-0f0f15567cfa",
   "metadata": {},
   "source": [
    "## CONCATENATING THE DATA <a id='CONCATENATE'></a>\n",
    "<hr style=\"border:2px solid gray\"> </hr>"
   ]
  },
  {
   "cell_type": "markdown",
   "id": "c707388a-5c76-4bf8-8f37-25d688202db9",
   "metadata": {},
   "source": [
    "After cleaning and saving all the data, I've merged them all into one table.\n",
    "\n",
    "STEPS:\n",
    "1. Concatenating all the dataframes into one table <br>\n",
    "This results with a table containing ALL the data from the listed dataframes, meaning the same courses from each table get repeated. "
   ]
  },
  {
   "cell_type": "code",
   "execution_count": 22,
   "id": "6303ae10-4fb7-487b-a4ad-c3c79230ce33",
   "metadata": {},
   "outputs": [],
   "source": [
    "# Defining a list containing all the saved csv files.\n",
    "df_list = [df_2019, df_em_2019, df_2020, df_em_2020, df_2021]\n",
    "# Concatenating the data contained within a list.\n",
    "allcourses = pd.concat(df_list)"
   ]
  },
  {
   "cell_type": "markdown",
   "id": "53d28b99-e06a-4010-963b-731a7488b5cc",
   "metadata": {},
   "source": [
    "2. Cleaning the concatenated table <br>\n",
    "I've filtered out only the common columns, *CODE* and *TITLE*, to create a table containing all the possible courses from each year. This table will be a base on which I will later add the relevant data. I've also removed all the duplicates, sort the values by the *CODE* column and set the same column as the index.\n"
   ]
  },
  {
   "cell_type": "code",
   "execution_count": 23,
   "id": "8bfc073b-8349-4777-b1ba-90d2610dd5ec",
   "metadata": {},
   "outputs": [
    {
     "data": {
      "text/html": [
       "<div>\n",
       "<style scoped>\n",
       "    .dataframe tbody tr th:only-of-type {\n",
       "        vertical-align: middle;\n",
       "    }\n",
       "\n",
       "    .dataframe tbody tr th {\n",
       "        vertical-align: top;\n",
       "    }\n",
       "\n",
       "    .dataframe thead th {\n",
       "        text-align: right;\n",
       "    }\n",
       "</style>\n",
       "<table border=\"1\" class=\"dataframe\">\n",
       "  <thead>\n",
       "    <tr style=\"text-align: right;\">\n",
       "      <th></th>\n",
       "      <th>TITLE</th>\n",
       "    </tr>\n",
       "    <tr>\n",
       "      <th>CODE</th>\n",
       "      <th></th>\n",
       "    </tr>\n",
       "  </thead>\n",
       "  <tbody>\n",
       "    <tr>\n",
       "      <th>AC120</th>\n",
       "      <td>International Business                        ...</td>\n",
       "    </tr>\n",
       "    <tr>\n",
       "      <th>AC137</th>\n",
       "      <td>Liberal Arts                                  ...</td>\n",
       "    </tr>\n",
       "    <tr>\n",
       "      <th>AD101</th>\n",
       "      <td>First Year Art &amp; Design (Common Entry)        ...</td>\n",
       "    </tr>\n",
       "    <tr>\n",
       "      <th>AD102</th>\n",
       "      <td>Graphic Design and Moving Image Design        ...</td>\n",
       "    </tr>\n",
       "    <tr>\n",
       "      <th>AD103</th>\n",
       "      <td>Textile &amp; Surface Design and Jewellery &amp; Objec...</td>\n",
       "    </tr>\n",
       "    <tr>\n",
       "      <th>AD202</th>\n",
       "      <td>Education &amp; Design or Fine Art (Second Level T...</td>\n",
       "    </tr>\n",
       "    <tr>\n",
       "      <th>AD204</th>\n",
       "      <td>Fine Art                                      ...</td>\n",
       "    </tr>\n",
       "    <tr>\n",
       "      <th>AD211</th>\n",
       "      <td>Fashion Design                                ...</td>\n",
       "    </tr>\n",
       "    <tr>\n",
       "      <th>AD212</th>\n",
       "      <td>Product Design                                ...</td>\n",
       "    </tr>\n",
       "    <tr>\n",
       "      <th>AD215</th>\n",
       "      <td>Visual Culture                                ...</td>\n",
       "    </tr>\n",
       "  </tbody>\n",
       "</table>\n",
       "</div>"
      ],
      "text/plain": [
       "                                                   TITLE\n",
       "CODE                                                    \n",
       "AC120  International Business                        ...\n",
       "AC137  Liberal Arts                                  ...\n",
       "AD101  First Year Art & Design (Common Entry)        ...\n",
       "AD102  Graphic Design and Moving Image Design        ...\n",
       "AD103  Textile & Surface Design and Jewellery & Objec...\n",
       "AD202  Education & Design or Fine Art (Second Level T...\n",
       "AD204  Fine Art                                      ...\n",
       "AD211  Fashion Design                                ...\n",
       "AD212  Product Design                                ...\n",
       "AD215  Visual Culture                                ..."
      ]
     },
     "execution_count": 23,
     "metadata": {},
     "output_type": "execute_result"
    }
   ],
   "source": [
    "# Filering out columns.\n",
    "allcourses = allcourses [[\"CODE\", \"TITLE\"]]\n",
    "# Remove duplicates created concatenating.\n",
    "allcourses.drop_duplicates(subset=[\"CODE\"], inplace=True, ignore_index=False)\n",
    "# Sort the table by \"CODE\" column.\n",
    "allcourses.sort_values(\"CODE\", inplace = True)\n",
    "# set \"CODE\" column as index. \n",
    "allcourses.set_index(\"CODE\", inplace=True)\n",
    "# Print only first 10 rows for an overview.\n",
    "allcourses.head(10)"
   ]
  },
  {
   "cell_type": "markdown",
   "id": "e53c7a50-a6e8-4cdf-96e7-b831584d11e8",
   "metadata": {},
   "source": [
    "3. Joining the relevant columns to the \"base\" table"
   ]
  },
  {
   "cell_type": "code",
   "execution_count": 24,
   "id": "5f405df7-1ff2-46da-b69a-02994a9e710d",
   "metadata": {},
   "outputs": [
    {
     "data": {
      "text/html": [
       "<div>\n",
       "<style scoped>\n",
       "    .dataframe tbody tr th:only-of-type {\n",
       "        vertical-align: middle;\n",
       "    }\n",
       "\n",
       "    .dataframe tbody tr th {\n",
       "        vertical-align: top;\n",
       "    }\n",
       "\n",
       "    .dataframe thead th {\n",
       "        text-align: right;\n",
       "    }\n",
       "</style>\n",
       "<table border=\"1\" class=\"dataframe\">\n",
       "  <thead>\n",
       "    <tr style=\"text-align: right;\">\n",
       "      <th></th>\n",
       "      <th>TITLE</th>\n",
       "      <th>R1_2019</th>\n",
       "      <th>R2_2019</th>\n",
       "      <th>EOS_2019</th>\n",
       "      <th>MID_2019</th>\n",
       "      <th>R1_2020</th>\n",
       "      <th>R2_2020</th>\n",
       "      <th>EOS_2020</th>\n",
       "      <th>MID_2020</th>\n",
       "      <th>R1_2021</th>\n",
       "      <th>R2_2021</th>\n",
       "    </tr>\n",
       "    <tr>\n",
       "      <th>CODE</th>\n",
       "      <th></th>\n",
       "      <th></th>\n",
       "      <th></th>\n",
       "      <th></th>\n",
       "      <th></th>\n",
       "      <th></th>\n",
       "      <th></th>\n",
       "      <th></th>\n",
       "      <th></th>\n",
       "      <th></th>\n",
       "      <th></th>\n",
       "    </tr>\n",
       "  </thead>\n",
       "  <tbody>\n",
       "    <tr>\n",
       "      <th>AC120</th>\n",
       "      <td>International Business                        ...</td>\n",
       "      <td>234</td>\n",
       "      <td>234</td>\n",
       "      <td>234</td>\n",
       "      <td>269.0</td>\n",
       "      <td>209</td>\n",
       "      <td>NaN</td>\n",
       "      <td>209</td>\n",
       "      <td>280</td>\n",
       "      <td>294</td>\n",
       "      <td>294</td>\n",
       "    </tr>\n",
       "    <tr>\n",
       "      <th>AC137</th>\n",
       "      <td>Liberal Arts                                  ...</td>\n",
       "      <td>275</td>\n",
       "      <td>252</td>\n",
       "      <td>252</td>\n",
       "      <td>275.0</td>\n",
       "      <td>252</td>\n",
       "      <td>NaN</td>\n",
       "      <td>252</td>\n",
       "      <td>270</td>\n",
       "      <td>271</td>\n",
       "      <td>270</td>\n",
       "    </tr>\n",
       "    <tr>\n",
       "      <th>AD101</th>\n",
       "      <td>First Year Art &amp; Design (Common Entry)        ...</td>\n",
       "      <td>#+Matric</td>\n",
       "      <td>NaN</td>\n",
       "      <td># +matric 550</td>\n",
       "      <td>NaN</td>\n",
       "      <td>#+matric</td>\n",
       "      <td>NaN</td>\n",
       "      <td>#+matric</td>\n",
       "      <td>#+matric</td>\n",
       "      <td>#554</td>\n",
       "      <td>NaN</td>\n",
       "    </tr>\n",
       "    <tr>\n",
       "      <th>AD102</th>\n",
       "      <td>Graphic Design and Moving Image Design        ...</td>\n",
       "      <td>#+Matric</td>\n",
       "      <td>NaN</td>\n",
       "      <td># +matric 635</td>\n",
       "      <td>NaN</td>\n",
       "      <td>#+matric</td>\n",
       "      <td>NaN</td>\n",
       "      <td>#+matric</td>\n",
       "      <td>#+matric</td>\n",
       "      <td>#538</td>\n",
       "      <td>NaN</td>\n",
       "    </tr>\n",
       "    <tr>\n",
       "      <th>AD103</th>\n",
       "      <td>Textile &amp; Surface Design and Jewellery &amp; Objec...</td>\n",
       "      <td>#+Matric</td>\n",
       "      <td>NaN</td>\n",
       "      <td># +matric 545</td>\n",
       "      <td>NaN</td>\n",
       "      <td>#+matric</td>\n",
       "      <td>NaN</td>\n",
       "      <td>#+matric</td>\n",
       "      <td>#+matric</td>\n",
       "      <td>#505</td>\n",
       "      <td>NaN</td>\n",
       "    </tr>\n",
       "    <tr>\n",
       "      <th>AD202</th>\n",
       "      <td>Education &amp; Design or Fine Art (Second Level T...</td>\n",
       "      <td>#+Matric</td>\n",
       "      <td>NaN</td>\n",
       "      <td># +matric 580</td>\n",
       "      <td>NaN</td>\n",
       "      <td>#+matric</td>\n",
       "      <td>NaN</td>\n",
       "      <td>#+matric</td>\n",
       "      <td>#+matric</td>\n",
       "      <td>#591</td>\n",
       "      <td>NaN</td>\n",
       "    </tr>\n",
       "    <tr>\n",
       "      <th>AD204</th>\n",
       "      <td>Fine Art                                      ...</td>\n",
       "      <td>#+Matric</td>\n",
       "      <td>NaN</td>\n",
       "      <td># +matric 600</td>\n",
       "      <td>NaN</td>\n",
       "      <td>#+matric</td>\n",
       "      <td>NaN</td>\n",
       "      <td>#+matric</td>\n",
       "      <td>#+matric</td>\n",
       "      <td>#514</td>\n",
       "      <td>NaN</td>\n",
       "    </tr>\n",
       "    <tr>\n",
       "      <th>AD211</th>\n",
       "      <td>Fashion Design                                ...</td>\n",
       "      <td>#+Matric</td>\n",
       "      <td>NaN</td>\n",
       "      <td># +matric 600</td>\n",
       "      <td>NaN</td>\n",
       "      <td>#+matric</td>\n",
       "      <td>NaN</td>\n",
       "      <td>#+matric</td>\n",
       "      <td>#+matric</td>\n",
       "      <td>#760</td>\n",
       "      <td>#679</td>\n",
       "    </tr>\n",
       "    <tr>\n",
       "      <th>AD212</th>\n",
       "      <td>Product Design                                ...</td>\n",
       "      <td>#+Matric</td>\n",
       "      <td>NaN</td>\n",
       "      <td># +matric 600</td>\n",
       "      <td>NaN</td>\n",
       "      <td>#+matric</td>\n",
       "      <td>NaN</td>\n",
       "      <td>#+matric</td>\n",
       "      <td>#+matric</td>\n",
       "      <td>#413</td>\n",
       "      <td>NaN</td>\n",
       "    </tr>\n",
       "    <tr>\n",
       "      <th>AD215</th>\n",
       "      <td>Visual Culture                                ...</td>\n",
       "      <td>300</td>\n",
       "      <td>NaN</td>\n",
       "      <td>300</td>\n",
       "      <td>338.0</td>\n",
       "      <td>377</td>\n",
       "      <td>320</td>\n",
       "      <td>320</td>\n",
       "      <td>389</td>\n",
       "      <td>337</td>\n",
       "      <td>300</td>\n",
       "    </tr>\n",
       "  </tbody>\n",
       "</table>\n",
       "</div>"
      ],
      "text/plain": [
       "                                                   TITLE   R1_2019 R2_2019  \\\n",
       "CODE                                                                         \n",
       "AC120  International Business                        ...       234     234   \n",
       "AC137  Liberal Arts                                  ...       275     252   \n",
       "AD101  First Year Art & Design (Common Entry)        ...  #+Matric     NaN   \n",
       "AD102  Graphic Design and Moving Image Design        ...  #+Matric     NaN   \n",
       "AD103  Textile & Surface Design and Jewellery & Objec...  #+Matric     NaN   \n",
       "AD202  Education & Design or Fine Art (Second Level T...  #+Matric     NaN   \n",
       "AD204  Fine Art                                      ...  #+Matric     NaN   \n",
       "AD211  Fashion Design                                ...  #+Matric     NaN   \n",
       "AD212  Product Design                                ...  #+Matric     NaN   \n",
       "AD215  Visual Culture                                ...       300     NaN   \n",
       "\n",
       "            EOS_2019  MID_2019   R1_2020 R2_2020  EOS_2020  MID_2020 R1_2021  \\\n",
       "CODE                                                                           \n",
       "AC120            234     269.0       209     NaN       209       280     294   \n",
       "AC137            252     275.0       252     NaN       252       270     271   \n",
       "AD101  # +matric 550       NaN  #+matric     NaN  #+matric  #+matric    #554   \n",
       "AD102  # +matric 635       NaN  #+matric     NaN  #+matric  #+matric    #538   \n",
       "AD103  # +matric 545       NaN  #+matric     NaN  #+matric  #+matric    #505   \n",
       "AD202  # +matric 580       NaN  #+matric     NaN  #+matric  #+matric    #591   \n",
       "AD204  # +matric 600       NaN  #+matric     NaN  #+matric  #+matric    #514   \n",
       "AD211  # +matric 600       NaN  #+matric     NaN  #+matric  #+matric    #760   \n",
       "AD212  # +matric 600       NaN  #+matric     NaN  #+matric  #+matric    #413   \n",
       "AD215            300     338.0       377     320       320       389     337   \n",
       "\n",
       "      R2_2021  \n",
       "CODE           \n",
       "AC120     294  \n",
       "AC137     270  \n",
       "AD101     NaN  \n",
       "AD102     NaN  \n",
       "AD103     NaN  \n",
       "AD202     NaN  \n",
       "AD204     NaN  \n",
       "AD211    #679  \n",
       "AD212     NaN  \n",
       "AD215     300  "
      ]
     },
     "execution_count": 24,
     "metadata": {},
     "output_type": "execute_result"
    }
   ],
   "source": [
    "# Loop - set \"CODE\" column as index for all df.\n",
    "for i in df_list:\n",
    "    i.set_index(\"CODE\", inplace=True)\n",
    "# Adding relevant columns to the final table.\n",
    "allcourses = allcourses.join(df_2019[[\"R1_2019\", \"R2_2019\"]])\n",
    "allcourses = allcourses.join(df_em_2019[[\"EOS_2019\", \"MID_2019\"]])\n",
    "allcourses = allcourses.join(df_2020[[\"R1_2020\", \"R2_2020\"]])\n",
    "allcourses = allcourses.join(df_em_2020[[\"EOS_2020\", \"MID_2020\"]])\n",
    "allcourses = allcourses.join(df_2021[[\"R1_2021\", \"R2_2021\"]])\n",
    "# Print only first 10.\n",
    "allcourses.head(10)"
   ]
  },
  {
   "cell_type": "markdown",
   "id": "946a185c-b365-415a-9869-e9c7da9af674",
   "metadata": {},
   "source": [
    "4. Saving the final table as a csv file"
   ]
  },
  {
   "cell_type": "code",
   "execution_count": 25,
   "id": "f6a928d7-ea3a-4c01-a809-0c797b038340",
   "metadata": {},
   "outputs": [],
   "source": [
    "# Saving csv file.\n",
    "allcourses.to_csv (\"data/final_table.csv\")"
   ]
  },
  {
   "cell_type": "markdown",
   "id": "4774b801-4ce7-47e8-a2a7-7f92f0c2f126",
   "metadata": {},
   "source": [
    "## DATA ANALYSIS <a id='ANALYSIS'></a>\n",
    "<hr style=\"border:2px solid gray\"> </hr>"
   ]
  },
  {
   "cell_type": "markdown",
   "id": "114c4e07-e9d0-4743-a704-4bb2a59cccc1",
   "metadata": {},
   "source": [
    "I've decided to do the analysis and comparison between the mentioned years on the following variables:\n",
    "\n",
    "1. ROUND 1 POINTS - the required points to enter the given course in the first round\n",
    "2. ROUND 2 POINTS - the required points to enter the given course in the second round\n",
    "3. EOS POINTS - the final cut-off points, in other word, the points score achieved by the last applicant being offered a place on that course [3]\n",
    "4. MID POINTS - the points score of the applicant midway between the highest and the lowest applicant being offered a place [3]\n",
    "\n",
    "Majority of the courses have only the numeric value, representing the points. Certain courses could also have descriptive symbols, along the numeric value or without it. The mentioned symbols are:\n",
    "\n",
    "|||\n",
    "| :-: | :- |\n",
    "| * | Not all on this points score were offered places |\n",
    "| # | Test / Interview / Portfolio / Audition |\n",
    "| AQA | All qualified applicants |\n",
    "| v | New competition for available places |"
   ]
  },
  {
   "cell_type": "code",
   "execution_count": 26,
   "id": "17de076f-a24b-48a0-83be-7441a04758cb",
   "metadata": {
    "tags": []
   },
   "outputs": [
    {
     "data": {
      "text/html": [
       "<div>\n",
       "<style scoped>\n",
       "    .dataframe tbody tr th:only-of-type {\n",
       "        vertical-align: middle;\n",
       "    }\n",
       "\n",
       "    .dataframe tbody tr th {\n",
       "        vertical-align: top;\n",
       "    }\n",
       "\n",
       "    .dataframe thead th {\n",
       "        text-align: right;\n",
       "    }\n",
       "</style>\n",
       "<table border=\"1\" class=\"dataframe\">\n",
       "  <thead>\n",
       "    <tr style=\"text-align: right;\">\n",
       "      <th></th>\n",
       "      <th></th>\n",
       "      <th>R1_2019</th>\n",
       "      <th>R2_2019</th>\n",
       "      <th>EOS_2019</th>\n",
       "      <th>MID_2019</th>\n",
       "      <th>R1_2020</th>\n",
       "      <th>R2_2020</th>\n",
       "      <th>EOS_2020</th>\n",
       "      <th>MID_2020</th>\n",
       "      <th>R1_2021</th>\n",
       "      <th>R2_2021</th>\n",
       "    </tr>\n",
       "    <tr>\n",
       "      <th>CODE</th>\n",
       "      <th>TITLE</th>\n",
       "      <th></th>\n",
       "      <th></th>\n",
       "      <th></th>\n",
       "      <th></th>\n",
       "      <th></th>\n",
       "      <th></th>\n",
       "      <th></th>\n",
       "      <th></th>\n",
       "      <th></th>\n",
       "      <th></th>\n",
       "    </tr>\n",
       "  </thead>\n",
       "  <tbody>\n",
       "    <tr>\n",
       "      <th>AC120</th>\n",
       "      <th>International Business</th>\n",
       "      <td>234</td>\n",
       "      <td>234</td>\n",
       "      <td>234</td>\n",
       "      <td>269.0</td>\n",
       "      <td>209</td>\n",
       "      <td>NaN</td>\n",
       "      <td>209</td>\n",
       "      <td>280</td>\n",
       "      <td>294</td>\n",
       "      <td>294</td>\n",
       "    </tr>\n",
       "    <tr>\n",
       "      <th>AC137</th>\n",
       "      <th>Liberal Arts</th>\n",
       "      <td>275</td>\n",
       "      <td>252</td>\n",
       "      <td>252</td>\n",
       "      <td>275.0</td>\n",
       "      <td>252</td>\n",
       "      <td>NaN</td>\n",
       "      <td>252</td>\n",
       "      <td>270</td>\n",
       "      <td>271</td>\n",
       "      <td>270</td>\n",
       "    </tr>\n",
       "    <tr>\n",
       "      <th>AD101</th>\n",
       "      <th>First Year Art &amp; Design (Common Entry)</th>\n",
       "      <td>#+Matric</td>\n",
       "      <td>NaN</td>\n",
       "      <td># +matric 550</td>\n",
       "      <td>NaN</td>\n",
       "      <td>#+matric</td>\n",
       "      <td>NaN</td>\n",
       "      <td>#+matric</td>\n",
       "      <td>#+matric</td>\n",
       "      <td>#554</td>\n",
       "      <td>NaN</td>\n",
       "    </tr>\n",
       "    <tr>\n",
       "      <th>AD102</th>\n",
       "      <th>Graphic Design and Moving Image Design</th>\n",
       "      <td>#+Matric</td>\n",
       "      <td>NaN</td>\n",
       "      <td># +matric 635</td>\n",
       "      <td>NaN</td>\n",
       "      <td>#+matric</td>\n",
       "      <td>NaN</td>\n",
       "      <td>#+matric</td>\n",
       "      <td>#+matric</td>\n",
       "      <td>#538</td>\n",
       "      <td>NaN</td>\n",
       "    </tr>\n",
       "    <tr>\n",
       "      <th>AD103</th>\n",
       "      <th>Textile &amp; Surface Design and Jewellery &amp; Objects</th>\n",
       "      <td>#+Matric</td>\n",
       "      <td>NaN</td>\n",
       "      <td># +matric 545</td>\n",
       "      <td>NaN</td>\n",
       "      <td>#+matric</td>\n",
       "      <td>NaN</td>\n",
       "      <td>#+matric</td>\n",
       "      <td>#+matric</td>\n",
       "      <td>#505</td>\n",
       "      <td>NaN</td>\n",
       "    </tr>\n",
       "    <tr>\n",
       "      <th>AD202</th>\n",
       "      <th>Education &amp; Design or Fine Art (Second Level Teach</th>\n",
       "      <td>#+Matric</td>\n",
       "      <td>NaN</td>\n",
       "      <td># +matric 580</td>\n",
       "      <td>NaN</td>\n",
       "      <td>#+matric</td>\n",
       "      <td>NaN</td>\n",
       "      <td>#+matric</td>\n",
       "      <td>#+matric</td>\n",
       "      <td>#591</td>\n",
       "      <td>NaN</td>\n",
       "    </tr>\n",
       "    <tr>\n",
       "      <th>AD204</th>\n",
       "      <th>Fine Art</th>\n",
       "      <td>#+Matric</td>\n",
       "      <td>NaN</td>\n",
       "      <td># +matric 600</td>\n",
       "      <td>NaN</td>\n",
       "      <td>#+matric</td>\n",
       "      <td>NaN</td>\n",
       "      <td>#+matric</td>\n",
       "      <td>#+matric</td>\n",
       "      <td>#514</td>\n",
       "      <td>NaN</td>\n",
       "    </tr>\n",
       "    <tr>\n",
       "      <th>AD211</th>\n",
       "      <th>Fashion Design</th>\n",
       "      <td>#+Matric</td>\n",
       "      <td>NaN</td>\n",
       "      <td># +matric 600</td>\n",
       "      <td>NaN</td>\n",
       "      <td>#+matric</td>\n",
       "      <td>NaN</td>\n",
       "      <td>#+matric</td>\n",
       "      <td>#+matric</td>\n",
       "      <td>#760</td>\n",
       "      <td>#679</td>\n",
       "    </tr>\n",
       "    <tr>\n",
       "      <th>AD212</th>\n",
       "      <th>Product Design</th>\n",
       "      <td>#+Matric</td>\n",
       "      <td>NaN</td>\n",
       "      <td># +matric 600</td>\n",
       "      <td>NaN</td>\n",
       "      <td>#+matric</td>\n",
       "      <td>NaN</td>\n",
       "      <td>#+matric</td>\n",
       "      <td>#+matric</td>\n",
       "      <td>#413</td>\n",
       "      <td>NaN</td>\n",
       "    </tr>\n",
       "    <tr>\n",
       "      <th>AD215</th>\n",
       "      <th>Visual Culture</th>\n",
       "      <td>300</td>\n",
       "      <td>NaN</td>\n",
       "      <td>300</td>\n",
       "      <td>338.0</td>\n",
       "      <td>377</td>\n",
       "      <td>320</td>\n",
       "      <td>320</td>\n",
       "      <td>389</td>\n",
       "      <td>337</td>\n",
       "      <td>300</td>\n",
       "    </tr>\n",
       "  </tbody>\n",
       "</table>\n",
       "</div>"
      ],
      "text/plain": [
       "                                                           R1_2019 R2_2019  \\\n",
       "CODE  TITLE                                                                  \n",
       "AC120 International Business                                   234     234   \n",
       "AC137 Liberal Arts                                             275     252   \n",
       "AD101 First Year Art & Design (Common Entry)              #+Matric     NaN   \n",
       "AD102 Graphic Design and Moving Image Design              #+Matric     NaN   \n",
       "AD103 Textile & Surface Design and Jewellery & Objects    #+Matric     NaN   \n",
       "AD202 Education & Design or Fine Art (Second Level Teach  #+Matric     NaN   \n",
       "AD204 Fine Art                                            #+Matric     NaN   \n",
       "AD211 Fashion Design                                      #+Matric     NaN   \n",
       "AD212 Product Design                                      #+Matric     NaN   \n",
       "AD215 Visual Culture                                           300     NaN   \n",
       "\n",
       "                                                               EOS_2019  \\\n",
       "CODE  TITLE                                                               \n",
       "AC120 International Business                                        234   \n",
       "AC137 Liberal Arts                                                  252   \n",
       "AD101 First Year Art & Design (Common Entry)              # +matric 550   \n",
       "AD102 Graphic Design and Moving Image Design              # +matric 635   \n",
       "AD103 Textile & Surface Design and Jewellery & Objects    # +matric 545   \n",
       "AD202 Education & Design or Fine Art (Second Level Teach  # +matric 580   \n",
       "AD204 Fine Art                                            # +matric 600   \n",
       "AD211 Fashion Design                                      # +matric 600   \n",
       "AD212 Product Design                                      # +matric 600   \n",
       "AD215 Visual Culture                                                300   \n",
       "\n",
       "                                                          MID_2019   R1_2020  \\\n",
       "CODE  TITLE                                                                    \n",
       "AC120 International Business                                 269.0       209   \n",
       "AC137 Liberal Arts                                           275.0       252   \n",
       "AD101 First Year Art & Design (Common Entry)                   NaN  #+matric   \n",
       "AD102 Graphic Design and Moving Image Design                   NaN  #+matric   \n",
       "AD103 Textile & Surface Design and Jewellery & Objects         NaN  #+matric   \n",
       "AD202 Education & Design or Fine Art (Second Level Teach       NaN  #+matric   \n",
       "AD204 Fine Art                                                 NaN  #+matric   \n",
       "AD211 Fashion Design                                           NaN  #+matric   \n",
       "AD212 Product Design                                           NaN  #+matric   \n",
       "AD215 Visual Culture                                         338.0       377   \n",
       "\n",
       "                                                         R2_2020  EOS_2020  \\\n",
       "CODE  TITLE                                                                  \n",
       "AC120 International Business                                 NaN       209   \n",
       "AC137 Liberal Arts                                           NaN       252   \n",
       "AD101 First Year Art & Design (Common Entry)                 NaN  #+matric   \n",
       "AD102 Graphic Design and Moving Image Design                 NaN  #+matric   \n",
       "AD103 Textile & Surface Design and Jewellery & Objects       NaN  #+matric   \n",
       "AD202 Education & Design or Fine Art (Second Level Teach     NaN  #+matric   \n",
       "AD204 Fine Art                                               NaN  #+matric   \n",
       "AD211 Fashion Design                                         NaN  #+matric   \n",
       "AD212 Product Design                                         NaN  #+matric   \n",
       "AD215 Visual Culture                                         320       320   \n",
       "\n",
       "                                                          MID_2020 R1_2021  \\\n",
       "CODE  TITLE                                                                  \n",
       "AC120 International Business                                   280     294   \n",
       "AC137 Liberal Arts                                             270     271   \n",
       "AD101 First Year Art & Design (Common Entry)              #+matric    #554   \n",
       "AD102 Graphic Design and Moving Image Design              #+matric    #538   \n",
       "AD103 Textile & Surface Design and Jewellery & Objects    #+matric    #505   \n",
       "AD202 Education & Design or Fine Art (Second Level Teach  #+matric    #591   \n",
       "AD204 Fine Art                                            #+matric    #514   \n",
       "AD211 Fashion Design                                      #+matric    #760   \n",
       "AD212 Product Design                                      #+matric    #413   \n",
       "AD215 Visual Culture                                           389     337   \n",
       "\n",
       "                                                         R2_2021  \n",
       "CODE  TITLE                                                       \n",
       "AC120 International Business                                 294  \n",
       "AC137 Liberal Arts                                           270  \n",
       "AD101 First Year Art & Design (Common Entry)                 NaN  \n",
       "AD102 Graphic Design and Moving Image Design                 NaN  \n",
       "AD103 Textile & Surface Design and Jewellery & Objects       NaN  \n",
       "AD202 Education & Design or Fine Art (Second Level Teach     NaN  \n",
       "AD204 Fine Art                                               NaN  \n",
       "AD211 Fashion Design                                        #679  \n",
       "AD212 Product Design                                         NaN  \n",
       "AD215 Visual Culture                                         300  "
      ]
     },
     "execution_count": 26,
     "metadata": {},
     "output_type": "execute_result"
    }
   ],
   "source": [
    "# Read in the data for analysis.\n",
    "df = pd.read_csv (\"data/final_table.csv\", index_col = [\"CODE\", \"TITLE\"])\n",
    "# Print out first 10 rows.\n",
    "df.head(10)"
   ]
  },
  {
   "cell_type": "markdown",
   "id": "b9070ff1-d9dc-49f4-867a-5aab767e4a27",
   "metadata": {},
   "source": [
    "To make sure all the data is correctly captured when plotting I changed the type of the columns, to be *float64*. All the columns containing symbols mentioned above are of type *object* so I've decided to replace all symbols with *None*. "
   ]
  },
  {
   "cell_type": "code",
   "execution_count": 27,
   "id": "56a8f1a0-7174-4662-b499-ac99335d173f",
   "metadata": {
    "tags": []
   },
   "outputs": [
    {
     "data": {
      "text/plain": [
       "R1_2019      object\n",
       "R2_2019      object\n",
       "EOS_2019     object\n",
       "MID_2019    float64\n",
       "R1_2020      object\n",
       "R2_2020      object\n",
       "EOS_2020     object\n",
       "MID_2020     object\n",
       "R1_2021      object\n",
       "R2_2021      object\n",
       "dtype: object"
      ]
     },
     "execution_count": 27,
     "metadata": {},
     "output_type": "execute_result"
    }
   ],
   "source": [
    "#Check current types.\n",
    "df.dtypes"
   ]
  },
  {
   "cell_type": "code",
   "execution_count": 28,
   "id": "757fd81d-4973-4a30-a731-d114313503f9",
   "metadata": {},
   "outputs": [
    {
     "data": {
      "text/html": [
       "<div>\n",
       "<style scoped>\n",
       "    .dataframe tbody tr th:only-of-type {\n",
       "        vertical-align: middle;\n",
       "    }\n",
       "\n",
       "    .dataframe tbody tr th {\n",
       "        vertical-align: top;\n",
       "    }\n",
       "\n",
       "    .dataframe thead th {\n",
       "        text-align: right;\n",
       "    }\n",
       "</style>\n",
       "<table border=\"1\" class=\"dataframe\">\n",
       "  <thead>\n",
       "    <tr style=\"text-align: right;\">\n",
       "      <th></th>\n",
       "      <th></th>\n",
       "      <th>R1_2019</th>\n",
       "      <th>R2_2019</th>\n",
       "      <th>EOS_2019</th>\n",
       "      <th>MID_2019</th>\n",
       "      <th>R1_2020</th>\n",
       "      <th>R2_2020</th>\n",
       "      <th>EOS_2020</th>\n",
       "      <th>MID_2020</th>\n",
       "      <th>R1_2021</th>\n",
       "      <th>R2_2021</th>\n",
       "    </tr>\n",
       "    <tr>\n",
       "      <th>CODE</th>\n",
       "      <th>TITLE</th>\n",
       "      <th></th>\n",
       "      <th></th>\n",
       "      <th></th>\n",
       "      <th></th>\n",
       "      <th></th>\n",
       "      <th></th>\n",
       "      <th></th>\n",
       "      <th></th>\n",
       "      <th></th>\n",
       "      <th></th>\n",
       "    </tr>\n",
       "  </thead>\n",
       "  <tbody>\n",
       "    <tr>\n",
       "      <th>AC120</th>\n",
       "      <th>International Business</th>\n",
       "      <td>234.0</td>\n",
       "      <td>234.0</td>\n",
       "      <td>234.0</td>\n",
       "      <td>269.0</td>\n",
       "      <td>209.0</td>\n",
       "      <td>NaN</td>\n",
       "      <td>209.0</td>\n",
       "      <td>280.0</td>\n",
       "      <td>294.0</td>\n",
       "      <td>294.0</td>\n",
       "    </tr>\n",
       "    <tr>\n",
       "      <th>AC137</th>\n",
       "      <th>Liberal Arts</th>\n",
       "      <td>275.0</td>\n",
       "      <td>252.0</td>\n",
       "      <td>252.0</td>\n",
       "      <td>275.0</td>\n",
       "      <td>252.0</td>\n",
       "      <td>NaN</td>\n",
       "      <td>252.0</td>\n",
       "      <td>270.0</td>\n",
       "      <td>271.0</td>\n",
       "      <td>270.0</td>\n",
       "    </tr>\n",
       "    <tr>\n",
       "      <th>AD101</th>\n",
       "      <th>First Year Art &amp; Design (Common Entry)</th>\n",
       "      <td>NaN</td>\n",
       "      <td>NaN</td>\n",
       "      <td>550.0</td>\n",
       "      <td>NaN</td>\n",
       "      <td>NaN</td>\n",
       "      <td>NaN</td>\n",
       "      <td>NaN</td>\n",
       "      <td>NaN</td>\n",
       "      <td>554.0</td>\n",
       "      <td>NaN</td>\n",
       "    </tr>\n",
       "    <tr>\n",
       "      <th>AD102</th>\n",
       "      <th>Graphic Design and Moving Image Design</th>\n",
       "      <td>NaN</td>\n",
       "      <td>NaN</td>\n",
       "      <td>635.0</td>\n",
       "      <td>NaN</td>\n",
       "      <td>NaN</td>\n",
       "      <td>NaN</td>\n",
       "      <td>NaN</td>\n",
       "      <td>NaN</td>\n",
       "      <td>538.0</td>\n",
       "      <td>NaN</td>\n",
       "    </tr>\n",
       "    <tr>\n",
       "      <th>AD103</th>\n",
       "      <th>Textile &amp; Surface Design and Jewellery &amp; Objects</th>\n",
       "      <td>NaN</td>\n",
       "      <td>NaN</td>\n",
       "      <td>545.0</td>\n",
       "      <td>NaN</td>\n",
       "      <td>NaN</td>\n",
       "      <td>NaN</td>\n",
       "      <td>NaN</td>\n",
       "      <td>NaN</td>\n",
       "      <td>505.0</td>\n",
       "      <td>NaN</td>\n",
       "    </tr>\n",
       "    <tr>\n",
       "      <th>AD202</th>\n",
       "      <th>Education &amp; Design or Fine Art (Second Level Teach</th>\n",
       "      <td>NaN</td>\n",
       "      <td>NaN</td>\n",
       "      <td>580.0</td>\n",
       "      <td>NaN</td>\n",
       "      <td>NaN</td>\n",
       "      <td>NaN</td>\n",
       "      <td>NaN</td>\n",
       "      <td>NaN</td>\n",
       "      <td>591.0</td>\n",
       "      <td>NaN</td>\n",
       "    </tr>\n",
       "    <tr>\n",
       "      <th>AD204</th>\n",
       "      <th>Fine Art</th>\n",
       "      <td>NaN</td>\n",
       "      <td>NaN</td>\n",
       "      <td>600.0</td>\n",
       "      <td>NaN</td>\n",
       "      <td>NaN</td>\n",
       "      <td>NaN</td>\n",
       "      <td>NaN</td>\n",
       "      <td>NaN</td>\n",
       "      <td>514.0</td>\n",
       "      <td>NaN</td>\n",
       "    </tr>\n",
       "    <tr>\n",
       "      <th>AD211</th>\n",
       "      <th>Fashion Design</th>\n",
       "      <td>NaN</td>\n",
       "      <td>NaN</td>\n",
       "      <td>600.0</td>\n",
       "      <td>NaN</td>\n",
       "      <td>NaN</td>\n",
       "      <td>NaN</td>\n",
       "      <td>NaN</td>\n",
       "      <td>NaN</td>\n",
       "      <td>760.0</td>\n",
       "      <td>679.0</td>\n",
       "    </tr>\n",
       "    <tr>\n",
       "      <th>AD212</th>\n",
       "      <th>Product Design</th>\n",
       "      <td>NaN</td>\n",
       "      <td>NaN</td>\n",
       "      <td>600.0</td>\n",
       "      <td>NaN</td>\n",
       "      <td>NaN</td>\n",
       "      <td>NaN</td>\n",
       "      <td>NaN</td>\n",
       "      <td>NaN</td>\n",
       "      <td>413.0</td>\n",
       "      <td>NaN</td>\n",
       "    </tr>\n",
       "    <tr>\n",
       "      <th>AD215</th>\n",
       "      <th>Visual Culture</th>\n",
       "      <td>300.0</td>\n",
       "      <td>NaN</td>\n",
       "      <td>300.0</td>\n",
       "      <td>338.0</td>\n",
       "      <td>377.0</td>\n",
       "      <td>320.0</td>\n",
       "      <td>320.0</td>\n",
       "      <td>389.0</td>\n",
       "      <td>337.0</td>\n",
       "      <td>300.0</td>\n",
       "    </tr>\n",
       "  </tbody>\n",
       "</table>\n",
       "</div>"
      ],
      "text/plain": [
       "                                                          R1_2019  R2_2019  \\\n",
       "CODE  TITLE                                                                  \n",
       "AC120 International Business                                234.0    234.0   \n",
       "AC137 Liberal Arts                                          275.0    252.0   \n",
       "AD101 First Year Art & Design (Common Entry)                  NaN      NaN   \n",
       "AD102 Graphic Design and Moving Image Design                  NaN      NaN   \n",
       "AD103 Textile & Surface Design and Jewellery & Objects        NaN      NaN   \n",
       "AD202 Education & Design or Fine Art (Second Level Teach      NaN      NaN   \n",
       "AD204 Fine Art                                                NaN      NaN   \n",
       "AD211 Fashion Design                                          NaN      NaN   \n",
       "AD212 Product Design                                          NaN      NaN   \n",
       "AD215 Visual Culture                                        300.0      NaN   \n",
       "\n",
       "                                                          EOS_2019  MID_2019  \\\n",
       "CODE  TITLE                                                                    \n",
       "AC120 International Business                                 234.0     269.0   \n",
       "AC137 Liberal Arts                                           252.0     275.0   \n",
       "AD101 First Year Art & Design (Common Entry)                 550.0       NaN   \n",
       "AD102 Graphic Design and Moving Image Design                 635.0       NaN   \n",
       "AD103 Textile & Surface Design and Jewellery & Objects       545.0       NaN   \n",
       "AD202 Education & Design or Fine Art (Second Level Teach     580.0       NaN   \n",
       "AD204 Fine Art                                               600.0       NaN   \n",
       "AD211 Fashion Design                                         600.0       NaN   \n",
       "AD212 Product Design                                         600.0       NaN   \n",
       "AD215 Visual Culture                                         300.0     338.0   \n",
       "\n",
       "                                                          R1_2020  R2_2020  \\\n",
       "CODE  TITLE                                                                  \n",
       "AC120 International Business                                209.0      NaN   \n",
       "AC137 Liberal Arts                                          252.0      NaN   \n",
       "AD101 First Year Art & Design (Common Entry)                  NaN      NaN   \n",
       "AD102 Graphic Design and Moving Image Design                  NaN      NaN   \n",
       "AD103 Textile & Surface Design and Jewellery & Objects        NaN      NaN   \n",
       "AD202 Education & Design or Fine Art (Second Level Teach      NaN      NaN   \n",
       "AD204 Fine Art                                                NaN      NaN   \n",
       "AD211 Fashion Design                                          NaN      NaN   \n",
       "AD212 Product Design                                          NaN      NaN   \n",
       "AD215 Visual Culture                                        377.0    320.0   \n",
       "\n",
       "                                                          EOS_2020  MID_2020  \\\n",
       "CODE  TITLE                                                                    \n",
       "AC120 International Business                                 209.0     280.0   \n",
       "AC137 Liberal Arts                                           252.0     270.0   \n",
       "AD101 First Year Art & Design (Common Entry)                   NaN       NaN   \n",
       "AD102 Graphic Design and Moving Image Design                   NaN       NaN   \n",
       "AD103 Textile & Surface Design and Jewellery & Objects         NaN       NaN   \n",
       "AD202 Education & Design or Fine Art (Second Level Teach       NaN       NaN   \n",
       "AD204 Fine Art                                                 NaN       NaN   \n",
       "AD211 Fashion Design                                           NaN       NaN   \n",
       "AD212 Product Design                                           NaN       NaN   \n",
       "AD215 Visual Culture                                         320.0     389.0   \n",
       "\n",
       "                                                          R1_2021  R2_2021  \n",
       "CODE  TITLE                                                                 \n",
       "AC120 International Business                                294.0    294.0  \n",
       "AC137 Liberal Arts                                          271.0    270.0  \n",
       "AD101 First Year Art & Design (Common Entry)                554.0      NaN  \n",
       "AD102 Graphic Design and Moving Image Design                538.0      NaN  \n",
       "AD103 Textile & Surface Design and Jewellery & Objects      505.0      NaN  \n",
       "AD202 Education & Design or Fine Art (Second Level Teach    591.0      NaN  \n",
       "AD204 Fine Art                                              514.0      NaN  \n",
       "AD211 Fashion Design                                        760.0    679.0  \n",
       "AD212 Product Design                                        413.0      NaN  \n",
       "AD215 Visual Culture                                        337.0    300.0  "
      ]
     },
     "execution_count": 28,
     "metadata": {},
     "output_type": "execute_result"
    }
   ],
   "source": [
    "# Filtering out the non numeric values in df.\n",
    "    # Replace all strings with \"none\".\n",
    "df_numeric = df.replace(r'\\D', \"\", regex=True)\n",
    "    # Change columns type from object to numeric.\n",
    "df_numeric = df_numeric.apply(pd.to_numeric, errors='coerce')\n",
    "# Print out first 10 rows.\n",
    "df_numeric.head(10)"
   ]
  },
  {
   "cell_type": "code",
   "execution_count": 29,
   "id": "1f4c6af6-f261-4c72-81ad-6fc759926474",
   "metadata": {},
   "outputs": [],
   "source": [
    "# Saving numeric only table as csv.\n",
    "df_numeric.to_csv (\"data/numeric_table.csv\")"
   ]
  },
  {
   "cell_type": "code",
   "execution_count": 30,
   "id": "1407f89e-d440-4f1e-80ab-f011a7187181",
   "metadata": {},
   "outputs": [
    {
     "data": {
      "text/plain": [
       "R1_2019     float64\n",
       "R2_2019     float64\n",
       "EOS_2019    float64\n",
       "MID_2019    float64\n",
       "R1_2020     float64\n",
       "R2_2020     float64\n",
       "EOS_2020    float64\n",
       "MID_2020    float64\n",
       "R1_2021     float64\n",
       "R2_2021     float64\n",
       "dtype: object"
      ]
     },
     "execution_count": 30,
     "metadata": {},
     "output_type": "execute_result"
    }
   ],
   "source": [
    "# Making sure types are correct now.\n",
    "df_numeric.dtypes"
   ]
  },
  {
   "cell_type": "code",
   "execution_count": 31,
   "id": "e608b781-e6a2-4b57-9044-38dbc2443a8b",
   "metadata": {},
   "outputs": [
    {
     "name": "stdout",
     "output_type": "stream",
     "text": [
      "There were 1214 different courses running from 2019 to 2021 of which:\n",
      " - 930 were listed in 2019\n",
      " - 961 were listed in 2020\n",
      " - 949 were listed in 2021\n"
     ]
    }
   ],
   "source": [
    "# Check the number of listed courses.\n",
    "total_course = df.shape[0]\n",
    "r2019 = df_2019.shape[0]\n",
    "r2020 = df_2020.shape[0]\n",
    "r2021 = df_2021.shape[0]\n",
    "\n",
    "# Output.\n",
    "print (\"There were {} different courses running from 2019 to 2021 of which:\".format(total_course))\n",
    "print (\" - {} were listed in 2019\".format(r2019))\n",
    "print (\" - {} were listed in 2020\".format(r2020))\n",
    "print (\" - {} were listed in 2021\".format(r2021))"
   ]
  },
  {
   "cell_type": "markdown",
   "id": "97737f63-92b8-4e02-b22b-4fb11299747b",
   "metadata": {},
   "source": [
    "NOTE: Not all courses got points released in Round 1."
   ]
  },
  {
   "cell_type": "code",
   "execution_count": 32,
   "id": "9595af5f-985a-452d-ae9d-8011d0eb6bee",
   "metadata": {},
   "outputs": [
    {
     "data": {
      "text/html": [
       "<div>\n",
       "<style scoped>\n",
       "    .dataframe tbody tr th:only-of-type {\n",
       "        vertical-align: middle;\n",
       "    }\n",
       "\n",
       "    .dataframe tbody tr th {\n",
       "        vertical-align: top;\n",
       "    }\n",
       "\n",
       "    .dataframe thead th {\n",
       "        text-align: right;\n",
       "    }\n",
       "</style>\n",
       "<table border=\"1\" class=\"dataframe\">\n",
       "  <thead>\n",
       "    <tr style=\"text-align: right;\">\n",
       "      <th></th>\n",
       "      <th>R1_2019</th>\n",
       "      <th>R2_2019</th>\n",
       "      <th>EOS_2019</th>\n",
       "      <th>MID_2019</th>\n",
       "      <th>R1_2020</th>\n",
       "      <th>R2_2020</th>\n",
       "      <th>EOS_2020</th>\n",
       "      <th>MID_2020</th>\n",
       "      <th>R1_2021</th>\n",
       "      <th>R2_2021</th>\n",
       "    </tr>\n",
       "  </thead>\n",
       "  <tbody>\n",
       "    <tr>\n",
       "      <th>count</th>\n",
       "      <td>890.0</td>\n",
       "      <td>197.0</td>\n",
       "      <td>915.0</td>\n",
       "      <td>906.0</td>\n",
       "      <td>927.0</td>\n",
       "      <td>206.0</td>\n",
       "      <td>993.0</td>\n",
       "      <td>988.0</td>\n",
       "      <td>923.0</td>\n",
       "      <td>255.0</td>\n",
       "    </tr>\n",
       "    <tr>\n",
       "      <th>mean</th>\n",
       "      <td>380.14</td>\n",
       "      <td>380.06</td>\n",
       "      <td>377.16</td>\n",
       "      <td>424.70</td>\n",
       "      <td>390.74</td>\n",
       "      <td>392.16</td>\n",
       "      <td>391.80</td>\n",
       "      <td>448.20</td>\n",
       "      <td>407.67</td>\n",
       "      <td>414.75</td>\n",
       "    </tr>\n",
       "    <tr>\n",
       "      <th>std</th>\n",
       "      <td>121.70</td>\n",
       "      <td>132.62</td>\n",
       "      <td>125.31</td>\n",
       "      <td>132.63</td>\n",
       "      <td>128.48</td>\n",
       "      <td>129.95</td>\n",
       "      <td>128.45</td>\n",
       "      <td>129.24</td>\n",
       "      <td>128.71</td>\n",
       "      <td>141.69</td>\n",
       "    </tr>\n",
       "    <tr>\n",
       "      <th>min</th>\n",
       "      <td>59.00</td>\n",
       "      <td>146.00</td>\n",
       "      <td>55.00</td>\n",
       "      <td>57.00</td>\n",
       "      <td>55.00</td>\n",
       "      <td>184.00</td>\n",
       "      <td>55.00</td>\n",
       "      <td>57.00</td>\n",
       "      <td>57.00</td>\n",
       "      <td>60.00</td>\n",
       "    </tr>\n",
       "    <tr>\n",
       "      <th>25%</th>\n",
       "      <td>297.25</td>\n",
       "      <td>269.00</td>\n",
       "      <td>290.00</td>\n",
       "      <td>339.00</td>\n",
       "      <td>300.00</td>\n",
       "      <td>281.00</td>\n",
       "      <td>300.00</td>\n",
       "      <td>362.00</td>\n",
       "      <td>303.00</td>\n",
       "      <td>293.50</td>\n",
       "    </tr>\n",
       "    <tr>\n",
       "      <th>50%</th>\n",
       "      <td>352.00</td>\n",
       "      <td>381.00</td>\n",
       "      <td>349.00</td>\n",
       "      <td>392.00</td>\n",
       "      <td>366.00</td>\n",
       "      <td>400.50</td>\n",
       "      <td>368.00</td>\n",
       "      <td>426.50</td>\n",
       "      <td>391.00</td>\n",
       "      <td>424.00</td>\n",
       "    </tr>\n",
       "    <tr>\n",
       "      <th>75%</th>\n",
       "      <td>442.75</td>\n",
       "      <td>474.00</td>\n",
       "      <td>441.00</td>\n",
       "      <td>476.00</td>\n",
       "      <td>465.50</td>\n",
       "      <td>498.75</td>\n",
       "      <td>474.00</td>\n",
       "      <td>510.00</td>\n",
       "      <td>499.00</td>\n",
       "      <td>521.50</td>\n",
       "    </tr>\n",
       "    <tr>\n",
       "      <th>max</th>\n",
       "      <td>972.00</td>\n",
       "      <td>939.00</td>\n",
       "      <td>979.00</td>\n",
       "      <td>1073.00</td>\n",
       "      <td>1088.00</td>\n",
       "      <td>768.00</td>\n",
       "      <td>1088.00</td>\n",
       "      <td>1088.00</td>\n",
       "      <td>1028.00</td>\n",
       "      <td>904.00</td>\n",
       "    </tr>\n",
       "  </tbody>\n",
       "</table>\n",
       "</div>"
      ],
      "text/plain": [
       "      R1_2019 R2_2019 EOS_2019 MID_2019  R1_2020 R2_2020 EOS_2020 MID_2020  \\\n",
       "count   890.0   197.0    915.0    906.0    927.0   206.0    993.0    988.0   \n",
       "mean   380.14  380.06   377.16   424.70   390.74  392.16   391.80   448.20   \n",
       "std    121.70  132.62   125.31   132.63   128.48  129.95   128.45   129.24   \n",
       "min     59.00  146.00    55.00    57.00    55.00  184.00    55.00    57.00   \n",
       "25%    297.25  269.00   290.00   339.00   300.00  281.00   300.00   362.00   \n",
       "50%    352.00  381.00   349.00   392.00   366.00  400.50   368.00   426.50   \n",
       "75%    442.75  474.00   441.00   476.00   465.50  498.75   474.00   510.00   \n",
       "max    972.00  939.00   979.00  1073.00  1088.00  768.00  1088.00  1088.00   \n",
       "\n",
       "       R1_2021 R2_2021  \n",
       "count    923.0   255.0  \n",
       "mean    407.67  414.75  \n",
       "std     128.71  141.69  \n",
       "min      57.00   60.00  \n",
       "25%     303.00  293.50  \n",
       "50%     391.00  424.00  \n",
       "75%     499.00  521.50  \n",
       "max    1028.00  904.00  "
      ]
     },
     "execution_count": 32,
     "metadata": {},
     "output_type": "execute_result"
    }
   ],
   "source": [
    "# Describe function.\n",
    "desc = df_numeric.describe()\n",
    "# Two decimal places.\n",
    "desc.iloc[1:] = desc.iloc[1:].applymap(\"{:.2f}\".format)\n",
    "desc"
   ]
  },
  {
   "cell_type": "markdown",
   "id": "3af89d87-bf82-45b9-a2cc-16cfcb797164",
   "metadata": {},
   "source": [
    "| SOME CONCLUSIONS |\n",
    "|:-|\n",
    "| - Round 1 in 2021 has the most courses listed and the avarage points are the highest. Also, 2021 has the highest avarage points in Round 2. |\n",
    "| - Avarage points in both Rounds increased with each year. |\n",
    "| - Avarage EOS points increased from 377.16 in 2019. to 391.8 in 2020. These points are very close to Round 1 points in both 2019 and 2020. |\n",
    "| - Avarage MID points are higher then Round 1 or Round 2 points in both 2019 and 2020. Also, avarage MID points increased from 424.7 in 2019. to 448.20 in 2020. |\n",
    "| - Minimum points required to get to course in Round 1 was the highest in 2019, and dropped from 59 to 57 the following two years. Minimum points in Round 2 in 2019 stand out as being very high - 146. |\n",
    "| - Mazimum points reqired to get to course in Round 1 was the highest in 2020. and lowest in 2019. |\n",
    "\n",
    "<br>"
   ]
  },
  {
   "cell_type": "code",
   "execution_count": 33,
   "id": "ac612fa5-2c55-4beb-98ba-fc51a0785dcf",
   "metadata": {},
   "outputs": [],
   "source": [
    "# Defining variables for the analysis.\n",
    "    # 2019\n",
    "r1_2019 = df [\"R1_2019\"]\n",
    "r2_2019 = df [\"R2_2019\"]\n",
    "eos_2019 = df [\"EOS_2019\"]\n",
    "mid_2019 = df [\"MID_2019\"]\n",
    "    # 2020\n",
    "r1_2020 = df [\"R1_2020\"]\n",
    "r2_2020 = df [\"R2_2020\"]\n",
    "eos_2020 = df [\"EOS_2020\"]\n",
    "mid_2020 = df [\"MID_2020\"]\n",
    "    # 2021\n",
    "r1_2021 = df [\"R1_2021\"]\n",
    "r2_2021 = df [\"R2_2021\"]"
   ]
  },
  {
   "cell_type": "code",
   "execution_count": 34,
   "id": "3dcab64f-d211-4163-bda5-878b88e3541e",
   "metadata": {},
   "outputs": [],
   "source": [
    "# Function to count courses with total symbols\n",
    "    # by checking if column contains symbol.\n",
    "def symbol_func(data):\n",
    "    count = (data[(data.str.contains(\"\\*\", na = False)) | \n",
    "            (data.str.contains(\"\\#\", na = False)) | \n",
    "            (data.str.contains(\"\\AQA\", na = False)) |\n",
    "            (data.str.contains(\"\\v\", na = False))]).count()\n",
    "    return count"
   ]
  },
  {
   "cell_type": "code",
   "execution_count": 35,
   "id": "8f492015-aedc-4c9a-8aca-04f39acbef01",
   "metadata": {},
   "outputs": [],
   "source": [
    "# Courses with symbols for each year.\n",
    "    # 2019 - *MID for 2019 has only numeric values\n",
    "r1_2019_sy = symbol_func(r1_2019)\n",
    "r2_2019_sy = symbol_func(r2_2019)\n",
    "eos_2019_sy = symbol_func(eos_2019)\n",
    "    # 2020\n",
    "r1_2020_sy = symbol_func(r1_2020)\n",
    "r2_2020_sy = symbol_func(r2_2020)\n",
    "eos_2020_sy = symbol_func(eos_2020)\n",
    "mid_2020_sy = symbol_func(mid_2020)\n",
    "    # 2021\n",
    "r1_2021_sy = symbol_func(r1_2021)\n",
    "r2_2021_sy = symbol_func(r2_2021)"
   ]
  },
  {
   "cell_type": "code",
   "execution_count": 36,
   "id": "fb78fd22-a5c1-4a5d-8bb2-a98eb7eb500e",
   "metadata": {},
   "outputs": [
    {
     "data": {
      "image/png": "[encoded data removed]",
      "text/plain": [
       "<Figure size 1800x504 with 1 Axes>"
      ]
     },
     "metadata": {
      "needs_background": "light"
     },
     "output_type": "display_data"
    }
   ],
   "source": [
    "# Countplot (all listed courses).\n",
    "fig, ax = plt.subplots(figsize = (25,7))\n",
    "fig.suptitle (\"NUMBER OF COURSES LISTED\", size = \"xx-large\")\n",
    "ax = sns.barplot(data = [[r1_2019_sy],[r2_2019_sy], [eos_2019_sy], 0, \n",
    "                   [r1_2020_sy],[r2_2020_sy], [eos_2020_sy], [mid_2020_sy],\n",
    "                    [r1_2021_sy],[r2_2021_sy]],\n",
    "                     fill = False, hatch=\"//\", alpha = 0.5)\n",
    "# Barplot (courses with symbols).\n",
    "ax =  sns.countplot(data = df_numeric, alpha = 0.5)\n",
    "    # Add values over the bars.\n",
    "for p in ax.patches:\n",
    "   ax.annotate((p.get_height()), (p.get_x()+0.32, p.get_height()))\n",
    "plt.show()"
   ]
  },
  {
   "cell_type": "markdown",
   "id": "f7ed16f8-8726-40ed-abd7-f684eb5fe207",
   "metadata": {},
   "source": [
    "| |\n",
    "| :-| \n",
    "| This plot shows the number of listed courses with points in Round 1 and Round 2, but also the EOS and MID, for each year. The hatched part of the bars show the number of courses in the total that had extra requirements other then just the points (e.g. Interview, Portfolio, All applicants accepted). | \n",
    "\n",
    "<br>\n",
    "<br>"
   ]
  },
  {
   "cell_type": "markdown",
   "id": "a8dcfcad-e2c8-472e-979c-e0084820d991",
   "metadata": {},
   "source": [
    "As stated before, certain courses have other conditions aside of points. Number of those for Round 1 and Round 2 are shown below."
   ]
  },
  {
   "cell_type": "markdown",
   "id": "20b5ce10-0283-4bcb-a017-de05d5009298",
   "metadata": {},
   "source": [
    "#### Not all on this points score were offered places"
   ]
  },
  {
   "cell_type": "code",
   "execution_count": 37,
   "id": "54bac7df-55ba-43f0-a463-e77db8bf7073",
   "metadata": {},
   "outputs": [],
   "source": [
    "# Function to filter out data with conditions.\n",
    "def not_all(data, symbol):\n",
    "    data = (data[(data.str.contains(symbol, na = False))])\n",
    "    return data.count()"
   ]
  },
  {
   "cell_type": "code",
   "execution_count": 38,
   "id": "6a35fa1d-28df-4bc4-a33a-a33dfce8b9dc",
   "metadata": {},
   "outputs": [
    {
     "name": "stdout",
     "output_type": "stream",
     "text": [
      "ROUND 1:\n",
      "There were 34 courses that were not offered places in Round 1 2019.\n",
      "There were 43 courses that were not offered places in Round 1 2020.\n",
      "There were 75 courses that were not offered places in Round 1 2021.\n",
      "ROUND 2:\n",
      "There were 24 courses that were not offered places in Round 2 2019.\n",
      "There were 29 courses that were not offered places in Round 2 2020.\n",
      "There were 51 courses that were not offered places in Round 2 2021.\n"
     ]
    }
   ],
   "source": [
    "# Output\n",
    "print (\"ROUND 1:\")\n",
    "print (\"There were\", not_all(r1_2019, \"\\*\" ), \"courses that were not offered places in Round 1 2019.\")\n",
    "print (\"There were\", not_all(r1_2020, \"\\*\" ), \"courses that were not offered places in Round 1 2020.\")\n",
    "print (\"There were\", not_all(r1_2021, \"\\*\" ), \"courses that were not offered places in Round 1 2021.\")\n",
    "print (\"ROUND 2:\")\n",
    "print (\"There were\", not_all(r2_2019, \"\\*\" ), \"courses that were not offered places in Round 2 2019.\")\n",
    "print (\"There were\", not_all(r2_2020, \"\\*\" ), \"courses that were not offered places in Round 2 2020.\")\n",
    "print (\"There were\", not_all(r2_2021, \"\\*\" ), \"courses that were not offered places in Round 2 2021.\")"
   ]
  },
  {
   "cell_type": "markdown",
   "id": "e171fe85-b916-4b72-a62c-aa3a415c891c",
   "metadata": {},
   "source": [
    "#### Test / Interview / Portfolio / Audition"
   ]
  },
  {
   "cell_type": "code",
   "execution_count": 39,
   "id": "2b8df604-cbb0-42dd-9c20-bcfdb767d18b",
   "metadata": {},
   "outputs": [
    {
     "name": "stdout",
     "output_type": "stream",
     "text": [
      "ROUND 1:\n",
      "There were 88 courses that had Test, Interview, Portfolio or Audition in Round 1 2019.\n",
      "There were 87 courses that had Test, Interview, Portfolio or Audition in Round 1 2020.\n",
      "There were 81 courses that had Test, Interview, Portfolio or Audition in Round 1 2021.\n",
      "ROUND 2:\n",
      "There were 15 courses that had Test, Interview, Portfolio or Audition in Round 2 2019.\n",
      "There were 16 courses that had Test, Interview, Portfolio or Audition in Round 2 2020.\n",
      "There were 17 courses that had Test, Interview, Portfolio or Audition in Round 2 2021.\n"
     ]
    }
   ],
   "source": [
    "# Output\n",
    "print (\"ROUND 1:\")\n",
    "print (\"There were\", not_all(r1_2019, \"\\#\" ), \"courses that had Test, Interview, Portfolio or Audition in Round 1 2019.\")\n",
    "print (\"There were\", not_all(r1_2020, \"\\#\" ), \"courses that had Test, Interview, Portfolio or Audition in Round 1 2020.\")\n",
    "print (\"There were\", not_all(r1_2021, \"\\#\" ), \"courses that had Test, Interview, Portfolio or Audition in Round 1 2021.\")\n",
    "print (\"ROUND 2:\")\n",
    "print (\"There were\", not_all(r2_2019, \"\\#\" ), \"courses that had Test, Interview, Portfolio or Audition in Round 2 2019.\")\n",
    "print (\"There were\", not_all(r2_2020, \"\\#\" ), \"courses that had Test, Interview, Portfolio or Audition in Round 2 2020.\")\n",
    "print (\"There were\", not_all(r2_2021, \"\\#\" ), \"courses that had Test, Interview, Portfolio or Audition in Round 2 2021.\")"
   ]
  },
  {
   "cell_type": "markdown",
   "id": "0e0f8323-4ca1-4937-a194-71ffbb7c7f0a",
   "metadata": {},
   "source": [
    "#### All qualified applicants"
   ]
  },
  {
   "cell_type": "code",
   "execution_count": 40,
   "id": "cc1058ad-4d0e-431b-b05d-5aabf54dbdfd",
   "metadata": {},
   "outputs": [
    {
     "name": "stdout",
     "output_type": "stream",
     "text": [
      "ROUND 1:\n",
      "There were 10 courses that accepted all qualified applicants in Round 1 2019.\n",
      "There were 2 courses that accepted all qualified applicants in Round 1 2020.\n",
      "There were 1 courses that accepted all qualified applicants in Round 1 2021.\n",
      "ROUND 2:\n",
      "There were 3 courses that accepted all qualified applicants in Round 2 2019.\n",
      "There were 1 courses that accepted all qualified applicants in Round 2 2020.\n",
      "There were 1 courses that accepted all qualified applicants in Round 2 2021.\n"
     ]
    }
   ],
   "source": [
    "# Output\n",
    "print (\"ROUND 1:\")\n",
    "print (\"There were\", not_all(r1_2019, \"AQA\" ), \"courses that accepted all qualified applicants in Round 1 2019.\")\n",
    "print (\"There were\", not_all(r1_2020, \"AQA\" ), \"courses that accepted all qualified applicants in Round 1 2020.\")\n",
    "print (\"There were\", not_all(r1_2021, \"AQA\" ), \"courses that accepted all qualified applicants in Round 1 2021.\")\n",
    "print (\"ROUND 2:\")\n",
    "print (\"There were\", not_all(r2_2019, \"AQA\" ), \"courses that accepted all qualified applicants in Round 2 2019.\")\n",
    "print (\"There were\", not_all(r2_2020, \"AQA\" ), \"courses that accepted all qualified applicants in Round 2 2020.\")\n",
    "print (\"There were\", not_all(r2_2021, \"AQA\" ), \"courses that accepted all qualified applicants in Round 2 2021.\")"
   ]
  },
  {
   "cell_type": "markdown",
   "id": "4e08d71f-6b99-4a34-bb2b-47d4763bca00",
   "metadata": {},
   "source": [
    "#### New competition for available places"
   ]
  },
  {
   "cell_type": "code",
   "execution_count": 41,
   "id": "d507d15a-4062-421b-aef5-02bf6a0b1bde",
   "metadata": {},
   "outputs": [
    {
     "name": "stdout",
     "output_type": "stream",
     "text": [
      "ROUND 1:\n",
      "There were 0 courses that had new competition for available places in Round 1 2019.\n",
      "There were 0 courses that had new competition for available places in Round 1 2020.\n",
      "There were 0 courses that had new competition for available places in Round 1 2021.\n",
      "ROUND 2:\n",
      "There were 0 courses that had new competition for available places in Round 2 2019.\n",
      "There were 3 courses that had new competition for available places in Round 2 2020.\n",
      "There were 0 courses that had new competition for available places in Round 2 2021.\n"
     ]
    }
   ],
   "source": [
    "# Output\n",
    "print (\"ROUND 1:\")\n",
    "print (\"There were\", not_all(r1_2019, \"v\" ), \"courses that had new competition for available places in Round 1 2019.\")\n",
    "print (\"There were\", not_all(r1_2020, \"v\" ), \"courses that had new competition for available places in Round 1 2020.\")\n",
    "print (\"There were\", not_all(r1_2021, \"v\" ), \"courses that had new competition for available places in Round 1 2021.\")\n",
    "print (\"ROUND 2:\")\n",
    "print (\"There were\", not_all(r2_2019, \"v\" ), \"courses that had new competition for available places in Round 2 2019.\")\n",
    "print (\"There were\", not_all(r2_2020, \"v\" ), \"courses that had new competition for available places in Round 2 2020.\")\n",
    "print (\"There were\", not_all(r2_2021, \"v\" ), \"courses that had new competition for available places in Round 2 2021.\")"
   ]
  },
  {
   "cell_type": "markdown",
   "id": "3c763f84-1c2d-4a10-a971-f43263eaec8c",
   "metadata": {},
   "source": [
    "<br>\n",
    "<br>\n",
    "\n",
    "#### POINTS DISTRIBUTION"
   ]
  },
  {
   "cell_type": "code",
   "execution_count": 42,
   "id": "7449aa27-ac81-49da-9b48-d117d47c0994",
   "metadata": {},
   "outputs": [
    {
     "data": {
      "image/png": "[encoded data removed]",
      "text/plain": [
       "<Figure size 1800x504 with 1 Axes>"
      ]
     },
     "metadata": {
      "needs_background": "light"
     },
     "output_type": "display_data"
    }
   ],
   "source": [
    "# Plotting.\n",
    "fig, axs = plt.subplots(figsize = (25,7))\n",
    "sns.boxplot(data = df_numeric, boxprops=dict(alpha=0.5))\n",
    "\n",
    "plt.show()"
   ]
  },
  {
   "cell_type": "markdown",
   "id": "9347cffa-1f75-4ab2-b1a7-6f6bccaaf4ed",
   "metadata": {},
   "source": [
    "| |\n",
    "| :-| \n",
    "| Half of the courses have their points distributed mainly between 300 and 450. In general, the point distribution is in a range 100 to 800, with some outliners outside this range. Round 1 in 2020 has the most points on the lower side of the range, while Round 1 in 2021 has the most on the higher side of the range. | \n",
    "\n",
    "<br>\n",
    "<br>"
   ]
  },
  {
   "cell_type": "code",
   "execution_count": 43,
   "id": "ad693021-348b-445e-827a-0da8fbcbcc6b",
   "metadata": {},
   "outputs": [
    {
     "data": {
      "image/png": "[encoded data removed]",
      "text/plain": [
       "<Figure size 1800x720 with 4 Axes>"
      ]
     },
     "metadata": {
      "needs_background": "light"
     },
     "output_type": "display_data"
    }
   ],
   "source": [
    "# Defining variables for plotting.\n",
    "round1 = df_numeric [[\"R1_2019\", \"R1_2020\", \"R1_2021\"]]\n",
    "round2 = df_numeric [[\"R2_2019\", \"R2_2020\", \"R2_2021\"]]\n",
    "eos = df_numeric [[\"EOS_2019\", \"EOS_2020\"]]\n",
    "mid = df_numeric [[\"MID_2019\", \"MID_2020\"]]\n",
    "\n",
    "# Plotting.\n",
    "fig, axs = plt.subplots(2, 2, figsize = (25,10))\n",
    "\n",
    "sns.boxplot(data = round1, boxprops=dict(alpha=0.5), ax = axs[0,0])\n",
    "axs[0,0].set( title = \"ROUND 1\")\n",
    "sns.boxplot(data = round2, boxprops=dict(alpha=0.5), ax = axs[0,1])\n",
    "axs[0,1].set( title = \"ROUND 2\")\n",
    "sns.boxplot(data = eos, boxprops=dict(alpha=0.5), ax = axs[1,0])\n",
    "axs[1,0].set( title = \"EOS\")\n",
    "sns.boxplot(data = mid, boxprops=dict(alpha=0.5), ax = axs[1,1])\n",
    "axs[1,1].set( title = \"MID\")\n",
    "\n",
    "plt.show()"
   ]
  },
  {
   "cell_type": "markdown",
   "id": "f0750e5f-fb8d-476f-87a6-960935a15bd6",
   "metadata": {
    "tags": []
   },
   "source": [
    "| | |\n",
    "| :- | :-|\n",
    "| Round 1 |  Half of the courses in 2019 have points between approx. 300 and 430. This spread increases with each year but remains around the similiar range. The total spread of the points also increases with each year. In 2019 there are not many courses with low points required. |\n",
    "| Round 2 |  Similarly to Round 1, most of the points are spread around 400, with a small increase each year. Minimum points required were the lowest in 2021.|\n",
    "| EOS | The spread in 2020 is bigger in 2020, compared to 2019. There are more courses with low and high values in 2020. |\n",
    "| MID | Same as with EOS points, the spread is bigger in 2020. Most of the courses points are distributed in a slightly higher range. |\n",
    "\n",
    "<br>\n",
    "<br>"
   ]
  },
  {
   "cell_type": "code",
   "execution_count": 44,
   "id": "cbf265f8-8558-45e5-8b20-019744f73217",
   "metadata": {},
   "outputs": [
    {
     "data": {
      "image/png": "[encoded data removed]",
      "text/plain": [
       "<Figure size 1800x720 with 4 Axes>"
      ]
     },
     "metadata": {
      "needs_background": "light"
     },
     "output_type": "display_data"
    }
   ],
   "source": [
    "# Plotting.\n",
    "fig, axs = plt.subplots(2, 2, figsize = (25,10))\n",
    "\n",
    "axs[0,0].hist(round1, alpha = 0.5)\n",
    "axs[0,0].set( title = \"ROUND 1\")\n",
    "axs[0,0].legend([\"R1_2019\", \"R1_2020\", \"R1_2021\"])\n",
    "axs[0,1].hist(round2, alpha = 0.5)\n",
    "axs[0,1].set( title = \"ROUND 2\")\n",
    "axs[0,1].legend([\"R2_2019\", \"R2_2020\", \"R2_2021\"])\n",
    "axs[1,0].hist(eos, alpha = 0.5)\n",
    "axs[1,0].set( title = \"EOS\")\n",
    "axs[1,0].legend([\"EOS_2019\", \"EOS_2020\"])\n",
    "axs[1,1].hist(mid, alpha = 0.5)\n",
    "axs[1,1].set( title = \"MID\")\n",
    "axs[1,1].legend([\"MID_2019\", \"MID_2020\"])\n",
    "plt.show()"
   ]
  },
  {
   "cell_type": "code",
   "execution_count": 45,
   "id": "cfb836ec-e0b8-416b-bcaf-6907978656d7",
   "metadata": {},
   "outputs": [
    {
     "data": {
      "image/png": "[encoded data removed]",
      "text/plain": [
       "<Figure size 1800x720 with 4 Axes>"
      ]
     },
     "metadata": {
      "needs_background": "light"
     },
     "output_type": "display_data"
    }
   ],
   "source": [
    "# Plotting.\n",
    "fig, axs = plt.subplots(2, 2, figsize = (25,10))\n",
    "\n",
    "sns.kdeplot(data = round1, ax = axs[0,0])\n",
    "axs[0,0].set( title = \"ROUND 1\")\n",
    "sns.kdeplot(data = round2, ax = axs[0,1])\n",
    "axs[0,1].set( title = \"ROUND 2\")\n",
    "sns.kdeplot(data = eos, ax = axs[1,0])\n",
    "axs[1,0].set( title = \"EOS\")\n",
    "sns.kdeplot(data = mid, ax = axs[1,1])\n",
    "axs[1,1].set( title = \"MID\")\n",
    "\n",
    "plt.show()"
   ]
  },
  {
   "cell_type": "markdown",
   "id": "0f7ef910-0611-44a8-a494-d66ce322703a",
   "metadata": {
    "tags": []
   },
   "source": [
    "| | |\n",
    "| :- | :-|\n",
    "| Round 1 |  In all years, most of the courses fall into range from 200 to 600, with the highest number being arond 300. In 2021, there is more points closer to 600. |\n",
    "| Round 2 |  In Round 2, the distribution is a bit different to Round 1. There are 2 high points, around 300 and 500. Most of the courses again fall into range from 200 to 600.|\n",
    "| EOS and MID | EOS and MID points in both 2019 and 2020 are very similar to Round 1 points from the matching years. The high point is around 300 and most of the points are distributed in a range from 200 to 600. |"
   ]
  },
  {
   "cell_type": "markdown",
   "id": "e7a54c4a-024c-4a3e-b0a9-5e529bde1006",
   "metadata": {},
   "source": [
    "## REFERENCES\n",
    "***"
   ]
  },
  {
   "cell_type": "markdown",
   "id": "f93fe10a-edca-4096-b319-3bd37cd0fe7b",
   "metadata": {
    "tags": []
   },
   "source": [
    "- [1] http://www2.cao.ie/handbook/handbook2022/hb.pdf\n",
    "- [2] https://en.wikipedia.org/wiki/Central_Applications_Office7\n",
    "- [3] https://www.independent.ie/life/family/learning/understanding-your-cao-course-guide-26505318.html\n",
    "- [4] https://en.wikipedia.org/wiki/Regular_expression"
   ]
  },
  {
   "cell_type": "markdown",
   "id": "146da15e-745f-436d-ab53-4e154fcbe11b",
   "metadata": {},
   "source": [
    "#### CODE"
   ]
  },
  {
   "cell_type": "markdown",
   "id": "58bca49b-5ce7-4bc1-b1e3-9b084d59d69a",
   "metadata": {},
   "source": [
    "- REQUESTS | https://docs.python-requests.org/en/latest/\n",
    "- EXTRACT TABLES (CAMELOT) | https://www.thepythoncode.com/article/extract-pdf-tables-in-python-camelot\n",
    "- MATCH LITTERAL SYMBOLS | https://stackoverflow.com/questions/9142736/python-regex-match-literal-asterisk\n",
    "- CONCATENATE DATAFRAMES | https://stackoverflow.com/questions/52383287/concatenate-dataframes-in-a-for-loopENATE\n",
    "- READ MULTIPLE CSV | https://stackoverflow.com/questions/55245721/read-in-multiple-csv-into-separate-dataframes-in-pandas/55245949\n",
    "- HTLM.UNESCAPE | https://stackoverflow.com/questions/40399640/reading-csv-files-with-python-pandas-when-there-is-html-escaped-string-in-ther\n",
    "- FILTER OUT NON-NUMBERS | https://stackoverflow.com/questions/44117326/how-can-i-remove-all-non-numeric-characters-from-all-the-values-in-a-particular\n",
    "- CONVERT STRING TO FLOAT | https://datatofish.com/convert-string-to-float-dataframe/\n",
    "- REPLACE VALUES IN DATAFRAME | https://datatofish.com/convert-string-to-float-dataframe/\n",
    "- MATPLOTLIB PATTERN FILL | https://towardsdatascience.com/how-to-fill-plots-with-patterns-in-matplotlib-58ad41ea8cf8"
   ]
  },
  {
   "cell_type": "markdown",
   "id": "48a7938a-ac70-4459-8192-d9a94c27a4be",
   "metadata": {},
   "source": [
    "#### CAMELOT"
   ]
  },
  {
   "cell_type": "markdown",
   "id": "f3940724-f462-4500-836e-5445cb9e745a",
   "metadata": {},
   "source": [
    "- CAMELOT INSTALLATION | https://camelot-py.readthedocs.io/en/master/user/install-deps.html#install-deps\n",
    "- CAMELOT ISSUES FIX | https://github.com/atlanhq/camelot/issues/184\n",
    "- CAMELOT ISSUES FIX | https://rnbeads.org/data/installing_rnbeads.html\n",
    "- CAMELOT PAGE READ | https://stackoverflow.com/questions/56777241/camelot-is-reading-only-the-first-page-of-the-pdf"
   ]
  },
  {
   "cell_type": "markdown",
   "id": "2a8d0f93-f658-42af-9948-0be68311687b",
   "metadata": {},
   "source": [
    "#### MARKDOWN"
   ]
  },
  {
   "cell_type": "markdown",
   "id": "6db5bd2e-de27-4303-81b3-eac3ad4d391d",
   "metadata": {},
   "source": [
    "- CHECKBOX MARKDOWN | https://stackoverflow.com/questions/47344571/how-to-draw-checkbox-or-tick-mark-in-github-markdown-table/55523035\n",
    "https://stackoverflow.com/questions/27975069/how-to-filter-rows-containing-a-string-pattern-from-a-pandas-dataframe"
   ]
  },
  {
   "cell_type": "markdown",
   "id": "13ee3877-ead1-423f-b139-5a4612975eee",
   "metadata": {},
   "source": [
    "***\n",
    "# THE END"
   ]
  }
 ],
 "metadata": {
  "kernelspec": {
   "display_name": "Python 3",
   "language": "python",
   "name": "python3"
  },
  "language_info": {
   "codemirror_mode": {
    "name": "ipython",
    "version": 3
   },
   "file_extension": ".py",
   "mimetype": "text/x-python",
   "name": "python",
   "nbconvert_exporter": "python",
   "pygments_lexer": "ipython3",
   "version": "3.8.8"
  }
 },
 "nbformat": 4,
 "nbformat_minor": 5
}

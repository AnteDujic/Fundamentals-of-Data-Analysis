{
 "cells": [
  {
   "cell_type": "markdown",
   "id": "cba7f882-cb9f-4b71-87ed-26c18fda786a",
   "metadata": {},
   "source": [
    "# Loading CAO points information into a pandas data frame, using CAO website\n",
    "\n",
    "http://www.cao.ie/index.php?page=points&p=2021\n",
    "\n",
    "***"
   ]
  },
  {
   "cell_type": "markdown",
   "id": "29b4655e-3bef-4630-af83-22880a7bab45",
   "metadata": {},
   "source": [
    "## INTRODUCTION"
   ]
  },
  {
   "cell_type": "markdown",
   "id": "773b93ce-dff5-4b06-90a1-f3536903fb87",
   "metadata": {},
   "source": [
    "## WHAT IS CAO"
   ]
  },
  {
   "cell_type": "markdown",
   "id": "07cb16d5-57cc-47c5-998e-e780220985be",
   "metadata": {},
   "source": [
    "### LOADING THE DATA"
   ]
  },
  {
   "cell_type": "code",
   "execution_count": 1,
   "id": "ed5b8564-ec55-4a75-b6a3-4388ac742df9",
   "metadata": {},
   "outputs": [],
   "source": [
    "# HTTP request\n",
    "import requests as rq\n",
    "# Regular expressions\n",
    "import re\n",
    "# Dates and time\n",
    "import datetime as dt\n",
    "# Data frames\n",
    "import pandas as pd\n",
    "# For downloading\n",
    "import urllib.request as urlrq\n",
    "# PDF\n",
    "import camelot"
   ]
  },
  {
   "cell_type": "markdown",
   "id": "274276a5-dc7b-4131-858a-e1a192421f65",
   "metadata": {},
   "source": [
    "## LEVEL 8 POINTS 2019, 2020, 2021\n",
    "### ROUND 1 AND ROUND 2"
   ]
  },
  {
   "cell_type": "code",
   "execution_count": 2,
   "id": "cbe5f9d0-0938-40ce-8b4b-1c7a6140c8e5",
   "metadata": {},
   "outputs": [],
   "source": [
    "# Current date and time\n",
    "now = dt.datetime.now()\n",
    "# Format as a string\n",
    "nowstr = (now.strftime(\"%Y%m%d_%H%M%S\"))"
   ]
  },
  {
   "cell_type": "code",
   "execution_count": 3,
   "id": "27633a8d-02c5-446a-b272-93b349661bcf",
   "metadata": {},
   "outputs": [],
   "source": [
    "# Regular expression\n",
    "re_course = re.compile(r\"([A-Z]{2}[0-9]{3})(.*)\")"
   ]
  },
  {
   "cell_type": "code",
   "execution_count": 4,
   "id": "0413bc40-8cd4-4cf7-982f-16ad0f1bf5bf",
   "metadata": {},
   "outputs": [],
   "source": [
    "# Defining a dictionary\n",
    "    # Using website archive to access the wanted data (2019, 2020)\n",
    "years_dict = {\n",
    "    \"2019\": [(\"data/cao2019_\" +  nowstr), \"https://web.archive.org/web/20191019135815/http://www2.cao.ie:80/points/l8.php\"],\n",
    "    \"2020\": [(\"data/cao2020_\" +  nowstr), \"https://web.archive.org/web/20201108133105/http://www2.cao.ie/points/l8.php\"],\n",
    "    \"2021\": [(\"data/cao2021_\" +  nowstr), \"http://www2.cao.ie/points/l8.php\"]\n",
    "}"
   ]
  },
  {
   "cell_type": "code",
   "execution_count": 5,
   "id": "06d7752a-bfbe-49cf-a971-4612f4d8491e",
   "metadata": {},
   "outputs": [
    {
     "name": "stdout",
     "output_type": "stream",
     "text": [
      "<Response [200]>\n",
      "Total number of lines is 930.\n",
      "<Response [200]>\n",
      "Total number of lines is 961.\n",
      "<Response [200]>\n",
      "Total number of lines is 949.\n"
     ]
    }
   ],
   "source": [
    "# Loop through the (dict) years\n",
    "for year, content in years_dict.items():\n",
    "    # Fetch the CAO points URL\n",
    "    rq.get (content[1])\n",
    "    resp = rq.get (content[1])\n",
    "    # The server uses the wrong encoding\n",
    "        # Change to \"cp1252\"\n",
    "    resp.encoding = \"cp1252\"\n",
    "    # Check if OK:\n",
    "        #Response [200] means OK\n",
    "    print (resp)\n",
    "    # Save the original html file\n",
    "    with open(content[0] + \".html\", \"w\") as f:\n",
    "        f.write(resp.text)\n",
    "    # Keep track of how many courses we process\n",
    "    no_lines = 0\n",
    "    # Iterating through the lines\n",
    "    resp.iter_lines()\n",
    "    resps = resp.iter_lines()\n",
    "    # Open the csv file for writing.\n",
    "    with open(content[0] + \".csv\", \"w\") as f:\n",
    "        # Write a header row.\n",
    "        f.write(','.join([\"CODE\", \"TITLE\", \"R1_POINTS\", \"R2_POINTS\"]) + \"\\n\")\n",
    "        # Loop through lines of the response.\n",
    "        for line in resps:\n",
    "            # Decode the line, using the wrong encoding\n",
    "            dline = line.decode(\"cp1252\")\n",
    "            # Match only the lines representing courses\n",
    "            if re_course.fullmatch(dline):\n",
    "                # Add one to the lines counter\n",
    "                no_lines = no_lines + 1\n",
    "                # The course code\n",
    "                course_code = dline[:5]\n",
    "                # The course title\n",
    "                course_title = dline[7:57]\n",
    "                # Round one points\n",
    "                course_points = re.split(' +', dline[60:])\n",
    "                if len(course_points) != 2:\n",
    "                    course_points = course_points[:2]\n",
    "                # Join the fields using a comma\n",
    "                linesplit = [course_code, course_title, course_points[0], course_points[1]]\n",
    "                # Rejoin the substrings with commas in between\n",
    "                f.write(\",\".join(linesplit) + \"\\n\")   \n",
    "    # Print the total number of processed lines\n",
    "    print(f\"Total number of lines is {no_lines}.\")"
   ]
  },
  {
   "cell_type": "markdown",
   "id": "aa10a5aa-ba24-49b0-8b1d-c0b67e3ee3db",
   "metadata": {},
   "source": [
    "# READ AND JOIN ALL TABLES - TESTING"
   ]
  },
  {
   "cell_type": "code",
   "execution_count": 6,
   "id": "771a563f-b390-4616-8247-81a99dababf8",
   "metadata": {},
   "outputs": [],
   "source": [
    "df2019 = pd.read_csv((\"data/cao2019_\" +  nowstr + \".csv\"), encoding='cp1252')\n",
    "#df2019"
   ]
  },
  {
   "cell_type": "code",
   "execution_count": 7,
   "id": "04fdb1e7-688f-477f-bde5-2a3df1124384",
   "metadata": {},
   "outputs": [],
   "source": [
    "df2020 = pd.read_csv((\"data/cao2020_\" +  nowstr + \".csv\"), encoding='cp1252')\n",
    "#df2020"
   ]
  },
  {
   "cell_type": "code",
   "execution_count": 8,
   "id": "66094d4e-f551-4979-a6b8-fc0b93dc807d",
   "metadata": {},
   "outputs": [],
   "source": [
    "df2021 = pd.read_csv((\"data/cao2021_\" +  nowstr + \".csv\"), encoding='cp1252')\n",
    "#df2021"
   ]
  },
  {
   "cell_type": "code",
   "execution_count": 9,
   "id": "0e76e369-3b55-428b-ae72-2bcb42358064",
   "metadata": {},
   "outputs": [],
   "source": [
    "courses2019 = df2019[[\"CODE\", \"TITLE\"]]\n",
    "#courses2019"
   ]
  },
  {
   "cell_type": "code",
   "execution_count": 10,
   "id": "5759f782-55c5-444d-9948-1c1172a0144a",
   "metadata": {},
   "outputs": [],
   "source": [
    "courses2020 = df2020[[\"CODE\", \"TITLE\"]]\n",
    "#courses2020"
   ]
  },
  {
   "cell_type": "code",
   "execution_count": 11,
   "id": "2ea12be6-42d1-4149-a325-b80e2615e4ff",
   "metadata": {},
   "outputs": [],
   "source": [
    "courses2021 = df2021[[\"CODE\", \"TITLE\"]]\n",
    "#courses2021"
   ]
  },
  {
   "cell_type": "code",
   "execution_count": 12,
   "id": "001cf3ea-636b-49e5-a079-67c1436efd0a",
   "metadata": {},
   "outputs": [],
   "source": [
    "allcourses = pd.concat([courses2019, courses2020, courses2021])\n",
    "#allcourses"
   ]
  },
  {
   "cell_type": "code",
   "execution_count": 13,
   "id": "a58b47be-6353-4f40-af5e-1bd240c570e2",
   "metadata": {},
   "outputs": [],
   "source": [
    "allcourses.drop_duplicates(subset=[\"CODE\"], inplace=True, ignore_index=True)"
   ]
  },
  {
   "cell_type": "code",
   "execution_count": 14,
   "id": "d3bf89e2-b7d8-480a-8118-7020f878e930",
   "metadata": {},
   "outputs": [],
   "source": [
    "#allcourses"
   ]
  },
  {
   "cell_type": "code",
   "execution_count": 15,
   "id": "da6decf8-c20d-4348-b316-ab0b74a85d2f",
   "metadata": {},
   "outputs": [],
   "source": [
    "df2019.columns = [\"CODE\",\"TITLE\", \"R1_POINTS_2019\", \"R2_POINTS_2019\"]\n",
    "df2019.set_index(\"CODE\", inplace=True)\n",
    "#df2019"
   ]
  },
  {
   "cell_type": "code",
   "execution_count": 16,
   "id": "02663f0f-3e89-46da-967b-748882471c79",
   "metadata": {},
   "outputs": [],
   "source": [
    "df2020.columns = [\"CODE\",\"TITLE\", \"R1_POINTS_2020\", \"R2_POINTS_2020\"]\n",
    "df2020.set_index(\"CODE\", inplace=True)\n",
    "#df2020"
   ]
  },
  {
   "cell_type": "code",
   "execution_count": 17,
   "id": "235f9182-c6de-45e6-b795-d7e074152387",
   "metadata": {},
   "outputs": [],
   "source": [
    "df2021.columns = [\"CODE\",\"TITLE\", \"R1_POINTS_2021\", \"R2_POINTS_2021\"]\n",
    "df2021.set_index(\"CODE\", inplace=True)\n",
    "#df2021"
   ]
  },
  {
   "cell_type": "code",
   "execution_count": 18,
   "id": "52994e2d-0b80-4199-89da-4496adba87c4",
   "metadata": {},
   "outputs": [],
   "source": [
    "allcourses.set_index(\"CODE\", inplace=True)\n",
    "allcourses = allcourses.join(df2019[[\"R1_POINTS_2019\", \"R2_POINTS_2019\"]])\n",
    "#allcourses"
   ]
  },
  {
   "cell_type": "code",
   "execution_count": 19,
   "id": "68fb455a-37e1-420c-930c-9d90eb8eb389",
   "metadata": {},
   "outputs": [],
   "source": [
    "allcourses = allcourses.join(df2020[[\"R1_POINTS_2020\", \"R2_POINTS_2020\"]])\n",
    "#allcourses"
   ]
  },
  {
   "cell_type": "code",
   "execution_count": 20,
   "id": "a501663a-5431-4772-95be-ce14cd2ea458",
   "metadata": {},
   "outputs": [],
   "source": [
    "allcourses = allcourses.join(df2021[[\"R1_POINTS_2021\", \"R2_POINTS_2021\"]])\n",
    "#allcourses"
   ]
  },
  {
   "cell_type": "code",
   "execution_count": 21,
   "id": "f334267b-28dd-4a0b-8d05-cd5047c4f637",
   "metadata": {},
   "outputs": [
    {
     "data": {
      "text/html": [
       "<div>\n",
       "<style scoped>\n",
       "    .dataframe tbody tr th:only-of-type {\n",
       "        vertical-align: middle;\n",
       "    }\n",
       "\n",
       "    .dataframe tbody tr th {\n",
       "        vertical-align: top;\n",
       "    }\n",
       "\n",
       "    .dataframe thead th {\n",
       "        text-align: right;\n",
       "    }\n",
       "</style>\n",
       "<table border=\"1\" class=\"dataframe\">\n",
       "  <thead>\n",
       "    <tr style=\"text-align: right;\">\n",
       "      <th></th>\n",
       "      <th>TITLE</th>\n",
       "      <th>R1_POINTS_2019</th>\n",
       "      <th>R2_POINTS_2019</th>\n",
       "      <th>R1_POINTS_2020</th>\n",
       "      <th>R2_POINTS_2020</th>\n",
       "      <th>R1_POINTS_2021</th>\n",
       "      <th>R2_POINTS_2021</th>\n",
       "    </tr>\n",
       "    <tr>\n",
       "      <th>CODE</th>\n",
       "      <th></th>\n",
       "      <th></th>\n",
       "      <th></th>\n",
       "      <th></th>\n",
       "      <th></th>\n",
       "      <th></th>\n",
       "      <th></th>\n",
       "    </tr>\n",
       "  </thead>\n",
       "  <tbody>\n",
       "    <tr>\n",
       "      <th>AC120</th>\n",
       "      <td>International Business                        ...</td>\n",
       "      <td>234</td>\n",
       "      <td>234</td>\n",
       "      <td>209</td>\n",
       "      <td>NaN</td>\n",
       "      <td>294</td>\n",
       "      <td>294</td>\n",
       "    </tr>\n",
       "    <tr>\n",
       "      <th>AC137</th>\n",
       "      <td>Liberal Arts                                  ...</td>\n",
       "      <td>275</td>\n",
       "      <td>252</td>\n",
       "      <td>252</td>\n",
       "      <td>NaN</td>\n",
       "      <td>271</td>\n",
       "      <td>270</td>\n",
       "    </tr>\n",
       "    <tr>\n",
       "      <th>AD101</th>\n",
       "      <td>First Year Art &amp;amp; Design (Common Entry)    ...</td>\n",
       "      <td>NaN</td>\n",
       "      <td>#+Matric</td>\n",
       "      <td>NaN</td>\n",
       "      <td>#+matric</td>\n",
       "      <td>#554</td>\n",
       "      <td>NaN</td>\n",
       "    </tr>\n",
       "    <tr>\n",
       "      <th>AD102</th>\n",
       "      <td>Graphic Design and Moving Image Design        ...</td>\n",
       "      <td>#+Matric</td>\n",
       "      <td>NaN</td>\n",
       "      <td>#+matric</td>\n",
       "      <td>NaN</td>\n",
       "      <td>#538</td>\n",
       "      <td>NaN</td>\n",
       "    </tr>\n",
       "    <tr>\n",
       "      <th>AD103</th>\n",
       "      <td>Textile &amp;amp; Surface Design and Jewellery &amp;am...</td>\n",
       "      <td>cts</td>\n",
       "      <td>#+Matric</td>\n",
       "      <td>cts</td>\n",
       "      <td>(</td>\n",
       "      <td>#505</td>\n",
       "      <td>NaN</td>\n",
       "    </tr>\n",
       "    <tr>\n",
       "      <th>...</th>\n",
       "      <td>...</td>\n",
       "      <td>...</td>\n",
       "      <td>...</td>\n",
       "      <td>...</td>\n",
       "      <td>...</td>\n",
       "      <td>...</td>\n",
       "      <td>...</td>\n",
       "    </tr>\n",
       "    <tr>\n",
       "      <th>WD211</th>\n",
       "      <td>Creative Computing                            ...</td>\n",
       "      <td>275</td>\n",
       "      <td>NaN</td>\n",
       "      <td>271</td>\n",
       "      <td>NaN</td>\n",
       "      <td>270</td>\n",
       "      <td>NaN</td>\n",
       "    </tr>\n",
       "    <tr>\n",
       "      <th>WD212</th>\n",
       "      <td>Recreation and Sport Management               ...</td>\n",
       "      <td>274</td>\n",
       "      <td>NaN</td>\n",
       "      <td>270</td>\n",
       "      <td>NaN</td>\n",
       "      <td>262</td>\n",
       "      <td>NaN</td>\n",
       "    </tr>\n",
       "    <tr>\n",
       "      <th>WD230</th>\n",
       "      <td>Mechanical and Manufacturing Engineering      ...</td>\n",
       "      <td>273</td>\n",
       "      <td>NaN</td>\n",
       "      <td>253</td>\n",
       "      <td>NaN</td>\n",
       "      <td>230</td>\n",
       "      <td>230</td>\n",
       "    </tr>\n",
       "    <tr>\n",
       "      <th>WD231</th>\n",
       "      <td>Early Childhood Care and Education            ...</td>\n",
       "      <td>NaN</td>\n",
       "      <td>NaN</td>\n",
       "      <td>NaN</td>\n",
       "      <td>NaN</td>\n",
       "      <td>266</td>\n",
       "      <td>NaN</td>\n",
       "    </tr>\n",
       "    <tr>\n",
       "      <th>WD232</th>\n",
       "      <td>Business Information Systems                  ...</td>\n",
       "      <td>NaN</td>\n",
       "      <td>NaN</td>\n",
       "      <td>NaN</td>\n",
       "      <td>NaN</td>\n",
       "      <td>261</td>\n",
       "      <td>261</td>\n",
       "    </tr>\n",
       "  </tbody>\n",
       "</table>\n",
       "<p>1146 rows × 7 columns</p>\n",
       "</div>"
      ],
      "text/plain": [
       "                                                   TITLE R1_POINTS_2019  \\\n",
       "CODE                                                                      \n",
       "AC120  International Business                        ...            234   \n",
       "AC137  Liberal Arts                                  ...            275   \n",
       "AD101  First Year Art &amp; Design (Common Entry)    ...            NaN   \n",
       "AD102  Graphic Design and Moving Image Design        ...       #+Matric   \n",
       "AD103  Textile &amp; Surface Design and Jewellery &am...            cts   \n",
       "...                                                  ...            ...   \n",
       "WD211  Creative Computing                            ...            275   \n",
       "WD212  Recreation and Sport Management               ...            274   \n",
       "WD230  Mechanical and Manufacturing Engineering      ...            273   \n",
       "WD231  Early Childhood Care and Education            ...            NaN   \n",
       "WD232  Business Information Systems                  ...            NaN   \n",
       "\n",
       "      R2_POINTS_2019 R1_POINTS_2020 R2_POINTS_2020 R1_POINTS_2021  \\\n",
       "CODE                                                                \n",
       "AC120            234            209            NaN            294   \n",
       "AC137            252            252            NaN            271   \n",
       "AD101       #+Matric            NaN       #+matric           #554   \n",
       "AD102            NaN       #+matric            NaN           #538   \n",
       "AD103       #+Matric            cts              (           #505   \n",
       "...              ...            ...            ...            ...   \n",
       "WD211            NaN            271            NaN            270   \n",
       "WD212            NaN            270            NaN            262   \n",
       "WD230            NaN            253            NaN            230   \n",
       "WD231            NaN            NaN            NaN            266   \n",
       "WD232            NaN            NaN            NaN            261   \n",
       "\n",
       "      R2_POINTS_2021  \n",
       "CODE                  \n",
       "AC120            294  \n",
       "AC137            270  \n",
       "AD101            NaN  \n",
       "AD102            NaN  \n",
       "AD103            NaN  \n",
       "...              ...  \n",
       "WD211            NaN  \n",
       "WD212            NaN  \n",
       "WD230            230  \n",
       "WD231            NaN  \n",
       "WD232            261  \n",
       "\n",
       "[1146 rows x 7 columns]"
      ]
     },
     "execution_count": 21,
     "metadata": {},
     "output_type": "execute_result"
    }
   ],
   "source": [
    "allcourses.sort_values(\"CODE\", inplace = True)\n",
    "allcourses.to_csv (\"all.csv\")\n",
    "allcourses"
   ]
  },
  {
   "cell_type": "markdown",
   "id": "c92c58a6-4a90-4d33-8b71-18cdd9fd16c2",
   "metadata": {
    "tags": []
   },
   "source": [
    "# END TEST"
   ]
  },
  {
   "cell_type": "markdown",
   "id": "f68f46e7-5bdb-4ef0-a7e8-5f8f738e9ea4",
   "metadata": {},
   "source": [
    "## LEVEL 8 POINTS 2020, 2019\n",
    "### EOS AND MED\n",
    "http://www.cao.ie/index.php?page=points&p=2020"
   ]
  },
  {
   "cell_type": "markdown",
   "id": "46f6d517-8b8b-4de1-a408-4e5cec710e44",
   "metadata": {},
   "source": [
    "### 2020 .xlsx"
   ]
  },
  {
   "cell_type": "code",
   "execution_count": 22,
   "id": "e44439f6-5f11-4e71-bf22-b7d2ded985ef",
   "metadata": {},
   "outputs": [],
   "source": [
    "# Create a file path for the original data\n",
    "path = (\"data/cao2020_eos\" +  nowstr + \".xlsx\")"
   ]
  },
  {
   "cell_type": "code",
   "execution_count": 23,
   "id": "a9146e0f-2665-4da4-b21a-e9d64278ef87",
   "metadata": {},
   "outputs": [
    {
     "data": {
      "text/plain": [
       "('data/cao2020_eos20211115_100905.xlsx',\n",
       " <http.client.HTTPMessage at 0x212c770e130>)"
      ]
     },
     "execution_count": 23,
     "metadata": {},
     "output_type": "execute_result"
    }
   ],
   "source": [
    "urlrq.urlretrieve('http://www2.cao.ie/points/CAOPointsCharts2020.xlsx', path)"
   ]
  },
  {
   "cell_type": "code",
   "execution_count": 24,
   "id": "f815e589-fcb8-44ed-83ea-cb04d4e0546a",
   "metadata": {},
   "outputs": [],
   "source": [
    "# Download and parse the excel spreadsheet\n",
    "df = pd.read_excel(\"http://www2.cao.ie/points/CAOPointsCharts2020.xlsx\", skiprows = 10)\n",
    "#df"
   ]
  },
  {
   "cell_type": "code",
   "execution_count": 25,
   "id": "ccf2d04c-4848-4a2d-919c-e746647467e6",
   "metadata": {},
   "outputs": [],
   "source": [
    "# Spotcheck random row\n",
    "#df.iloc[753]"
   ]
  },
  {
   "cell_type": "code",
   "execution_count": 26,
   "id": "50d90257-438b-422a-9349-99f7496dbd95",
   "metadata": {},
   "outputs": [],
   "source": [
    "# Spotcheck last row\n",
    "#df.iloc[-1]"
   ]
  },
  {
   "cell_type": "code",
   "execution_count": 27,
   "id": "b0ab9737-75ee-4398-b7b9-f7294a1bce0a",
   "metadata": {},
   "outputs": [],
   "source": [
    "# Create a file path for the pandas data\n",
    "path = (\"data/cao2020_eos\" +  nowstr + \".csv\")"
   ]
  },
  {
   "cell_type": "code",
   "execution_count": 28,
   "id": "fca0f182-d0a2-4c1d-88d3-7e3eb2c57435",
   "metadata": {},
   "outputs": [],
   "source": [
    "# Save pandas data frame to disk\n",
    "df.to_csv(path)"
   ]
  },
  {
   "cell_type": "markdown",
   "id": "0f60c573-69e1-4815-ba0c-25b097d1a745",
   "metadata": {},
   "source": [
    "***"
   ]
  },
  {
   "cell_type": "markdown",
   "id": "e919eef1-0dd5-46fd-bddc-886ac73f2700",
   "metadata": {},
   "source": [
    "### 2019 .pdf"
   ]
  },
  {
   "cell_type": "markdown",
   "id": "12f9f0a9-c6b8-4402-a4dd-0241691c6a0b",
   "metadata": {},
   "source": [
    "### GET THE ORIGINAL"
   ]
  },
  {
   "cell_type": "code",
   "execution_count": 29,
   "id": "3f0d5401-9578-425e-9f1a-6ebb1e2e0bb7",
   "metadata": {},
   "outputs": [],
   "source": [
    "path = 'data/cao2019_eos' + nowstr + '.pdf'"
   ]
  },
  {
   "cell_type": "code",
   "execution_count": 30,
   "id": "41ee7d81-bfb4-4380-8a24-60147955ca67",
   "metadata": {},
   "outputs": [
    {
     "data": {
      "text/plain": [
       "<Response [200]>"
      ]
     },
     "execution_count": 30,
     "metadata": {},
     "output_type": "execute_result"
    }
   ],
   "source": [
    "resp_pdf = rq.get(\"http://www2.cao.ie/points/lvl8_19.pdf\")\n",
    "resp_pdf"
   ]
  },
  {
   "cell_type": "code",
   "execution_count": 31,
   "id": "73441854-a447-4cdb-95bc-c8c78ec6b45e",
   "metadata": {},
   "outputs": [],
   "source": [
    "with open(path, 'wb') as f:\n",
    "    f.write(resp_pdf.content)"
   ]
  },
  {
   "cell_type": "markdown",
   "id": "ecd5b939-1db1-42a4-8aa8-bf231399514b",
   "metadata": {},
   "source": [
    "### READ THE TABLE FROM PDF"
   ]
  },
  {
   "cell_type": "code",
   "execution_count": 32,
   "id": "0d564bb9-fbb4-420b-b85c-1d6c3a06da35",
   "metadata": {},
   "outputs": [],
   "source": [
    "file = path\n",
    "tables = camelot.read_pdf(file, pages = \"all\", flavor = \"lattice\")"
   ]
  },
  {
   "cell_type": "code",
   "execution_count": 33,
   "id": "ddd28c13-3918-48e6-8bb6-a648cb02f44a",
   "metadata": {},
   "outputs": [
    {
     "name": "stdout",
     "output_type": "stream",
     "text": [
      "Tables: 18\n"
     ]
    }
   ],
   "source": [
    "print (\"Tables:\", tables.n)"
   ]
  },
  {
   "cell_type": "markdown",
   "id": "d5e1351e-58dc-42b5-b865-f295be531cdc",
   "metadata": {},
   "source": [
    "https://stackoverflow.com/questions/52383287/concatenate-dataframes-in-a-for-loop"
   ]
  },
  {
   "cell_type": "code",
   "execution_count": 34,
   "id": "7deabf06-ab95-4599-a272-7cee2f483029",
   "metadata": {},
   "outputs": [],
   "source": [
    "table_total = []\n",
    "for x in range (0,18):\n",
    "    df = tables[x].df\n",
    "    table_total.append(df)\n",
    "    \n",
    "table = pd.concat(table_total)\n",
    "table.to_csv(\"data/cao2019_eos\" +  nowstr + \".csv\", index = False) "
   ]
  },
  {
   "cell_type": "markdown",
   "id": "3d3e07c7-4f65-479d-8ed8-6d8954adaab0",
   "metadata": {},
   "source": [
    "### DATA COMPARISON"
   ]
  },
  {
   "cell_type": "markdown",
   "id": "7425319a-e424-4bae-b82b-915324bd3846",
   "metadata": {},
   "source": [
    "# CONCLUSION\n",
    "\n",
    "***"
   ]
  },
  {
   "cell_type": "markdown",
   "id": "e7a54c4a-024c-4a3e-b0a9-5e529bde1006",
   "metadata": {},
   "source": [
    "## REFERENCES"
   ]
  },
  {
   "cell_type": "markdown",
   "id": "87fe7f9b-4667-44e6-aa48-0f710dd82a6c",
   "metadata": {},
   "source": [
    "## LINKS TO CHECK"
   ]
  },
  {
   "cell_type": "code",
   "execution_count": null,
   "id": "5ef47e52-0cb4-4e5f-9a20-1a672c7503ff",
   "metadata": {},
   "outputs": [],
   "source": []
  }
 ],
 "metadata": {
  "kernelspec": {
   "display_name": "Python 3",
   "language": "python",
   "name": "python3"
  },
  "language_info": {
   "codemirror_mode": {
    "name": "ipython",
    "version": 3
   },
   "file_extension": ".py",
   "mimetype": "text/x-python",
   "name": "python",
   "nbconvert_exporter": "python",
   "pygments_lexer": "ipython3",
   "version": "3.8.8"
  }
 },
 "nbformat": 4,
 "nbformat_minor": 5
}

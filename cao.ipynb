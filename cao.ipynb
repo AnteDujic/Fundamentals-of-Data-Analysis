{
 "cells": [
  {
   "cell_type": "markdown",
   "id": "cba7f882-cb9f-4b71-87ed-26c18fda786a",
   "metadata": {},
   "source": [
    "# Loading CAO points information into a pandas data frame, using CAO website\n",
    "\n",
    "http://www.cao.ie/index.php?page=points&p=2021\n",
    "\n",
    "***"
   ]
  },
  {
   "cell_type": "markdown",
   "id": "29b4655e-3bef-4630-af83-22880a7bab45",
   "metadata": {},
   "source": [
    "## INTRODUCTION"
   ]
  },
  {
   "cell_type": "markdown",
   "id": "773b93ce-dff5-4b06-90a1-f3536903fb87",
   "metadata": {},
   "source": [
    "## WHAT IS CAO"
   ]
  },
  {
   "cell_type": "markdown",
   "id": "07cb16d5-57cc-47c5-998e-e780220985be",
   "metadata": {},
   "source": [
    "### LOADING THE DATA"
   ]
  },
  {
   "cell_type": "code",
   "execution_count": 1,
   "id": "ed5b8564-ec55-4a75-b6a3-4388ac742df9",
   "metadata": {},
   "outputs": [],
   "source": [
    "import requests as rq\n",
    "import re\n",
    "import datetime as dt"
   ]
  },
  {
   "cell_type": "code",
   "execution_count": 2,
   "id": "eafa5857-210b-49f4-ab3f-abbe9167814d",
   "metadata": {},
   "outputs": [
    {
     "name": "stdout",
     "output_type": "stream",
     "text": [
      "<Response [200]>\n"
     ]
    }
   ],
   "source": [
    "resp = rq.get (\"http://www2.cao.ie/points/l8.php\")\n",
    "print (resp) #200 means ok"
   ]
  },
  {
   "cell_type": "markdown",
   "id": "31979f5f-a94f-4b8c-87b4-e24522cb6900",
   "metadata": {},
   "source": [
    "## SAVE THE ORIGINAL DATA"
   ]
  },
  {
   "cell_type": "code",
   "execution_count": 3,
   "id": "d0ba5845-281e-47d2-b9fa-af88bb557e91",
   "metadata": {},
   "outputs": [],
   "source": [
    "# Current date and time\n",
    "now = dt.datetime.now()\n",
    "\n",
    "# Format as a string\n",
    "nowstr = (now.strftime(\"%Y%m%d_%H%M%S\"))"
   ]
  },
  {
   "cell_type": "code",
   "execution_count": 4,
   "id": "1cc3a8f6-3765-4ad8-8245-b738920e18d7",
   "metadata": {},
   "outputs": [],
   "source": [
    "# Create a file path for the original data\n",
    "path = (\"cao2021_\" +  nowstr + \".html\")"
   ]
  },
  {
   "cell_type": "code",
   "execution_count": 5,
   "id": "df236295-f830-4279-9919-c40c3d6769af",
   "metadata": {},
   "outputs": [],
   "source": [
    "# Fixing the wrong server encoding\n",
    "original_encoding = resp.encoding\n",
    "# Change to cp1252\n",
    "resp.encoding = \"cp1252\""
   ]
  },
  {
   "cell_type": "code",
   "execution_count": 6,
   "id": "98c69c85-2735-4d53-a350-b1d466f2dfe2",
   "metadata": {},
   "outputs": [],
   "source": [
    "# Save the original html file\n",
    "with open(path, \"w\") as f:\n",
    "    f.write(resp.text)"
   ]
  },
  {
   "cell_type": "markdown",
   "id": "b4ea30f7-deb6-4049-8bab-2b393ac7abea",
   "metadata": {},
   "source": [
    "## REGULAR EXPRESSIONS"
   ]
  },
  {
   "cell_type": "code",
   "execution_count": 7,
   "id": "84c41ec6-a1b3-4ff4-b8a6-74f99ca1ba4f",
   "metadata": {},
   "outputs": [],
   "source": [
    "re_course = re.compile(r\"([A-Z]{2}[0-9]{3})(.*)([0-9]{3})(\\*?) *\")"
   ]
  },
  {
   "cell_type": "markdown",
   "id": "e668f054-a3fd-4097-a918-05cfff46d2cf",
   "metadata": {},
   "source": [
    "## LOOP THROUGH THE LINES"
   ]
  },
  {
   "cell_type": "code",
   "execution_count": 8,
   "id": "eaec8e28-fd35-4600-94e3-bb2ebfa2ed69",
   "metadata": {
    "scrolled": true,
    "tags": []
   },
   "outputs": [
    {
     "name": "stdout",
     "output_type": "stream",
     "text": [
      "Total number of lines: 922\n"
     ]
    }
   ],
   "source": [
    "path = (\"cao2021_csv_\" +  nowstr + \".csv\")\n",
    "    \n",
    "no_lines = 0\n",
    "            \n",
    "with open (path, \"w\") as f:\n",
    "    # Loop\n",
    "    for line in resp.iter_lines():\n",
    "        dline = (line.decode(\"cp1252\"))\n",
    "        # Match only lines with courses\n",
    "        if re_course.fullmatch(dline):\n",
    "            # Add one to the lines counter\n",
    "            no_lines = no_lines + 1\n",
    "            #print (line)\n",
    "            # Pick out the relevant lines\n",
    "            # csv_version = re_course.sub(r\"\\1,\\2,\\3,\\4\", dline)\n",
    "            # Print the CSV\n",
    "            # print (csv_version)\n",
    "            linesplit = re.split (\"  +\", dline)\n",
    "            # print (\",\".join(linesplit))\n",
    "            # f.write (csv_version + \"\\n\")\n",
    "            f.write (\",\".join(linesplit) + \"\\n\")\n",
    "        \n",
    "print (\"Total number of lines:\", no_lines)"
   ]
  },
  {
   "cell_type": "code",
   "execution_count": null,
   "id": "5ecb9c2d-31e1-45c3-a9a9-b267c3274465",
   "metadata": {},
   "outputs": [],
   "source": []
  },
  {
   "cell_type": "code",
   "execution_count": null,
   "id": "7bb8ceac-5a4f-43db-96bd-6582bffc16c8",
   "metadata": {},
   "outputs": [],
   "source": []
  },
  {
   "cell_type": "code",
   "execution_count": null,
   "id": "20918dd2-1b08-47a0-bad9-e720eb08eff5",
   "metadata": {},
   "outputs": [],
   "source": []
  },
  {
   "cell_type": "markdown",
   "id": "dfc79303-9fdb-4c77-8e17-0dcb3a050362",
   "metadata": {},
   "source": [
    "#### Regular expressions"
   ]
  },
  {
   "cell_type": "markdown",
   "id": "b19e35cc-73b3-470e-afab-798528eca774",
   "metadata": {},
   "source": [
    "### CAO DATA 2019, 2020, 2021"
   ]
  },
  {
   "cell_type": "markdown",
   "id": "3d3e07c7-4f65-479d-8ed8-6d8954adaab0",
   "metadata": {},
   "source": [
    "### DATA COMPARISON"
   ]
  },
  {
   "cell_type": "markdown",
   "id": "7425319a-e424-4bae-b82b-915324bd3846",
   "metadata": {},
   "source": [
    "# CONCLUSION\n",
    "\n",
    "***"
   ]
  },
  {
   "cell_type": "markdown",
   "id": "e7a54c4a-024c-4a3e-b0a9-5e529bde1006",
   "metadata": {},
   "source": [
    "## REFERENCES"
   ]
  },
  {
   "cell_type": "markdown",
   "id": "87fe7f9b-4667-44e6-aa48-0f710dd82a6c",
   "metadata": {},
   "source": [
    "## LINKS TO CHECK"
   ]
  },
  {
   "cell_type": "code",
   "execution_count": null,
   "id": "5ef47e52-0cb4-4e5f-9a20-1a672c7503ff",
   "metadata": {},
   "outputs": [],
   "source": []
  }
 ],
 "metadata": {
  "kernelspec": {
   "display_name": "Python 3",
   "language": "python",
   "name": "python3"
  },
  "language_info": {
   "codemirror_mode": {
    "name": "ipython",
    "version": 3
   },
   "file_extension": ".py",
   "mimetype": "text/x-python",
   "name": "python",
   "nbconvert_exporter": "python",
   "pygments_lexer": "ipython3",
   "version": "3.8.8"
  }
 },
 "nbformat": 4,
 "nbformat_minor": 5
}

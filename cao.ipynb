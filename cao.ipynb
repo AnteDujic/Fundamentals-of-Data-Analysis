{
 "cells": [
  {
   "cell_type": "markdown",
   "id": "cba7f882-cb9f-4b71-87ed-26c18fda786a",
   "metadata": {},
   "source": [
    "# CAO POINTS ANALYSIS\n",
    "### AUTHOR: ANTE DUJIC\n",
    "<hr style=\"border:2px solid black\"> </hr>"
   ]
  },
  {
   "cell_type": "markdown",
   "id": "29b4655e-3bef-4630-af83-22880a7bab45",
   "metadata": {},
   "source": [
    "## INTRODUCTION\n",
    "<hr style=\"border:2px solid gray\"> </hr>"
   ]
  },
  {
   "cell_type": "markdown",
   "id": "855f1a18-9c81-4dd1-b9de-7b6155186480",
   "metadata": {},
   "source": [
    "This notebook gives an overview of how to load CAO points information from the CAO website into a pandas data frame and the comparison of CAO points in 2019, 2020, and 2021."
   ]
  },
  {
   "cell_type": "markdown",
   "id": "702f49e3-5282-46bc-8b90-1120ab8f5b6e",
   "metadata": {},
   "source": [
    "[<center><img src=\"http://www.cao.ie/images/cao.png\" width=\"100\"/></center> ](http://www.cao.ie/index.php)\n",
    "\n",
    "***\n",
    "### CONTENTS\n",
    "\n",
    "1. [WHAT IS CAO](#CAO)\n",
    "2. [LOADING AND SAVING THE DATA](#DATA)\n",
    "    - 2.1. [LEVEL 8 POINTS - R1 and R2](#R1R2)\n",
    "        - 2.1.1. [2019, 2020, 2021 (html)](#HTML)\n",
    "    - 2.2. [LEVEL 8 POINTS - EOS and MID](#EOSMID)\n",
    "        - 2.2.1. [2020 (xlsx)](#XLSX)\n",
    "        - 2.2.2. [2019 (pdf)](#PDF)\n",
    "2. [CONCATENATING THE DATA](#CONCATENATE)"
   ]
  },
  {
   "cell_type": "markdown",
   "id": "773b93ce-dff5-4b06-90a1-f3536903fb87",
   "metadata": {},
   "source": [
    "## 1. WHAT IS CAO <a id='CAO'></a>\n",
    "<hr style=\"border:2px solid gray\"> </hr>"
   ]
  },
  {
   "cell_type": "markdown",
   "id": "3fea6b6e-5a1b-4f35-982f-ada108a26bd6",
   "metadata": {},
   "source": [
    "The purpose of the Central Applications Office (CAO) is to process centrally applications for undergraduate courses in Irish Higher Education Institutions (HEIs), and to deal with them in an efficient and fair manner. [1]\n",
    "\n",
    "Students applying for admission to third level education courses in Ireland apply to the CAO rather than to individual educational institutions such as colleges and universities. The CAO then offers places to students who meet the minimum requirements for a course for which they have applied. If for a particular course there are more qualified applicants than available places, the CAO makes offers to those applicants with the highest score in the CAO points system. If students do not accepts offers, or later decline them because they receive an offer for another course, the CAO makes further offers until all of the places have been filled or until the offer season closes. [2]"
   ]
  },
  {
   "cell_type": "code",
   "execution_count": 1,
   "id": "1ef318e4-5c7a-4c1d-bbae-6ee10ec5805f",
   "metadata": {
    "tags": []
   },
   "outputs": [],
   "source": [
    "# HTTP request\n",
    "import requests as rq\n",
    "\n",
    "# Regular expressions\n",
    "import re\n",
    "\n",
    "# Dates and time\n",
    "import datetime as dt\n",
    "\n",
    "# Data frames\n",
    "import pandas as pd\n",
    "\n",
    "# For downloading\n",
    "import urllib.request as urlrq\n",
    "\n",
    "# PDF\n",
    "import camelot\n",
    "\n",
    "# To use .unescape\n",
    "import html\n",
    "\n",
    "# Plotting\n",
    "import matplotlib.pyplot as plt\n",
    "import seaborn as sns"
   ]
  },
  {
   "cell_type": "markdown",
   "id": "07cb16d5-57cc-47c5-998e-e780220985be",
   "metadata": {},
   "source": [
    "## 2. LEVEL 8 - ROUND 1 and ROUND 2\n",
    "<hr style=\"border:2px solid gray\"> </hr>"
   ]
  },
  {
   "cell_type": "markdown",
   "id": "25705258-0285-43ed-88b7-560aea01e413",
   "metadata": {},
   "source": [
    "The data for Round 1 and Round 2 for the three given years (2019., 2020., 2021.) has been pulled from the CAO website. As mentioned in the README, CAO practice is to first upload the data with only Round 1 and Round 2 points and then overwrite that data with EOS and MID points after the academic year starts. To obtain the Round 1 and Round 2 data for the 2019. and 2020. I have used [The Internet Archive](https://web.archive.org/). This didn't only allow me access to the archived version of the website but also gave me the same format and the structure of the data for all the years.\n",
    "\n",
    "\n",
    "2019: https://web.archive.org/web/20191019135815/http://www2.cao.ie:80/points/l8.php <br>\n",
    "2020: https://web.archive.org/web/20201108133105/http://www2.cao.ie/points/l8.php <br>\n",
    "2021: http://www2.cao.ie/points/l8.php"
   ]
  },
  {
   "cell_type": "markdown",
   "id": "5583f692-4e33-423d-817d-e91770ec4ff2",
   "metadata": {
    "tags": []
   },
   "source": [
    "### THE WEBSITE STRUCTURE\n",
    "***"
   ]
  },
  {
   "cell_type": "markdown",
   "id": "88efe587-11b3-418f-9b3a-550a1ddec065",
   "metadata": {},
   "source": [
    "The data on the CAO website has the following structure:\n",
    "- Title\n",
    "- Information on how to read the data\n",
    "- List of colleges\n",
    "- Course Level Title\n",
    "- Points table\n",
    "    - Course code\n",
    "    - Course title\n",
    "    - Round 1 points\n",
    "    - Round 2 points\n",
    "\n",
    "The data of interest is contained under the table section of the website. It is explained below how the data was scrapped, cleaned and saved for the later analysis."
   ]
  },
  {
   "cell_type": "markdown",
   "id": "741c0884-fee1-492d-bcfc-da0140d55da7",
   "metadata": {},
   "source": [
    "### SCRAPPING AND CLEANING THE DATA\n",
    "***"
   ]
  },
  {
   "cell_type": "markdown",
   "id": "24b2e11a-bf76-4e43-be7e-5f9c57ab88e2",
   "metadata": {},
   "source": [
    "<br>\n",
    "Current data and time are used for the filenames that will get created to save the original data and the cleaned data. I've used the date and time for easier access and organization of the data, but also to avoid the overwriting of the data files."
   ]
  },
  {
   "cell_type": "code",
   "execution_count": 2,
   "id": "6ce5af00-8427-429c-80bd-3256f14b6735",
   "metadata": {
    "tags": []
   },
   "outputs": [],
   "source": [
    "# Current date and time\n",
    "now = dt.datetime.now()\n",
    "# Format as a string\n",
    "nowstr = (now.strftime(\"%Y%m%d_%H%M%S\"))"
   ]
  },
  {
   "cell_type": "markdown",
   "id": "e4345c5c-16e4-49a3-89e0-a7e85ac8e2b9",
   "metadata": {},
   "source": [
    "<br>\n",
    "To filter out only relevant data from the website I've used the below regular expression. Regular expression  is a sequence of characters that specifies a search pattern. Usually such patterns are used by string-searching algorithms for \"find\" or \"find and replace\" operations on strings, or for input validation. [4] The set regular expression filters out only the lines starting with the course code (e.g. AL801)."
   ]
  },
  {
   "cell_type": "code",
   "execution_count": 3,
   "id": "27633a8d-02c5-446a-b272-93b349661bcf",
   "metadata": {},
   "outputs": [],
   "source": [
    "# Regular expression\n",
    "re_course = re.compile(r\"([A-Z]{2}[0-9]{3})(.*)\")"
   ]
  },
  {
   "cell_type": "markdown",
   "id": "643186e9-0b9c-4e37-ae02-5855703a6d59",
   "metadata": {},
   "source": [
    "<br>\n",
    "To loop through the years and run multiple lines of code for each year in one go, I've created the dictionary below."
   ]
  },
  {
   "cell_type": "code",
   "execution_count": 4,
   "id": "0413bc40-8cd4-4cf7-982f-16ad0f1bf5bf",
   "metadata": {},
   "outputs": [],
   "source": [
    "# Defining a dictionary\n",
    "years_dict = {\n",
    "    \"2019\": [(\"data/cao2019\" +  nowstr), \"https://web.archive.org/web/20191019135815/http://www2.cao.ie:80/points/l8.php\"],\n",
    "    \"2020\": [(\"data/cao2020\" +  nowstr), \"https://web.archive.org/web/20201108133105/http://www2.cao.ie/points/l8.php\"],\n",
    "    \"2021\": [(\"data/cao2021\" +  nowstr), \"http://www2.cao.ie/points/l8.php\"]\n",
    "}"
   ]
  },
  {
   "cell_type": "markdown",
   "id": "e60d2f83-4fa0-44b7-8cdd-30f5cd0748e0",
   "metadata": {},
   "source": [
    "<br>\n",
    "There are 3 main parts of the loop below:\n",
    "<br>\n",
    "1. Save the original html\n",
    "<br>\n",
    "This was done to ensure the original website format from which the data was scrapped is kept, in case of any future changes on the CEO website itself. The data was fetched from the given url-s and it was encoded (cp1252), due to symbols in certain course names not being supported. NOTE: Encoding on the website is wrong.\n",
    "<br>\n",
    "2. Read the data and filter out only the relevant data\n",
    "<br>\n",
    "The fetched data was ittered through and filtered out using the mentioned regular expression to catch only the relevant data. Symbol \"&\" instead \"and\" was used in certain 2019 and 2020 course names and it was being decoded as \"&amp;\" when saving to csv. To avoid this *html.unescape* function was used. The data was also structured to fit the csv file - split and divided by commas to create 4 columns \"CODE\", \"TITLE\", \"R1_POINTS\", \"R2_POINTS\".\n",
    "<br>\n",
    "3. Save the cleaned data as csv files"
   ]
  },
  {
   "cell_type": "code",
   "execution_count": null,
   "id": "90dfae36-5c06-4850-9f40-6583c8b91aeb",
   "metadata": {},
   "outputs": [],
   "source": [
    "# Loop through the (dict) years\n",
    "for year, content in years_dict.items():\n",
    "    # Fetch the CAO points URL\n",
    "    rq.get (content[1])\n",
    "    resp = rq.get (content[1])\n",
    "    # The server uses the wrong encoding\n",
    "        # Change to \"cp1252\"\n",
    "    resp.encoding = \"cp1252\"\n",
    "    # Check if OK:\n",
    "        #Response [200] means OK\n",
    "    print (year,resp)\n",
    "    \n",
    "    # Save the original html file\n",
    "    with open(content[0] + \".html\", \"w\") as f:\n",
    "        f.write(resp.text)\n",
    "        # Keep track of how many courses we process\n",
    "    \n",
    "    no_lines = 0\n",
    "    # Iterating through the lines\n",
    "    resp.iter_lines()\n",
    "    resps = resp.iter_lines()\n",
    "    \n",
    "    # Open the csv file for writing (saving)\n",
    "    with open(content[0] + \".csv\", \"w\") as f:\n",
    "        # Cleaning the data\n",
    "        # Write a header row.\n",
    "        f.write(','.join([\"CODE\", \"TITLE\", \"R1_POINTS\", \"R2_POINTS\"]) + \"\\n\")\n",
    "        # Loop through lines of the response.\n",
    "        for line in resps:\n",
    "            # Decode the line, using the wrong encoding\n",
    "            dline = line.decode(\"cp1252\")\n",
    "            # Converting &amp; to &\n",
    "            dline = html.unescape(dline)\n",
    "            # Match only the lines representing courses\n",
    "            if re_course.fullmatch(dline):\n",
    "                # Add one to the lines counter\n",
    "                no_lines = no_lines + 1\n",
    "                # The course code\n",
    "                course_code = dline[:5]\n",
    "                # The course title\n",
    "                course_title = dline[7:57]\n",
    "                # Round one points\n",
    "                course_points = re.split(' +', dline[60:])\n",
    "                if len(course_points) != 2:\n",
    "                    course_points = course_points[:2]\n",
    "                # Join the fields using a comma\n",
    "                linesplit = [course_code, course_title, course_points[0], course_points[1]]\n",
    "                # Rejoin the substrings with commas in between\n",
    "                f.write(\",\".join(linesplit) + \"\\n\")   \n",
    "    # Print the total number of processed lines\n",
    "    print(\"Total number of lines in CAO\", year, \"database is\", no_lines)"
   ]
  },
  {
   "cell_type": "markdown",
   "id": "43f2899d-0023-499b-8a1c-230b783b6207",
   "metadata": {},
   "source": [
    "## 2. LEVEL 8 - EOS and MID\n",
    "<hr style=\"border:2px solid gray\"> </hr>"
   ]
  },
  {
   "cell_type": "markdown",
   "id": "4a864eda-626a-4c66-b0ab-d0c421d9d72e",
   "metadata": {},
   "source": [
    "As mentioned in README, EOS and MID points data becomes available after the start of the academic year, and are only available for 2019. and 2020. in the time of making this project. However, the project could be updated in the future when the data becomes available for 2021.\n",
    "\n",
    "2019: http://www2.cao.ie/points/lvl8_19.pdf <br>\n",
    "2020: http://www2.cao.ie/points/CAOPointsCharts2020.xlsx"
   ]
  },
  {
   "cell_type": "markdown",
   "id": "1c7834b3-3b45-4371-85d1-e2b32d8778b2",
   "metadata": {
    "tags": []
   },
   "source": [
    "### 2019 - THE PDF FILE STRUCTURE\n",
    "***"
   ]
  },
  {
   "cell_type": "markdown",
   "id": "d1ac6f09-d4d6-4234-bd5e-3ca5ac64c00f",
   "metadata": {},
   "source": [
    "Data containing EOS and MID points for 2019 is in pdf format.\n",
    "The file has the following structure:\n",
    "- Title and the Subtitles of the file\n",
    "- Information on the data in the file\n",
    "- Information on how to read the data\n",
    "- Points table\n",
    "    - Course code\n",
    "    - Institution and Course\n",
    "    - EOS points\n",
    "    - MID points\n",
    "\n",
    "The data of interest is contained under the table section of the file. It is explained below how the data was scrapped, cleaned and saved for the later analysis."
   ]
  },
  {
   "cell_type": "markdown",
   "id": "879465c6-e45d-4c90-9a5a-6ce409aee8ae",
   "metadata": {},
   "source": [
    "### SCRAPPING AND CLEANING THE DATA\n",
    "***"
   ]
  },
  {
   "cell_type": "markdown",
   "id": "66711bd3-36d5-4d97-94fa-5fb9f8ccd887",
   "metadata": {},
   "source": [
    "To obtain the data from the pdf file I've used the *camelot* library. Same steps are taken as per scrapping the R1 and R2 points:\n",
    "<br>\n",
    "1. Save the original file\n",
    "2. Read the pdf file and filter out the table only\n",
    "3. Concate the tables read\n",
    "4. Save the data as csv file"
   ]
  },
  {
   "cell_type": "code",
   "execution_count": null,
   "id": "3f0d5401-9578-425e-9f1a-6ebb1e2e0bb7",
   "metadata": {},
   "outputs": [],
   "source": [
    "# Creating a file path for the original data\n",
    "path2019pdf = 'data/cao2019_eos' + nowstr + '.pdf'"
   ]
  },
  {
   "cell_type": "code",
   "execution_count": null,
   "id": "41ee7d81-bfb4-4380-8a24-60147955ca67",
   "metadata": {},
   "outputs": [],
   "source": [
    "# Fetch the CAO points URL\n",
    "resp_pdf = rq.get(\"http://www2.cao.ie/points/lvl8_19.pdf\")\n",
    "resp_pdf # <Response [200]> means OK"
   ]
  },
  {
   "cell_type": "code",
   "execution_count": null,
   "id": "73441854-a447-4cdb-95bc-c8c78ec6b45e",
   "metadata": {},
   "outputs": [],
   "source": [
    "# Save the original file\n",
    "with open(path2019pdf, 'wb') as f:\n",
    "    f.write(resp_pdf.content)"
   ]
  },
  {
   "cell_type": "code",
   "execution_count": null,
   "id": "0d564bb9-fbb4-420b-b85c-1d6c3a06da35",
   "metadata": {},
   "outputs": [],
   "source": [
    "# Read the pdf file\n",
    "tables = camelot.read_pdf(path2019pdf, pages = \"all\", flavor = \"lattice\")"
   ]
  },
  {
   "cell_type": "code",
   "execution_count": null,
   "id": "ddd28c13-3918-48e6-8bb6-a648cb02f44a",
   "metadata": {},
   "outputs": [],
   "source": [
    "# Check the total number of tables read\n",
    "print (\"Tables:\", tables.n)"
   ]
  },
  {
   "cell_type": "code",
   "execution_count": null,
   "id": "7deabf06-ab95-4599-a272-7cee2f483029",
   "metadata": {},
   "outputs": [],
   "source": [
    "# Create empty list\n",
    "table_total = []\n",
    "# Loop through all 18 tables\n",
    "for x in range (0,18):\n",
    "    df = tables[x].df\n",
    "    # Append all 18 tables to table_total\n",
    "    table_total.append(df)\n",
    "\n",
    "# Concatenate all tables  \n",
    "table = pd.concat(table_total)\n",
    "# Remove old column names\n",
    "table = table.iloc[1: , :]\n",
    "# Name the columns\n",
    "table.columns = [\"CODE\",\"TITLE\", \"EOS_2019\", \"MID_2019\"]\n",
    "# Sort table by \"CODE\" column\n",
    "table.sort_values(\"CODE\", inplace = True)\n",
    "# Remove first 35 rows (name of the college)\n",
    "table = table.iloc[35: , :]\n",
    "# Save .csv file\n",
    "table.to_csv(\"data/cao2019_eos\" +  nowstr + \".csv\", index = False)\n",
    "#table"
   ]
  },
  {
   "cell_type": "markdown",
   "id": "515486c6-ccc3-4e9b-819d-51c2582d103f",
   "metadata": {
    "tags": []
   },
   "source": [
    "### 2020 - THE XLSX FILE STRUCTURE\n",
    "***"
   ]
  },
  {
   "cell_type": "markdown",
   "id": "357b99e5-e3d2-40a4-8538-0f70db7a3615",
   "metadata": {},
   "source": [
    "Data containing EOS and MID points for 2020 is in xlsx format. The file has the following structure:\n",
    "The file has the following structure:\n",
    "- Title and the Subtitles of the file\n",
    "- Information on the data in the file\n",
    "- Information on how to read the data\n",
    "- Points table\n",
    "\n",
    "\n",
    "The data of interest is contained under the columns \"\". It is explained below how the data was scrapped, cleaned and saved for the later analysis."
   ]
  },
  {
   "cell_type": "markdown",
   "id": "9cb02b1b-5c0f-4c50-b618-d810be9116bd",
   "metadata": {},
   "source": [
    "### SCRAPPING AND CLEANING THE DATA\n",
    "***"
   ]
  },
  {
   "cell_type": "markdown",
   "id": "5eb89808-4af5-4f0c-be18-becc11751ad9",
   "metadata": {},
   "source": [
    "To obtain the data from the pdf file I've used the *urllib.request* library. Steps taken:\n",
    "<br>\n",
    "1. Save the original file\n",
    "2. Read the xlsx file and clear the data\n",
    "4. Save the data as csv file"
   ]
  },
  {
   "cell_type": "code",
   "execution_count": null,
   "id": "388d68dc-2cde-40c1-a4e3-633fd0db1f7b",
   "metadata": {},
   "outputs": [],
   "source": [
    "# Create a file path for the original data\n",
    "path = (\"data/cao2020_eos\" +  nowstr + \".xlsx\")\n",
    "\n",
    "# Copying network xlsx file\n",
    "urlrq.urlretrieve('http://www2.cao.ie/points/CAOPointsCharts2020.xlsx', path)"
   ]
  },
  {
   "cell_type": "code",
   "execution_count": null,
   "id": "bee0369b-68e2-4aa1-bb6a-df1666bb4aec",
   "metadata": {},
   "outputs": [],
   "source": [
    "# Download and parse the excel spreadsheet\n",
    "df2020_eos = pd.read_excel(\"http://www2.cao.ie/points/CAOPointsCharts2020.xlsx\", skiprows = 10)"
   ]
  },
  {
   "cell_type": "code",
   "execution_count": null,
   "id": "a573bfa5-4854-4c30-8063-a294d92e9ffd",
   "metadata": {},
   "outputs": [],
   "source": [
    "# Filter out only level 8 courses\n",
    "df2020_eos = df2020_eos.loc[df2020_eos[\"LEVEL\"] == 8]\n",
    "# Remove last 12 columns\n",
    "df2020_eos = df2020_eos.iloc[: , :-12]\n",
    "# Save pandas data frame to disk\n",
    "df2020_eos.to_csv((\"data/cao2020_eos\" +  nowstr + \".csv\"))\n",
    "#df2020_eos"
   ]
  },
  {
   "cell_type": "markdown",
   "id": "d9841823-1a22-400f-8788-0f0f15567cfa",
   "metadata": {},
   "source": [
    "## 3. CONCATENATING THE DATA <a id='CONCATENATE'></a>\n",
    "<hr style=\"border:2px solid gray\"> </hr>"
   ]
  },
  {
   "cell_type": "code",
   "execution_count": null,
   "id": "7ace5f1e-cf4b-4208-a5b4-7d42bb912777",
   "metadata": {},
   "outputs": [],
   "source": [
    "# Defining a dictionary\n",
    "df_dict = {\n",
    "    \"2019\": [(\"data/cao2019\" +  nowstr)],\n",
    "    \"2019_eos\": [(\"data/cao2019_eos\" +  nowstr)],\n",
    "    \"2020\": [(\"data/cao2020\" +  nowstr)],\n",
    "    \"2020_eos\": [(\"data/cao2020_eos\" +  nowstr)],\n",
    "    \"2021\": [(\"data/cao2021\" +  nowstr)]\n",
    "}"
   ]
  },
  {
   "cell_type": "code",
   "execution_count": null,
   "id": "5af55bff-6096-46bd-9995-56032224f6f7",
   "metadata": {},
   "outputs": [],
   "source": [
    "# Creating an empty list for adding dataframes\n",
    "dataframe = []\n",
    "# Loop - reading the csv files and appending to list\n",
    "for year, path in df_dict.items():\n",
    "    data = pd.read_csv ((path[0] + \".csv\"), encoding='cp1252')\n",
    "    dataframe.append (data)\n",
    "# Conecating all dataframes into one\n",
    "allcourses = pd.concat (dataframe)\n",
    "# Filering out columns\n",
    "allcourses = allcourses [[\"CODE\", \"TITLE\"]]\n",
    "# Remove duplicates created by conecating\n",
    "allcourses.drop_duplicates(subset=[\"CODE\"], inplace=True, ignore_index=False)\n",
    "# Sort the table by \"CODE\" column\n",
    "allcourses.sort_values(\"CODE\", inplace = True)\n",
    "#allcourses"
   ]
  },
  {
   "cell_type": "code",
   "execution_count": null,
   "id": "cde76183-4458-4163-84e6-9d8218ec3529",
   "metadata": {},
   "outputs": [],
   "source": [
    "#2019 df\n",
    "dataframe[0].columns = [\"CODE\",\"TITLE\", \"R1_POINTS_2019\", \"R2_POINTS_2019\"]\n",
    "#2019_eos is #dataframe[1]\n",
    "#2020 df\n",
    "dataframe[2].columns = [\"CODE\",\"TITLE\", \"R1_POINTS_2020\", \"R2_POINTS_2020\"]\n",
    "#2020_eos df\n",
    "dataframe[3] = dataframe[3][[\"COURSE CODE2\",\"EOS\", \"EOS Mid-point\"]]\n",
    "dataframe[3].columns = [\"CODE\",\"EOS_2020\", \"MID_2020\"]\n",
    "#2021 df\n",
    "dataframe[4].columns = [\"CODE\",\"TITLE\", \"R1_POINTS_2021\", \"R2_POINTS_2021\"]"
   ]
  },
  {
   "cell_type": "code",
   "execution_count": null,
   "id": "b6f4cfb4-200f-4336-a385-9e467aadc0e8",
   "metadata": {},
   "outputs": [],
   "source": [
    "# Loop - set \"CODE\" column as index for all df\n",
    "for i in dataframe:\n",
    "    i.set_index(\"CODE\", inplace=True)"
   ]
  },
  {
   "cell_type": "code",
   "execution_count": null,
   "id": "5f405df7-1ff2-46da-b69a-02994a9e710d",
   "metadata": {},
   "outputs": [],
   "source": [
    "allcourses.set_index(\"CODE\", inplace=True)\n",
    "allcourses = allcourses.join(dataframe[0][[\"R1_POINTS_2019\", \"R2_POINTS_2019\"]])\n",
    "#allcourses"
   ]
  },
  {
   "cell_type": "code",
   "execution_count": null,
   "id": "29d46e88-d701-4d29-a464-2d5f60e2ba70",
   "metadata": {},
   "outputs": [],
   "source": [
    "allcourses = allcourses.join(dataframe[1][[\"EOS_2019\", \"MID_2019\"]])\n",
    "allcourses = allcourses.join(dataframe[2][[\"R1_POINTS_2020\", \"R2_POINTS_2020\"]])\n",
    "allcourses = allcourses.join(dataframe[3][[\"EOS_2020\", \"MID_2020\"]])\n",
    "allcourses = allcourses.join(dataframe[4][[\"R1_POINTS_2021\", \"R2_POINTS_2021\"]])\n",
    "#allcourses"
   ]
  },
  {
   "cell_type": "code",
   "execution_count": null,
   "id": "f6a928d7-ea3a-4c01-a809-0c797b038340",
   "metadata": {},
   "outputs": [],
   "source": [
    "#allcourses.sort_values(\"CODE\", inplace = True)\n",
    "allcourses.to_csv (\"data/Final_table.csv\")\n",
    "allcourses"
   ]
  },
  {
   "cell_type": "markdown",
   "id": "4774b801-4ce7-47e8-a2a7-7f92f0c2f126",
   "metadata": {},
   "source": [
    "## 4. DATA ANALYSIS\n",
    "<hr style=\"border:2px solid gray\"> </hr>"
   ]
  },
  {
   "cell_type": "code",
   "execution_count": null,
   "id": "17de076f-a24b-48a0-83be-7441a04758cb",
   "metadata": {},
   "outputs": [],
   "source": [
    "df = pd.read_csv (\"data/Final_table.csv\", index_col = [\"CODE\", \"TITLE\"])\n",
    "df"
   ]
  },
  {
   "cell_type": "code",
   "execution_count": null,
   "id": "56a8f1a0-7174-4662-b499-ac99335d173f",
   "metadata": {},
   "outputs": [],
   "source": [
    "df.dtypes"
   ]
  },
  {
   "cell_type": "code",
   "execution_count": null,
   "id": "757fd81d-4973-4a30-a731-d114313503f9",
   "metadata": {},
   "outputs": [],
   "source": [
    "# Filtering out the non numeric values in df\n",
    "    # Replace all strings with \"none\"\n",
    "df_numeric = df.replace(r'\\D', '', regex=True)\n",
    "    # Change columns type from object to numeric\n",
    "df_numeric = df.apply(pd.to_numeric, errors='coerce')\n",
    "df_numeric"
   ]
  },
  {
   "cell_type": "code",
   "execution_count": null,
   "id": "1f4c6af6-f261-4c72-81ad-6fc759926474",
   "metadata": {},
   "outputs": [],
   "source": [
    "df_numeric.to_csv (\"Numeric_table.csv\")"
   ]
  },
  {
   "cell_type": "code",
   "execution_count": null,
   "id": "1407f89e-d440-4f1e-80ab-f011a7187181",
   "metadata": {},
   "outputs": [],
   "source": [
    "df_numeric.dtypes"
   ]
  },
  {
   "cell_type": "code",
   "execution_count": null,
   "id": "42c1b703-d9f0-44c4-b8b2-a9f011aff8af",
   "metadata": {},
   "outputs": [],
   "source": [
    "# 2019\n",
    "r1_2019 = df_numeric [\"R1_POINTS_2019\"]\n",
    "r2_2019 = df_numeric [\"R2_POINTS_2019\"]\n",
    "eos_2019 = df_numeric [\"EOS_2019\"]\n",
    "mid_2019 = df_numeric [\"MID_2019\"]\n",
    "# 2020\n",
    "r1_2020 = df_numeric [\"R1_POINTS_2020\"]\n",
    "r2_2020 = df_numeric [\"R2_POINTS_2020\"]\n",
    "eos_2020 = df_numeric [\"EOS_2020\"]\n",
    "mid_2020 = df_numeric [\"MID_2020\"]\n",
    "# 2021\n",
    "r1_2021 = df_numeric [\"R1_POINTS_2021\"]\n",
    "r2_2021 = df_numeric [\"R2_POINTS_2021\"]"
   ]
  },
  {
   "cell_type": "code",
   "execution_count": null,
   "id": "7bbcf19b-34e2-484b-8e26-f210b781cca4",
   "metadata": {},
   "outputs": [],
   "source": [
    "r1_2019"
   ]
  },
  {
   "cell_type": "code",
   "execution_count": null,
   "id": "b8f63e1e-e814-491f-9630-c8d859864775",
   "metadata": {},
   "outputs": [],
   "source": [
    "df_numeric.describe()"
   ]
  },
  {
   "cell_type": "code",
   "execution_count": null,
   "id": "d23d8f56-697b-4672-99ec-2066e9ded55c",
   "metadata": {},
   "outputs": [],
   "source": [
    "df_points = df_numeric [[\"R1_POINTS_2019\", \"R1_POINTS_2020\", \"R1_POINTS_2021\",\n",
    "                        \"R2_POINTS_2019\", \"R2_POINTS_2020\", \"R2_POINTS_2021\"]]\n",
    "df_points.corr()"
   ]
  },
  {
   "cell_type": "code",
   "execution_count": null,
   "id": "6a841ad8-b7ea-4fd4-b0b6-fb358758df33",
   "metadata": {},
   "outputs": [],
   "source": [
    "sns.heatmap (data = df_points.corr(), square = True, annot = True, cmap = \"mako\")\n",
    "plt.xticks (rotation = 45)\n",
    "plt.yticks (rotation = 45)\n",
    "plt.show()"
   ]
  },
  {
   "cell_type": "code",
   "execution_count": null,
   "id": "547f6388-0bbf-44cc-b05c-0d215f08833f",
   "metadata": {},
   "outputs": [],
   "source": [
    "import numpy as np\n",
    "plt.rcParams['figure.figsize'] = [25, 10]\n",
    "plt.xticks (ticks = (100, 200, 300, 400, 500, 600, 700, 800, 900, 1000, 1100))\n",
    "plt.hist ([r1_2019, r1_2020, r1_2021], alpha = 0.7)\n",
    "plt.show()"
   ]
  },
  {
   "cell_type": "code",
   "execution_count": null,
   "id": "627bce37-7108-4f60-9599-889d02bfc299",
   "metadata": {},
   "outputs": [],
   "source": [
    "new = pd.read_csv (\"Numeric_table.csv\")\n",
    "new"
   ]
  },
  {
   "cell_type": "code",
   "execution_count": null,
   "id": "721bf3b7-0507-49d2-adef-809c0bc313af",
   "metadata": {},
   "outputs": [],
   "source": [
    "sns.scatterplot (data = new)\n",
    "plt.show()"
   ]
  },
  {
   "cell_type": "code",
   "execution_count": null,
   "id": "26232fa7-932f-4f29-9f1e-d0093cdaf852",
   "metadata": {},
   "outputs": [],
   "source": [
    "sns.boxplot (data = [r1_2019, r1_2020, r1_2021])\n",
    "plt.show()"
   ]
  },
  {
   "cell_type": "code",
   "execution_count": null,
   "id": "8e1cf47e-1dce-4386-a027-08bc3dddbd48",
   "metadata": {},
   "outputs": [],
   "source": [
    "sns.kdeplot (data = [r1_2019, r1_2020, r1_2021])\n",
    "plt.show()"
   ]
  },
  {
   "cell_type": "markdown",
   "id": "3d3e07c7-4f65-479d-8ed8-6d8954adaab0",
   "metadata": {},
   "source": [
    "### DATA COMPARISON"
   ]
  },
  {
   "cell_type": "markdown",
   "id": "7425319a-e424-4bae-b82b-915324bd3846",
   "metadata": {},
   "source": [
    "# CONCLUSION\n",
    "\n",
    "***"
   ]
  },
  {
   "cell_type": "markdown",
   "id": "e7a54c4a-024c-4a3e-b0a9-5e529bde1006",
   "metadata": {},
   "source": [
    "## REFERENCES\n",
    "***"
   ]
  },
  {
   "cell_type": "markdown",
   "id": "f93fe10a-edca-4096-b319-3bd37cd0fe7b",
   "metadata": {
    "tags": []
   },
   "source": [
    "- [1] http://www2.cao.ie/handbook/handbook2022/hb.pdf\n",
    "- [2] https://en.wikipedia.org/wiki/Central_Applications_Office7\n",
    "- [3] https://www.independent.ie/life/family/learning/understanding-your-cao-course-guide-26505318.html\n",
    "- [4] https://en.wikipedia.org/wiki/Regular_expression"
   ]
  },
  {
   "cell_type": "markdown",
   "id": "87fe7f9b-4667-44e6-aa48-0f710dd82a6c",
   "metadata": {
    "tags": []
   },
   "source": [
    "## TESTING"
   ]
  },
  {
   "cell_type": "code",
   "execution_count": null,
   "id": "78eafc92-60c8-4c24-971f-2c2627d6b11d",
   "metadata": {},
   "outputs": [],
   "source": [
    "df_numeric.dropna(axis = 0, how = 'all', inplace = True)\n",
    "df_numeric"
   ]
  },
  {
   "cell_type": "code",
   "execution_count": null,
   "id": "f310b692-e7b9-4c2c-b225-fc49e9681b8b",
   "metadata": {},
   "outputs": [],
   "source": [
    "a = df[df['R1_POINTS_2019'].str.contains(\"\\*\", na = False)]\n",
    "a"
   ]
  },
  {
   "cell_type": "code",
   "execution_count": null,
   "id": "04070773-dc7c-4f56-9d15-968afa983efa",
   "metadata": {},
   "outputs": [],
   "source": [
    "a['R1_POINTS_2019'].str.split('[0-9]').str[-1]\n"
   ]
  }
 ],
 "metadata": {
  "kernelspec": {
   "display_name": "Python 3",
   "language": "python",
   "name": "python3"
  },
  "language_info": {
   "codemirror_mode": {
    "name": "ipython",
    "version": 3
   },
   "file_extension": ".py",
   "mimetype": "text/x-python",
   "name": "python",
   "nbconvert_exporter": "python",
   "pygments_lexer": "ipython3",
   "version": "3.8.8"
  }
 },
 "nbformat": 4,
 "nbformat_minor": 5
}

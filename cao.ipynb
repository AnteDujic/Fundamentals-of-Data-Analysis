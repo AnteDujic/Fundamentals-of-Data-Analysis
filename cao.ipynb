{
 "cells": [
  {
   "cell_type": "markdown",
   "id": "cba7f882-cb9f-4b71-87ed-26c18fda786a",
   "metadata": {},
   "source": [
    "# CAO POINTS ANALYSIS\n",
    "### AUTHOR: ANTE DUJIC\n",
    "<hr style=\"border:2px solid black\"> </hr>"
   ]
  },
  {
   "cell_type": "markdown",
   "id": "29b4655e-3bef-4630-af83-22880a7bab45",
   "metadata": {},
   "source": [
    "## INTRODUCTION\n",
    "<hr style=\"border:2px solid gray\"> </hr>"
   ]
  },
  {
   "cell_type": "markdown",
   "id": "855f1a18-9c81-4dd1-b9de-7b6155186480",
   "metadata": {},
   "source": [
    "This notebook gives an overview of how to load CAO points information from the CAO website into a pandas data frame and the comparison of CAO points in 2019, 2020, and 2021."
   ]
  },
  {
   "cell_type": "markdown",
   "id": "702f49e3-5282-46bc-8b90-1120ab8f5b6e",
   "metadata": {},
   "source": [
    "[<center><img src=\"http://www.cao.ie/images/cao.png\" width=\"100\"/></center> ](http://www.cao.ie/index.php)\n",
    "\n",
    "***\n",
    "### CONTENTS\n",
    "\n",
    "- [WHAT IS CAO](#CAO)\n",
    "- [LEVEL 8 - ROUND 1 and ROUND 2](#R1R2)\n",
    "    - [THE ORIGINAL DATA STRUCTURE]()\n",
    "    - [SCRAPPING AND CLEANING THE DATA]()\n",
    "    - [CLEANED DATA]()\n",
    "- [LEVEL 8 - EOS and MID]()\n",
    "    - [THE ORIGINAL DATA STRUCTURE]()\n",
    "    - [SCRAPPING AND CLEANING THE DATA]()\n",
    "    - [CLEANED DATA]()\n",
    "2. [CONCATENATING THE DATA](#CONCATENATE)"
   ]
  },
  {
   "cell_type": "markdown",
   "id": "773b93ce-dff5-4b06-90a1-f3536903fb87",
   "metadata": {},
   "source": [
    "## WHAT IS CAO? <a id='CAO'></a>\n",
    "<hr style=\"border:2px solid gray\"> </hr>"
   ]
  },
  {
   "cell_type": "markdown",
   "id": "3fea6b6e-5a1b-4f35-982f-ada108a26bd6",
   "metadata": {},
   "source": [
    "The purpose of the Central Applications Office (CAO) is to process centrally applications for undergraduate courses in Irish Higher Education Institutions (HEIs), and to deal with them in an efficient and fair manner. [1]\n",
    "\n",
    "Students applying for admission to third level education courses in Ireland apply to the CAO rather than to individual educational institutions such as colleges and universities. The CAO then offers places to students who meet the minimum requirements for a course for which they have applied. If for a particular course there are more qualified applicants than available places, the CAO makes offers to those applicants with the highest score in the CAO points system. If students do not accepts offers, or later decline them because they receive an offer for another course, the CAO makes further offers until all of the places have been filled or until the offer season closes. [2]"
   ]
  },
  {
   "cell_type": "code",
   "execution_count": 1,
   "id": "1ef318e4-5c7a-4c1d-bbae-6ee10ec5805f",
   "metadata": {
    "tags": []
   },
   "outputs": [],
   "source": [
    "# HTTP request\n",
    "import requests as rq\n",
    "\n",
    "# Regular expressions\n",
    "import re\n",
    "\n",
    "# Dates and time\n",
    "import datetime as dt\n",
    "\n",
    "# Data frames\n",
    "import pandas as pd\n",
    "\n",
    "# For downloading\n",
    "import urllib.request as urlrq\n",
    "\n",
    "# PDF\n",
    "import camelot\n",
    "\n",
    "# To use .unescape\n",
    "import html\n",
    "\n",
    "# Arrays\n",
    "import numpy as np\n",
    "\n",
    "# Plotting\n",
    "import matplotlib.pyplot as plt\n",
    "import seaborn as sns"
   ]
  },
  {
   "cell_type": "markdown",
   "id": "3de306f6-264f-405e-bde0-97338722c76f",
   "metadata": {},
   "source": [
    "<br>\n",
    "Current data and time are used for the filenames that will get created to save the original data and the cleaned data. I've used the date and time for easier access and organization of the data, but also to avoid the overwriting of the data files."
   ]
  },
  {
   "cell_type": "code",
   "execution_count": 2,
   "id": "7db11d24-804b-4e75-95d9-d4ff263ec360",
   "metadata": {
    "tags": []
   },
   "outputs": [],
   "source": [
    "# Current date and time\n",
    "now = dt.datetime.now()\n",
    "# Format as a string\n",
    "nowstr = (now.strftime(\"%Y%m%d_%H%M%S\"))"
   ]
  },
  {
   "cell_type": "markdown",
   "id": "07cb16d5-57cc-47c5-998e-e780220985be",
   "metadata": {},
   "source": [
    "## LEVEL 8 - ROUND 1 and ROUND 2\n",
    "<hr style=\"border:2px solid gray\"> </hr>"
   ]
  },
  {
   "cell_type": "markdown",
   "id": "25705258-0285-43ed-88b7-560aea01e413",
   "metadata": {},
   "source": [
    "The data for Round 1 and Round 2 for the three given years (2019., 2020., 2021.) has been pulled from the CAO website. As mentioned in the README, CAO practice is to first upload the data with only Round 1 and Round 2 points and then overwrite that data with EOS and MID points after the academic year starts. To obtain the Round 1 and Round 2 data for the 2019. and 2020. I have used [The Internet Archive](https://web.archive.org/). This didn't only allow me access to the archived version of the website but also gave me the same format and the structure of the data for all the years."
   ]
  },
  {
   "cell_type": "markdown",
   "id": "5583f692-4e33-423d-817d-e91770ec4ff2",
   "metadata": {
    "tags": []
   },
   "source": [
    "### THE ORIGINAL DATA STRUCTURE\n",
    "***"
   ]
  },
  {
   "cell_type": "markdown",
   "id": "88efe587-11b3-418f-9b3a-550a1ddec065",
   "metadata": {},
   "source": [
    "Original data: <br>\n",
    "2019: https://web.archive.org/web/20191019135815/http://www2.cao.ie:80/points/l8.php <br>\n",
    "2020: https://web.archive.org/web/20201108133105/http://www2.cao.ie/points/l8.php <br>\n",
    "2021: http://www2.cao.ie/points/l8.php\n",
    "\n",
    "The data for Round 1 and Round 2 points on the CAO website has the following structure:\n",
    "- Title\n",
    "- Information on how to read the data\n",
    "- List of colleges\n",
    "- Title\n",
    "- Points\n",
    "    - Course code\n",
    "    - Course title\n",
    "    - Round 1 points\n",
    "    - Round 2 points\n",
    "\n",
    "The data of interest is contained under the *Points* section of the website. It is explained below how the data was scrapped, cleaned and saved for the later analysis."
   ]
  },
  {
   "cell_type": "markdown",
   "id": "741c0884-fee1-492d-bcfc-da0140d55da7",
   "metadata": {},
   "source": [
    "### SCRAPPING AND CLEANING THE DATA\n",
    "***"
   ]
  },
  {
   "cell_type": "markdown",
   "id": "643186e9-0b9c-4e37-ae02-5855703a6d59",
   "metadata": {},
   "source": [
    "<br>\n",
    "To loop through the years and run multiple lines of code for each year in one go, I've created the dictionary below."
   ]
  },
  {
   "cell_type": "code",
   "execution_count": 3,
   "id": "0413bc40-8cd4-4cf7-982f-16ad0f1bf5bf",
   "metadata": {},
   "outputs": [],
   "source": [
    "# Defining a dictionary\n",
    "years_dict = {\n",
    "    \"2019\": [(\"data/cao2019\" +  nowstr), \"https://web.archive.org/web/20191019135815/http://www2.cao.ie:80/points/l8.php\"],\n",
    "    \"2020\": [(\"data/cao2020\" +  nowstr), \"https://web.archive.org/web/20201108133105/http://www2.cao.ie/points/l8.php\"],\n",
    "    \"2021\": [(\"data/cao2021\" +  nowstr), \"http://www2.cao.ie/points/l8.php\"]\n",
    "}"
   ]
  },
  {
   "cell_type": "markdown",
   "id": "9efdf8d7-d02d-45ab-a4b0-ffbe8df2721d",
   "metadata": {},
   "source": [
    "STEPS:\n",
    "<br>\n",
    "1. Save the original html\n",
    "<br>\n",
    "This was done to ensure the original website format from which the data was scrapped is kept, in case of any future changes on the CEO website itself. The data was fetched from the given url-s and it was encoded (cp1252), due to symbols in certain course names not being supported. NOTE: Encoding on the website is wrong.\n",
    "<br>\n",
    "2. Read the data and filter out only the relevant data\n",
    "<br>\n",
    "The fetched data was ittered through and filtered out using the below regular expression. Regular expression is a sequence of characters that specifies a search pattern. Usually such patterns are used by string-searching algorithms for \"find\" or \"find and replace\" operations on strings, or for input validation. [4] The set regular expression filters out only the lines starting with the course code (e.g. AL801). Also, Symbol \"&\" instead \"and\" was used in certain 2019 and 2020 course names and it was being decoded as \"&amp;\" when saving to csv. To avoid this *html.unescape* function was used. The data was also structured to fit the csv file - split and divided by commas to create 4 columns \"CODE\", \"TITLE\", \"R1_POINTS\", \"R2_POINTS\"."
   ]
  },
  {
   "cell_type": "code",
   "execution_count": 4,
   "id": "23c4b980-7ef8-4a92-b895-769cc66c238c",
   "metadata": {
    "tags": []
   },
   "outputs": [],
   "source": [
    "# Regular expression\n",
    "re_course = re.compile(r\"([A-Z]{2}[0-9]{3})(.*)\")"
   ]
  },
  {
   "cell_type": "markdown",
   "id": "34fc5a9b-a80e-44d1-bfab-db2515a9c21c",
   "metadata": {},
   "source": [
    "3. Save the cleaned data as csv files"
   ]
  },
  {
   "cell_type": "code",
   "execution_count": 5,
   "id": "90dfae36-5c06-4850-9f40-6583c8b91aeb",
   "metadata": {},
   "outputs": [
    {
     "name": "stdout",
     "output_type": "stream",
     "text": [
      "2019 <Response [200]>\n",
      "Total number of lines in CAO 2019 database is 930\n",
      "2020 <Response [200]>\n",
      "Total number of lines in CAO 2020 database is 961\n",
      "2021 <Response [200]>\n",
      "Total number of lines in CAO 2021 database is 949\n"
     ]
    }
   ],
   "source": [
    "# Loop through the (dict) years\n",
    "for year, content in years_dict.items():\n",
    "    # Fetch the CAO points URL\n",
    "    rq.get (content[1])\n",
    "    resp = rq.get (content[1])\n",
    "    # The server uses the wrong encoding\n",
    "        # Change to \"cp1252\"\n",
    "    resp.encoding = \"cp1252\"\n",
    "    # Check if OK:\n",
    "        #Response [200] means OK\n",
    "    print (year,resp)\n",
    "    \n",
    "    # Save the original html file\n",
    "    with open(content[0] + \".html\", \"w\") as f:\n",
    "        f.write(resp.text)\n",
    "        # Keep track of how many courses we process\n",
    "    \n",
    "    no_lines = 0\n",
    "    # Iterating through the lines\n",
    "    resp.iter_lines()\n",
    "    resps = resp.iter_lines()\n",
    "    \n",
    "    # Open the csv file for writing (saving)\n",
    "    with open(content[0] + \".csv\", \"w\") as f:\n",
    "        # Cleaning the data\n",
    "        # Write a header row.\n",
    "        f.write(','.join([\"CODE\", \"TITLE\", \"R1_POINTS\", \"R2_POINTS\"]) + \"\\n\")\n",
    "        # Loop through lines of the response.\n",
    "        for line in resps:\n",
    "            # Decode the line, using the wrong encoding\n",
    "            dline = line.decode(\"cp1252\")\n",
    "            # Converting &amp; to &\n",
    "            dline = html.unescape(dline)\n",
    "            # Match only the lines representing courses\n",
    "            if re_course.fullmatch(dline):\n",
    "                # Add one to the lines counter\n",
    "                no_lines = no_lines + 1\n",
    "                # The course code\n",
    "                course_code = dline[:5]\n",
    "                # The course title\n",
    "                course_title = dline[7:57]\n",
    "                # Round one points\n",
    "                course_points = re.split(' +', dline[60:])\n",
    "                if len(course_points) != 2:\n",
    "                    course_points = course_points[:2]\n",
    "                # Join the fields using a comma\n",
    "                linesplit = [course_code, course_title, course_points[0], course_points[1]]\n",
    "                # Rejoin the substrings with commas in between\n",
    "                f.write(\",\".join(linesplit) + \"\\n\")   \n",
    "    # Print the total number of processed lines\n",
    "    print(\"Total number of lines in CAO\", year, \"database is\", no_lines)"
   ]
  },
  {
   "cell_type": "markdown",
   "id": "9477c608-1ee1-4f94-be8b-db721fd64191",
   "metadata": {},
   "source": [
    "### CLEANED DATA\n",
    "***"
   ]
  },
  {
   "cell_type": "markdown",
   "id": "188a6523-544e-4c1d-b263-f417bcff7593",
   "metadata": {},
   "source": [
    "#### 2019\n",
    "***"
   ]
  },
  {
   "cell_type": "code",
   "execution_count": 6,
   "id": "5075c5f4-be95-46d9-ad9a-0c3c00bab20e",
   "metadata": {},
   "outputs": [
    {
     "data": {
      "text/html": [
       "<div>\n",
       "<style scoped>\n",
       "    .dataframe tbody tr th:only-of-type {\n",
       "        vertical-align: middle;\n",
       "    }\n",
       "\n",
       "    .dataframe tbody tr th {\n",
       "        vertical-align: top;\n",
       "    }\n",
       "\n",
       "    .dataframe thead th {\n",
       "        text-align: right;\n",
       "    }\n",
       "</style>\n",
       "<table border=\"1\" class=\"dataframe\">\n",
       "  <thead>\n",
       "    <tr style=\"text-align: right;\">\n",
       "      <th></th>\n",
       "      <th>CODE</th>\n",
       "      <th>TITLE</th>\n",
       "      <th>R1_2019</th>\n",
       "      <th>R2_2019</th>\n",
       "    </tr>\n",
       "  </thead>\n",
       "  <tbody>\n",
       "    <tr>\n",
       "      <th>783</th>\n",
       "      <td>LM121</td>\n",
       "      <td>Computer Science (Computer Systems/Games Dev/M...</td>\n",
       "      <td>352</td>\n",
       "      <td>NaN</td>\n",
       "    </tr>\n",
       "    <tr>\n",
       "      <th>14</th>\n",
       "      <td>AL842</td>\n",
       "      <td>Bioveterinary Science                         ...</td>\n",
       "      <td>310</td>\n",
       "      <td>NaN</td>\n",
       "    </tr>\n",
       "    <tr>\n",
       "      <th>641</th>\n",
       "      <td>GY262</td>\n",
       "      <td>Commerce (International Hotel Management Shann...</td>\n",
       "      <td>#671</td>\n",
       "      <td>NaN</td>\n",
       "    </tr>\n",
       "    <tr>\n",
       "      <th>184</th>\n",
       "      <td>DB514</td>\n",
       "      <td>Business Studies (Law)                        ...</td>\n",
       "      <td>269</td>\n",
       "      <td>269</td>\n",
       "    </tr>\n",
       "    <tr>\n",
       "      <th>576</th>\n",
       "      <td>GA580</td>\n",
       "      <td>Software and Electronic Engineering           ...</td>\n",
       "      <td>301</td>\n",
       "      <td>NaN</td>\n",
       "    </tr>\n",
       "    <tr>\n",
       "      <th>81</th>\n",
       "      <td>CR305</td>\n",
       "      <td>Physical Sciences (Common Entry)              ...</td>\n",
       "      <td>279</td>\n",
       "      <td>NaN</td>\n",
       "    </tr>\n",
       "    <tr>\n",
       "      <th>542</th>\n",
       "      <td>DK860</td>\n",
       "      <td>Music                                         ...</td>\n",
       "      <td>#499</td>\n",
       "      <td>#499</td>\n",
       "    </tr>\n",
       "    <tr>\n",
       "      <th>593</th>\n",
       "      <td>GA791</td>\n",
       "      <td>Public Health Nutrition                       ...</td>\n",
       "      <td>364</td>\n",
       "      <td>NaN</td>\n",
       "    </tr>\n",
       "    <tr>\n",
       "      <th>239</th>\n",
       "      <td>DC193</td>\n",
       "      <td>Mechatronic Engineering                       ...</td>\n",
       "      <td>403</td>\n",
       "      <td>NaN</td>\n",
       "    </tr>\n",
       "    <tr>\n",
       "      <th>412</th>\n",
       "      <td>TA328</td>\n",
       "      <td>Computing with Language (French/German/Spanish...</td>\n",
       "      <td>262</td>\n",
       "      <td>262</td>\n",
       "    </tr>\n",
       "  </tbody>\n",
       "</table>\n",
       "</div>"
      ],
      "text/plain": [
       "      CODE                                              TITLE R1_2019 R2_2019\n",
       "783  LM121  Computer Science (Computer Systems/Games Dev/M...     352     NaN\n",
       "14   AL842  Bioveterinary Science                         ...     310     NaN\n",
       "641  GY262  Commerce (International Hotel Management Shann...    #671     NaN\n",
       "184  DB514  Business Studies (Law)                        ...     269     269\n",
       "576  GA580  Software and Electronic Engineering           ...     301     NaN\n",
       "81   CR305  Physical Sciences (Common Entry)              ...     279     NaN\n",
       "542  DK860  Music                                         ...    #499    #499\n",
       "593  GA791  Public Health Nutrition                       ...     364     NaN\n",
       "239  DC193  Mechatronic Engineering                       ...     403     NaN\n",
       "412  TA328  Computing with Language (French/German/Spanish...     262     262"
      ]
     },
     "execution_count": 6,
     "metadata": {},
     "output_type": "execute_result"
    }
   ],
   "source": [
    "# Read csv file\n",
    "df_2019 = pd.read_csv (\"data/cao2019\" +  nowstr + \".csv\", encoding = \"cp1252\")\n",
    "df_2019.columns = [\"CODE\",\"TITLE\", \"R1_2019\", \"R2_2019\"]\n",
    "# Output random 10 rows\n",
    "df_2019.sample(n = 10)"
   ]
  },
  {
   "cell_type": "markdown",
   "id": "9f9d60d2-149a-42f4-8402-0bc880d82e00",
   "metadata": {},
   "source": [
    "#### 2020\n",
    "***"
   ]
  },
  {
   "cell_type": "code",
   "execution_count": 7,
   "id": "32b87d7d-341f-476b-acf4-138166f3284e",
   "metadata": {},
   "outputs": [
    {
     "data": {
      "text/html": [
       "<div>\n",
       "<style scoped>\n",
       "    .dataframe tbody tr th:only-of-type {\n",
       "        vertical-align: middle;\n",
       "    }\n",
       "\n",
       "    .dataframe tbody tr th {\n",
       "        vertical-align: top;\n",
       "    }\n",
       "\n",
       "    .dataframe thead th {\n",
       "        text-align: right;\n",
       "    }\n",
       "</style>\n",
       "<table border=\"1\" class=\"dataframe\">\n",
       "  <thead>\n",
       "    <tr style=\"text-align: right;\">\n",
       "      <th></th>\n",
       "      <th>CODE</th>\n",
       "      <th>TITLE</th>\n",
       "      <th>R1_2020</th>\n",
       "      <th>R2_2020</th>\n",
       "    </tr>\n",
       "  </thead>\n",
       "  <tbody>\n",
       "    <tr>\n",
       "      <th>455</th>\n",
       "      <td>TR018</td>\n",
       "      <td>Law and French                                ...</td>\n",
       "      <td>565</td>\n",
       "      <td>NaN</td>\n",
       "    </tr>\n",
       "    <tr>\n",
       "      <th>396</th>\n",
       "      <td>TU914</td>\n",
       "      <td>Business Computing                            ...</td>\n",
       "      <td>324</td>\n",
       "      <td>NaN</td>\n",
       "    </tr>\n",
       "    <tr>\n",
       "      <th>792</th>\n",
       "      <td>LM056</td>\n",
       "      <td>International Business                        ...</td>\n",
       "      <td>528</td>\n",
       "      <td>NaN</td>\n",
       "    </tr>\n",
       "    <tr>\n",
       "      <th>175</th>\n",
       "      <td>AC137</td>\n",
       "      <td>Liberal Arts                                  ...</td>\n",
       "      <td>252</td>\n",
       "      <td>NaN</td>\n",
       "    </tr>\n",
       "    <tr>\n",
       "      <th>809</th>\n",
       "      <td>LM100</td>\n",
       "      <td>Physiotherapy                                 ...</td>\n",
       "      <td>589*</td>\n",
       "      <td>NaN</td>\n",
       "    </tr>\n",
       "    <tr>\n",
       "      <th>434</th>\n",
       "      <td>TU984</td>\n",
       "      <td>Game Design                                   ...</td>\n",
       "      <td>381</td>\n",
       "      <td>NaN</td>\n",
       "    </tr>\n",
       "    <tr>\n",
       "      <th>486</th>\n",
       "      <td>TR072</td>\n",
       "      <td>Pharmacy                                      ...</td>\n",
       "      <td>590</td>\n",
       "      <td>NaN</td>\n",
       "    </tr>\n",
       "    <tr>\n",
       "      <th>67</th>\n",
       "      <td>CR108</td>\n",
       "      <td>Mechanical Engineering                        ...</td>\n",
       "      <td>434</td>\n",
       "      <td>NaN</td>\n",
       "    </tr>\n",
       "    <tr>\n",
       "      <th>414</th>\n",
       "      <td>TU951</td>\n",
       "      <td>International Hospitality and Tourism Manageme...</td>\n",
       "      <td>184</td>\n",
       "      <td>184</td>\n",
       "    </tr>\n",
       "    <tr>\n",
       "      <th>756</th>\n",
       "      <td>LC297</td>\n",
       "      <td>Community Development                         ...</td>\n",
       "      <td>235</td>\n",
       "      <td>NaN</td>\n",
       "    </tr>\n",
       "  </tbody>\n",
       "</table>\n",
       "</div>"
      ],
      "text/plain": [
       "      CODE                                              TITLE R1_2020 R2_2020\n",
       "455  TR018  Law and French                                ...     565     NaN\n",
       "396  TU914  Business Computing                            ...     324     NaN\n",
       "792  LM056  International Business                        ...     528     NaN\n",
       "175  AC137  Liberal Arts                                  ...     252     NaN\n",
       "809  LM100  Physiotherapy                                 ...    589*     NaN\n",
       "434  TU984  Game Design                                   ...     381     NaN\n",
       "486  TR072  Pharmacy                                      ...     590     NaN\n",
       "67   CR108  Mechanical Engineering                        ...     434     NaN\n",
       "414  TU951  International Hospitality and Tourism Manageme...     184     184\n",
       "756  LC297  Community Development                         ...     235     NaN"
      ]
     },
     "execution_count": 7,
     "metadata": {},
     "output_type": "execute_result"
    }
   ],
   "source": [
    "# Read csv file\n",
    "df_2020 = pd.read_csv (\"data/cao2020\" +  nowstr + \".csv\", encoding = \"cp1252\")\n",
    "df_2020.columns = [\"CODE\",\"TITLE\", \"R1_2020\", \"R2_2020\"]\n",
    "# Output random 10 rows\n",
    "df_2020.sample(n = 10)"
   ]
  },
  {
   "cell_type": "markdown",
   "id": "f9c332a1-fc41-4a69-b90f-4b0ea7ef9305",
   "metadata": {},
   "source": [
    "#### 2021\n",
    "***"
   ]
  },
  {
   "cell_type": "code",
   "execution_count": 8,
   "id": "56a2669f-9257-4c4b-923b-9c66db2d7b81",
   "metadata": {},
   "outputs": [
    {
     "data": {
      "text/html": [
       "<div>\n",
       "<style scoped>\n",
       "    .dataframe tbody tr th:only-of-type {\n",
       "        vertical-align: middle;\n",
       "    }\n",
       "\n",
       "    .dataframe tbody tr th {\n",
       "        vertical-align: top;\n",
       "    }\n",
       "\n",
       "    .dataframe thead th {\n",
       "        text-align: right;\n",
       "    }\n",
       "</style>\n",
       "<table border=\"1\" class=\"dataframe\">\n",
       "  <thead>\n",
       "    <tr style=\"text-align: right;\">\n",
       "      <th></th>\n",
       "      <th>CODE</th>\n",
       "      <th>TITLE</th>\n",
       "      <th>R1_2021</th>\n",
       "      <th>R2_2021</th>\n",
       "    </tr>\n",
       "  </thead>\n",
       "  <tbody>\n",
       "    <tr>\n",
       "      <th>841</th>\n",
       "      <td>MH603</td>\n",
       "      <td>Computational Thinking                        ...</td>\n",
       "      <td>520</td>\n",
       "      <td>NaN</td>\n",
       "    </tr>\n",
       "    <tr>\n",
       "      <th>755</th>\n",
       "      <td>LC418</td>\n",
       "      <td>Computing - Games Design and Development      ...</td>\n",
       "      <td>260</td>\n",
       "      <td>256</td>\n",
       "    </tr>\n",
       "    <tr>\n",
       "      <th>804</th>\n",
       "      <td>LM152</td>\n",
       "      <td>Mental Health Nursing                         ...</td>\n",
       "      <td>478</td>\n",
       "      <td>466</td>\n",
       "    </tr>\n",
       "    <tr>\n",
       "      <th>578</th>\n",
       "      <td>GA680</td>\n",
       "      <td>Mechanical Engineering                        ...</td>\n",
       "      <td>400</td>\n",
       "      <td>NaN</td>\n",
       "    </tr>\n",
       "    <tr>\n",
       "      <th>405</th>\n",
       "      <td>TU941</td>\n",
       "      <td>Botanical Cuisine                             ...</td>\n",
       "      <td>311</td>\n",
       "      <td>NaN</td>\n",
       "    </tr>\n",
       "    <tr>\n",
       "      <th>236</th>\n",
       "      <td>DC161</td>\n",
       "      <td>Analytical Science                            ...</td>\n",
       "      <td>498</td>\n",
       "      <td>NaN</td>\n",
       "    </tr>\n",
       "    <tr>\n",
       "      <th>749</th>\n",
       "      <td>LC380</td>\n",
       "      <td>Automotive Engineering and Transport Managemen...</td>\n",
       "      <td>298</td>\n",
       "      <td>NaN</td>\n",
       "    </tr>\n",
       "    <tr>\n",
       "      <th>277</th>\n",
       "      <td>DL825</td>\n",
       "      <td>Applied Psychology                            ...</td>\n",
       "      <td>418</td>\n",
       "      <td>413</td>\n",
       "    </tr>\n",
       "    <tr>\n",
       "      <th>134</th>\n",
       "      <td>CK204</td>\n",
       "      <td>Finance                                       ...</td>\n",
       "      <td>566*</td>\n",
       "      <td>566*</td>\n",
       "    </tr>\n",
       "    <tr>\n",
       "      <th>157</th>\n",
       "      <td>CK412</td>\n",
       "      <td>Agricultural Science                          ...</td>\n",
       "      <td>506</td>\n",
       "      <td>NaN</td>\n",
       "    </tr>\n",
       "  </tbody>\n",
       "</table>\n",
       "</div>"
      ],
      "text/plain": [
       "      CODE                                              TITLE R1_2021 R2_2021\n",
       "841  MH603  Computational Thinking                        ...     520     NaN\n",
       "755  LC418  Computing - Games Design and Development      ...     260     256\n",
       "804  LM152  Mental Health Nursing                         ...     478     466\n",
       "578  GA680  Mechanical Engineering                        ...     400     NaN\n",
       "405  TU941  Botanical Cuisine                             ...     311     NaN\n",
       "236  DC161  Analytical Science                            ...     498     NaN\n",
       "749  LC380  Automotive Engineering and Transport Managemen...     298     NaN\n",
       "277  DL825  Applied Psychology                            ...     418     413\n",
       "134  CK204  Finance                                       ...    566*    566*\n",
       "157  CK412  Agricultural Science                          ...     506     NaN"
      ]
     },
     "execution_count": 8,
     "metadata": {},
     "output_type": "execute_result"
    }
   ],
   "source": [
    "# Read csv file\n",
    "df_2021 = pd.read_csv (\"data/cao2021\" +  nowstr + \".csv\", encoding = \"cp1252\")\n",
    "df_2021.columns = [\"CODE\",\"TITLE\", \"R1_2021\", \"R2_2021\"]\n",
    "# Output random 10 rows\n",
    "df_2021.sample(n = 10)"
   ]
  },
  {
   "cell_type": "markdown",
   "id": "43f2899d-0023-499b-8a1c-230b783b6207",
   "metadata": {},
   "source": [
    "## 2. LEVEL 8 - EOS and MID\n",
    "<hr style=\"border:2px solid gray\"> </hr>"
   ]
  },
  {
   "cell_type": "markdown",
   "id": "4a864eda-626a-4c66-b0ab-d0c421d9d72e",
   "metadata": {},
   "source": [
    "As mentioned in README, EOS and MID points data becomes available after the start of the academic year, and are only available for 2019. and 2020. in the time of making this project. However, the project could be updated in the future when the data becomes available for 2021."
   ]
  },
  {
   "cell_type": "markdown",
   "id": "1c7834b3-3b45-4371-85d1-e2b32d8778b2",
   "metadata": {
    "tags": []
   },
   "source": [
    "### 2019 - THE PDF FILE STRUCTURE\n",
    "***"
   ]
  },
  {
   "cell_type": "markdown",
   "id": "d1ac6f09-d4d6-4234-bd5e-3ca5ac64c00f",
   "metadata": {},
   "source": [
    "Original data: <br>\n",
    "2019: http://www2.cao.ie/points/lvl8_19.pdf <br>\n",
    "\n",
    "Data containing EOS and MID points for 2019 is in pdf format.\n",
    "The file has the following structure:\n",
    "- Title and the Subtitles of the file\n",
    "- Information on the file\n",
    "- Information on how to read the data\n",
    "- Points table\n",
    "    - Course code\n",
    "    - Institution and Course\n",
    "    - EOS points\n",
    "    - MID points\n",
    "\n",
    "The data of interest is contained under the table section of the file. It is explained below how the data was scrapped, cleaned and saved for the later analysis."
   ]
  },
  {
   "cell_type": "markdown",
   "id": "879465c6-e45d-4c90-9a5a-6ce409aee8ae",
   "metadata": {},
   "source": [
    "### SCRAPPING AND CLEANING THE DATA\n",
    "***"
   ]
  },
  {
   "cell_type": "markdown",
   "id": "516993c9-7d4b-4b16-9ef4-6f1dda19372e",
   "metadata": {},
   "source": [
    "STEPS:\n",
    "<br>\n",
    "1. Save the original file <br>\n",
    "Same as with the R1 and R2 points, I've saved the original file locally. The data is fetched from the given url using *requests* library."
   ]
  },
  {
   "cell_type": "code",
   "execution_count": 9,
   "id": "3f0d5401-9578-425e-9f1a-6ebb1e2e0bb7",
   "metadata": {},
   "outputs": [],
   "source": [
    "# Creating a file path for the original data\n",
    "path_pdf = 'data/cao2019_eos' + nowstr + '.pdf'"
   ]
  },
  {
   "cell_type": "code",
   "execution_count": 10,
   "id": "41ee7d81-bfb4-4380-8a24-60147955ca67",
   "metadata": {},
   "outputs": [
    {
     "data": {
      "text/plain": [
       "<Response [200]>"
      ]
     },
     "execution_count": 10,
     "metadata": {},
     "output_type": "execute_result"
    }
   ],
   "source": [
    "# Fetch the CAO points URL\n",
    "resp_pdf = rq.get(\"http://www2.cao.ie/points/lvl8_19.pdf\")\n",
    "resp_pdf # <Response [200]> means OK"
   ]
  },
  {
   "cell_type": "code",
   "execution_count": 11,
   "id": "73441854-a447-4cdb-95bc-c8c78ec6b45e",
   "metadata": {},
   "outputs": [],
   "source": [
    "# Save the original file\n",
    "with open(path_pdf, 'wb') as f:\n",
    "    f.write(resp_pdf.content)"
   ]
  },
  {
   "cell_type": "markdown",
   "id": "68e3a80c-6b79-4831-9f31-0f512310578b",
   "metadata": {},
   "source": [
    "\n",
    "2. Read the pdf file and filter out the table only \n",
    "<br>\n",
    "The saved data is read using the *camelot* libray."
   ]
  },
  {
   "cell_type": "code",
   "execution_count": 12,
   "id": "0d564bb9-fbb4-420b-b85c-1d6c3a06da35",
   "metadata": {},
   "outputs": [],
   "source": [
    "# Read the pdf file\n",
    "tables = camelot.read_pdf(path_pdf, pages = \"all\", flavor = \"lattice\")"
   ]
  },
  {
   "cell_type": "markdown",
   "id": "f26944fa-eba8-4c98-9a7d-fc2d86a8d84d",
   "metadata": {},
   "source": [
    "\n",
    "3. Concatenate the tables read \n",
    "<br>\n",
    "Camelot reads the file and returns a table for each page. It is not possible to return one table from all the pages. Therefore, all the tables have to be concatenated.\n",
    "<br>\n",
    "4. Save the data as csv file \n",
    "<br>\n",
    "The concatenated table is saved as csv file."
   ]
  },
  {
   "cell_type": "code",
   "execution_count": 13,
   "id": "ddd28c13-3918-48e6-8bb6-a648cb02f44a",
   "metadata": {},
   "outputs": [
    {
     "name": "stdout",
     "output_type": "stream",
     "text": [
      "Tables: 18\n"
     ]
    }
   ],
   "source": [
    "# Check the total number of tables read to decide the loop range\n",
    "print (\"Tables:\", tables.n)"
   ]
  },
  {
   "cell_type": "code",
   "execution_count": 14,
   "id": "7deabf06-ab95-4599-a272-7cee2f483029",
   "metadata": {},
   "outputs": [],
   "source": [
    "# Create empty list\n",
    "table_total = []\n",
    "# Loop through all 18 tables\n",
    "for x in range (0,18):\n",
    "    df = tables[x].df\n",
    "    # Append all 18 tables to table_total\n",
    "    table_total.append(df)\n",
    "\n",
    "# Concatenate all tables  \n",
    "table = pd.concat(table_total)\n",
    "# Remove old column names\n",
    "table = table.iloc[1: , :]\n",
    "# Name the columns\n",
    "table.columns = [\"CODE\",\"TITLE\", \"EOS_2019\", \"MID_2019\"]\n",
    "# Sort table by \"CODE\" column\n",
    "    # to remove irrelevant data (college names)\n",
    "table.sort_values(\"CODE\", inplace = True)\n",
    "# Remove first 35 rows (college names)\n",
    "table = table.iloc[35: , :]\n",
    "# Save .csv file\n",
    "table.to_csv(\"data/cao2019_eos\" +  nowstr + \".csv\", index = False)"
   ]
  },
  {
   "cell_type": "markdown",
   "id": "3ce9f486-a84e-472f-b1cd-587a38507e24",
   "metadata": {},
   "source": [
    "### CLEANED DATA\n",
    "***"
   ]
  },
  {
   "cell_type": "code",
   "execution_count": 15,
   "id": "1099c723-0f51-426a-b95f-01525ca6d068",
   "metadata": {},
   "outputs": [
    {
     "data": {
      "text/html": [
       "<div>\n",
       "<style scoped>\n",
       "    .dataframe tbody tr th:only-of-type {\n",
       "        vertical-align: middle;\n",
       "    }\n",
       "\n",
       "    .dataframe tbody tr th {\n",
       "        vertical-align: top;\n",
       "    }\n",
       "\n",
       "    .dataframe thead th {\n",
       "        text-align: right;\n",
       "    }\n",
       "</style>\n",
       "<table border=\"1\" class=\"dataframe\">\n",
       "  <thead>\n",
       "    <tr style=\"text-align: right;\">\n",
       "      <th></th>\n",
       "      <th>CODE</th>\n",
       "      <th>TITLE</th>\n",
       "      <th>EOS_2019</th>\n",
       "      <th>MID_2019</th>\n",
       "    </tr>\n",
       "  </thead>\n",
       "  <tbody>\n",
       "    <tr>\n",
       "      <th>569</th>\n",
       "      <td>GY413</td>\n",
       "      <td>Energy Systems Engineering</td>\n",
       "      <td>532</td>\n",
       "      <td>589.0</td>\n",
       "    </tr>\n",
       "    <tr>\n",
       "      <th>210</th>\n",
       "      <td>DB500</td>\n",
       "      <td>Computing</td>\n",
       "      <td>242</td>\n",
       "      <td>320.0</td>\n",
       "    </tr>\n",
       "    <tr>\n",
       "      <th>311</th>\n",
       "      <td>DK865</td>\n",
       "      <td>Audio and Music Production</td>\n",
       "      <td>301</td>\n",
       "      <td>346.0</td>\n",
       "    </tr>\n",
       "    <tr>\n",
       "      <th>293</th>\n",
       "      <td>DC240</td>\n",
       "      <td>Marketing, Innovation and Technology</td>\n",
       "      <td>451</td>\n",
       "      <td>474.0</td>\n",
       "    </tr>\n",
       "    <tr>\n",
       "      <th>674</th>\n",
       "      <td>LY118</td>\n",
       "      <td>Business</td>\n",
       "      <td>287</td>\n",
       "      <td>352.0</td>\n",
       "    </tr>\n",
       "    <tr>\n",
       "      <th>40</th>\n",
       "      <td>AS002</td>\n",
       "      <td>Education, Home Economics and Religious Ed - w...</td>\n",
       "      <td>400*</td>\n",
       "      <td>433.0</td>\n",
       "    </tr>\n",
       "    <tr>\n",
       "      <th>181</th>\n",
       "      <td>CW068</td>\n",
       "      <td>Applied Social Studies - Professional Social C...</td>\n",
       "      <td>251</td>\n",
       "      <td>280.0</td>\n",
       "    </tr>\n",
       "    <tr>\n",
       "      <th>602</th>\n",
       "      <td>LC289</td>\n",
       "      <td>Precision Engineering</td>\n",
       "      <td>280</td>\n",
       "      <td>369.0</td>\n",
       "    </tr>\n",
       "    <tr>\n",
       "      <th>856</th>\n",
       "      <td>TR029</td>\n",
       "      <td>Political Science and Geography</td>\n",
       "      <td>477</td>\n",
       "      <td>500.0</td>\n",
       "    </tr>\n",
       "    <tr>\n",
       "      <th>676</th>\n",
       "      <td>LY218</td>\n",
       "      <td>Business - with Spanish/Irish options</td>\n",
       "      <td>298</td>\n",
       "      <td>367.0</td>\n",
       "    </tr>\n",
       "  </tbody>\n",
       "</table>\n",
       "</div>"
      ],
      "text/plain": [
       "      CODE                                              TITLE EOS_2019  \\\n",
       "569  GY413                         Energy Systems Engineering      532   \n",
       "210  DB500                                          Computing      242   \n",
       "311  DK865                         Audio and Music Production      301   \n",
       "293  DC240               Marketing, Innovation and Technology      451   \n",
       "674  LY118                                           Business      287   \n",
       "40   AS002  Education, Home Economics and Religious Ed - w...     400*   \n",
       "181  CW068  Applied Social Studies - Professional Social C...      251   \n",
       "602  LC289                              Precision Engineering      280   \n",
       "856  TR029                    Political Science and Geography      477   \n",
       "676  LY218              Business - with Spanish/Irish options      298   \n",
       "\n",
       "     MID_2019  \n",
       "569     589.0  \n",
       "210     320.0  \n",
       "311     346.0  \n",
       "293     474.0  \n",
       "674     352.0  \n",
       "40      433.0  \n",
       "181     280.0  \n",
       "602     369.0  \n",
       "856     500.0  \n",
       "676     367.0  "
      ]
     },
     "execution_count": 15,
     "metadata": {},
     "output_type": "execute_result"
    }
   ],
   "source": [
    "# Read csv file\n",
    "df_em_2019 = pd.read_csv (\"data/cao2019_eos\" +  nowstr + \".csv\", encoding = \"cp1252\")\n",
    "# Output random 10 rows\n",
    "df_em_2019.sample(n = 10)"
   ]
  },
  {
   "cell_type": "markdown",
   "id": "515486c6-ccc3-4e9b-819d-51c2582d103f",
   "metadata": {
    "tags": []
   },
   "source": [
    "### 2020 - THE XLSX FILE STRUCTURE\n",
    "***"
   ]
  },
  {
   "cell_type": "markdown",
   "id": "357b99e5-e3d2-40a4-8538-0f70db7a3615",
   "metadata": {},
   "source": [
    "Original data: <br>\n",
    "2020: http://www2.cao.ie/points/CAOPointsCharts2020.xlsx\n",
    "\n",
    "Data containing EOS and MID points for 2020 is in xlsx format. It contains the data for LEVEL 6, 7 and 8. The file has the following structure:\n",
    "The file has the following structure:\n",
    "- Title and the Subtitles of the file\n",
    "- Information on the data in the file\n",
    "- Information on how to read the data\n",
    "- Points table\n",
    "\n",
    "\n",
    "The data of interest is contained under the columns *COURSE TITLE, COURSE CODE2, EOS* and *EOS Mid-point*. It is explained below how the data was scrapped, cleaned and saved for the later analysis."
   ]
  },
  {
   "cell_type": "markdown",
   "id": "9cb02b1b-5c0f-4c50-b618-d810be9116bd",
   "metadata": {},
   "source": [
    "### SCRAPPING AND CLEANING THE DATA\n",
    "***"
   ]
  },
  {
   "cell_type": "markdown",
   "id": "5eb89808-4af5-4f0c-be18-becc11751ad9",
   "metadata": {},
   "source": [
    "STEPS:\n",
    "<br>\n",
    "1. Save the original file <br>\n",
    "To fetch the data from the pdf file I've used the *urllib.request* library. It is fetched from the given url and saved locally."
   ]
  },
  {
   "cell_type": "code",
   "execution_count": 16,
   "id": "388d68dc-2cde-40c1-a4e3-633fd0db1f7b",
   "metadata": {},
   "outputs": [
    {
     "data": {
      "text/plain": [
       "('data/cao2020_eos20211211_220306.xlsx',\n",
       " <http.client.HTTPMessage at 0x24f238cf7f0>)"
      ]
     },
     "execution_count": 16,
     "metadata": {},
     "output_type": "execute_result"
    }
   ],
   "source": [
    "# Create a file path for the original data\n",
    "path_xlsx = (\"data/cao2020_eos\" +  nowstr + \".xlsx\")\n",
    "\n",
    "# Copying network xlsx file\n",
    "urlrq.urlretrieve('http://www2.cao.ie/points/CAOPointsCharts2020.xlsx', path_xlsx)"
   ]
  },
  {
   "cell_type": "markdown",
   "id": "79aa839c-c600-4815-89e5-d8ab43d1e63f",
   "metadata": {},
   "source": [
    "2. Read the xlsx file and clear the data <br>\n",
    "File contains irrelevant data in the first 10 rows, which I've ignored when reading the file. I've then filtered out the relevant data from the table."
   ]
  },
  {
   "cell_type": "code",
   "execution_count": 17,
   "id": "a7677dc5-70af-4a65-ab19-4004fd606b8d",
   "metadata": {},
   "outputs": [],
   "source": [
    "# Download and parse the excel spreadsheet\n",
    "df2020_eos = pd.read_excel(\"http://www2.cao.ie/points/CAOPointsCharts2020.xlsx\", skiprows = 10)\n",
    "\n",
    "# Filter out only level 8 courses\n",
    "df2020_eos = df2020_eos.loc[df2020_eos[\"LEVEL\"] == 8]\n",
    "# Filter out only relevant columns\n",
    "df2020_eos = df2020_eos [[\"COURSE CODE2\", \"COURSE TITLE\", \"EOS\", \"EOS Mid-point\"]]\n",
    "# Change column names\n",
    "df2020_eos.columns = [\"CODE\",\"TITLE\", \"EOS_2020\", \"MID_2020\"]"
   ]
  },
  {
   "cell_type": "markdown",
   "id": "72b0b8a5-9492-4f2d-93b9-171afb7b8467",
   "metadata": {},
   "source": [
    "\n",
    "3. Save the data as csv file"
   ]
  },
  {
   "cell_type": "code",
   "execution_count": 18,
   "id": "9b9e8c11-8a2b-4323-8ca3-fddb4eb05ce4",
   "metadata": {},
   "outputs": [],
   "source": [
    "# Save pandas data frame\n",
    "df2020_eos.to_csv(\"data/cao2020_eos\" +  nowstr + \".csv\", index = False)"
   ]
  },
  {
   "cell_type": "markdown",
   "id": "391937bc-065f-48b9-8659-a50ee509208f",
   "metadata": {},
   "source": [
    "### CLEANED DATA\n",
    "***"
   ]
  },
  {
   "cell_type": "code",
   "execution_count": 19,
   "id": "1c6bf061-bad8-407c-aec1-0545f4f31311",
   "metadata": {},
   "outputs": [
    {
     "data": {
      "text/html": [
       "<div>\n",
       "<style scoped>\n",
       "    .dataframe tbody tr th:only-of-type {\n",
       "        vertical-align: middle;\n",
       "    }\n",
       "\n",
       "    .dataframe tbody tr th {\n",
       "        vertical-align: top;\n",
       "    }\n",
       "\n",
       "    .dataframe thead th {\n",
       "        text-align: right;\n",
       "    }\n",
       "</style>\n",
       "<table border=\"1\" class=\"dataframe\">\n",
       "  <thead>\n",
       "    <tr style=\"text-align: right;\">\n",
       "      <th></th>\n",
       "      <th>CODE</th>\n",
       "      <th>TITLE</th>\n",
       "      <th>EOS_2020</th>\n",
       "      <th>MID_2020</th>\n",
       "    </tr>\n",
       "  </thead>\n",
       "  <tbody>\n",
       "    <tr>\n",
       "      <th>922</th>\n",
       "      <td>TU875</td>\n",
       "      <td>Pharmaceutical Healthcare</td>\n",
       "      <td>400</td>\n",
       "      <td>440</td>\n",
       "    </tr>\n",
       "    <tr>\n",
       "      <th>943</th>\n",
       "      <td>TU914</td>\n",
       "      <td>Business Computing</td>\n",
       "      <td>324</td>\n",
       "      <td>366</td>\n",
       "    </tr>\n",
       "    <tr>\n",
       "      <th>745</th>\n",
       "      <td>TL873</td>\n",
       "      <td>Coaching and Sports Performance</td>\n",
       "      <td>289</td>\n",
       "      <td>329</td>\n",
       "    </tr>\n",
       "    <tr>\n",
       "      <th>634</th>\n",
       "      <td>MH106</td>\n",
       "      <td>Psychology - 3 years</td>\n",
       "      <td>521</td>\n",
       "      <td>529</td>\n",
       "    </tr>\n",
       "    <tr>\n",
       "      <th>113</th>\n",
       "      <td>CK791</td>\n",
       "      <td>Medicine  - Graduate Entry (GAMSAT required)</td>\n",
       "      <td>57</td>\n",
       "      <td>58</td>\n",
       "    </tr>\n",
       "    <tr>\n",
       "      <th>710</th>\n",
       "      <td>SG249</td>\n",
       "      <td>Writing and Literature</td>\n",
       "      <td>297</td>\n",
       "      <td>368</td>\n",
       "    </tr>\n",
       "    <tr>\n",
       "      <th>288</th>\n",
       "      <td>DK821</td>\n",
       "      <td>Computing in Software Development</td>\n",
       "      <td>302</td>\n",
       "      <td>361</td>\n",
       "    </tr>\n",
       "    <tr>\n",
       "      <th>240</th>\n",
       "      <td>DC118</td>\n",
       "      <td>Gnó agus Gaeilge / Business and Irish</td>\n",
       "      <td>359</td>\n",
       "      <td>429</td>\n",
       "    </tr>\n",
       "    <tr>\n",
       "      <th>684</th>\n",
       "      <td>NC010</td>\n",
       "      <td>Psychology</td>\n",
       "      <td>400</td>\n",
       "      <td>440</td>\n",
       "    </tr>\n",
       "    <tr>\n",
       "      <th>10</th>\n",
       "      <td>AD217</td>\n",
       "      <td>Illustration (portfolio)</td>\n",
       "      <td>#+matric</td>\n",
       "      <td>#+matric</td>\n",
       "    </tr>\n",
       "  </tbody>\n",
       "</table>\n",
       "</div>"
      ],
      "text/plain": [
       "      CODE                                         TITLE  EOS_2020  MID_2020\n",
       "922  TU875                     Pharmaceutical Healthcare       400       440\n",
       "943  TU914                            Business Computing       324       366\n",
       "745  TL873               Coaching and Sports Performance       289       329\n",
       "634  MH106                          Psychology - 3 years       521       529\n",
       "113  CK791  Medicine  - Graduate Entry (GAMSAT required)        57        58\n",
       "710  SG249                        Writing and Literature       297       368\n",
       "288  DK821             Computing in Software Development       302       361\n",
       "240  DC118         Gnó agus Gaeilge / Business and Irish       359       429\n",
       "684  NC010                                    Psychology       400       440\n",
       "10   AD217                      Illustration (portfolio)  #+matric  #+matric"
      ]
     },
     "execution_count": 19,
     "metadata": {},
     "output_type": "execute_result"
    }
   ],
   "source": [
    "# Read csv file\n",
    "df_em_2020 = pd.read_csv (\"data/cao2020_eos\" +  nowstr + \".csv\")\n",
    "# Output random 10 rows\n",
    "df_em_2020.sample(n = 10)"
   ]
  },
  {
   "cell_type": "markdown",
   "id": "d9841823-1a22-400f-8788-0f0f15567cfa",
   "metadata": {},
   "source": [
    "## 3. CONCATENATING THE DATA <a id='CONCATENATE'></a>\n",
    "<hr style=\"border:2px solid gray\"> </hr>"
   ]
  },
  {
   "cell_type": "markdown",
   "id": "c707388a-5c76-4bf8-8f37-25d688202db9",
   "metadata": {},
   "source": [
    "After cleaning and saving all the data, I've merged them all into one table.\n",
    "\n",
    "STEPS:\n",
    "1. Concatenating all the dataframes into one table <br>\n",
    "This results with a table containing ALL the data from the listed dataframes, meaning the same courses from each table get repeated. "
   ]
  },
  {
   "cell_type": "code",
   "execution_count": 20,
   "id": "6303ae10-4fb7-487b-a4ad-c3c79230ce33",
   "metadata": {},
   "outputs": [],
   "source": [
    "# Defining a list containing all the saved csv files\n",
    "df_list = [df_2019, df_em_2019, df_2020, df_em_2020, df_2021]\n",
    "# Concatenating the data contained within a list\n",
    "allcourses = pd.concat(df_list)"
   ]
  },
  {
   "cell_type": "markdown",
   "id": "53d28b99-e06a-4010-963b-731a7488b5cc",
   "metadata": {},
   "source": [
    "2. Cleaning the concatenated table <br>\n",
    "I've filtered out only the common columns, *CODE* and *TITLE*, to create a table containing all the possible courses from each year. This table will be a base on which I will later add the relevant data. I've also removed all the duplicates, sort the values by the *CODE* column and set the same column as the index.\n"
   ]
  },
  {
   "cell_type": "code",
   "execution_count": 21,
   "id": "8bfc073b-8349-4777-b1ba-90d2610dd5ec",
   "metadata": {},
   "outputs": [
    {
     "data": {
      "text/html": [
       "<div>\n",
       "<style scoped>\n",
       "    .dataframe tbody tr th:only-of-type {\n",
       "        vertical-align: middle;\n",
       "    }\n",
       "\n",
       "    .dataframe tbody tr th {\n",
       "        vertical-align: top;\n",
       "    }\n",
       "\n",
       "    .dataframe thead th {\n",
       "        text-align: right;\n",
       "    }\n",
       "</style>\n",
       "<table border=\"1\" class=\"dataframe\">\n",
       "  <thead>\n",
       "    <tr style=\"text-align: right;\">\n",
       "      <th></th>\n",
       "      <th>TITLE</th>\n",
       "    </tr>\n",
       "    <tr>\n",
       "      <th>CODE</th>\n",
       "      <th></th>\n",
       "    </tr>\n",
       "  </thead>\n",
       "  <tbody>\n",
       "    <tr>\n",
       "      <th>AC120</th>\n",
       "      <td>International Business                        ...</td>\n",
       "    </tr>\n",
       "    <tr>\n",
       "      <th>AC137</th>\n",
       "      <td>Liberal Arts                                  ...</td>\n",
       "    </tr>\n",
       "    <tr>\n",
       "      <th>AD101</th>\n",
       "      <td>First Year Art &amp; Design (Common Entry)        ...</td>\n",
       "    </tr>\n",
       "    <tr>\n",
       "      <th>AD102</th>\n",
       "      <td>Graphic Design and Moving Image Design        ...</td>\n",
       "    </tr>\n",
       "    <tr>\n",
       "      <th>AD103</th>\n",
       "      <td>Textile &amp; Surface Design and Jewellery &amp; Objec...</td>\n",
       "    </tr>\n",
       "    <tr>\n",
       "      <th>AD202</th>\n",
       "      <td>Education &amp; Design or Fine Art (Second Level T...</td>\n",
       "    </tr>\n",
       "    <tr>\n",
       "      <th>AD204</th>\n",
       "      <td>Fine Art                                      ...</td>\n",
       "    </tr>\n",
       "    <tr>\n",
       "      <th>AD211</th>\n",
       "      <td>Fashion Design                                ...</td>\n",
       "    </tr>\n",
       "    <tr>\n",
       "      <th>AD212</th>\n",
       "      <td>Product Design                                ...</td>\n",
       "    </tr>\n",
       "    <tr>\n",
       "      <th>AD215</th>\n",
       "      <td>Visual Culture                                ...</td>\n",
       "    </tr>\n",
       "  </tbody>\n",
       "</table>\n",
       "</div>"
      ],
      "text/plain": [
       "                                                   TITLE\n",
       "CODE                                                    \n",
       "AC120  International Business                        ...\n",
       "AC137  Liberal Arts                                  ...\n",
       "AD101  First Year Art & Design (Common Entry)        ...\n",
       "AD102  Graphic Design and Moving Image Design        ...\n",
       "AD103  Textile & Surface Design and Jewellery & Objec...\n",
       "AD202  Education & Design or Fine Art (Second Level T...\n",
       "AD204  Fine Art                                      ...\n",
       "AD211  Fashion Design                                ...\n",
       "AD212  Product Design                                ...\n",
       "AD215  Visual Culture                                ..."
      ]
     },
     "execution_count": 21,
     "metadata": {},
     "output_type": "execute_result"
    }
   ],
   "source": [
    "# Filering out columns\n",
    "allcourses = allcourses [[\"CODE\", \"TITLE\"]]\n",
    "# Remove duplicates created concatenating\n",
    "allcourses.drop_duplicates(subset=[\"CODE\"], inplace=True, ignore_index=False)\n",
    "# Sort the table by \"CODE\" column\n",
    "allcourses.sort_values(\"CODE\", inplace = True)\n",
    "# set \"CODE\" column as index \n",
    "allcourses.set_index(\"CODE\", inplace=True)\n",
    "# Print only first 10 rows for an overview\n",
    "allcourses.head(10)"
   ]
  },
  {
   "cell_type": "markdown",
   "id": "e53c7a50-a6e8-4cdf-96e7-b831584d11e8",
   "metadata": {},
   "source": [
    "3. Joining the relevant columns to the \"base\" table"
   ]
  },
  {
   "cell_type": "code",
   "execution_count": 22,
   "id": "5f405df7-1ff2-46da-b69a-02994a9e710d",
   "metadata": {},
   "outputs": [
    {
     "data": {
      "text/html": [
       "<div>\n",
       "<style scoped>\n",
       "    .dataframe tbody tr th:only-of-type {\n",
       "        vertical-align: middle;\n",
       "    }\n",
       "\n",
       "    .dataframe tbody tr th {\n",
       "        vertical-align: top;\n",
       "    }\n",
       "\n",
       "    .dataframe thead th {\n",
       "        text-align: right;\n",
       "    }\n",
       "</style>\n",
       "<table border=\"1\" class=\"dataframe\">\n",
       "  <thead>\n",
       "    <tr style=\"text-align: right;\">\n",
       "      <th></th>\n",
       "      <th>TITLE</th>\n",
       "      <th>R1_2019</th>\n",
       "      <th>R2_2019</th>\n",
       "      <th>EOS_2019</th>\n",
       "      <th>MID_2019</th>\n",
       "      <th>R1_2020</th>\n",
       "      <th>R2_2020</th>\n",
       "      <th>EOS_2020</th>\n",
       "      <th>MID_2020</th>\n",
       "      <th>R1_2021</th>\n",
       "      <th>R2_2021</th>\n",
       "    </tr>\n",
       "    <tr>\n",
       "      <th>CODE</th>\n",
       "      <th></th>\n",
       "      <th></th>\n",
       "      <th></th>\n",
       "      <th></th>\n",
       "      <th></th>\n",
       "      <th></th>\n",
       "      <th></th>\n",
       "      <th></th>\n",
       "      <th></th>\n",
       "      <th></th>\n",
       "      <th></th>\n",
       "    </tr>\n",
       "  </thead>\n",
       "  <tbody>\n",
       "    <tr>\n",
       "      <th>AC120</th>\n",
       "      <td>International Business                        ...</td>\n",
       "      <td>234</td>\n",
       "      <td>234</td>\n",
       "      <td>234</td>\n",
       "      <td>269.0</td>\n",
       "      <td>209</td>\n",
       "      <td>NaN</td>\n",
       "      <td>209</td>\n",
       "      <td>280</td>\n",
       "      <td>294</td>\n",
       "      <td>294</td>\n",
       "    </tr>\n",
       "    <tr>\n",
       "      <th>AC137</th>\n",
       "      <td>Liberal Arts                                  ...</td>\n",
       "      <td>275</td>\n",
       "      <td>252</td>\n",
       "      <td>252</td>\n",
       "      <td>275.0</td>\n",
       "      <td>252</td>\n",
       "      <td>NaN</td>\n",
       "      <td>252</td>\n",
       "      <td>270</td>\n",
       "      <td>271</td>\n",
       "      <td>270</td>\n",
       "    </tr>\n",
       "    <tr>\n",
       "      <th>AD101</th>\n",
       "      <td>First Year Art &amp; Design (Common Entry)        ...</td>\n",
       "      <td>#+Matric</td>\n",
       "      <td>NaN</td>\n",
       "      <td># +matric 550</td>\n",
       "      <td>NaN</td>\n",
       "      <td>#+matric</td>\n",
       "      <td>NaN</td>\n",
       "      <td>#+matric</td>\n",
       "      <td>#+matric</td>\n",
       "      <td>#554</td>\n",
       "      <td>NaN</td>\n",
       "    </tr>\n",
       "    <tr>\n",
       "      <th>AD102</th>\n",
       "      <td>Graphic Design and Moving Image Design        ...</td>\n",
       "      <td>#+Matric</td>\n",
       "      <td>NaN</td>\n",
       "      <td># +matric 635</td>\n",
       "      <td>NaN</td>\n",
       "      <td>#+matric</td>\n",
       "      <td>NaN</td>\n",
       "      <td>#+matric</td>\n",
       "      <td>#+matric</td>\n",
       "      <td>#538</td>\n",
       "      <td>NaN</td>\n",
       "    </tr>\n",
       "    <tr>\n",
       "      <th>AD103</th>\n",
       "      <td>Textile &amp; Surface Design and Jewellery &amp; Objec...</td>\n",
       "      <td>#+Matric</td>\n",
       "      <td>NaN</td>\n",
       "      <td># +matric 545</td>\n",
       "      <td>NaN</td>\n",
       "      <td>#+matric</td>\n",
       "      <td>NaN</td>\n",
       "      <td>#+matric</td>\n",
       "      <td>#+matric</td>\n",
       "      <td>#505</td>\n",
       "      <td>NaN</td>\n",
       "    </tr>\n",
       "    <tr>\n",
       "      <th>AD202</th>\n",
       "      <td>Education &amp; Design or Fine Art (Second Level T...</td>\n",
       "      <td>#+Matric</td>\n",
       "      <td>NaN</td>\n",
       "      <td># +matric 580</td>\n",
       "      <td>NaN</td>\n",
       "      <td>#+matric</td>\n",
       "      <td>NaN</td>\n",
       "      <td>#+matric</td>\n",
       "      <td>#+matric</td>\n",
       "      <td>#591</td>\n",
       "      <td>NaN</td>\n",
       "    </tr>\n",
       "    <tr>\n",
       "      <th>AD204</th>\n",
       "      <td>Fine Art                                      ...</td>\n",
       "      <td>#+Matric</td>\n",
       "      <td>NaN</td>\n",
       "      <td># +matric 600</td>\n",
       "      <td>NaN</td>\n",
       "      <td>#+matric</td>\n",
       "      <td>NaN</td>\n",
       "      <td>#+matric</td>\n",
       "      <td>#+matric</td>\n",
       "      <td>#514</td>\n",
       "      <td>NaN</td>\n",
       "    </tr>\n",
       "    <tr>\n",
       "      <th>AD211</th>\n",
       "      <td>Fashion Design                                ...</td>\n",
       "      <td>#+Matric</td>\n",
       "      <td>NaN</td>\n",
       "      <td># +matric 600</td>\n",
       "      <td>NaN</td>\n",
       "      <td>#+matric</td>\n",
       "      <td>NaN</td>\n",
       "      <td>#+matric</td>\n",
       "      <td>#+matric</td>\n",
       "      <td>#760</td>\n",
       "      <td>#679</td>\n",
       "    </tr>\n",
       "    <tr>\n",
       "      <th>AD212</th>\n",
       "      <td>Product Design                                ...</td>\n",
       "      <td>#+Matric</td>\n",
       "      <td>NaN</td>\n",
       "      <td># +matric 600</td>\n",
       "      <td>NaN</td>\n",
       "      <td>#+matric</td>\n",
       "      <td>NaN</td>\n",
       "      <td>#+matric</td>\n",
       "      <td>#+matric</td>\n",
       "      <td>#413</td>\n",
       "      <td>NaN</td>\n",
       "    </tr>\n",
       "    <tr>\n",
       "      <th>AD215</th>\n",
       "      <td>Visual Culture                                ...</td>\n",
       "      <td>300</td>\n",
       "      <td>NaN</td>\n",
       "      <td>300</td>\n",
       "      <td>338.0</td>\n",
       "      <td>377</td>\n",
       "      <td>320</td>\n",
       "      <td>320</td>\n",
       "      <td>389</td>\n",
       "      <td>337</td>\n",
       "      <td>300</td>\n",
       "    </tr>\n",
       "  </tbody>\n",
       "</table>\n",
       "</div>"
      ],
      "text/plain": [
       "                                                   TITLE   R1_2019 R2_2019  \\\n",
       "CODE                                                                         \n",
       "AC120  International Business                        ...       234     234   \n",
       "AC137  Liberal Arts                                  ...       275     252   \n",
       "AD101  First Year Art & Design (Common Entry)        ...  #+Matric     NaN   \n",
       "AD102  Graphic Design and Moving Image Design        ...  #+Matric     NaN   \n",
       "AD103  Textile & Surface Design and Jewellery & Objec...  #+Matric     NaN   \n",
       "AD202  Education & Design or Fine Art (Second Level T...  #+Matric     NaN   \n",
       "AD204  Fine Art                                      ...  #+Matric     NaN   \n",
       "AD211  Fashion Design                                ...  #+Matric     NaN   \n",
       "AD212  Product Design                                ...  #+Matric     NaN   \n",
       "AD215  Visual Culture                                ...       300     NaN   \n",
       "\n",
       "            EOS_2019  MID_2019   R1_2020 R2_2020  EOS_2020  MID_2020 R1_2021  \\\n",
       "CODE                                                                           \n",
       "AC120            234     269.0       209     NaN       209       280     294   \n",
       "AC137            252     275.0       252     NaN       252       270     271   \n",
       "AD101  # +matric 550       NaN  #+matric     NaN  #+matric  #+matric    #554   \n",
       "AD102  # +matric 635       NaN  #+matric     NaN  #+matric  #+matric    #538   \n",
       "AD103  # +matric 545       NaN  #+matric     NaN  #+matric  #+matric    #505   \n",
       "AD202  # +matric 580       NaN  #+matric     NaN  #+matric  #+matric    #591   \n",
       "AD204  # +matric 600       NaN  #+matric     NaN  #+matric  #+matric    #514   \n",
       "AD211  # +matric 600       NaN  #+matric     NaN  #+matric  #+matric    #760   \n",
       "AD212  # +matric 600       NaN  #+matric     NaN  #+matric  #+matric    #413   \n",
       "AD215            300     338.0       377     320       320       389     337   \n",
       "\n",
       "      R2_2021  \n",
       "CODE           \n",
       "AC120     294  \n",
       "AC137     270  \n",
       "AD101     NaN  \n",
       "AD102     NaN  \n",
       "AD103     NaN  \n",
       "AD202     NaN  \n",
       "AD204     NaN  \n",
       "AD211    #679  \n",
       "AD212     NaN  \n",
       "AD215     300  "
      ]
     },
     "execution_count": 22,
     "metadata": {},
     "output_type": "execute_result"
    }
   ],
   "source": [
    "# Loop - set \"CODE\" column as index for all df\n",
    "for i in df_list:\n",
    "    i.set_index(\"CODE\", inplace=True)\n",
    "# Joining\n",
    "allcourses = allcourses.join(df_2019[[\"R1_2019\", \"R2_2019\"]])\n",
    "allcourses = allcourses.join(df_em_2019[[\"EOS_2019\", \"MID_2019\"]])\n",
    "allcourses = allcourses.join(df_2020[[\"R1_2020\", \"R2_2020\"]])\n",
    "allcourses = allcourses.join(df_em_2020[[\"EOS_2020\", \"MID_2020\"]])\n",
    "allcourses = allcourses.join(df_2021[[\"R1_2021\", \"R2_2021\"]])\n",
    "# Print only first 10\n",
    "allcourses.head(10)"
   ]
  },
  {
   "cell_type": "markdown",
   "id": "946a185c-b365-415a-9869-e9c7da9af674",
   "metadata": {},
   "source": [
    "4. Saving the final table as a csv file"
   ]
  },
  {
   "cell_type": "code",
   "execution_count": 23,
   "id": "f6a928d7-ea3a-4c01-a809-0c797b038340",
   "metadata": {},
   "outputs": [],
   "source": [
    "allcourses.to_csv (\"data/Final_table.csv\")"
   ]
  },
  {
   "cell_type": "markdown",
   "id": "4774b801-4ce7-47e8-a2a7-7f92f0c2f126",
   "metadata": {},
   "source": [
    "## 4. DATA ANALYSIS\n",
    "<hr style=\"border:2px solid gray\"> </hr>"
   ]
  },
  {
   "cell_type": "markdown",
   "id": "114c4e07-e9d0-4743-a704-4bb2a59cccc1",
   "metadata": {},
   "source": [
    "I've decided to do the analysis and comparison between the mentioned years on the following variables:\n",
    "\n",
    "1. ROUND 1 POINTS - the required points to enter the given course in the first round\n",
    "2. ROUND 2 POINTS - the required points to enter the given course in the second round\n",
    "3. EOS POINTS - the final cut-off points, in other word, the points score achieved by the last applicant being offered a place on that course [3]\n",
    "4. MID POINTS - the points score of the applicant midwaybetween the highest and the lowest applicant being offered a place [3]\n",
    "\n",
    "Majority of the courses have only the numeric value, representing the points. Certain courses could also have descriptive symbols, along the numeric value or without it. The mentioned symbols are:\n",
    "\n",
    "|||\n",
    "| :-: | :- |\n",
    "| * | Not all on this points score were offered places |\n",
    "| # | Test / Interview / Portfolio / Audition |\n",
    "| AQA | All qualified applicants |\n",
    "| v | New competition for available places |"
   ]
  },
  {
   "cell_type": "code",
   "execution_count": 24,
   "id": "17de076f-a24b-48a0-83be-7441a04758cb",
   "metadata": {
    "tags": []
   },
   "outputs": [
    {
     "data": {
      "text/html": [
       "<div>\n",
       "<style scoped>\n",
       "    .dataframe tbody tr th:only-of-type {\n",
       "        vertical-align: middle;\n",
       "    }\n",
       "\n",
       "    .dataframe tbody tr th {\n",
       "        vertical-align: top;\n",
       "    }\n",
       "\n",
       "    .dataframe thead th {\n",
       "        text-align: right;\n",
       "    }\n",
       "</style>\n",
       "<table border=\"1\" class=\"dataframe\">\n",
       "  <thead>\n",
       "    <tr style=\"text-align: right;\">\n",
       "      <th></th>\n",
       "      <th></th>\n",
       "      <th>R1_2019</th>\n",
       "      <th>R2_2019</th>\n",
       "      <th>EOS_2019</th>\n",
       "      <th>MID_2019</th>\n",
       "      <th>R1_2020</th>\n",
       "      <th>R2_2020</th>\n",
       "      <th>EOS_2020</th>\n",
       "      <th>MID_2020</th>\n",
       "      <th>R1_2021</th>\n",
       "      <th>R2_2021</th>\n",
       "    </tr>\n",
       "    <tr>\n",
       "      <th>CODE</th>\n",
       "      <th>TITLE</th>\n",
       "      <th></th>\n",
       "      <th></th>\n",
       "      <th></th>\n",
       "      <th></th>\n",
       "      <th></th>\n",
       "      <th></th>\n",
       "      <th></th>\n",
       "      <th></th>\n",
       "      <th></th>\n",
       "      <th></th>\n",
       "    </tr>\n",
       "  </thead>\n",
       "  <tbody>\n",
       "    <tr>\n",
       "      <th>AC120</th>\n",
       "      <th>International Business</th>\n",
       "      <td>234</td>\n",
       "      <td>234</td>\n",
       "      <td>234</td>\n",
       "      <td>269.0</td>\n",
       "      <td>209</td>\n",
       "      <td>NaN</td>\n",
       "      <td>209</td>\n",
       "      <td>280</td>\n",
       "      <td>294</td>\n",
       "      <td>294</td>\n",
       "    </tr>\n",
       "    <tr>\n",
       "      <th>AC137</th>\n",
       "      <th>Liberal Arts</th>\n",
       "      <td>275</td>\n",
       "      <td>252</td>\n",
       "      <td>252</td>\n",
       "      <td>275.0</td>\n",
       "      <td>252</td>\n",
       "      <td>NaN</td>\n",
       "      <td>252</td>\n",
       "      <td>270</td>\n",
       "      <td>271</td>\n",
       "      <td>270</td>\n",
       "    </tr>\n",
       "    <tr>\n",
       "      <th>AD101</th>\n",
       "      <th>First Year Art &amp; Design (Common Entry)</th>\n",
       "      <td>#+Matric</td>\n",
       "      <td>NaN</td>\n",
       "      <td># +matric 550</td>\n",
       "      <td>NaN</td>\n",
       "      <td>#+matric</td>\n",
       "      <td>NaN</td>\n",
       "      <td>#+matric</td>\n",
       "      <td>#+matric</td>\n",
       "      <td>#554</td>\n",
       "      <td>NaN</td>\n",
       "    </tr>\n",
       "    <tr>\n",
       "      <th>AD102</th>\n",
       "      <th>Graphic Design and Moving Image Design</th>\n",
       "      <td>#+Matric</td>\n",
       "      <td>NaN</td>\n",
       "      <td># +matric 635</td>\n",
       "      <td>NaN</td>\n",
       "      <td>#+matric</td>\n",
       "      <td>NaN</td>\n",
       "      <td>#+matric</td>\n",
       "      <td>#+matric</td>\n",
       "      <td>#538</td>\n",
       "      <td>NaN</td>\n",
       "    </tr>\n",
       "    <tr>\n",
       "      <th>AD103</th>\n",
       "      <th>Textile &amp; Surface Design and Jewellery &amp; Objects</th>\n",
       "      <td>#+Matric</td>\n",
       "      <td>NaN</td>\n",
       "      <td># +matric 545</td>\n",
       "      <td>NaN</td>\n",
       "      <td>#+matric</td>\n",
       "      <td>NaN</td>\n",
       "      <td>#+matric</td>\n",
       "      <td>#+matric</td>\n",
       "      <td>#505</td>\n",
       "      <td>NaN</td>\n",
       "    </tr>\n",
       "    <tr>\n",
       "      <th>AD202</th>\n",
       "      <th>Education &amp; Design or Fine Art (Second Level Teach</th>\n",
       "      <td>#+Matric</td>\n",
       "      <td>NaN</td>\n",
       "      <td># +matric 580</td>\n",
       "      <td>NaN</td>\n",
       "      <td>#+matric</td>\n",
       "      <td>NaN</td>\n",
       "      <td>#+matric</td>\n",
       "      <td>#+matric</td>\n",
       "      <td>#591</td>\n",
       "      <td>NaN</td>\n",
       "    </tr>\n",
       "    <tr>\n",
       "      <th>AD204</th>\n",
       "      <th>Fine Art</th>\n",
       "      <td>#+Matric</td>\n",
       "      <td>NaN</td>\n",
       "      <td># +matric 600</td>\n",
       "      <td>NaN</td>\n",
       "      <td>#+matric</td>\n",
       "      <td>NaN</td>\n",
       "      <td>#+matric</td>\n",
       "      <td>#+matric</td>\n",
       "      <td>#514</td>\n",
       "      <td>NaN</td>\n",
       "    </tr>\n",
       "    <tr>\n",
       "      <th>AD211</th>\n",
       "      <th>Fashion Design</th>\n",
       "      <td>#+Matric</td>\n",
       "      <td>NaN</td>\n",
       "      <td># +matric 600</td>\n",
       "      <td>NaN</td>\n",
       "      <td>#+matric</td>\n",
       "      <td>NaN</td>\n",
       "      <td>#+matric</td>\n",
       "      <td>#+matric</td>\n",
       "      <td>#760</td>\n",
       "      <td>#679</td>\n",
       "    </tr>\n",
       "    <tr>\n",
       "      <th>AD212</th>\n",
       "      <th>Product Design</th>\n",
       "      <td>#+Matric</td>\n",
       "      <td>NaN</td>\n",
       "      <td># +matric 600</td>\n",
       "      <td>NaN</td>\n",
       "      <td>#+matric</td>\n",
       "      <td>NaN</td>\n",
       "      <td>#+matric</td>\n",
       "      <td>#+matric</td>\n",
       "      <td>#413</td>\n",
       "      <td>NaN</td>\n",
       "    </tr>\n",
       "    <tr>\n",
       "      <th>AD215</th>\n",
       "      <th>Visual Culture</th>\n",
       "      <td>300</td>\n",
       "      <td>NaN</td>\n",
       "      <td>300</td>\n",
       "      <td>338.0</td>\n",
       "      <td>377</td>\n",
       "      <td>320</td>\n",
       "      <td>320</td>\n",
       "      <td>389</td>\n",
       "      <td>337</td>\n",
       "      <td>300</td>\n",
       "    </tr>\n",
       "  </tbody>\n",
       "</table>\n",
       "</div>"
      ],
      "text/plain": [
       "                                                           R1_2019 R2_2019  \\\n",
       "CODE  TITLE                                                                  \n",
       "AC120 International Business                                   234     234   \n",
       "AC137 Liberal Arts                                             275     252   \n",
       "AD101 First Year Art & Design (Common Entry)              #+Matric     NaN   \n",
       "AD102 Graphic Design and Moving Image Design              #+Matric     NaN   \n",
       "AD103 Textile & Surface Design and Jewellery & Objects    #+Matric     NaN   \n",
       "AD202 Education & Design or Fine Art (Second Level Teach  #+Matric     NaN   \n",
       "AD204 Fine Art                                            #+Matric     NaN   \n",
       "AD211 Fashion Design                                      #+Matric     NaN   \n",
       "AD212 Product Design                                      #+Matric     NaN   \n",
       "AD215 Visual Culture                                           300     NaN   \n",
       "\n",
       "                                                               EOS_2019  \\\n",
       "CODE  TITLE                                                               \n",
       "AC120 International Business                                        234   \n",
       "AC137 Liberal Arts                                                  252   \n",
       "AD101 First Year Art & Design (Common Entry)              # +matric 550   \n",
       "AD102 Graphic Design and Moving Image Design              # +matric 635   \n",
       "AD103 Textile & Surface Design and Jewellery & Objects    # +matric 545   \n",
       "AD202 Education & Design or Fine Art (Second Level Teach  # +matric 580   \n",
       "AD204 Fine Art                                            # +matric 600   \n",
       "AD211 Fashion Design                                      # +matric 600   \n",
       "AD212 Product Design                                      # +matric 600   \n",
       "AD215 Visual Culture                                                300   \n",
       "\n",
       "                                                          MID_2019   R1_2020  \\\n",
       "CODE  TITLE                                                                    \n",
       "AC120 International Business                                 269.0       209   \n",
       "AC137 Liberal Arts                                           275.0       252   \n",
       "AD101 First Year Art & Design (Common Entry)                   NaN  #+matric   \n",
       "AD102 Graphic Design and Moving Image Design                   NaN  #+matric   \n",
       "AD103 Textile & Surface Design and Jewellery & Objects         NaN  #+matric   \n",
       "AD202 Education & Design or Fine Art (Second Level Teach       NaN  #+matric   \n",
       "AD204 Fine Art                                                 NaN  #+matric   \n",
       "AD211 Fashion Design                                           NaN  #+matric   \n",
       "AD212 Product Design                                           NaN  #+matric   \n",
       "AD215 Visual Culture                                         338.0       377   \n",
       "\n",
       "                                                         R2_2020  EOS_2020  \\\n",
       "CODE  TITLE                                                                  \n",
       "AC120 International Business                                 NaN       209   \n",
       "AC137 Liberal Arts                                           NaN       252   \n",
       "AD101 First Year Art & Design (Common Entry)                 NaN  #+matric   \n",
       "AD102 Graphic Design and Moving Image Design                 NaN  #+matric   \n",
       "AD103 Textile & Surface Design and Jewellery & Objects       NaN  #+matric   \n",
       "AD202 Education & Design or Fine Art (Second Level Teach     NaN  #+matric   \n",
       "AD204 Fine Art                                               NaN  #+matric   \n",
       "AD211 Fashion Design                                         NaN  #+matric   \n",
       "AD212 Product Design                                         NaN  #+matric   \n",
       "AD215 Visual Culture                                         320       320   \n",
       "\n",
       "                                                          MID_2020 R1_2021  \\\n",
       "CODE  TITLE                                                                  \n",
       "AC120 International Business                                   280     294   \n",
       "AC137 Liberal Arts                                             270     271   \n",
       "AD101 First Year Art & Design (Common Entry)              #+matric    #554   \n",
       "AD102 Graphic Design and Moving Image Design              #+matric    #538   \n",
       "AD103 Textile & Surface Design and Jewellery & Objects    #+matric    #505   \n",
       "AD202 Education & Design or Fine Art (Second Level Teach  #+matric    #591   \n",
       "AD204 Fine Art                                            #+matric    #514   \n",
       "AD211 Fashion Design                                      #+matric    #760   \n",
       "AD212 Product Design                                      #+matric    #413   \n",
       "AD215 Visual Culture                                           389     337   \n",
       "\n",
       "                                                         R2_2021  \n",
       "CODE  TITLE                                                       \n",
       "AC120 International Business                                 294  \n",
       "AC137 Liberal Arts                                           270  \n",
       "AD101 First Year Art & Design (Common Entry)                 NaN  \n",
       "AD102 Graphic Design and Moving Image Design                 NaN  \n",
       "AD103 Textile & Surface Design and Jewellery & Objects       NaN  \n",
       "AD202 Education & Design or Fine Art (Second Level Teach     NaN  \n",
       "AD204 Fine Art                                               NaN  \n",
       "AD211 Fashion Design                                        #679  \n",
       "AD212 Product Design                                         NaN  \n",
       "AD215 Visual Culture                                         300  "
      ]
     },
     "execution_count": 24,
     "metadata": {},
     "output_type": "execute_result"
    }
   ],
   "source": [
    "# Read in the data for analysis\n",
    "df = pd.read_csv (\"data/Final_table.csv\", index_col = [\"CODE\", \"TITLE\"])\n",
    "#df = pd.read_csv (\"data/Final_table.csv\")\n",
    "df.head(10)"
   ]
  },
  {
   "cell_type": "markdown",
   "id": "b9070ff1-d9dc-49f4-867a-5aab767e4a27",
   "metadata": {},
   "source": [
    "To make sure all the data is correctly captured when plotting I changed the type of the columns, to be *float64*. All the columns containing symbols mentioned above are of type *object* so I've decided to replace all symbols with *None*. "
   ]
  },
  {
   "cell_type": "code",
   "execution_count": 25,
   "id": "56a8f1a0-7174-4662-b499-ac99335d173f",
   "metadata": {
    "tags": []
   },
   "outputs": [
    {
     "data": {
      "text/plain": [
       "R1_2019      object\n",
       "R2_2019      object\n",
       "EOS_2019     object\n",
       "MID_2019    float64\n",
       "R1_2020      object\n",
       "R2_2020      object\n",
       "EOS_2020     object\n",
       "MID_2020     object\n",
       "R1_2021      object\n",
       "R2_2021      object\n",
       "dtype: object"
      ]
     },
     "execution_count": 25,
     "metadata": {},
     "output_type": "execute_result"
    }
   ],
   "source": [
    "#Check current types\n",
    "df.dtypes"
   ]
  },
  {
   "cell_type": "code",
   "execution_count": 26,
   "id": "757fd81d-4973-4a30-a731-d114313503f9",
   "metadata": {},
   "outputs": [
    {
     "data": {
      "text/html": [
       "<div>\n",
       "<style scoped>\n",
       "    .dataframe tbody tr th:only-of-type {\n",
       "        vertical-align: middle;\n",
       "    }\n",
       "\n",
       "    .dataframe tbody tr th {\n",
       "        vertical-align: top;\n",
       "    }\n",
       "\n",
       "    .dataframe thead th {\n",
       "        text-align: right;\n",
       "    }\n",
       "</style>\n",
       "<table border=\"1\" class=\"dataframe\">\n",
       "  <thead>\n",
       "    <tr style=\"text-align: right;\">\n",
       "      <th></th>\n",
       "      <th></th>\n",
       "      <th>R1_2019</th>\n",
       "      <th>R2_2019</th>\n",
       "      <th>EOS_2019</th>\n",
       "      <th>MID_2019</th>\n",
       "      <th>R1_2020</th>\n",
       "      <th>R2_2020</th>\n",
       "      <th>EOS_2020</th>\n",
       "      <th>MID_2020</th>\n",
       "      <th>R1_2021</th>\n",
       "      <th>R2_2021</th>\n",
       "    </tr>\n",
       "    <tr>\n",
       "      <th>CODE</th>\n",
       "      <th>TITLE</th>\n",
       "      <th></th>\n",
       "      <th></th>\n",
       "      <th></th>\n",
       "      <th></th>\n",
       "      <th></th>\n",
       "      <th></th>\n",
       "      <th></th>\n",
       "      <th></th>\n",
       "      <th></th>\n",
       "      <th></th>\n",
       "    </tr>\n",
       "  </thead>\n",
       "  <tbody>\n",
       "    <tr>\n",
       "      <th>AC120</th>\n",
       "      <th>International Business</th>\n",
       "      <td>234.0</td>\n",
       "      <td>234.0</td>\n",
       "      <td>234.0</td>\n",
       "      <td>269.0</td>\n",
       "      <td>209.0</td>\n",
       "      <td>NaN</td>\n",
       "      <td>209.0</td>\n",
       "      <td>280.0</td>\n",
       "      <td>294.0</td>\n",
       "      <td>294.0</td>\n",
       "    </tr>\n",
       "    <tr>\n",
       "      <th>AC137</th>\n",
       "      <th>Liberal Arts</th>\n",
       "      <td>275.0</td>\n",
       "      <td>252.0</td>\n",
       "      <td>252.0</td>\n",
       "      <td>275.0</td>\n",
       "      <td>252.0</td>\n",
       "      <td>NaN</td>\n",
       "      <td>252.0</td>\n",
       "      <td>270.0</td>\n",
       "      <td>271.0</td>\n",
       "      <td>270.0</td>\n",
       "    </tr>\n",
       "    <tr>\n",
       "      <th>AD101</th>\n",
       "      <th>First Year Art &amp; Design (Common Entry)</th>\n",
       "      <td>NaN</td>\n",
       "      <td>NaN</td>\n",
       "      <td>550.0</td>\n",
       "      <td>NaN</td>\n",
       "      <td>NaN</td>\n",
       "      <td>NaN</td>\n",
       "      <td>NaN</td>\n",
       "      <td>NaN</td>\n",
       "      <td>554.0</td>\n",
       "      <td>NaN</td>\n",
       "    </tr>\n",
       "    <tr>\n",
       "      <th>AD102</th>\n",
       "      <th>Graphic Design and Moving Image Design</th>\n",
       "      <td>NaN</td>\n",
       "      <td>NaN</td>\n",
       "      <td>635.0</td>\n",
       "      <td>NaN</td>\n",
       "      <td>NaN</td>\n",
       "      <td>NaN</td>\n",
       "      <td>NaN</td>\n",
       "      <td>NaN</td>\n",
       "      <td>538.0</td>\n",
       "      <td>NaN</td>\n",
       "    </tr>\n",
       "    <tr>\n",
       "      <th>AD103</th>\n",
       "      <th>Textile &amp; Surface Design and Jewellery &amp; Objects</th>\n",
       "      <td>NaN</td>\n",
       "      <td>NaN</td>\n",
       "      <td>545.0</td>\n",
       "      <td>NaN</td>\n",
       "      <td>NaN</td>\n",
       "      <td>NaN</td>\n",
       "      <td>NaN</td>\n",
       "      <td>NaN</td>\n",
       "      <td>505.0</td>\n",
       "      <td>NaN</td>\n",
       "    </tr>\n",
       "    <tr>\n",
       "      <th>AD202</th>\n",
       "      <th>Education &amp; Design or Fine Art (Second Level Teach</th>\n",
       "      <td>NaN</td>\n",
       "      <td>NaN</td>\n",
       "      <td>580.0</td>\n",
       "      <td>NaN</td>\n",
       "      <td>NaN</td>\n",
       "      <td>NaN</td>\n",
       "      <td>NaN</td>\n",
       "      <td>NaN</td>\n",
       "      <td>591.0</td>\n",
       "      <td>NaN</td>\n",
       "    </tr>\n",
       "    <tr>\n",
       "      <th>AD204</th>\n",
       "      <th>Fine Art</th>\n",
       "      <td>NaN</td>\n",
       "      <td>NaN</td>\n",
       "      <td>600.0</td>\n",
       "      <td>NaN</td>\n",
       "      <td>NaN</td>\n",
       "      <td>NaN</td>\n",
       "      <td>NaN</td>\n",
       "      <td>NaN</td>\n",
       "      <td>514.0</td>\n",
       "      <td>NaN</td>\n",
       "    </tr>\n",
       "    <tr>\n",
       "      <th>AD211</th>\n",
       "      <th>Fashion Design</th>\n",
       "      <td>NaN</td>\n",
       "      <td>NaN</td>\n",
       "      <td>600.0</td>\n",
       "      <td>NaN</td>\n",
       "      <td>NaN</td>\n",
       "      <td>NaN</td>\n",
       "      <td>NaN</td>\n",
       "      <td>NaN</td>\n",
       "      <td>760.0</td>\n",
       "      <td>679.0</td>\n",
       "    </tr>\n",
       "    <tr>\n",
       "      <th>AD212</th>\n",
       "      <th>Product Design</th>\n",
       "      <td>NaN</td>\n",
       "      <td>NaN</td>\n",
       "      <td>600.0</td>\n",
       "      <td>NaN</td>\n",
       "      <td>NaN</td>\n",
       "      <td>NaN</td>\n",
       "      <td>NaN</td>\n",
       "      <td>NaN</td>\n",
       "      <td>413.0</td>\n",
       "      <td>NaN</td>\n",
       "    </tr>\n",
       "    <tr>\n",
       "      <th>AD215</th>\n",
       "      <th>Visual Culture</th>\n",
       "      <td>300.0</td>\n",
       "      <td>NaN</td>\n",
       "      <td>300.0</td>\n",
       "      <td>338.0</td>\n",
       "      <td>377.0</td>\n",
       "      <td>320.0</td>\n",
       "      <td>320.0</td>\n",
       "      <td>389.0</td>\n",
       "      <td>337.0</td>\n",
       "      <td>300.0</td>\n",
       "    </tr>\n",
       "  </tbody>\n",
       "</table>\n",
       "</div>"
      ],
      "text/plain": [
       "                                                          R1_2019  R2_2019  \\\n",
       "CODE  TITLE                                                                  \n",
       "AC120 International Business                                234.0    234.0   \n",
       "AC137 Liberal Arts                                          275.0    252.0   \n",
       "AD101 First Year Art & Design (Common Entry)                  NaN      NaN   \n",
       "AD102 Graphic Design and Moving Image Design                  NaN      NaN   \n",
       "AD103 Textile & Surface Design and Jewellery & Objects        NaN      NaN   \n",
       "AD202 Education & Design or Fine Art (Second Level Teach      NaN      NaN   \n",
       "AD204 Fine Art                                                NaN      NaN   \n",
       "AD211 Fashion Design                                          NaN      NaN   \n",
       "AD212 Product Design                                          NaN      NaN   \n",
       "AD215 Visual Culture                                        300.0      NaN   \n",
       "\n",
       "                                                          EOS_2019  MID_2019  \\\n",
       "CODE  TITLE                                                                    \n",
       "AC120 International Business                                 234.0     269.0   \n",
       "AC137 Liberal Arts                                           252.0     275.0   \n",
       "AD101 First Year Art & Design (Common Entry)                 550.0       NaN   \n",
       "AD102 Graphic Design and Moving Image Design                 635.0       NaN   \n",
       "AD103 Textile & Surface Design and Jewellery & Objects       545.0       NaN   \n",
       "AD202 Education & Design or Fine Art (Second Level Teach     580.0       NaN   \n",
       "AD204 Fine Art                                               600.0       NaN   \n",
       "AD211 Fashion Design                                         600.0       NaN   \n",
       "AD212 Product Design                                         600.0       NaN   \n",
       "AD215 Visual Culture                                         300.0     338.0   \n",
       "\n",
       "                                                          R1_2020  R2_2020  \\\n",
       "CODE  TITLE                                                                  \n",
       "AC120 International Business                                209.0      NaN   \n",
       "AC137 Liberal Arts                                          252.0      NaN   \n",
       "AD101 First Year Art & Design (Common Entry)                  NaN      NaN   \n",
       "AD102 Graphic Design and Moving Image Design                  NaN      NaN   \n",
       "AD103 Textile & Surface Design and Jewellery & Objects        NaN      NaN   \n",
       "AD202 Education & Design or Fine Art (Second Level Teach      NaN      NaN   \n",
       "AD204 Fine Art                                                NaN      NaN   \n",
       "AD211 Fashion Design                                          NaN      NaN   \n",
       "AD212 Product Design                                          NaN      NaN   \n",
       "AD215 Visual Culture                                        377.0    320.0   \n",
       "\n",
       "                                                          EOS_2020  MID_2020  \\\n",
       "CODE  TITLE                                                                    \n",
       "AC120 International Business                                 209.0     280.0   \n",
       "AC137 Liberal Arts                                           252.0     270.0   \n",
       "AD101 First Year Art & Design (Common Entry)                   NaN       NaN   \n",
       "AD102 Graphic Design and Moving Image Design                   NaN       NaN   \n",
       "AD103 Textile & Surface Design and Jewellery & Objects         NaN       NaN   \n",
       "AD202 Education & Design or Fine Art (Second Level Teach       NaN       NaN   \n",
       "AD204 Fine Art                                                 NaN       NaN   \n",
       "AD211 Fashion Design                                           NaN       NaN   \n",
       "AD212 Product Design                                           NaN       NaN   \n",
       "AD215 Visual Culture                                         320.0     389.0   \n",
       "\n",
       "                                                          R1_2021  R2_2021  \n",
       "CODE  TITLE                                                                 \n",
       "AC120 International Business                                294.0    294.0  \n",
       "AC137 Liberal Arts                                          271.0    270.0  \n",
       "AD101 First Year Art & Design (Common Entry)                554.0      NaN  \n",
       "AD102 Graphic Design and Moving Image Design                538.0      NaN  \n",
       "AD103 Textile & Surface Design and Jewellery & Objects      505.0      NaN  \n",
       "AD202 Education & Design or Fine Art (Second Level Teach    591.0      NaN  \n",
       "AD204 Fine Art                                              514.0      NaN  \n",
       "AD211 Fashion Design                                        760.0    679.0  \n",
       "AD212 Product Design                                        413.0      NaN  \n",
       "AD215 Visual Culture                                        337.0    300.0  "
      ]
     },
     "execution_count": 26,
     "metadata": {},
     "output_type": "execute_result"
    }
   ],
   "source": [
    "# Filtering out the non numeric values in df\n",
    "    # Replace all strings with \"none\"\n",
    "df_numeric = df.replace(r'\\D', \"\", regex=True)\n",
    "    # Change columns type from object to numeric\n",
    "df_numeric = df_numeric.apply(pd.to_numeric, errors='coerce')\n",
    "df_numeric.head(10)"
   ]
  },
  {
   "cell_type": "code",
   "execution_count": 27,
   "id": "1f4c6af6-f261-4c72-81ad-6fc759926474",
   "metadata": {},
   "outputs": [],
   "source": [
    "# Saving numeric only table as csv\n",
    "df_numeric.to_csv (\"Numeric_table.csv\")"
   ]
  },
  {
   "cell_type": "code",
   "execution_count": 28,
   "id": "1407f89e-d440-4f1e-80ab-f011a7187181",
   "metadata": {},
   "outputs": [
    {
     "data": {
      "text/plain": [
       "R1_2019     float64\n",
       "R2_2019     float64\n",
       "EOS_2019    float64\n",
       "MID_2019    float64\n",
       "R1_2020     float64\n",
       "R2_2020     float64\n",
       "EOS_2020    float64\n",
       "MID_2020    float64\n",
       "R1_2021     float64\n",
       "R2_2021     float64\n",
       "dtype: object"
      ]
     },
     "execution_count": 28,
     "metadata": {},
     "output_type": "execute_result"
    }
   ],
   "source": [
    "# Making sure types are correct now\n",
    "df_numeric.dtypes"
   ]
  },
  {
   "cell_type": "code",
   "execution_count": 29,
   "id": "42c1b703-d9f0-44c4-b8b2-a9f011aff8af",
   "metadata": {},
   "outputs": [],
   "source": [
    "# Defining variables for the analysis\n",
    "    # 2019\n",
    "r1_2019 = df_numeric [\"R1_2019\"]\n",
    "r2_2019 = df_numeric [\"R2_2019\"]\n",
    "eos_2019 = df_numeric [\"EOS_2019\"]\n",
    "mid_2019 = df_numeric [\"MID_2019\"]\n",
    "    # 2020\n",
    "r1_2020 = df_numeric [\"R1_2020\"]\n",
    "r2_2020 = df_numeric [\"R2_2020\"]\n",
    "eos_2020 = df_numeric [\"EOS_2020\"]\n",
    "mid_2020 = df_numeric [\"MID_2020\"]\n",
    "    # 2021\n",
    "r1_2021 = df_numeric [\"R1_2021\"]\n",
    "r2_2021 = df_numeric [\"R2_2021\"]"
   ]
  },
  {
   "cell_type": "markdown",
   "id": "25276a5e-e395-48d8-b145-0ebee7614a69",
   "metadata": {},
   "source": [
    "## COMPARISON\n",
    "***\n",
    "\n",
    "1. Total number of courses for each year - bar plot\n",
    "     - Total number of courses with symbols\n",
    "     - Total number of courses had R2\n",
    "2. Avarages of R1, R2, EOS, MID - bar plot   \n",
    "3. Points spreed (by hundred) - histogram + scatterplot\n",
    "    - R1, R2,  vs R1, R2\n",
    "    - R1, R2, EOS, MID vs R1, R2, EOS, MID\n",
    "4. Describe - boxplot\n",
    "    "
   ]
  },
  {
   "cell_type": "code",
   "execution_count": 70,
   "id": "4a92e2d8-78a2-4c62-a82f-42cad5cea9e3",
   "metadata": {},
   "outputs": [],
   "source": [
    "#print (\"There are\", df[\"CODE\"].count(), \"courses in total in years 2019, 2020 and 2021.\")\n",
    "#print (\"Of them:\\n- There were\", df_2019[\"CODE\"].count())"
   ]
  },
  {
   "cell_type": "code",
   "execution_count": 37,
   "id": "cf332853-f4f8-43a5-a8a4-d599787e323c",
   "metadata": {},
   "outputs": [
    {
     "data": {
      "text/plain": [
       "916"
      ]
     },
     "execution_count": 37,
     "metadata": {},
     "output_type": "execute_result"
    }
   ],
   "source": [
    "df_2019[\"R1_2019\"].count()"
   ]
  },
  {
   "cell_type": "code",
   "execution_count": 38,
   "id": "442111eb-b9b1-4a41-b9a4-fd007345f650",
   "metadata": {},
   "outputs": [
    {
     "data": {
      "text/plain": [
       "926"
      ]
     },
     "execution_count": 38,
     "metadata": {},
     "output_type": "execute_result"
    }
   ],
   "source": [
    "r1_df = df [\"EOS_2019\"]\n",
    "r1_df.count()"
   ]
  },
  {
   "cell_type": "code",
   "execution_count": 39,
   "id": "7bbcf19b-34e2-484b-8e26-f210b781cca4",
   "metadata": {
    "tags": []
   },
   "outputs": [
    {
     "data": {
      "text/plain": [
       "890"
      ]
     },
     "execution_count": 39,
     "metadata": {},
     "output_type": "execute_result"
    }
   ],
   "source": [
    "r1_2019.count()"
   ]
  },
  {
   "cell_type": "code",
   "execution_count": 40,
   "id": "b8f63e1e-e814-491f-9630-c8d859864775",
   "metadata": {},
   "outputs": [
    {
     "data": {
      "text/html": [
       "<div>\n",
       "<style scoped>\n",
       "    .dataframe tbody tr th:only-of-type {\n",
       "        vertical-align: middle;\n",
       "    }\n",
       "\n",
       "    .dataframe tbody tr th {\n",
       "        vertical-align: top;\n",
       "    }\n",
       "\n",
       "    .dataframe thead th {\n",
       "        text-align: right;\n",
       "    }\n",
       "</style>\n",
       "<table border=\"1\" class=\"dataframe\">\n",
       "  <thead>\n",
       "    <tr style=\"text-align: right;\">\n",
       "      <th></th>\n",
       "      <th>R1_2019</th>\n",
       "      <th>R2_2019</th>\n",
       "      <th>EOS_2019</th>\n",
       "      <th>MID_2019</th>\n",
       "      <th>R1_2020</th>\n",
       "      <th>R2_2020</th>\n",
       "      <th>EOS_2020</th>\n",
       "      <th>MID_2020</th>\n",
       "      <th>R1_2021</th>\n",
       "      <th>R2_2021</th>\n",
       "    </tr>\n",
       "  </thead>\n",
       "  <tbody>\n",
       "    <tr>\n",
       "      <th>count</th>\n",
       "      <td>890.000000</td>\n",
       "      <td>197.000000</td>\n",
       "      <td>915.000000</td>\n",
       "      <td>906.000000</td>\n",
       "      <td>927.000000</td>\n",
       "      <td>206.000000</td>\n",
       "      <td>993.000000</td>\n",
       "      <td>988.000000</td>\n",
       "      <td>923.000000</td>\n",
       "      <td>255.000000</td>\n",
       "    </tr>\n",
       "    <tr>\n",
       "      <th>mean</th>\n",
       "      <td>380.137079</td>\n",
       "      <td>380.060914</td>\n",
       "      <td>377.156284</td>\n",
       "      <td>424.698675</td>\n",
       "      <td>390.743258</td>\n",
       "      <td>392.160194</td>\n",
       "      <td>391.799597</td>\n",
       "      <td>448.198381</td>\n",
       "      <td>407.666306</td>\n",
       "      <td>414.749020</td>\n",
       "    </tr>\n",
       "    <tr>\n",
       "      <th>std</th>\n",
       "      <td>121.704187</td>\n",
       "      <td>132.624783</td>\n",
       "      <td>125.310322</td>\n",
       "      <td>132.632707</td>\n",
       "      <td>128.482188</td>\n",
       "      <td>129.948652</td>\n",
       "      <td>128.446837</td>\n",
       "      <td>129.237735</td>\n",
       "      <td>128.706224</td>\n",
       "      <td>141.693386</td>\n",
       "    </tr>\n",
       "    <tr>\n",
       "      <th>min</th>\n",
       "      <td>59.000000</td>\n",
       "      <td>146.000000</td>\n",
       "      <td>55.000000</td>\n",
       "      <td>57.000000</td>\n",
       "      <td>55.000000</td>\n",
       "      <td>184.000000</td>\n",
       "      <td>55.000000</td>\n",
       "      <td>57.000000</td>\n",
       "      <td>57.000000</td>\n",
       "      <td>60.000000</td>\n",
       "    </tr>\n",
       "    <tr>\n",
       "      <th>25%</th>\n",
       "      <td>297.250000</td>\n",
       "      <td>269.000000</td>\n",
       "      <td>290.000000</td>\n",
       "      <td>339.000000</td>\n",
       "      <td>300.000000</td>\n",
       "      <td>281.000000</td>\n",
       "      <td>300.000000</td>\n",
       "      <td>362.000000</td>\n",
       "      <td>303.000000</td>\n",
       "      <td>293.500000</td>\n",
       "    </tr>\n",
       "    <tr>\n",
       "      <th>50%</th>\n",
       "      <td>352.000000</td>\n",
       "      <td>381.000000</td>\n",
       "      <td>349.000000</td>\n",
       "      <td>392.000000</td>\n",
       "      <td>366.000000</td>\n",
       "      <td>400.500000</td>\n",
       "      <td>368.000000</td>\n",
       "      <td>426.500000</td>\n",
       "      <td>391.000000</td>\n",
       "      <td>424.000000</td>\n",
       "    </tr>\n",
       "    <tr>\n",
       "      <th>75%</th>\n",
       "      <td>442.750000</td>\n",
       "      <td>474.000000</td>\n",
       "      <td>441.000000</td>\n",
       "      <td>476.000000</td>\n",
       "      <td>465.500000</td>\n",
       "      <td>498.750000</td>\n",
       "      <td>474.000000</td>\n",
       "      <td>510.000000</td>\n",
       "      <td>499.000000</td>\n",
       "      <td>521.500000</td>\n",
       "    </tr>\n",
       "    <tr>\n",
       "      <th>max</th>\n",
       "      <td>972.000000</td>\n",
       "      <td>939.000000</td>\n",
       "      <td>979.000000</td>\n",
       "      <td>1073.000000</td>\n",
       "      <td>1088.000000</td>\n",
       "      <td>768.000000</td>\n",
       "      <td>1088.000000</td>\n",
       "      <td>1088.000000</td>\n",
       "      <td>1028.000000</td>\n",
       "      <td>904.000000</td>\n",
       "    </tr>\n",
       "  </tbody>\n",
       "</table>\n",
       "</div>"
      ],
      "text/plain": [
       "          R1_2019     R2_2019    EOS_2019     MID_2019      R1_2020  \\\n",
       "count  890.000000  197.000000  915.000000   906.000000   927.000000   \n",
       "mean   380.137079  380.060914  377.156284   424.698675   390.743258   \n",
       "std    121.704187  132.624783  125.310322   132.632707   128.482188   \n",
       "min     59.000000  146.000000   55.000000    57.000000    55.000000   \n",
       "25%    297.250000  269.000000  290.000000   339.000000   300.000000   \n",
       "50%    352.000000  381.000000  349.000000   392.000000   366.000000   \n",
       "75%    442.750000  474.000000  441.000000   476.000000   465.500000   \n",
       "max    972.000000  939.000000  979.000000  1073.000000  1088.000000   \n",
       "\n",
       "          R2_2020     EOS_2020     MID_2020      R1_2021     R2_2021  \n",
       "count  206.000000   993.000000   988.000000   923.000000  255.000000  \n",
       "mean   392.160194   391.799597   448.198381   407.666306  414.749020  \n",
       "std    129.948652   128.446837   129.237735   128.706224  141.693386  \n",
       "min    184.000000    55.000000    57.000000    57.000000   60.000000  \n",
       "25%    281.000000   300.000000   362.000000   303.000000  293.500000  \n",
       "50%    400.500000   368.000000   426.500000   391.000000  424.000000  \n",
       "75%    498.750000   474.000000   510.000000   499.000000  521.500000  \n",
       "max    768.000000  1088.000000  1088.000000  1028.000000  904.000000  "
      ]
     },
     "execution_count": 40,
     "metadata": {},
     "output_type": "execute_result"
    }
   ],
   "source": [
    "desc = df_numeric.describe()\n",
    "desc"
   ]
  },
  {
   "cell_type": "code",
   "execution_count": null,
   "id": "415cf9a3-d643-4c00-b5d5-944a2e61ac3b",
   "metadata": {},
   "outputs": [],
   "source": []
  },
  {
   "cell_type": "code",
   "execution_count": 61,
   "id": "18e9fd3c-3dcc-411f-b61d-bd169deaa9e0",
   "metadata": {},
   "outputs": [
    {
     "data": {
      "text/html": [
       "<div>\n",
       "<style scoped>\n",
       "    .dataframe tbody tr th:only-of-type {\n",
       "        vertical-align: middle;\n",
       "    }\n",
       "\n",
       "    .dataframe tbody tr th {\n",
       "        vertical-align: top;\n",
       "    }\n",
       "\n",
       "    .dataframe thead th {\n",
       "        text-align: right;\n",
       "    }\n",
       "</style>\n",
       "<table border=\"1\" class=\"dataframe\">\n",
       "  <thead>\n",
       "    <tr style=\"text-align: right;\">\n",
       "      <th></th>\n",
       "      <th>R1_2019</th>\n",
       "      <th>R2_2019</th>\n",
       "      <th>EOS_2019</th>\n",
       "      <th>MID_2019</th>\n",
       "      <th>R1_2020</th>\n",
       "      <th>R2_2020</th>\n",
       "      <th>EOS_2020</th>\n",
       "      <th>MID_2020</th>\n",
       "      <th>R1_2021</th>\n",
       "      <th>R2_2021</th>\n",
       "    </tr>\n",
       "  </thead>\n",
       "  <tbody>\n",
       "    <tr>\n",
       "      <th>0</th>\n",
       "      <td>234.0</td>\n",
       "      <td>234.0</td>\n",
       "      <td>234.0</td>\n",
       "      <td>269.0</td>\n",
       "      <td>209.0</td>\n",
       "      <td>NaN</td>\n",
       "      <td>209.0</td>\n",
       "      <td>280.0</td>\n",
       "      <td>294.0</td>\n",
       "      <td>294.0</td>\n",
       "    </tr>\n",
       "    <tr>\n",
       "      <th>1</th>\n",
       "      <td>275.0</td>\n",
       "      <td>252.0</td>\n",
       "      <td>252.0</td>\n",
       "      <td>275.0</td>\n",
       "      <td>252.0</td>\n",
       "      <td>NaN</td>\n",
       "      <td>252.0</td>\n",
       "      <td>270.0</td>\n",
       "      <td>271.0</td>\n",
       "      <td>270.0</td>\n",
       "    </tr>\n",
       "    <tr>\n",
       "      <th>2</th>\n",
       "      <td>NaN</td>\n",
       "      <td>NaN</td>\n",
       "      <td>550.0</td>\n",
       "      <td>NaN</td>\n",
       "      <td>NaN</td>\n",
       "      <td>NaN</td>\n",
       "      <td>NaN</td>\n",
       "      <td>NaN</td>\n",
       "      <td>554.0</td>\n",
       "      <td>NaN</td>\n",
       "    </tr>\n",
       "    <tr>\n",
       "      <th>3</th>\n",
       "      <td>NaN</td>\n",
       "      <td>NaN</td>\n",
       "      <td>635.0</td>\n",
       "      <td>NaN</td>\n",
       "      <td>NaN</td>\n",
       "      <td>NaN</td>\n",
       "      <td>NaN</td>\n",
       "      <td>NaN</td>\n",
       "      <td>538.0</td>\n",
       "      <td>NaN</td>\n",
       "    </tr>\n",
       "    <tr>\n",
       "      <th>4</th>\n",
       "      <td>NaN</td>\n",
       "      <td>NaN</td>\n",
       "      <td>545.0</td>\n",
       "      <td>NaN</td>\n",
       "      <td>NaN</td>\n",
       "      <td>NaN</td>\n",
       "      <td>NaN</td>\n",
       "      <td>NaN</td>\n",
       "      <td>505.0</td>\n",
       "      <td>NaN</td>\n",
       "    </tr>\n",
       "    <tr>\n",
       "      <th>...</th>\n",
       "      <td>...</td>\n",
       "      <td>...</td>\n",
       "      <td>...</td>\n",
       "      <td>...</td>\n",
       "      <td>...</td>\n",
       "      <td>...</td>\n",
       "      <td>...</td>\n",
       "      <td>...</td>\n",
       "      <td>...</td>\n",
       "      <td>...</td>\n",
       "    </tr>\n",
       "    <tr>\n",
       "      <th>1209</th>\n",
       "      <td>275.0</td>\n",
       "      <td>NaN</td>\n",
       "      <td>275.0</td>\n",
       "      <td>322.0</td>\n",
       "      <td>271.0</td>\n",
       "      <td>NaN</td>\n",
       "      <td>271.0</td>\n",
       "      <td>318.0</td>\n",
       "      <td>270.0</td>\n",
       "      <td>NaN</td>\n",
       "    </tr>\n",
       "    <tr>\n",
       "      <th>1210</th>\n",
       "      <td>274.0</td>\n",
       "      <td>NaN</td>\n",
       "      <td>274.0</td>\n",
       "      <td>311.0</td>\n",
       "      <td>270.0</td>\n",
       "      <td>NaN</td>\n",
       "      <td>270.0</td>\n",
       "      <td>349.0</td>\n",
       "      <td>262.0</td>\n",
       "      <td>NaN</td>\n",
       "    </tr>\n",
       "    <tr>\n",
       "      <th>1211</th>\n",
       "      <td>273.0</td>\n",
       "      <td>NaN</td>\n",
       "      <td>273.0</td>\n",
       "      <td>348.0</td>\n",
       "      <td>253.0</td>\n",
       "      <td>NaN</td>\n",
       "      <td>253.0</td>\n",
       "      <td>369.0</td>\n",
       "      <td>230.0</td>\n",
       "      <td>230.0</td>\n",
       "    </tr>\n",
       "    <tr>\n",
       "      <th>1212</th>\n",
       "      <td>NaN</td>\n",
       "      <td>NaN</td>\n",
       "      <td>NaN</td>\n",
       "      <td>NaN</td>\n",
       "      <td>NaN</td>\n",
       "      <td>NaN</td>\n",
       "      <td>NaN</td>\n",
       "      <td>NaN</td>\n",
       "      <td>266.0</td>\n",
       "      <td>NaN</td>\n",
       "    </tr>\n",
       "    <tr>\n",
       "      <th>1213</th>\n",
       "      <td>NaN</td>\n",
       "      <td>NaN</td>\n",
       "      <td>NaN</td>\n",
       "      <td>NaN</td>\n",
       "      <td>NaN</td>\n",
       "      <td>NaN</td>\n",
       "      <td>NaN</td>\n",
       "      <td>NaN</td>\n",
       "      <td>261.0</td>\n",
       "      <td>261.0</td>\n",
       "    </tr>\n",
       "  </tbody>\n",
       "</table>\n",
       "<p>1214 rows × 10 columns</p>\n",
       "</div>"
      ],
      "text/plain": [
       "      R1_2019  R2_2019  EOS_2019  MID_2019  R1_2020  R2_2020  EOS_2020  \\\n",
       "0       234.0    234.0     234.0     269.0    209.0      NaN     209.0   \n",
       "1       275.0    252.0     252.0     275.0    252.0      NaN     252.0   \n",
       "2         NaN      NaN     550.0       NaN      NaN      NaN       NaN   \n",
       "3         NaN      NaN     635.0       NaN      NaN      NaN       NaN   \n",
       "4         NaN      NaN     545.0       NaN      NaN      NaN       NaN   \n",
       "...       ...      ...       ...       ...      ...      ...       ...   \n",
       "1209    275.0      NaN     275.0     322.0    271.0      NaN     271.0   \n",
       "1210    274.0      NaN     274.0     311.0    270.0      NaN     270.0   \n",
       "1211    273.0      NaN     273.0     348.0    253.0      NaN     253.0   \n",
       "1212      NaN      NaN       NaN       NaN      NaN      NaN       NaN   \n",
       "1213      NaN      NaN       NaN       NaN      NaN      NaN       NaN   \n",
       "\n",
       "      MID_2020  R1_2021  R2_2021  \n",
       "0        280.0    294.0    294.0  \n",
       "1        270.0    271.0    270.0  \n",
       "2          NaN    554.0      NaN  \n",
       "3          NaN    538.0      NaN  \n",
       "4          NaN    505.0      NaN  \n",
       "...        ...      ...      ...  \n",
       "1209     318.0    270.0      NaN  \n",
       "1210     349.0    262.0      NaN  \n",
       "1211     369.0    230.0    230.0  \n",
       "1212       NaN    266.0      NaN  \n",
       "1213       NaN    261.0    261.0  \n",
       "\n",
       "[1214 rows x 10 columns]"
      ]
     },
     "execution_count": 61,
     "metadata": {},
     "output_type": "execute_result"
    }
   ],
   "source": [
    "counts = df_numeric.reset_index(drop=True)\n",
    "counts"
   ]
  },
  {
   "cell_type": "code",
   "execution_count": 76,
   "id": "4fdeb0ec-6009-4d33-9a60-8d1d369a2a99",
   "metadata": {},
   "outputs": [],
   "source": [
    "plt.rcParams[\"figure.figsize\"] = (25, 5)"
   ]
  },
  {
   "cell_type": "code",
   "execution_count": 77,
   "id": "2c0b96c8-76c7-49c2-a0c5-e3e7e36956f7",
   "metadata": {},
   "outputs": [
    {
     "data": {
      "text/plain": [
       "<AxesSubplot:>"
      ]
     },
     "execution_count": 77,
     "metadata": {},
     "output_type": "execute_result"
    },
    {
     "data": {
      "image/png": "[encoded data removed]",
      "text/plain": [
       "<Figure size 1800x360 with 1 Axes>"
      ]
     },
     "metadata": {
      "needs_background": "light"
     },
     "output_type": "display_data"
    }
   ],
   "source": [
    "sns.boxplot (data = counts)"
   ]
  },
  {
   "cell_type": "code",
   "execution_count": 78,
   "id": "388da5fe-0c77-4b37-bca5-c89063d8a944",
   "metadata": {},
   "outputs": [
    {
     "data": {
      "image/png": "[encoded data removed]",
      "text/plain": [
       "<Figure size 1800x360 with 1 Axes>"
      ]
     },
     "metadata": {
      "needs_background": "light"
     },
     "output_type": "display_data"
    }
   ],
   "source": [
    "#plt.xticks (ticks = (100, 200, 300, 400, 500, 600, 700, 800, 900, 1000, 1100))\n",
    "sns.countplot (data = counts, alpha = 0.5)\n",
    "#plt.legend([\"r1_2019\", \"r1_2020\", \"r1_2021\", \"r2_2019\", \"r2_2020\", \"r2_2021\"])\n",
    "plt.show()"
   ]
  },
  {
   "cell_type": "code",
   "execution_count": 79,
   "id": "8b30599a-2fe1-4f3c-9ec3-7e27b7afce89",
   "metadata": {},
   "outputs": [],
   "source": [
    "rounds = [r1_2019, r2_2019, r1_2020, r2_2020, r1_2021, r2_2021]"
   ]
  },
  {
   "cell_type": "code",
   "execution_count": 80,
   "id": "547f6388-0bbf-44cc-b05c-0d215f08833f",
   "metadata": {},
   "outputs": [
    {
     "data": {
      "image/png": "[encoded data removed]",
      "text/plain": [
       "<Figure size 1800x360 with 1 Axes>"
      ]
     },
     "metadata": {
      "needs_background": "light"
     },
     "output_type": "display_data"
    }
   ],
   "source": [
    "plt.xticks (ticks = (100, 200, 300, 400, 500, 600, 700, 800, 900, 1000, 1100))\n",
    "plt.hist (rounds, alpha = 0.5, bins = 11)\n",
    "plt.legend([\"r1_2019\", \"r1_2020\", \"r1_2021\", \"r2_2019\", \"r2_2020\", \"r2_2021\", \"eos_2019\", \"eos_2020\", \"mid_2019\", \"mid_2019\"])\n",
    "plt.show()"
   ]
  },
  {
   "cell_type": "code",
   "execution_count": 81,
   "id": "1a581ffb-3a76-4410-94dc-e0071ff09c2b",
   "metadata": {},
   "outputs": [
    {
     "data": {
      "image/png": "[encoded data removed]",
      "text/plain": [
       "<Figure size 1800x360 with 1 Axes>"
      ]
     },
     "metadata": {
      "needs_background": "light"
     },
     "output_type": "display_data"
    }
   ],
   "source": [
    "sns.kdeplot (data = rounds)\n",
    "plt.show()"
   ]
  },
  {
   "cell_type": "code",
   "execution_count": 82,
   "id": "c93efeb3-0a9c-4ef9-999d-0b20e2bc4b77",
   "metadata": {},
   "outputs": [],
   "source": [
    "eos_mid = [eos_2019, mid_2019, eos_2020, mid_2020]"
   ]
  },
  {
   "cell_type": "code",
   "execution_count": 83,
   "id": "757839ab-1492-4ea3-b6f1-95f74398ae57",
   "metadata": {},
   "outputs": [
    {
     "data": {
      "image/png": "[encoded data removed]",
      "text/plain": [
       "<Figure size 1800x360 with 1 Axes>"
      ]
     },
     "metadata": {
      "needs_background": "light"
     },
     "output_type": "display_data"
    }
   ],
   "source": [
    "plt.xticks (ticks = (100, 200, 300, 400, 500, 600, 700, 800, 900, 1000, 1100))\n",
    "plt.hist (eos_mid, alpha = 0.5, bins = 11)\n",
    "plt.legend([\"eos_2019\", \"eos_2020\", \"mid_2019\", \"mid_2019\"])\n",
    "plt.show()"
   ]
  },
  {
   "cell_type": "markdown",
   "id": "7425319a-e424-4bae-b82b-915324bd3846",
   "metadata": {},
   "source": [
    "# CONCLUSION\n",
    "\n",
    "***"
   ]
  },
  {
   "cell_type": "markdown",
   "id": "e7a54c4a-024c-4a3e-b0a9-5e529bde1006",
   "metadata": {},
   "source": [
    "## REFERENCES\n",
    "***"
   ]
  },
  {
   "cell_type": "markdown",
   "id": "f93fe10a-edca-4096-b319-3bd37cd0fe7b",
   "metadata": {
    "tags": []
   },
   "source": [
    "- [1] http://www2.cao.ie/handbook/handbook2022/hb.pdf\n",
    "- [2] https://en.wikipedia.org/wiki/Central_Applications_Office7\n",
    "- [3] https://www.independent.ie/life/family/learning/understanding-your-cao-course-guide-26505318.html\n",
    "- [4] https://en.wikipedia.org/wiki/Regular_expression"
   ]
  },
  {
   "cell_type": "markdown",
   "id": "87fe7f9b-4667-44e6-aa48-0f710dd82a6c",
   "metadata": {
    "tags": []
   },
   "source": [
    "## TESTING"
   ]
  },
  {
   "cell_type": "code",
   "execution_count": 84,
   "id": "257af76a-bec6-4feb-94f7-368ad33fcce8",
   "metadata": {
    "tags": []
   },
   "outputs": [],
   "source": [
    "df2020_num_r1 = df [\"R1_2020\"]"
   ]
  },
  {
   "cell_type": "code",
   "execution_count": 85,
   "id": "dbfa4ccc-acce-4837-8d9c-e20b8023dd6f",
   "metadata": {},
   "outputs": [
    {
     "data": {
      "text/plain": [
       "944"
      ]
     },
     "execution_count": 85,
     "metadata": {},
     "output_type": "execute_result"
    }
   ],
   "source": [
    "df2020_num_r1.count()"
   ]
  },
  {
   "cell_type": "code",
   "execution_count": 86,
   "id": "f310b692-e7b9-4c2c-b225-fc49e9681b8b",
   "metadata": {
    "tags": []
   },
   "outputs": [
    {
     "data": {
      "text/plain": [
       "87"
      ]
     },
     "execution_count": 86,
     "metadata": {},
     "output_type": "execute_result"
    }
   ],
   "source": [
    "a = df2020_num_r1[df2020_num_r1.str.contains(\"\\#\", na = False)]\n",
    "a.count()"
   ]
  },
  {
   "cell_type": "code",
   "execution_count": 87,
   "id": "456a14ed-8552-4bf2-8be3-118643e6557e",
   "metadata": {},
   "outputs": [
    {
     "ename": "NameError",
     "evalue": "name 'b' is not defined",
     "output_type": "error",
     "traceback": [
      "\u001b[1;31m---------------------------------------------------------------------------\u001b[0m",
      "\u001b[1;31mNameError\u001b[0m                                 Traceback (most recent call last)",
      "\u001b[1;32m<ipython-input-87-2127d0239a6c>\u001b[0m in \u001b[0;36m<module>\u001b[1;34m\u001b[0m\n\u001b[1;32m----> 1\u001b[1;33m \u001b[0mb\u001b[0m\u001b[1;33m.\u001b[0m\u001b[0mcount\u001b[0m\u001b[1;33m(\u001b[0m\u001b[1;33m)\u001b[0m\u001b[1;33m\u001b[0m\u001b[1;33m\u001b[0m\u001b[0m\n\u001b[0m",
      "\u001b[1;31mNameError\u001b[0m: name 'b' is not defined"
     ]
    }
   ],
   "source": [
    "b.count()"
   ]
  },
  {
   "cell_type": "code",
   "execution_count": null,
   "id": "d02c593a-7be4-4043-bf8d-2a6e0df4a86d",
   "metadata": {},
   "outputs": [],
   "source": []
  },
  {
   "cell_type": "markdown",
   "id": "16ec96a2-8fce-499b-8471-518f4f971429",
   "metadata": {},
   "source": [
    "|||\n",
    "| :-: | :- |\n",
    "| * | Not all on this points score were offered places |\n",
    "| # | Test / Interview / Portfolio / Audition |\n",
    "| AQA | All qualified applicants |\n",
    "| v | New competition for available places |"
   ]
  },
  {
   "cell_type": "code",
   "execution_count": null,
   "id": "82cf97fa-26b2-4ca6-aefe-d83e38cee6db",
   "metadata": {},
   "outputs": [],
   "source": []
  }
 ],
 "metadata": {
  "kernelspec": {
   "display_name": "Python 3",
   "language": "python",
   "name": "python3"
  },
  "language_info": {
   "codemirror_mode": {
    "name": "ipython",
    "version": 3
   },
   "file_extension": ".py",
   "mimetype": "text/x-python",
   "name": "python",
   "nbconvert_exporter": "python",
   "pygments_lexer": "ipython3",
   "version": "3.8.8"
  }
 },
 "nbformat": 4,
 "nbformat_minor": 5
}

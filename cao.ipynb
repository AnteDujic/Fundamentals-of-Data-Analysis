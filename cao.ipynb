{
 "cells": [
  {
   "cell_type": "markdown",
   "id": "cba7f882-cb9f-4b71-87ed-26c18fda786a",
   "metadata": {},
   "source": [
    "# Loading CAO points information into a pandas data frame, using CAO website\n",
    "\n",
    "http://www.cao.ie/index.php?page=points&p=2021\n",
    "\n",
    "***"
   ]
  },
  {
   "cell_type": "markdown",
   "id": "29b4655e-3bef-4630-af83-22880a7bab45",
   "metadata": {},
   "source": [
    "## INTRODUCTION"
   ]
  },
  {
   "cell_type": "markdown",
   "id": "773b93ce-dff5-4b06-90a1-f3536903fb87",
   "metadata": {},
   "source": [
    "## WHAT IS CAO"
   ]
  },
  {
   "cell_type": "markdown",
   "id": "07cb16d5-57cc-47c5-998e-e780220985be",
   "metadata": {},
   "source": [
    "### LOADING THE DATA"
   ]
  },
  {
   "cell_type": "code",
   "execution_count": 1,
   "id": "ed5b8564-ec55-4a75-b6a3-4388ac742df9",
   "metadata": {},
   "outputs": [],
   "source": [
    "import requests as rq\n",
    "import re"
   ]
  },
  {
   "cell_type": "code",
   "execution_count": 2,
   "id": "eafa5857-210b-49f4-ab3f-abbe9167814d",
   "metadata": {},
   "outputs": [
    {
     "name": "stdout",
     "output_type": "stream",
     "text": [
      "<Response [200]>\n"
     ]
    }
   ],
   "source": [
    "resp = rq.get (\"http://www2.cao.ie/points/l8.php\")\n",
    "print (resp)"
   ]
  },
  {
   "cell_type": "markdown",
   "id": "b4ea30f7-deb6-4049-8bab-2b393ac7abea",
   "metadata": {},
   "source": [
    "REGULAR EXPRESSIONS"
   ]
  },
  {
   "cell_type": "code",
   "execution_count": 7,
   "id": "84c41ec6-a1b3-4ff4-b8a6-74f99ca1ba4f",
   "metadata": {},
   "outputs": [],
   "source": [
    "re_course = re.compile(r\"([A-Z]{2}[0-9]{3})(.*)([0-9]{3})(\\*?) *\")"
   ]
  },
  {
   "cell_type": "markdown",
   "id": "e668f054-a3fd-4097-a918-05cfff46d2cf",
   "metadata": {},
   "source": [
    "LOOP THROUGH THE LINES"
   ]
  },
  {
   "cell_type": "code",
   "execution_count": 11,
   "id": "eaec8e28-fd35-4600-94e3-bb2ebfa2ed69",
   "metadata": {
    "scrolled": true,
    "tags": []
   },
   "outputs": [
    {
     "name": "stdout",
     "output_type": "stream",
     "text": [
      "AL830,  General Nursing                                      451*     ,444,\n",
      "AL832,  Mental Health Nursing                                440*     ,431,\n",
      "AL841,  Athletic and Rehabilitation Therapy                  477      ,476,\n",
      "AL854,  Sport Management (with international placement)      300      ,299,\n",
      "AL870,  Applied Psychology                                   484*     ,467,\n",
      "CW138,  Sport and Exercise Science                           430      ,423,\n",
      "CW438,  Construction (options)                               260      ,251,\n",
      "CW468,  Architectural Technology                             291      ,283,\n",
      "CW548,  Mechanical Engineering                               330      ,328,\n",
      "CW568,  Aerospace Engineering                                371      ,359,\n",
      "CW758,  Professional Social Care Practice                    360      ,358,\n",
      "PC405,  Social  Political and Community Studies              263      ,235,\n",
      "PC410,  Arts and Humanities (fulfils Teaching Council requ   262      ,230,\n",
      "PC411,  English and History (fulfils Teaching Council requ   243      ,224,\n",
      "CR121,  Music at CIT Cork School of Music                    #904     #,904,\n",
      "CR440,  Montessori Education                                 409      ,408,\n",
      "CR700,  Theatre and Drama Studies at CIT Cork School of Mu   #609     #,609,\n",
      "CK102,  Social Science                                       434      ,431,\n",
      "CK105,  Film and Screen Media - 3 years or 4 years (Intern   421      ,420,\n",
      "CK108,  Arts International - 4 years                         440*     ,440,\n",
      "CK109,  English - 3 years or 4 years (International Pathwa   367      ,357,\n",
      "CK111,  Early Years and Childhood Studies                    409      ,403,\n",
      "CK113,  Criminology - 3 years or 4 years (International Pa   464      ,463,\n",
      "CK118,  Digital Humanities and IT - 3 or 4 years (Work Exp   347      ,339,\n",
      "CK120,  Applied Psychology                                   544      ,543,\n",
      "CK121,  Psychology and Computing - 3 or 4 years (Work Expe   499      ,488,\n",
      "CK125,  Sports Studies and Physical Education                564      ,555,\n",
      "CK201,  Commerce                                             500      ,499,\n",
      "CK202,  Accounting                                           553      ,543,\n",
      "CK203,  Business Information Systems                         455      ,452,\n",
      "CK204,  Finance                                              566*     ,566,\n",
      "CK206,  Commerce (International) with German                 466      ,455,\n",
      "CK207,  Commerce (International) with Italian                423      ,418,\n",
      "CK208,  Commerce (International) with Hispanic Studies       488      ,486,\n",
      "CK212,  Economics (through Transformational Learning) 3 or   445      ,444,\n",
      "CK301,  Law (Pathways) -  3 or 4 years                       533      ,532,\n",
      "CK307,  Law and Business                                     589*     ,589,\n",
      "CK401,  Computer Science                                     503      ,495,\n",
      "CK402,  Biological and Chemical Sciences                     555*     ,555,\n",
      "CK404,  Biological  Earth and Environmental Sciences         500      ,495,\n",
      "CK504,  Nutritional Sciences                                 555      ,554,\n",
      "CK600,  Engineering                                          510      ,509,\n",
      "CK701,  Medicine (Undergraduate Entry - HPAT required)       #738     #,737,\n",
      "CK702,  Dentistry                                            625*     ,625,\n",
      "CK703,  Pharmacy                                             613*     ,613,\n",
      "CK705,  Speech and Language Therapy                          568      ,566,\n",
      "CK710,  General Nursing                                      498*     ,497,\n",
      "CK720,  Mental Health Nursing                                455      ,452,\n",
      "AC120,  International Business                               294      ,294,\n",
      "AC137,  Liberal Arts                                         271      ,270,\n",
      "CT125,  Computing and IT                                     242      ,242,\n",
      "CT325,  Business                                             253      ,253,\n",
      "CM010,  Education Studies                                    382      ,327,\n",
      "DB500,  Computing                                            234      ,234,\n",
      "DB501,  Computing (Cloud Computing)                                   ,178,\n",
      "DB502,  Computing (Data Analytics and Big Data)              267      ,233,\n",
      "DB510,  Audio Production and Music Project Management        217      ,217,\n",
      "DB512,  Business Studies                                     243      ,210,\n",
      "DB514,  Business Studies (Law)                               239      ,225,\n",
      "DB515,  Business Studies (Human Resource Management)         242      ,217,\n",
      "DB517,  Marketing (Event Management)                         233      ,225,\n",
      "DB518,  Marketing (Digital Media)                            307      ,209,\n",
      "DB521,  Accounting and Finance                               243      ,228,\n",
      "DB524,  Business (Information Systems)                       247      ,239,\n",
      "DB525,  Marketing (Digital Media and Cloud Computing)        288      ,288,\n",
      "DB526,  Business (Cloud Computing)                           244      ,244,\n",
      "DB527,  Applied Social Care                                  254      ,219,\n",
      "DB531,  Marketing                                            288      ,176,\n",
      "DB562,  Psychology                                           244      ,233,\n",
      "DB566,  Social Science                                       262      ,228,\n",
      "DB567,  Film and Creative Media                              245      ,213,\n",
      "DB568,  Law                                                  254      ,228,\n",
      "DB569,  Business (Psychology)                                240      ,240,\n",
      "DC120,  Computing for Business                               403      ,402,\n",
      "DC200,  Common Entry into Engineering (Undenominated Entry   511      ,510,\n",
      "DL825,  Applied Psychology                                   418      ,413,\n",
      "DL833,  Photography and Visual Media                         #671     #,671,\n",
      "DL837,  New Media Studies                                    298      ,293,\n",
      "DL841,  English and Equality Studies                         277      ,277,\n",
      "DL843,  Film                                                 #987     #,874,\n",
      "GC200,  Business                                             269      ,242,\n",
      "GC201,  Accounting and Finance                               260      ,226,\n",
      "GC230,  Computing Science                                    300      ,289,\n",
      "GC300,  Business                                             264      ,264,\n",
      "GC301,  Accounting and Finance                                        ,251,\n",
      "GC302,  Business - HRM                                       377      ,377,\n",
      "GC307,  Business (Marketing)                                 289      ,270,\n",
      "GC400,  Business                                             250      ,228,\n",
      "GC401,  Accounting and Finance                               242      ,242,\n",
      "GC403,  Law                                                  245      ,242,\n",
      "GC407,  Business (Marketing)                                 264      ,264,\n",
      "GC430,  Computing Science                                    251      ,251,\n",
      "GC450,  Communications and Media Production                  225      ,225,\n",
      "GC489,  Interior Architecture (portfolio)                    #288     #,274,\n",
      "BY001,  Business                                             210      ,210,\n",
      "AD211,  Fashion Design (portfolio)                           #760     #,679,\n",
      "AD215,  Visual Culture                                       337      ,300,\n",
      "NC030,  Early Childhood Education and Care                   251      ,251,\n",
      "RC001,  Medicine - Undergraduate Entry (HPAT required)       #741     #,740,\n",
      "RC004,  Physiotherapy                                        589*     ,589,\n",
      "RC005,  Pharmacy                                             613*     ,613,\n",
      "TU805,  Engineering (General Entry)                          466      ,465,\n",
      "TU811,  Product Design                                       440      ,434,\n",
      "TU814,  Sustainable Transport Management                     253      ,253,\n",
      "TU829,  Electronic Engineering (General Entry)               248      ,248,\n",
      "TU832,  Architecture (Suitability Test and Interview)        #644     #,638,\n",
      "TU838,  Sustainable Timber Technology                        307      ,271,\n",
      "TU861,  Computing with Language (French/German/Spanish)      235      ,235,\n",
      "TU864,  DNA and Forensic Analysis                            500      ,441,\n",
      "TU867,  Biomedical Science                                   576      ,566,\n",
      "TU874,  Mathematical Sciences                                294      ,294,\n",
      "TU877,  Physics Technology                                   314      ,314,\n",
      "TU906,  Human Resource Management                            386      ,377,\n",
      "TU912,  Business Analytics                                   331      ,311,\n",
      "TU961,  Commercial Modern Music (BIMM - assessment/auditio   #536     #,536,\n",
      "TU983,  Film and Broadcasting                                462      ,453,\n",
      "TR002,  Music                                                508      ,477,\n",
      "TR003,  History                                              552      ,543,\n",
      "TR004,  Law                                                  590*     ,589,\n",
      "TR005,  Philosophy                                           510      ,497,\n",
      "TR006,  Psychology                                           601*     ,590,\n",
      "TR009,  Music Education                                      #496     #,486,\n",
      "TR015,  Philosophy  Political Science  Economics and Socio   613*     ,613,\n",
      "TR018,  Law and French                                       602*     ,602,\n",
      "TR019,  Law and German                                       577      ,567,\n",
      "TR021,  Classics  Ancient History and Archaeology            467      ,462,\n",
      "TR023,  English Studies                                      546      ,541,\n",
      "TR025,  Drama and Theatre Studies                            #543     #,519,\n",
      "TR028,  Ancient and Medieval History and Culture             498      ,463,\n",
      "TR031,  Mathematics                                          579      ,578,\n",
      "TR032,  Engineering                                          556      ,555,\n",
      "TR033,  Computer Science                                     566*     ,549,\n",
      "TR034,  Management Science and Information Systems Studies   625*     ,625,\n",
      "TR035,  Theoretical Physics                                  590      ,589,\n",
      "TR038,  Engineering with Management                          589*     ,589,\n",
      "TR040,  Middle Eastern and European Languages and Cultures   520      ,499,\n",
      "TR042,  Film                                                 531      ,522,\n",
      "TR043,  History of Art and Architecture                      498      ,486,\n",
      "TR051,  Medicine (HPAT required)                             #743*    #,743,\n",
      "TR052,  Dental Science                                       625*     ,625,\n",
      "TR054,  Occupational Therapy                                 578*     ,577,\n",
      "TR055,  Radiation Therapy                                    577      ,566,\n",
      "TR060,  Biological and Biomedical Sciences                   578*     ,577,\n",
      "TR061,  Chemical Sciences                                    558      ,554,\n",
      "TR063,  Physical Sciences                                    554      ,543,\n",
      "TR072,  Pharmacy                                             613*     ,613,\n",
      "TR081,  Business  Economic and Social Studies (BESS)         577      ,567,\n",
      "TR084,  Social Studies (Social Work)                         497      ,487,\n",
      "TR091,  General Nursing (Meath and St James`s)               462      ,456,\n",
      "TR097,  Intellectual Disability Nursing                      412      ,410,\n",
      "DN120,  Landscape Architecture                               463      ,435,\n",
      "DN130,  City Planning and Environmental Policy               445      ,424,\n",
      "DN200,  Science (options)                                    577      ,567,\n",
      "DN201,  Computer Science (Common Entry)                      554      ,549,\n",
      "DN230,  Actuarial and Financial Studies                      613*     ,613,\n",
      "DN250,  Agricultural Science (options)                       454      ,444,\n",
      "DN310,  Veterinary Nursing                                   521      ,509,\n",
      "DN410,  Radiography                                          566*     ,566,\n",
      "DN420,  Physiotherapy                                        601*     ,601,\n",
      "DN425,  Health and Performance Science                       544      ,543,\n",
      "DN430,  Sport and Exercise Management                        484      ,476,\n",
      "DN440,  Biomedical  Health and Life Sciences                 613*     ,613,\n",
      "DN452,  Midwifery                                            510      ,509,\n",
      "DN520,  Joint Honours (options)                              381      ,378,\n",
      "DN530,  Humanities (options)                                 397      ,388,\n",
      "DN600,  Law (options)                                        576      ,567,\n",
      "DN610,  Business and Law                                     573      ,567,\n",
      "DN660,  Commerce International (options)                     555      ,554,\n",
      "DN670,  Economics and Finance                                625*     ,625,\n",
      "DN700,  Social Sciences (options)                            475      ,474,\n",
      "DN710,  Economics                                            534      ,532,\n",
      "DN720,  Psychology                                           566      ,564,\n",
      "DK810,  Accounting and Finance                               307      ,307,\n",
      "DK816,  Business Studies                                     301      ,301,\n",
      "DK820,  Computing in Games Development                       309      ,309,\n",
      "DK821,  Computing in Software Development                    320      ,316,\n",
      "DK822,  Augmented and Virtual Reality                        320      ,320,\n",
      "DK831,  Architectural Technology                             368      ,314,\n",
      "DK832,  Construction Management                              358      ,305,\n",
      "DK843,  Engineering (Common Entry)                           404      ,391,\n",
      "DK844,  Mechanical Engineering                               336      ,336,\n",
      "DK845,  Electrical and Electronic Engineering                331      ,331,\n",
      "DK846,  Civil Engineering                                    371      ,371,\n",
      "DK850,  International Tourism Management                     303      ,303,\n",
      "DK861,  Arts                                                 302      ,302,\n",
      "DK862,  Social Care                                          322      ,319,\n",
      "DK863,  Creative Media                                       336      ,320,\n",
      "DK870,  General Nursing                                      440*     ,440,\n",
      "DK872,  Intellectual Disability Nursing                      367      ,366,\n",
      "DK877,  Midwifery                                            482      ,477,\n",
      "DK883,  Science (Award options)                              373      ,368,\n",
      "GA281,  Film and Documentary                                 310      ,301,\n",
      "GA483,  Architectural Technology                             281      ,273,\n",
      "GA785,  Medical Science                                      517      ,510,\n",
      "GA790,  Sport and Exercise Science                           376      ,366,\n",
      "GA890,  Early Childhood Education and Care                   281      ,227,\n",
      "GA984,  Furniture Design  Making and Technology - Common E   486      ,467,\n",
      "GY101,  Arts (Joint-Honours)                                 327      ,326,\n",
      "GY104,  BSc (Psychology)                                     564      ,555,\n",
      "GY111,  Arts (English and Creative Writing)                  421      ,420,\n",
      "GY118,  Arts (Drama  Theatre and Performance Studies)        453      ,430,\n",
      "GY119,  Arts (Journalism)                                    484      ,473,\n",
      "GY127,  Arts (Film and Digital Media)                        430      ,421,\n",
      "GY132,  Government (Politics  Economics and Law)             465      ,451,\n",
      "GY301,  Science                                              489      ,488,\n",
      "GY304,  Biotechnology                                        498      ,495,\n",
      "GY308,  Environmental Science                                431      ,430,\n",
      "GY401,  Engineering (Undenominated)                          522      ,520,\n",
      "GY402,  Civil Engineering                                    533      ,521,\n",
      "GY501,  Medicine (five year/six year course  HPAT required   #737*    #,737,\n",
      "GY504,  Podiatric Medicine                                   531      ,526,\n",
      "GY515,  General Nursing (Galway and Portiuncula)             502      ,496,\n",
      "GY516,  Mental Health Nursing                                475      ,441,\n",
      "GY517,  Midwifery                                            520      ,509,\n",
      "LY128,  Marketing with Online Technologies                   261      ,261,\n",
      "LY208,  Law                                                  300      ,290,\n",
      "LY538,  Architectural Technology                             234      ,234,\n",
      "LY828,  Agriculture - Common Entry                           308      ,300,\n",
      "LC275,  Electrical Engineering                               361      ,347,\n",
      "LC288,  Mechanical Engineering                               378      ,369,\n",
      "LC293,  Business Studies with Travel and Tourism Managemen   271      ,264,\n",
      "LC297,  Community and Addiction Studies                      272      ,262,\n",
      "LC330,  Business with Computing                              328      ,308,\n",
      "LC340,  Interior Design                                      391      ,368,\n",
      "LC371,  Creative Broadcast and Film Production               325      ,310,\n",
      "LC374,  Renewable and Electrical Energy Engineering          337      ,319,\n",
      "LC392,  Business Studies in Beauty and Spa Management        328      ,317,\n",
      "LC393,  Early Childhood Education and Care                   309      ,276,\n",
      "LC418,  Computing - Games Design and Development             260      ,256,\n",
      "LM002,  Arts                                                 360*     ,360,\n",
      "LM090,  Physical Education with concurrent Teacher Educati   552      ,544,\n",
      "LM150,  General Nursing                                      498*     ,487,\n",
      "LM152,  Mental Health Nursing                                478      ,466,\n",
      "LM154,  Intellectual Disability Nursing                      462      ,443,\n",
      "LM156,  Midwifery                                            521*     ,508,\n",
      "MU001,  Theology and Arts                                    294      ,294,\n",
      "MH101,  Arts                                                 338      ,336,\n",
      "MH201,  Science                                              401      ,400,\n",
      "MH202,  Biotechnology                                        490      ,489,\n",
      "MH212,  Science|Maths and Computer Science|Mathematics (wi   452      ,443,\n",
      "MH304,  Engineering (Computer/Electronic/Communications)     351      ,351,\n",
      "AS001,  Education  Home Economics and Biology - with concu   542      ,533,\n",
      "AS002,  Education  Home Economics and Religious Ed - with    464      ,452,\n",
      "AS003,  Education  Home Economics and Irish - with concurr   463*     ,457,\n",
      "AS051,  Nutrition  Food and Business Management              378      ,347,\n",
      "AS054,  Home Economics                                       440*     ,419,\n",
      "AS110,  General Nursing                                      440*     ,432,\n",
      "AS130,  Intellectual Disability Nursing                      387      ,358,\n",
      "TL891,  Mental Health Nursing and Mature Applicants          440      ,419,\n",
      "WD001,  Applied Computing (options)                          270      ,261,\n",
      "WD007,  Engineering (options)                                270      ,270,\n",
      "WD200,  Arts (options)                                       201      ,201,\n",
      "WD230,  Mechanical and Manufacturing Engineering             230      ,230,\n",
      "Total number of lines: 253\n"
     ]
    }
   ],
   "source": [
    "no_lines = 0\n",
    "\n",
    "# Loop\n",
    "for line in resp.iter_lines():\n",
    "    # Match only lines with courses\n",
    "    if re_course.fullmatch(line.decode(\"iso 8859-1\")):\n",
    "        # Add one to the lines counter\n",
    "        no_lines = no_lines + 1\n",
    "        #print (line)\n",
    "        # Pick out the relevant lines\n",
    "        csv_version = re_course.sub(r\"\\1,\\2,\\3,\\4\", line.decode(\"iso 8859-1\"))\n",
    "        # Print the CSV\n",
    "        print (csv_version)\n",
    "        \n",
    "print (\"Total number of lines:\", no_lines)"
   ]
  },
  {
   "cell_type": "markdown",
   "id": "dfc79303-9fdb-4c77-8e17-0dcb3a050362",
   "metadata": {},
   "source": [
    "#### Regular expressions"
   ]
  },
  {
   "cell_type": "markdown",
   "id": "b19e35cc-73b3-470e-afab-798528eca774",
   "metadata": {},
   "source": [
    "### CAO DATA 2019, 2020, 2021"
   ]
  },
  {
   "cell_type": "markdown",
   "id": "3d3e07c7-4f65-479d-8ed8-6d8954adaab0",
   "metadata": {},
   "source": [
    "### DATA COMPARISON"
   ]
  },
  {
   "cell_type": "markdown",
   "id": "7425319a-e424-4bae-b82b-915324bd3846",
   "metadata": {},
   "source": [
    "# CONCLUSION\n",
    "\n",
    "***"
   ]
  },
  {
   "cell_type": "markdown",
   "id": "e7a54c4a-024c-4a3e-b0a9-5e529bde1006",
   "metadata": {},
   "source": [
    "## REFERENCES"
   ]
  },
  {
   "cell_type": "markdown",
   "id": "87fe7f9b-4667-44e6-aa48-0f710dd82a6c",
   "metadata": {},
   "source": [
    "## LINKS TO CHECK"
   ]
  },
  {
   "cell_type": "code",
   "execution_count": null,
   "id": "5ef47e52-0cb4-4e5f-9a20-1a672c7503ff",
   "metadata": {},
   "outputs": [],
   "source": []
  }
 ],
 "metadata": {
  "kernelspec": {
   "display_name": "Python 3",
   "language": "python",
   "name": "python3"
  },
  "language_info": {
   "codemirror_mode": {
    "name": "ipython",
    "version": 3
   },
   "file_extension": ".py",
   "mimetype": "text/x-python",
   "name": "python",
   "nbconvert_exporter": "python",
   "pygments_lexer": "ipython3",
   "version": "3.8.8"
  }
 },
 "nbformat": 4,
 "nbformat_minor": 5
}

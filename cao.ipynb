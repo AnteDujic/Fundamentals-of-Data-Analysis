{
 "cells": [
  {
   "cell_type": "markdown",
   "id": "cba7f882-cb9f-4b71-87ed-26c18fda786a",
   "metadata": {},
   "source": [
    "# CAO POINTS ANALYSIS\n",
    "### AUTHOR: ANTE DUJIC\n",
    "<hr style=\"border:2px solid black\"> </hr>"
   ]
  },
  {
   "cell_type": "markdown",
   "id": "29b4655e-3bef-4630-af83-22880a7bab45",
   "metadata": {},
   "source": [
    "## INTRODUCTION\n",
    "<hr style=\"border:2px solid gray\"> </hr>"
   ]
  },
  {
   "cell_type": "markdown",
   "id": "855f1a18-9c81-4dd1-b9de-7b6155186480",
   "metadata": {},
   "source": [
    "This notebook gives an overview of how to load CAO points information from the CAO website into a pandas data frame. It also contains the comparison of CAO points in 2019, 2020, and 2021."
   ]
  },
  {
   "cell_type": "markdown",
   "id": "702f49e3-5282-46bc-8b90-1120ab8f5b6e",
   "metadata": {},
   "source": [
    "[<center><img src=\"http://www.cao.ie/images/cao.png\" width=\"100\"/></center> ](http://www.cao.ie/index.php)\n",
    "\n",
    "***\n",
    "### CONTENTS\n",
    "\n",
    "1. [WHAT IS CAO](#CAO)\n",
    "2. [LOADING AND SAVING THE DATA](#DATA)\n",
    "    - 2.1. [LEVEL 8 POINTS - R1 and R2](#R1R2)\n",
    "        - 2.1.1. [2019, 2020, 2021 (html)](#HTML)\n",
    "    - 2.2. [LEVEL 8 POINTS - EOS and MID](#EOSMID)\n",
    "        - 2.2.1. [2020 (xlsx)](#XLSX)\n",
    "        - 2.2.2. [2019 (pdf)](#PDF)\n",
    "2. [CONCATENATING THE DATA](#CONCATENATE)"
   ]
  },
  {
   "cell_type": "markdown",
   "id": "773b93ce-dff5-4b06-90a1-f3536903fb87",
   "metadata": {},
   "source": [
    "## 1. WHAT IS CAO <a id='CAO'></a>\n",
    "<hr style=\"border:2px solid gray\"> </hr>"
   ]
  },
  {
   "cell_type": "markdown",
   "id": "3fea6b6e-5a1b-4f35-982f-ada108a26bd6",
   "metadata": {},
   "source": [
    "The purpose of the Central Applications Office (CAO) is to process centrally applications for undergraduate courses in Irish Higher Education Institutions (HEIs), and to deal with them in an efficient and fair manner. [1]\n",
    "\n",
    "Students applying for admission to third level education courses in Ireland apply to the CAO rather than to individual educational institutions such as colleges and universities. The CAO then offers places to students who meet the minimum requirements for a course for which they have applied. If for a particular course there are more qualified applicants than available places, the CAO makes offers to those applicants with the highest score in the CAO points system. If students do not accepts offers, or later decline them because they receive an offer for another course, the CAO makes further offers until all of the places have been filled or until the offer season closes. [2]"
   ]
  },
  {
   "cell_type": "markdown",
   "id": "07cb16d5-57cc-47c5-998e-e780220985be",
   "metadata": {},
   "source": [
    "## 2. LOADING AND SAVING THE DATA <a id='DATA'></a>\n",
    "<hr style=\"border:2px solid gray\"> </hr>"
   ]
  },
  {
   "cell_type": "code",
   "execution_count": 1,
   "id": "ed5b8564-ec55-4a75-b6a3-4388ac742df9",
   "metadata": {},
   "outputs": [],
   "source": [
    "# HTTP request\n",
    "import requests as rq\n",
    "# Regular expressions\n",
    "import re\n",
    "# Dates and time\n",
    "import datetime as dt\n",
    "# Data frames\n",
    "import pandas as pd\n",
    "# For downloading\n",
    "import urllib.request as urlrq\n",
    "# PDF\n",
    "import camelot\n",
    "# To use .unescape\n",
    "import html"
   ]
  },
  {
   "cell_type": "markdown",
   "id": "274276a5-dc7b-4131-858a-e1a192421f65",
   "metadata": {},
   "source": [
    "### 2.1.  LEVEL 8 POINTS - R1 and R2 <a id='R1R2'></a>\n",
    "***"
   ]
  },
  {
   "cell_type": "markdown",
   "id": "cfe6b036-3b8f-4858-b384-c39d39f778ed",
   "metadata": {},
   "source": [
    "Overview"
   ]
  },
  {
   "cell_type": "markdown",
   "id": "17dba1ff-8a13-4357-ac31-1d7646162fd9",
   "metadata": {},
   "source": [
    "#### 2.1.1. 2019, 2020, 2021 (html) <a id='HTML'></a>"
   ]
  },
  {
   "cell_type": "code",
   "execution_count": 2,
   "id": "cbe5f9d0-0938-40ce-8b4b-1c7a6140c8e5",
   "metadata": {},
   "outputs": [],
   "source": [
    "# Current date and time\n",
    "now = dt.datetime.now()\n",
    "# Format as a string\n",
    "nowstr = (now.strftime(\"%Y%m%d_%H%M%S\"))"
   ]
  },
  {
   "cell_type": "code",
   "execution_count": 3,
   "id": "27633a8d-02c5-446a-b272-93b349661bcf",
   "metadata": {},
   "outputs": [],
   "source": [
    "# Regular expression\n",
    "re_course = re.compile(r\"([A-Z]{2}[0-9]{3})(.*)\")"
   ]
  },
  {
   "cell_type": "code",
   "execution_count": 4,
   "id": "0413bc40-8cd4-4cf7-982f-16ad0f1bf5bf",
   "metadata": {},
   "outputs": [],
   "source": [
    "# Defining a dictionary\n",
    "    # Using website archive to access the wanted data (2019, 2020)\n",
    "years_dict = {\n",
    "    \"2019\": [(\"data/cao2019\" +  nowstr), \"https://web.archive.org/web/20191019135815/http://www2.cao.ie:80/points/l8.php\"],\n",
    "    \"2020\": [(\"data/cao2020\" +  nowstr), \"https://web.archive.org/web/20201108133105/http://www2.cao.ie/points/l8.php\"],\n",
    "    \"2021\": [(\"data/cao2021\" +  nowstr), \"http://www2.cao.ie/points/l8.php\"]\n",
    "}"
   ]
  },
  {
   "cell_type": "code",
   "execution_count": 5,
   "id": "90dfae36-5c06-4850-9f40-6583c8b91aeb",
   "metadata": {},
   "outputs": [
    {
     "name": "stdout",
     "output_type": "stream",
     "text": [
      "2019 <Response [200]>\n",
      "Total number of lines in CAO 2019 database is 930\n",
      "2020 <Response [200]>\n",
      "Total number of lines in CAO 2020 database is 961\n",
      "2021 <Response [200]>\n",
      "Total number of lines in CAO 2021 database is 949\n"
     ]
    }
   ],
   "source": [
    "# Loop through the (dict) years\n",
    "for year, content in years_dict.items():\n",
    "    # Fetch the CAO points URL\n",
    "    rq.get (content[1])\n",
    "    resp = rq.get (content[1])\n",
    "    # The server uses the wrong encoding\n",
    "        # Change to \"cp1252\"\n",
    "    resp.encoding = \"cp1252\"\n",
    "    # Check if OK:\n",
    "        #Response [200] means OK\n",
    "    print (year,resp)\n",
    "    \n",
    "    # Save the original html file\n",
    "    with open(content[0] + \".html\", \"w\") as f:\n",
    "        f.write(resp.text)\n",
    "        # Keep track of how many courses we process\n",
    "    \n",
    "    no_lines = 0\n",
    "    # Iterating through the lines\n",
    "    resp.iter_lines()\n",
    "    resps = resp.iter_lines()\n",
    "    \n",
    "    # Open the csv file for writing.\n",
    "    with open(content[0] + \".csv\", \"w\") as f:\n",
    "        # Write a header row.\n",
    "        f.write(','.join([\"CODE\", \"TITLE\", \"R1_POINTS\", \"R2_POINTS\"]) + \"\\n\")\n",
    "        # Loop through lines of the response.\n",
    "        for line in resps:\n",
    "            # Decode the line, using the wrong encoding\n",
    "            dline = line.decode(\"cp1252\")\n",
    "            # Converting &amp; to &\n",
    "            dline = html.unescape(dline)\n",
    "            # Match only the lines representing courses\n",
    "            if re_course.fullmatch(dline):\n",
    "                # Add one to the lines counter\n",
    "                no_lines = no_lines + 1\n",
    "                # The course code\n",
    "                course_code = dline[:5]\n",
    "                # The course title\n",
    "                course_title = dline[7:57]\n",
    "                # Round one points\n",
    "                course_points = re.split(' +', dline[60:])\n",
    "                if len(course_points) != 2:\n",
    "                    course_points = course_points[:2]\n",
    "                # Join the fields using a comma\n",
    "                linesplit = [course_code, course_title, course_points[0], course_points[1]]\n",
    "                # Rejoin the substrings with commas in between\n",
    "                f.write(\",\".join(linesplit) + \"\\n\")   \n",
    "    # Print the total number of processed lines\n",
    "    print(\"Total number of lines in CAO\", year, \"database is\", no_lines)"
   ]
  },
  {
   "cell_type": "markdown",
   "id": "b00a3bf1-3bf3-4187-8ce7-5e5514aa4cf0",
   "metadata": {},
   "source": [
    "### 2.2.  LEVEL 8 POINTS - EOS and MID <a id='EOSMID'></a>\n",
    "***"
   ]
  },
  {
   "cell_type": "markdown",
   "id": "4a864eda-626a-4c66-b0ab-d0c421d9d72e",
   "metadata": {},
   "source": [
    "Overview"
   ]
  },
  {
   "cell_type": "markdown",
   "id": "66cf83c2-580e-4096-bb34-676439ddce50",
   "metadata": {},
   "source": [
    "#### 2.2.1. 2020 (xlsx) <a id='XLSX'></a>"
   ]
  },
  {
   "cell_type": "code",
   "execution_count": 6,
   "id": "e44439f6-5f11-4e71-bf22-b7d2ded985ef",
   "metadata": {},
   "outputs": [],
   "source": [
    "# Create a file path for the original data\n",
    "path = (\"data/cao2020_eos\" +  nowstr + \".xlsx\")"
   ]
  },
  {
   "cell_type": "code",
   "execution_count": 7,
   "id": "a9146e0f-2665-4da4-b21a-e9d64278ef87",
   "metadata": {},
   "outputs": [
    {
     "data": {
      "text/plain": [
       "('data/cao2020_eos20211123_133024.xlsx',\n",
       " <http.client.HTTPMessage at 0x1c9f23fca00>)"
      ]
     },
     "execution_count": 7,
     "metadata": {},
     "output_type": "execute_result"
    }
   ],
   "source": [
    "urlrq.urlretrieve('http://www2.cao.ie/points/CAOPointsCharts2020.xlsx', path)"
   ]
  },
  {
   "cell_type": "code",
   "execution_count": 8,
   "id": "f815e589-fcb8-44ed-83ea-cb04d4e0546a",
   "metadata": {},
   "outputs": [],
   "source": [
    "# Download and parse the excel spreadsheet\n",
    "df2020_eos = pd.read_excel(\"http://www2.cao.ie/points/CAOPointsCharts2020.xlsx\", skiprows = 10)\n",
    "#df2020_eos"
   ]
  },
  {
   "cell_type": "code",
   "execution_count": 66,
   "id": "fca0f182-d0a2-4c1d-88d3-7e3eb2c57435",
   "metadata": {},
   "outputs": [],
   "source": [
    "#columnsNamesArr = df2020_eos.columns.values\n",
    "#print(columnsNamesArr)\n",
    "# Filter out only level 8 courses\n",
    "df2020_eos = df2020_eos.loc[df2020_eos[\"LEVEL\"] == 8]\n",
    "# Remove last 12 columns\n",
    "df2020_eos = df2020_eos.iloc[: , :-12]\n",
    "# Save pandas data frame to disk\n",
    "df2020_eos.to_csv((\"data/cao2020_eos\" +  nowstr + \".csv\"))\n",
    "#df2020_eos"
   ]
  },
  {
   "cell_type": "markdown",
   "id": "0f60c573-69e1-4815-ba0c-25b097d1a745",
   "metadata": {},
   "source": [
    "***"
   ]
  },
  {
   "cell_type": "markdown",
   "id": "cf59f643-a887-4220-833e-4eab28e5f575",
   "metadata": {},
   "source": [
    "#### 2019 (pdf) <a id='PDF'></a>"
   ]
  },
  {
   "cell_type": "code",
   "execution_count": 10,
   "id": "3f0d5401-9578-425e-9f1a-6ebb1e2e0bb7",
   "metadata": {},
   "outputs": [],
   "source": [
    "path2019pdf = 'data/cao2019_eos' + nowstr + '.pdf'"
   ]
  },
  {
   "cell_type": "code",
   "execution_count": 11,
   "id": "41ee7d81-bfb4-4380-8a24-60147955ca67",
   "metadata": {},
   "outputs": [
    {
     "data": {
      "text/plain": [
       "<Response [200]>"
      ]
     },
     "execution_count": 11,
     "metadata": {},
     "output_type": "execute_result"
    }
   ],
   "source": [
    "resp_pdf = rq.get(\"http://www2.cao.ie/points/lvl8_19.pdf\")\n",
    "resp_pdf"
   ]
  },
  {
   "cell_type": "code",
   "execution_count": 12,
   "id": "73441854-a447-4cdb-95bc-c8c78ec6b45e",
   "metadata": {},
   "outputs": [],
   "source": [
    "with open(path2019pdf, 'wb') as f:\n",
    "    f.write(resp_pdf.content)"
   ]
  },
  {
   "cell_type": "code",
   "execution_count": 13,
   "id": "0d564bb9-fbb4-420b-b85c-1d6c3a06da35",
   "metadata": {},
   "outputs": [],
   "source": [
    "# Read the pdf file\n",
    "tables = camelot.read_pdf(path2019pdf, pages = \"all\", flavor = \"lattice\")"
   ]
  },
  {
   "cell_type": "code",
   "execution_count": 14,
   "id": "ddd28c13-3918-48e6-8bb6-a648cb02f44a",
   "metadata": {},
   "outputs": [
    {
     "name": "stdout",
     "output_type": "stream",
     "text": [
      "Tables: 18\n"
     ]
    }
   ],
   "source": [
    "# Check the total number of tables read\n",
    "print (\"Tables:\", tables.n)"
   ]
  },
  {
   "cell_type": "code",
   "execution_count": 133,
   "id": "7deabf06-ab95-4599-a272-7cee2f483029",
   "metadata": {},
   "outputs": [
    {
     "data": {
      "text/html": [
       "<div>\n",
       "<style scoped>\n",
       "    .dataframe tbody tr th:only-of-type {\n",
       "        vertical-align: middle;\n",
       "    }\n",
       "\n",
       "    .dataframe tbody tr th {\n",
       "        vertical-align: top;\n",
       "    }\n",
       "\n",
       "    .dataframe thead th {\n",
       "        text-align: right;\n",
       "    }\n",
       "</style>\n",
       "<table border=\"1\" class=\"dataframe\">\n",
       "  <thead>\n",
       "    <tr style=\"text-align: right;\">\n",
       "      <th></th>\n",
       "      <th>CODE</th>\n",
       "      <th>TITLE</th>\n",
       "      <th>EOS_2019</th>\n",
       "      <th>MID_2019</th>\n",
       "    </tr>\n",
       "  </thead>\n",
       "  <tbody>\n",
       "    <tr>\n",
       "      <th>21</th>\n",
       "      <td>AC120</td>\n",
       "      <td>International Business</td>\n",
       "      <td>234</td>\n",
       "      <td>269</td>\n",
       "    </tr>\n",
       "    <tr>\n",
       "      <th>22</th>\n",
       "      <td>AC137</td>\n",
       "      <td>Liberal Arts</td>\n",
       "      <td>252</td>\n",
       "      <td>275</td>\n",
       "    </tr>\n",
       "    <tr>\n",
       "      <th>3</th>\n",
       "      <td>AD101</td>\n",
       "      <td>First Year Art &amp; Design (Common Entry)</td>\n",
       "      <td># +matric 550</td>\n",
       "      <td></td>\n",
       "    </tr>\n",
       "    <tr>\n",
       "      <th>4</th>\n",
       "      <td>AD102</td>\n",
       "      <td>Graphic Design and Moving Image Design</td>\n",
       "      <td># +matric 635</td>\n",
       "      <td></td>\n",
       "    </tr>\n",
       "    <tr>\n",
       "      <th>5</th>\n",
       "      <td>AD103</td>\n",
       "      <td>Textile &amp; Surface Design and Jewellery &amp; Objects</td>\n",
       "      <td># +matric 545</td>\n",
       "      <td></td>\n",
       "    </tr>\n",
       "    <tr>\n",
       "      <th>...</th>\n",
       "      <td>...</td>\n",
       "      <td>...</td>\n",
       "      <td>...</td>\n",
       "      <td>...</td>\n",
       "    </tr>\n",
       "    <tr>\n",
       "      <th>37</th>\n",
       "      <td>WD200</td>\n",
       "      <td>Arts (options)</td>\n",
       "      <td>221</td>\n",
       "      <td>296</td>\n",
       "    </tr>\n",
       "    <tr>\n",
       "      <th>38</th>\n",
       "      <td>WD210</td>\n",
       "      <td>Software Systems Development</td>\n",
       "      <td>271</td>\n",
       "      <td>329</td>\n",
       "    </tr>\n",
       "    <tr>\n",
       "      <th>39</th>\n",
       "      <td>WD211</td>\n",
       "      <td>Creative Computing</td>\n",
       "      <td>275</td>\n",
       "      <td>322</td>\n",
       "    </tr>\n",
       "    <tr>\n",
       "      <th>40</th>\n",
       "      <td>WD212</td>\n",
       "      <td>Recreation and Sport Management</td>\n",
       "      <td>274</td>\n",
       "      <td>311</td>\n",
       "    </tr>\n",
       "    <tr>\n",
       "      <th>41</th>\n",
       "      <td>WD230</td>\n",
       "      <td>Mechanical and Manufacturing Engineering</td>\n",
       "      <td>273</td>\n",
       "      <td>348</td>\n",
       "    </tr>\n",
       "  </tbody>\n",
       "</table>\n",
       "<p>930 rows × 4 columns</p>\n",
       "</div>"
      ],
      "text/plain": [
       "     CODE                                             TITLE       EOS_2019  \\\n",
       "21  AC120                            International Business            234   \n",
       "22  AC137                                      Liberal Arts            252   \n",
       "3   AD101            First Year Art & Design (Common Entry)  # +matric 550   \n",
       "4   AD102            Graphic Design and Moving Image Design  # +matric 635   \n",
       "5   AD103  Textile & Surface Design and Jewellery & Objects  # +matric 545   \n",
       "..    ...                                               ...            ...   \n",
       "37  WD200                                    Arts (options)            221   \n",
       "38  WD210                      Software Systems Development            271   \n",
       "39  WD211                                Creative Computing            275   \n",
       "40  WD212                   Recreation and Sport Management            274   \n",
       "41  WD230          Mechanical and Manufacturing Engineering            273   \n",
       "\n",
       "   MID_2019  \n",
       "21      269  \n",
       "22      275  \n",
       "3            \n",
       "4            \n",
       "5            \n",
       "..      ...  \n",
       "37      296  \n",
       "38      329  \n",
       "39      322  \n",
       "40      311  \n",
       "41      348  \n",
       "\n",
       "[930 rows x 4 columns]"
      ]
     },
     "execution_count": 133,
     "metadata": {},
     "output_type": "execute_result"
    }
   ],
   "source": [
    "# Create empty list\n",
    "table_total = []\n",
    "# Loop through all 18 tables\n",
    "for x in range (0,18):\n",
    "    df = tables[x].df\n",
    "    # Append all 18 tables to table_total\n",
    "    table_total.append(df)\n",
    "\n",
    "# Concatenate all tables  \n",
    "table = pd.concat(table_total)\n",
    "# Remove old column names\n",
    "table = table.iloc[1: , :]\n",
    "# Name the columns\n",
    "table.columns = [\"CODE\",\"TITLE\", \"EOS_2019\", \"MID_2019\"]\n",
    "# Sort table by \"CODE\" column\n",
    "table.sort_values(\"CODE\", inplace = True)\n",
    "# Remove first 35 rows (name of the college)\n",
    "table = table.iloc[35: , :]\n",
    "# Save .csv file\n",
    "table.to_csv(\"data/cao2019_eos\" +  nowstr + \".csv\", index = False)\n",
    "table"
   ]
  },
  {
   "cell_type": "markdown",
   "id": "d9841823-1a22-400f-8788-0f0f15567cfa",
   "metadata": {},
   "source": [
    "## 3. CONCATENATING THE DATA <a id='CONCATENATE'></a>\n",
    "<hr style=\"border:2px solid gray\"> </hr>"
   ]
  },
  {
   "cell_type": "code",
   "execution_count": 16,
   "id": "7ace5f1e-cf4b-4208-a5b4-7d42bb912777",
   "metadata": {},
   "outputs": [],
   "source": [
    "# Defining a dictionary\n",
    "df_dict = {\n",
    "    \"2019\": [(\"data/cao2019\" +  nowstr)],\n",
    "    \"2019_eos\": [(\"data/cao2019_eos\" +  nowstr)],\n",
    "    \"2020\": [(\"data/cao2020\" +  nowstr)],\n",
    "    \"2020_eos\": [(\"data/cao2020_eos\" +  nowstr)],\n",
    "    \"2021\": [(\"data/cao2021\" +  nowstr)]\n",
    "}"
   ]
  },
  {
   "cell_type": "code",
   "execution_count": 17,
   "id": "5af55bff-6096-46bd-9995-56032224f6f7",
   "metadata": {},
   "outputs": [],
   "source": [
    "# Creating an empty list for adding dataframes\n",
    "dataframe = []\n",
    "# Loop - reading the csv files and appending to list\n",
    "for year, path in df_dict.items():\n",
    "    data = pd.read_csv ((path[0] + \".csv\"), encoding='cp1252')\n",
    "    dataframe.append (data)\n",
    "# Conecating all dataframes into one\n",
    "allcourses = pd.concat (dataframe)\n",
    "# Filering out columns\n",
    "allcourses = allcourses [[\"CODE\", \"TITLE\"]]\n",
    "# Remove duplicates created by conecating\n",
    "allcourses.drop_duplicates(subset=[\"CODE\"], inplace=True, ignore_index=False)\n",
    "# Sort the table by \"CODE\" column\n",
    "allcourses.sort_values(\"CODE\", inplace = True)\n",
    "#allcourses"
   ]
  },
  {
   "cell_type": "code",
   "execution_count": 18,
   "id": "cde76183-4458-4163-84e6-9d8218ec3529",
   "metadata": {},
   "outputs": [],
   "source": [
    "#2019 df\n",
    "dataframe[0].columns = [\"CODE\",\"TITLE\", \"R1_POINTS_2019\", \"R2_POINTS_2019\"]\n",
    "#2019_eos is #dataframe[1]\n",
    "#2020 df\n",
    "dataframe[2].columns = [\"CODE\",\"TITLE\", \"R1_POINTS_2020\", \"R2_POINTS_2020\"]\n",
    "#2020_eos df\n",
    "dataframe[3] = dataframe[3][[\"COURSE CODE2\",\"EOS\", \"EOS Mid-point\"]]\n",
    "dataframe[3].columns = [\"CODE\",\"EOS_2020\", \"MID_2020\"]\n",
    "#2021 df\n",
    "dataframe[4].columns = [\"CODE\",\"TITLE\", \"R1_POINTS_2021\", \"R2_POINTS_2021\"]"
   ]
  },
  {
   "cell_type": "code",
   "execution_count": 19,
   "id": "b6f4cfb4-200f-4336-a385-9e467aadc0e8",
   "metadata": {},
   "outputs": [],
   "source": [
    "# Loop - set \"CODE\" column as index for all df\n",
    "for i in dataframe:\n",
    "    i.set_index(\"CODE\", inplace=True)"
   ]
  },
  {
   "cell_type": "code",
   "execution_count": 20,
   "id": "5f405df7-1ff2-46da-b69a-02994a9e710d",
   "metadata": {},
   "outputs": [],
   "source": [
    "allcourses.set_index(\"CODE\", inplace=True)\n",
    "allcourses = allcourses.join(dataframe[0][[\"R1_POINTS_2019\", \"R2_POINTS_2019\"]])\n",
    "#allcourses"
   ]
  },
  {
   "cell_type": "code",
   "execution_count": 21,
   "id": "7bbab1bd-aefb-4e5d-979a-f2145a1039ef",
   "metadata": {},
   "outputs": [],
   "source": [
    "allcourses = allcourses.join(dataframe[1][[\"EOS_2019\", \"MID_2019\"]])\n",
    "#allcourses"
   ]
  },
  {
   "cell_type": "code",
   "execution_count": 22,
   "id": "fbf73b83-a095-4f3d-a58f-163bf45cf533",
   "metadata": {},
   "outputs": [],
   "source": [
    "allcourses = allcourses.join(dataframe[2][[\"R1_POINTS_2020\", \"R2_POINTS_2020\"]])\n",
    "#allcourses"
   ]
  },
  {
   "cell_type": "code",
   "execution_count": 23,
   "id": "57a3b38b-ca4b-418a-9d23-16ab24bf1be7",
   "metadata": {},
   "outputs": [],
   "source": [
    "allcourses = allcourses.join(dataframe[3][[\"EOS_2020\", \"MID_2020\"]])\n",
    "#allcourses"
   ]
  },
  {
   "cell_type": "code",
   "execution_count": 24,
   "id": "22d976b1-78a0-4d2c-a077-5d069b0df58f",
   "metadata": {},
   "outputs": [],
   "source": [
    "allcourses = allcourses.join(dataframe[4][[\"R1_POINTS_2021\", \"R2_POINTS_2021\"]])\n",
    "#allcourses"
   ]
  },
  {
   "cell_type": "code",
   "execution_count": 37,
   "id": "f6a928d7-ea3a-4c01-a809-0c797b038340",
   "metadata": {},
   "outputs": [],
   "source": [
    "#allcourses.sort_values(\"CODE\", inplace = True)\n",
    "allcourses.to_csv (\"Final_table.csv\")\n",
    "#allcourses"
   ]
  },
  {
   "cell_type": "code",
   "execution_count": null,
   "id": "6e141ede-2104-4f21-a5ee-77616a7ef70a",
   "metadata": {},
   "outputs": [],
   "source": []
  },
  {
   "cell_type": "code",
   "execution_count": null,
   "id": "5ccc4456-983f-4868-935f-d6a39028fcd1",
   "metadata": {},
   "outputs": [],
   "source": []
  },
  {
   "cell_type": "markdown",
   "id": "4774b801-4ce7-47e8-a2a7-7f92f0c2f126",
   "metadata": {},
   "source": [
    "## TESTING"
   ]
  },
  {
   "cell_type": "code",
   "execution_count": 154,
   "id": "17de076f-a24b-48a0-83be-7441a04758cb",
   "metadata": {},
   "outputs": [
    {
     "data": {
      "text/plain": [
       "0                 234\n",
       "1                 252\n",
       "2       # +matric 550\n",
       "3       # +matric 635\n",
       "4       # +matric 545\n",
       "            ...      \n",
       "1142              274\n",
       "1143              273\n",
       "1144              NaN\n",
       "1145              NaN\n",
       "1146              NaN\n",
       "Name: EOS_2019, Length: 1147, dtype: object"
      ]
     },
     "execution_count": 154,
     "metadata": {},
     "output_type": "execute_result"
    }
   ],
   "source": [
    "df = pd.read_csv (\"Final_table.csv\")\n",
    "df = df [\"EOS_2019\"]\n",
    "df"
   ]
  },
  {
   "cell_type": "code",
   "execution_count": 134,
   "id": "208cb060-22ab-43dc-b8db-5211eb23f37c",
   "metadata": {},
   "outputs": [],
   "source": [
    "#df.dtypes"
   ]
  },
  {
   "cell_type": "code",
   "execution_count": 155,
   "id": "52be2836-496d-4f4f-a35c-b77fcf2de8f6",
   "metadata": {},
   "outputs": [
    {
     "data": {
      "text/plain": [
       "0       234.0\n",
       "1       252.0\n",
       "2         NaN\n",
       "3         NaN\n",
       "4         NaN\n",
       "        ...  \n",
       "1142    274.0\n",
       "1143    273.0\n",
       "1144      NaN\n",
       "1145      NaN\n",
       "1146      NaN\n",
       "Name: EOS_2019, Length: 1147, dtype: float64"
      ]
     },
     "execution_count": 155,
     "metadata": {},
     "output_type": "execute_result"
    }
   ],
   "source": [
    "df = pd.to_numeric(df,errors='coerce')\n",
    "df"
   ]
  },
  {
   "cell_type": "code",
   "execution_count": 156,
   "id": "cf00ee5b-b360-4710-bcab-8d9267759035",
   "metadata": {},
   "outputs": [
    {
     "data": {
      "text/plain": [
       "<AxesSubplot:xlabel='EOS_2019', ylabel='Count'>"
      ]
     },
     "execution_count": 156,
     "metadata": {},
     "output_type": "execute_result"
    },
    {
     "data": {
      "image/png": "[encoded data removed]",
      "text/plain": [
       "<Figure size 432x288 with 1 Axes>"
      ]
     },
     "metadata": {
      "needs_background": "light"
     },
     "output_type": "display_data"
    }
   ],
   "source": [
    "import seaborn as sns\n",
    "sns.histplot (df)"
   ]
  },
  {
   "cell_type": "markdown",
   "id": "3d3e07c7-4f65-479d-8ed8-6d8954adaab0",
   "metadata": {},
   "source": [
    "### DATA COMPARISON"
   ]
  },
  {
   "cell_type": "markdown",
   "id": "7425319a-e424-4bae-b82b-915324bd3846",
   "metadata": {},
   "source": [
    "# CONCLUSION\n",
    "\n",
    "***"
   ]
  },
  {
   "cell_type": "markdown",
   "id": "e7a54c4a-024c-4a3e-b0a9-5e529bde1006",
   "metadata": {},
   "source": [
    "## REFERENCES\n",
    "***"
   ]
  },
  {
   "cell_type": "markdown",
   "id": "f93fe10a-edca-4096-b319-3bd37cd0fe7b",
   "metadata": {},
   "source": [
    "- [1] http://www2.cao.ie/handbook/handbook2022/hb.pdf\n",
    "- [2] https://en.wikipedia.org/wiki/Central_Applications_Office"
   ]
  },
  {
   "cell_type": "markdown",
   "id": "87fe7f9b-4667-44e6-aa48-0f710dd82a6c",
   "metadata": {},
   "source": [
    "## LINKS TO CHECK"
   ]
  }
 ],
 "metadata": {
  "kernelspec": {
   "display_name": "Python 3",
   "language": "python",
   "name": "python3"
  },
  "language_info": {
   "codemirror_mode": {
    "name": "ipython",
    "version": 3
   },
   "file_extension": ".py",
   "mimetype": "text/x-python",
   "name": "python",
   "nbconvert_exporter": "python",
   "pygments_lexer": "ipython3",
   "version": "3.8.8"
  }
 },
 "nbformat": 4,
 "nbformat_minor": 5
}

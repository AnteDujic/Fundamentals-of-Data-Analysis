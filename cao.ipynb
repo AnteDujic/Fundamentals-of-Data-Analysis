{
 "cells": [
  {
   "cell_type": "markdown",
   "id": "cba7f882-cb9f-4b71-87ed-26c18fda786a",
   "metadata": {},
   "source": [
    "# Loading CAO points information into a pandas data frame, using CAO website\n",
    "\n",
    "http://www.cao.ie/index.php?page=points&p=2021\n",
    "\n",
    "***"
   ]
  },
  {
   "cell_type": "markdown",
   "id": "29b4655e-3bef-4630-af83-22880a7bab45",
   "metadata": {},
   "source": [
    "## INTRODUCTION"
   ]
  },
  {
   "cell_type": "markdown",
   "id": "773b93ce-dff5-4b06-90a1-f3536903fb87",
   "metadata": {},
   "source": [
    "## WHAT IS CAO"
   ]
  },
  {
   "cell_type": "markdown",
   "id": "07cb16d5-57cc-47c5-998e-e780220985be",
   "metadata": {},
   "source": [
    "### LOADING THE DATA"
   ]
  },
  {
   "cell_type": "code",
   "execution_count": 1,
   "id": "ed5b8564-ec55-4a75-b6a3-4388ac742df9",
   "metadata": {},
   "outputs": [
    {
     "data": {
      "text/plain": [
       "'\\n# Data frames\\nimport pandas as pd\\n# For downloading\\nimport urllib.request as urlrq\\n'"
      ]
     },
     "execution_count": 1,
     "metadata": {},
     "output_type": "execute_result"
    }
   ],
   "source": [
    "# HTTP request\n",
    "import requests as rq\n",
    "# Regular expressions\n",
    "import re\n",
    "# Dates and time\n",
    "import datetime as dt\n",
    "\n",
    "'''\n",
    "# Data frames\n",
    "import pandas as pd\n",
    "# For downloading\n",
    "import urllib.request as urlrq\n",
    "'''"
   ]
  },
  {
   "cell_type": "markdown",
   "id": "274276a5-dc7b-4131-858a-e1a192421f65",
   "metadata": {},
   "source": [
    "## LEVEL 8 POINTS 2019, 2020, 2021"
   ]
  },
  {
   "cell_type": "code",
   "execution_count": 2,
   "id": "eafa5857-210b-49f4-ab3f-abbe9167814d",
   "metadata": {},
   "outputs": [
    {
     "name": "stdout",
     "output_type": "stream",
     "text": [
      "<Response [200]>\n",
      "<Response [200]>\n",
      "<Response [200]>\n"
     ]
    }
   ],
   "source": [
    "resp_2019 = rq.get (\"https://web.archive.org/web/20191019135815/http://www2.cao.ie:80/points/l8.php\")\n",
    "resp_2020 = rq.get (\"https://web.archive.org/web/20201108133105/http://www2.cao.ie/points/l8.php\")\n",
    "resp_2021 = rq.get (\"http://www2.cao.ie/points/l8.php\")\n",
    "print (resp_2019)\n",
    "print (resp_2020)\n",
    "print (resp_2021)\n",
    "#200 means ok"
   ]
  },
  {
   "cell_type": "markdown",
   "id": "31979f5f-a94f-4b8c-87b4-e24522cb6900",
   "metadata": {},
   "source": [
    "## SAVE THE ORIGINAL DATA"
   ]
  },
  {
   "cell_type": "code",
   "execution_count": 3,
   "id": "d0ba5845-281e-47d2-b9fa-af88bb557e91",
   "metadata": {},
   "outputs": [],
   "source": [
    "# Current date and time\n",
    "now = dt.datetime.now()\n",
    "# Format as a string\n",
    "nowstr = (now.strftime(\"%Y%m%d_%H%M%S\"))"
   ]
  },
  {
   "cell_type": "code",
   "execution_count": 4,
   "id": "1cc3a8f6-3765-4ad8-8245-b738920e18d7",
   "metadata": {},
   "outputs": [],
   "source": [
    "# Create a file paths for the original data\n",
    "path_2019 = (\"data/cao2019_\" +  nowstr + \".html\")\n",
    "path_2020 = (\"data/cao2020_\" +  nowstr + \".html\")\n",
    "path_2021 = (\"data/cao2021_\" +  nowstr + \".html\")"
   ]
  },
  {
   "cell_type": "code",
   "execution_count": 5,
   "id": "df236295-f830-4279-9919-c40c3d6769af",
   "metadata": {},
   "outputs": [],
   "source": [
    "# Fixing the wrong server encoding\n",
    "# original_encoding = resp_2019.encoding\n",
    "# Change to cp1252\n",
    "resp_2019.encoding = \"cp1252\"\n",
    "resp_2020.encoding = \"cp1252\"\n",
    "resp_2021.encoding = \"cp1252\""
   ]
  },
  {
   "cell_type": "code",
   "execution_count": 6,
   "id": "98c69c85-2735-4d53-a350-b1d466f2dfe2",
   "metadata": {},
   "outputs": [],
   "source": [
    "# Save the original html file\n",
    "with open(path_2019, \"w\") as f:\n",
    "    f.write(resp_2019.text)\n",
    "with open(path_2020, \"w\") as f:\n",
    "    f.write(resp_2020.text)\n",
    "with open(path_2021, \"w\") as f:\n",
    "    f.write(resp_2021.text)"
   ]
  },
  {
   "cell_type": "markdown",
   "id": "b4ea30f7-deb6-4049-8bab-2b393ac7abea",
   "metadata": {},
   "source": [
    "## REGULAR EXPRESSIONS"
   ]
  },
  {
   "cell_type": "code",
   "execution_count": 7,
   "id": "84c41ec6-a1b3-4ff4-b8a6-74f99ca1ba4f",
   "metadata": {},
   "outputs": [],
   "source": [
    "re_course = re.compile(r\"([A-Z]{2}[0-9]{3})(.*)\")"
   ]
  },
  {
   "cell_type": "markdown",
   "id": "e668f054-a3fd-4097-a918-05cfff46d2cf",
   "metadata": {},
   "source": [
    "## LOOP THROUGH THE LINES"
   ]
  },
  {
   "cell_type": "code",
   "execution_count": 8,
   "id": "dc4cc195-4c05-464d-8e66-ed2b6309f113",
   "metadata": {},
   "outputs": [],
   "source": [
    "resps = [(resp_2019.iter_lines()), (resp_2020.iter_lines()), (resp_2021.iter_lines())]\n",
    "# The file paths for the csv files\n",
    "path = [(\"data/cao2019_csv_\" +  nowstr + \".csv\"), (\"data/cao2020_csv_\" +  nowstr + \".csv\"), (\"data/cao2021_csv_\" +  nowstr + \".csv\")]\n",
    "\n",
    "def create_csv (path, resps):\n",
    "    no_lines = 0\n",
    "    # Open the csv file for writing.\n",
    "    with open(path, 'w') as f:        \n",
    "        # Loop through lines of the response.\n",
    "        for line in resps:\n",
    "            # Decode the line, using the wrong encoding!\n",
    "            dline = line.decode('cp1252')\n",
    "            # Match only the lines representing courses.\n",
    "            if re_course.fullmatch(dline):\n",
    "                # Add one to the lines counter.\n",
    "                no_lines = no_lines + 1\n",
    "                # The course code.\n",
    "                course_code = dline[:5]\n",
    "                # The course title.\n",
    "                course_title = dline[7:57]\n",
    "                # Round one points.\n",
    "                course_points = re.split(' +', dline[60:])\n",
    "                if len(course_points) != 2:\n",
    "                    course_points = course_points[:2]\n",
    "                # Join the fields using a comma.\n",
    "                linesplit = [course_code, course_title, course_points[0], course_points[1]]\n",
    "                # Rejoin the substrings with commas in between.\n",
    "                f.write(','.join(linesplit) + '\\n')   \n",
    "    # Print the total number of processed lines.\n",
    "    print(f\"Total number of lines is {no_lines}.\")"
   ]
  },
  {
   "cell_type": "code",
   "execution_count": 9,
   "id": "139d42d1-8d37-409b-9b87-f2cc8f9e91e2",
   "metadata": {
    "scrolled": true,
    "tags": []
   },
   "outputs": [
    {
     "name": "stdout",
     "output_type": "stream",
     "text": [
      "Total number of lines is 930.\n",
      "Total number of lines is 961.\n",
      "Total number of lines is 949.\n"
     ]
    }
   ],
   "source": [
    "create_csv (\"data/cao2019_csv_\" +  nowstr + \".csv\",  (resp_2019.iter_lines()))\n",
    "create_csv (\"data/cao2020_csv_\" +  nowstr + \".csv\",  (resp_2020.iter_lines()))\n",
    "create_csv (\"data/cao2021_csv_\" +  nowstr + \".csv\",  (resp_2021.iter_lines()))"
   ]
  },
  {
   "cell_type": "code",
   "execution_count": null,
   "id": "c97e4b85-e10d-427d-8057-6ff72c5777bf",
   "metadata": {},
   "outputs": [],
   "source": []
  },
  {
   "cell_type": "code",
   "execution_count": null,
   "id": "5ecb9c2d-31e1-45c3-a9a9-b267c3274465",
   "metadata": {},
   "outputs": [],
   "source": []
  },
  {
   "cell_type": "markdown",
   "id": "f68f46e7-5bdb-4ef0-a7e8-5f8f738e9ea4",
   "metadata": {},
   "source": [
    "## 2020 POINTS\n",
    "http://www.cao.ie/index.php?page=points&p=2020"
   ]
  },
  {
   "cell_type": "code",
   "execution_count": null,
   "id": "2714af3f-f614-4461-9f90-f08dca81d538",
   "metadata": {},
   "outputs": [],
   "source": []
  },
  {
   "cell_type": "code",
   "execution_count": null,
   "id": "9e0e05df-9efa-4a63-b6ea-336637c11e8d",
   "metadata": {},
   "outputs": [],
   "source": []
  },
  {
   "cell_type": "code",
   "execution_count": 10,
   "id": "589873be-6e95-4235-8bbc-be1112792cbf",
   "metadata": {},
   "outputs": [
    {
     "data": {
      "text/plain": [
       "'\\n# Create a file path for the original data\\npath = (\"data/cao2020_\" +  nowstr + \".xlsx\")\\n\\nurlrq.urlretrieve(\\'http://www2.cao.ie/points/CAOPointsCharts2020.xlsx\\', path)\\n\\n# Download and parse the excel spreadsheet\\ndf = pd.read_excel(\"http://www2.cao.ie/points/CAOPointsCharts2020.xlsx\", skiprows = 10)\\n\\ndf\\n\\n# Spotcheck random row\\ndf.iloc[753]\\n\\n# Spotcheck last row\\ndf.iloc[-1]\\n\\n# Create a file path for the pandas data\\npath = (\"data/cao2020_\" +  nowstr + \".csv\")\\n\\n# Save pandas data frame to disk\\ndf.to_csv(path)\\n'"
      ]
     },
     "execution_count": 10,
     "metadata": {},
     "output_type": "execute_result"
    }
   ],
   "source": [
    "'''\n",
    "# Create a file path for the original data\n",
    "path = (\"data/cao2020_\" +  nowstr + \".xlsx\")\n",
    "\n",
    "urlrq.urlretrieve('http://www2.cao.ie/points/CAOPointsCharts2020.xlsx', path)\n",
    "\n",
    "# Download and parse the excel spreadsheet\n",
    "df = pd.read_excel(\"http://www2.cao.ie/points/CAOPointsCharts2020.xlsx\", skiprows = 10)\n",
    "\n",
    "df\n",
    "\n",
    "# Spotcheck random row\n",
    "df.iloc[753]\n",
    "\n",
    "# Spotcheck last row\n",
    "df.iloc[-1]\n",
    "\n",
    "# Create a file path for the pandas data\n",
    "path = (\"data/cao2020_\" +  nowstr + \".csv\")\n",
    "\n",
    "# Save pandas data frame to disk\n",
    "df.to_csv(path)\n",
    "'''"
   ]
  },
  {
   "cell_type": "code",
   "execution_count": null,
   "id": "ad244f7e-ecc4-460f-9ff0-8624ede6483a",
   "metadata": {},
   "outputs": [],
   "source": []
  },
  {
   "cell_type": "code",
   "execution_count": null,
   "id": "2b24331c-e386-4867-8bd8-abb7bd324edb",
   "metadata": {},
   "outputs": [],
   "source": []
  },
  {
   "cell_type": "markdown",
   "id": "dfc79303-9fdb-4c77-8e17-0dcb3a050362",
   "metadata": {},
   "source": [
    "#### Regular expressions"
   ]
  },
  {
   "cell_type": "markdown",
   "id": "b19e35cc-73b3-470e-afab-798528eca774",
   "metadata": {},
   "source": [
    "### CAO DATA 2019, 2020, 2021"
   ]
  },
  {
   "cell_type": "markdown",
   "id": "3d3e07c7-4f65-479d-8ed8-6d8954adaab0",
   "metadata": {},
   "source": [
    "### DATA COMPARISON"
   ]
  },
  {
   "cell_type": "markdown",
   "id": "7425319a-e424-4bae-b82b-915324bd3846",
   "metadata": {},
   "source": [
    "# CONCLUSION\n",
    "\n",
    "***"
   ]
  },
  {
   "cell_type": "markdown",
   "id": "e7a54c4a-024c-4a3e-b0a9-5e529bde1006",
   "metadata": {},
   "source": [
    "## REFERENCES"
   ]
  },
  {
   "cell_type": "markdown",
   "id": "87fe7f9b-4667-44e6-aa48-0f710dd82a6c",
   "metadata": {},
   "source": [
    "## LINKS TO CHECK"
   ]
  },
  {
   "cell_type": "code",
   "execution_count": null,
   "id": "5ef47e52-0cb4-4e5f-9a20-1a672c7503ff",
   "metadata": {},
   "outputs": [],
   "source": []
  }
 ],
 "metadata": {
  "kernelspec": {
   "display_name": "Python 3",
   "language": "python",
   "name": "python3"
  },
  "language_info": {
   "codemirror_mode": {
    "name": "ipython",
    "version": 3
   },
   "file_extension": ".py",
   "mimetype": "text/x-python",
   "name": "python",
   "nbconvert_exporter": "python",
   "pygments_lexer": "ipython3",
   "version": "3.8.8"
  }
 },
 "nbformat": 4,
 "nbformat_minor": 5
}
